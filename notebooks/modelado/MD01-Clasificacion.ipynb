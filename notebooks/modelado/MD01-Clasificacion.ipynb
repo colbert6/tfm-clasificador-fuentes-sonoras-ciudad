{
 "cells": [
  {
   "cell_type": "markdown",
   "metadata": {},
   "source": [
    "# Importación de librerías"
   ]
  },
  {
   "cell_type": "code",
   "execution_count": 3,
   "metadata": {},
   "outputs": [],
   "source": [
    "import pandas as pd\n",
    "import numpy as np\n",
    "\n",
    "import os\n",
    "import librosa\n",
    "import librosa.display\n",
    "\n",
    "import matplotlib.pyplot as plt\n",
    "import seaborn as sns\n"
   ]
  },
  {
   "cell_type": "code",
   "execution_count": 4,
   "metadata": {},
   "outputs": [],
   "source": [
    "from sklearn.model_selection import train_test_split\n",
    "from sklearn.metrics import classification_report, accuracy_score\n",
    "\n",
    "from sklearn.neighbors import KNeighborsClassifier\n",
    "from sklearn.ensemble import RandomForestClassifier\n",
    "from sklearn.svm import SVC\n",
    "\n",
    "from sklearn.model_selection import GridSearchCV\n",
    "from sklearn.model_selection import KFold\n",
    "\n",
    "from sklearn.preprocessing import MinMaxScaler, StandardScaler\n",
    "\n",
    "from sklearn.metrics import accuracy_score \n",
    "from sklearn.metrics import confusion_matrix, ConfusionMatrixDisplay"
   ]
  },
  {
   "cell_type": "markdown",
   "metadata": {},
   "source": [
    "# Lectura del dataset"
   ]
  },
  {
   "cell_type": "code",
   "execution_count": 5,
   "metadata": {},
   "outputs": [],
   "source": [
    "urbansound8k_path = \"../../data/raw/UrbanSound8K/\"\n",
    "\n",
    "# Primer dataset - Carpeta con los audios\n",
    "urbansound8k_audio_path = \"audio/\"\n",
    "\n",
    "# Segundo dataset - Archivo CSV con metadatos sobre los audios\n",
    "urbansound8k_metadata_path_file = \"metadata/UrbanSound8K.csv\"\n",
    "\n",
    "# Dataset CSV con metadatos consolidados\n",
    "dataset_urbansound8k_vfinal_path_file = \"../../data/final/dataset_urbansound8k_vfinal.csv\"\n",
    "\n",
    "# Variable \"clase\"\n",
    "variable_predict =  'classID'"
   ]
  },
  {
   "cell_type": "code",
   "execution_count": 6,
   "metadata": {},
   "outputs": [
    {
     "data": {
      "text/html": [
       "<div>\n",
       "<style scoped>\n",
       "    .dataframe tbody tr th:only-of-type {\n",
       "        vertical-align: middle;\n",
       "    }\n",
       "\n",
       "    .dataframe tbody tr th {\n",
       "        vertical-align: top;\n",
       "    }\n",
       "\n",
       "    .dataframe thead th {\n",
       "        text-align: right;\n",
       "    }\n",
       "</style>\n",
       "<table border=\"1\" class=\"dataframe\">\n",
       "  <thead>\n",
       "    <tr style=\"text-align: right;\">\n",
       "      <th></th>\n",
       "      <th>classID</th>\n",
       "      <th>tasa_cruce_cero</th>\n",
       "      <th>entropia_espectograma</th>\n",
       "      <th>avg_centroide_espectral</th>\n",
       "      <th>mfcc_1</th>\n",
       "      <th>mfcc_2</th>\n",
       "      <th>mfcc_3</th>\n",
       "      <th>mfcc_4</th>\n",
       "      <th>mfcc_5</th>\n",
       "      <th>mfcc_6</th>\n",
       "      <th>mfcc_7</th>\n",
       "      <th>mfcc_8</th>\n",
       "      <th>mfcc_9</th>\n",
       "      <th>mfcc_10</th>\n",
       "      <th>mfcc_11</th>\n",
       "      <th>mfcc_12</th>\n",
       "      <th>mfcc_13</th>\n",
       "    </tr>\n",
       "  </thead>\n",
       "  <tbody>\n",
       "    <tr>\n",
       "      <th>0</th>\n",
       "      <td>3</td>\n",
       "      <td>1947</td>\n",
       "      <td>6.716659</td>\n",
       "      <td>2503.702337</td>\n",
       "      <td>-275.91843</td>\n",
       "      <td>119.49280</td>\n",
       "      <td>-98.21178</td>\n",
       "      <td>-66.515140</td>\n",
       "      <td>-42.606050</td>\n",
       "      <td>0.505066</td>\n",
       "      <td>-28.330938</td>\n",
       "      <td>-5.746867</td>\n",
       "      <td>9.992785</td>\n",
       "      <td>4.795411</td>\n",
       "      <td>15.461894</td>\n",
       "      <td>-0.069880</td>\n",
       "      <td>-2.842674</td>\n",
       "    </tr>\n",
       "    <tr>\n",
       "      <th>1</th>\n",
       "      <td>2</td>\n",
       "      <td>27607</td>\n",
       "      <td>9.991457</td>\n",
       "      <td>2339.221804</td>\n",
       "      <td>-500.90840</td>\n",
       "      <td>185.10641</td>\n",
       "      <td>-86.53282</td>\n",
       "      <td>49.858850</td>\n",
       "      <td>9.230822</td>\n",
       "      <td>22.548956</td>\n",
       "      <td>-3.567175</td>\n",
       "      <td>12.220052</td>\n",
       "      <td>7.720082</td>\n",
       "      <td>-6.460391</td>\n",
       "      <td>16.995657</td>\n",
       "      <td>-6.625116</td>\n",
       "      <td>1.469779</td>\n",
       "    </tr>\n",
       "    <tr>\n",
       "      <th>2</th>\n",
       "      <td>2</td>\n",
       "      <td>20971</td>\n",
       "      <td>9.728703</td>\n",
       "      <td>2070.826863</td>\n",
       "      <td>-531.19530</td>\n",
       "      <td>186.93994</td>\n",
       "      <td>-70.34916</td>\n",
       "      <td>40.429245</td>\n",
       "      <td>9.121047</td>\n",
       "      <td>18.398588</td>\n",
       "      <td>6.283282</td>\n",
       "      <td>15.504061</td>\n",
       "      <td>9.613501</td>\n",
       "      <td>-7.113610</td>\n",
       "      <td>16.179823</td>\n",
       "      <td>-5.710522</td>\n",
       "      <td>-0.899251</td>\n",
       "    </tr>\n",
       "  </tbody>\n",
       "</table>\n",
       "</div>"
      ],
      "text/plain": [
       "   classID  tasa_cruce_cero  entropia_espectograma  avg_centroide_espectral  \\\n",
       "0        3             1947               6.716659              2503.702337   \n",
       "1        2            27607               9.991457              2339.221804   \n",
       "2        2            20971               9.728703              2070.826863   \n",
       "\n",
       "      mfcc_1     mfcc_2    mfcc_3     mfcc_4     mfcc_5     mfcc_6     mfcc_7  \\\n",
       "0 -275.91843  119.49280 -98.21178 -66.515140 -42.606050   0.505066 -28.330938   \n",
       "1 -500.90840  185.10641 -86.53282  49.858850   9.230822  22.548956  -3.567175   \n",
       "2 -531.19530  186.93994 -70.34916  40.429245   9.121047  18.398588   6.283282   \n",
       "\n",
       "      mfcc_8    mfcc_9   mfcc_10    mfcc_11   mfcc_12   mfcc_13  \n",
       "0  -5.746867  9.992785  4.795411  15.461894 -0.069880 -2.842674  \n",
       "1  12.220052  7.720082 -6.460391  16.995657 -6.625116  1.469779  \n",
       "2  15.504061  9.613501 -7.113610  16.179823 -5.710522 -0.899251  "
      ]
     },
     "execution_count": 6,
     "metadata": {},
     "output_type": "execute_result"
    }
   ],
   "source": [
    "# Lectura y muestra de dataset\n",
    "dataset_urbansound8k_df = pd.read_csv(dataset_urbansound8k_vfinal_path_file, sep=\";\")\n",
    "\n",
    "dataset_urbansound8k_df.head(3)"
   ]
  },
  {
   "cell_type": "code",
   "execution_count": 7,
   "metadata": {},
   "outputs": [
    {
     "data": {
      "text/plain": [
       "Index(['classID', 'tasa_cruce_cero', 'entropia_espectograma',\n",
       "       'avg_centroide_espectral', 'mfcc_1', 'mfcc_2', 'mfcc_3', 'mfcc_4',\n",
       "       'mfcc_5', 'mfcc_6', 'mfcc_7', 'mfcc_8', 'mfcc_9', 'mfcc_10', 'mfcc_11',\n",
       "       'mfcc_12', 'mfcc_13'],\n",
       "      dtype='object')"
      ]
     },
     "execution_count": 7,
     "metadata": {},
     "output_type": "execute_result"
    }
   ],
   "source": [
    "# Columnas del dataset\n",
    "dataset_urbansound8k_df.columns"
   ]
  },
  {
   "cell_type": "markdown",
   "metadata": {},
   "source": [
    "# Generación dataset de entrenamiento y test"
   ]
  },
  {
   "cell_type": "code",
   "execution_count": null,
   "metadata": {},
   "outputs": [],
   "source": [
    "# Separar las características y la variable objetivo\n",
    "# ['tasa_cruce_cero', 'entropia_espectograma', 'avg_centroide_espectral'\n",
    "columnas_caracteristicas = ['mfcc_1', 'mfcc_2', 'mfcc_3', 'mfcc_4', 'mfcc_5', 'mfcc_6', 'mfcc_7',\n",
    "             'mfcc_8', 'mfcc_9', 'mfcc_10', 'mfcc_11', 'mfcc_12', 'mfcc_13']\n",
    "\n",
    "X = dataset_urbansound8k_df[columnas_caracteristicas]  # Características\n",
    "y = dataset_urbansound8k_df[variable_predict]  # Variable \"clase\" o \"objetivo\""
   ]
  },
  {
   "cell_type": "code",
   "execution_count": 6,
   "metadata": {},
   "outputs": [
    {
     "data": {
      "text/html": [
       "<div>\n",
       "<style scoped>\n",
       "    .dataframe tbody tr th:only-of-type {\n",
       "        vertical-align: middle;\n",
       "    }\n",
       "\n",
       "    .dataframe tbody tr th {\n",
       "        vertical-align: top;\n",
       "    }\n",
       "\n",
       "    .dataframe thead th {\n",
       "        text-align: right;\n",
       "    }\n",
       "</style>\n",
       "<table border=\"1\" class=\"dataframe\">\n",
       "  <thead>\n",
       "    <tr style=\"text-align: right;\">\n",
       "      <th></th>\n",
       "      <th>mfcc_1</th>\n",
       "      <th>mfcc_2</th>\n",
       "      <th>mfcc_3</th>\n",
       "      <th>mfcc_4</th>\n",
       "      <th>mfcc_5</th>\n",
       "      <th>mfcc_6</th>\n",
       "      <th>mfcc_7</th>\n",
       "      <th>mfcc_8</th>\n",
       "      <th>mfcc_9</th>\n",
       "      <th>mfcc_10</th>\n",
       "      <th>mfcc_11</th>\n",
       "      <th>mfcc_12</th>\n",
       "      <th>mfcc_13</th>\n",
       "      <th>classID</th>\n",
       "    </tr>\n",
       "  </thead>\n",
       "  <tbody>\n",
       "    <tr>\n",
       "      <th>0</th>\n",
       "      <td>-159.67445</td>\n",
       "      <td>181.50089</td>\n",
       "      <td>-92.606600</td>\n",
       "      <td>-15.836291</td>\n",
       "      <td>-32.712960</td>\n",
       "      <td>-0.886196</td>\n",
       "      <td>-2.333837</td>\n",
       "      <td>21.515417</td>\n",
       "      <td>25.863836</td>\n",
       "      <td>-0.396893</td>\n",
       "      <td>-0.778924</td>\n",
       "      <td>9.013906</td>\n",
       "      <td>6.754499</td>\n",
       "      <td>8</td>\n",
       "    </tr>\n",
       "    <tr>\n",
       "      <th>1</th>\n",
       "      <td>-219.52864</td>\n",
       "      <td>177.02522</td>\n",
       "      <td>-32.444240</td>\n",
       "      <td>26.932178</td>\n",
       "      <td>-21.066864</td>\n",
       "      <td>4.041955</td>\n",
       "      <td>-10.886847</td>\n",
       "      <td>-7.922688</td>\n",
       "      <td>-13.082119</td>\n",
       "      <td>-10.993799</td>\n",
       "      <td>-3.332730</td>\n",
       "      <td>-5.833699</td>\n",
       "      <td>-5.191674</td>\n",
       "      <td>9</td>\n",
       "    </tr>\n",
       "    <tr>\n",
       "      <th>2</th>\n",
       "      <td>-320.74875</td>\n",
       "      <td>205.43745</td>\n",
       "      <td>-47.278393</td>\n",
       "      <td>-87.469260</td>\n",
       "      <td>-26.390732</td>\n",
       "      <td>-40.026196</td>\n",
       "      <td>-48.005367</td>\n",
       "      <td>16.560823</td>\n",
       "      <td>49.147522</td>\n",
       "      <td>14.839294</td>\n",
       "      <td>-4.111610</td>\n",
       "      <td>4.170245</td>\n",
       "      <td>1.705174</td>\n",
       "      <td>8</td>\n",
       "    </tr>\n",
       "  </tbody>\n",
       "</table>\n",
       "</div>"
      ],
      "text/plain": [
       "      mfcc_1     mfcc_2     mfcc_3     mfcc_4     mfcc_5     mfcc_6  \\\n",
       "0 -159.67445  181.50089 -92.606600 -15.836291 -32.712960  -0.886196   \n",
       "1 -219.52864  177.02522 -32.444240  26.932178 -21.066864   4.041955   \n",
       "2 -320.74875  205.43745 -47.278393 -87.469260 -26.390732 -40.026196   \n",
       "\n",
       "      mfcc_7     mfcc_8     mfcc_9    mfcc_10   mfcc_11   mfcc_12   mfcc_13  \\\n",
       "0  -2.333837  21.515417  25.863836  -0.396893 -0.778924  9.013906  6.754499   \n",
       "1 -10.886847  -7.922688 -13.082119 -10.993799 -3.332730 -5.833699 -5.191674   \n",
       "2 -48.005367  16.560823  49.147522  14.839294 -4.111610  4.170245  1.705174   \n",
       "\n",
       "   classID  \n",
       "0        8  \n",
       "1        9  \n",
       "2        8  "
      ]
     },
     "execution_count": 6,
     "metadata": {},
     "output_type": "execute_result"
    }
   ],
   "source": [
    "#  Dividir los datos en entrenamiento y prueba\n",
    "X_train, X_test, y_train, y_test = train_test_split(X, y, test_size=0.2, random_state=42)\n",
    "\n",
    "# Generar un dataset a partir de los datos de entrenamiento, para busqueda de hiperparametros \n",
    "dataset_train_df = pd.DataFrame(X_train) \n",
    "dataset_train_df[variable_predict] = y_train\n",
    "\n",
    "dataset_train_df.reset_index(drop=True, inplace=True)\n",
    "dataset_train_df.head(3)"
   ]
  },
  {
   "cell_type": "markdown",
   "metadata": {},
   "source": [
    "# Modelos de Clasificacion"
   ]
  },
  {
   "cell_type": "markdown",
   "metadata": {},
   "source": [
    "## KNeighborsClassifier"
   ]
  },
  {
   "cell_type": "markdown",
   "metadata": {},
   "source": [
    "### GridSearchCV - KNN"
   ]
  },
  {
   "cell_type": "markdown",
   "metadata": {},
   "source": [
    "### Modelo final"
   ]
  },
  {
   "cell_type": "markdown",
   "metadata": {},
   "source": [
    "## SVM"
   ]
  },
  {
   "cell_type": "markdown",
   "metadata": {},
   "source": [
    "### Cross Validation - SVM"
   ]
  },
  {
   "cell_type": "markdown",
   "metadata": {},
   "source": [
    "### GridSearchCV - SVM"
   ]
  },
  {
   "cell_type": "markdown",
   "metadata": {},
   "source": [
    "### Modelo final"
   ]
  },
  {
   "cell_type": "markdown",
   "metadata": {},
   "source": [
    "## GMM"
   ]
  },
  {
   "cell_type": "markdown",
   "metadata": {},
   "source": [
    "## Random Forest"
   ]
  },
  {
   "cell_type": "markdown",
   "metadata": {},
   "source": [
    "### GridSearchCV - Random Forest"
   ]
  }
 ],
 "metadata": {
  "kernelspec": {
   "display_name": "huemul",
   "language": "python",
   "name": "python3"
  },
  "language_info": {
   "codemirror_mode": {
    "name": "ipython",
    "version": 3
   },
   "file_extension": ".py",
   "mimetype": "text/x-python",
   "name": "python",
   "nbconvert_exporter": "python",
   "pygments_lexer": "ipython3",
   "version": "3.10.5"
  }
 },
 "nbformat": 4,
 "nbformat_minor": 2
}
