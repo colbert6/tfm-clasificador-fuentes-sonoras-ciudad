{
 "cells": [
  {
   "cell_type": "markdown",
   "metadata": {},
   "source": [
    "# Importación de librerías"
   ]
  },
  {
   "cell_type": "code",
   "execution_count": 7,
   "metadata": {},
   "outputs": [],
   "source": [
    "import pandas as pd\n",
    "import numpy as np\n",
    "\n",
    "import os\n",
    "import librosa\n",
    "import librosa.display\n",
    "\n",
    "import matplotlib.pyplot as plt\n",
    "import seaborn as sns\n"
   ]
  },
  {
   "cell_type": "code",
   "execution_count": 8,
   "metadata": {},
   "outputs": [],
   "source": [
    "from sklearn.model_selection import train_test_split\n",
    "from sklearn.metrics import classification_report, accuracy_score\n",
    "\n",
    "from sklearn.neighbors import KNeighborsClassifier\n",
    "from sklearn.ensemble import RandomForestClassifier\n",
    "from sklearn.svm import SVC\n",
    "\n",
    "from sklearn.model_selection import GridSearchCV\n",
    "\n",
    "from sklearn.preprocessing import MinMaxScaler, StandardScaler"
   ]
  },
  {
   "cell_type": "markdown",
   "metadata": {},
   "source": [
    "# Lectura del dataset"
   ]
  },
  {
   "cell_type": "code",
   "execution_count": 9,
   "metadata": {},
   "outputs": [
    {
     "data": {
      "text/html": [
       "<div>\n",
       "<style scoped>\n",
       "    .dataframe tbody tr th:only-of-type {\n",
       "        vertical-align: middle;\n",
       "    }\n",
       "\n",
       "    .dataframe tbody tr th {\n",
       "        vertical-align: top;\n",
       "    }\n",
       "\n",
       "    .dataframe thead th {\n",
       "        text-align: right;\n",
       "    }\n",
       "</style>\n",
       "<table border=\"1\" class=\"dataframe\">\n",
       "  <thead>\n",
       "    <tr style=\"text-align: right;\">\n",
       "      <th></th>\n",
       "      <th>slice_file_name</th>\n",
       "      <th>fsID</th>\n",
       "      <th>start</th>\n",
       "      <th>end</th>\n",
       "      <th>salience</th>\n",
       "      <th>fold</th>\n",
       "      <th>classID</th>\n",
       "      <th>class</th>\n",
       "      <th>path</th>\n",
       "      <th>duracion</th>\n",
       "      <th>tasa_muestreo</th>\n",
       "      <th>desplazamiento_dc</th>\n",
       "      <th>cantidad_canales</th>\n",
       "      <th>rango_dinamico</th>\n",
       "      <th>energia</th>\n",
       "      <th>tasa_cruce_cero</th>\n",
       "      <th>entropia_espectograma</th>\n",
       "      <th>avg_centroide_espectral</th>\n",
       "      <th>avg_tonalidad</th>\n",
       "    </tr>\n",
       "  </thead>\n",
       "  <tbody>\n",
       "    <tr>\n",
       "      <th>0</th>\n",
       "      <td>100032-3-0-0.wav</td>\n",
       "      <td>100032</td>\n",
       "      <td>0.0</td>\n",
       "      <td>0.317551</td>\n",
       "      <td>1</td>\n",
       "      <td>5</td>\n",
       "      <td>3</td>\n",
       "      <td>dog_bark</td>\n",
       "      <td>../../data/raw/UrbanSound8K/audio/fold5/100032...</td>\n",
       "      <td>0.317551</td>\n",
       "      <td>44100</td>\n",
       "      <td>0.000005</td>\n",
       "      <td>2</td>\n",
       "      <td>1.966949</td>\n",
       "      <td>757.039500</td>\n",
       "      <td>1947</td>\n",
       "      <td>6.716659</td>\n",
       "      <td>2503.702337</td>\n",
       "      <td>0</td>\n",
       "    </tr>\n",
       "    <tr>\n",
       "      <th>1</th>\n",
       "      <td>100263-2-0-117.wav</td>\n",
       "      <td>100263</td>\n",
       "      <td>58.5</td>\n",
       "      <td>62.500000</td>\n",
       "      <td>1</td>\n",
       "      <td>5</td>\n",
       "      <td>2</td>\n",
       "      <td>children_playing</td>\n",
       "      <td>../../data/raw/UrbanSound8K/audio/fold5/100263...</td>\n",
       "      <td>4.000000</td>\n",
       "      <td>44100</td>\n",
       "      <td>0.000067</td>\n",
       "      <td>2</td>\n",
       "      <td>0.077789</td>\n",
       "      <td>9.032963</td>\n",
       "      <td>27607</td>\n",
       "      <td>9.991457</td>\n",
       "      <td>2339.221804</td>\n",
       "      <td>0</td>\n",
       "    </tr>\n",
       "    <tr>\n",
       "      <th>2</th>\n",
       "      <td>100263-2-0-121.wav</td>\n",
       "      <td>100263</td>\n",
       "      <td>60.5</td>\n",
       "      <td>64.500000</td>\n",
       "      <td>1</td>\n",
       "      <td>5</td>\n",
       "      <td>2</td>\n",
       "      <td>children_playing</td>\n",
       "      <td>../../data/raw/UrbanSound8K/audio/fold5/100263...</td>\n",
       "      <td>4.000000</td>\n",
       "      <td>44100</td>\n",
       "      <td>0.000097</td>\n",
       "      <td>2</td>\n",
       "      <td>0.045868</td>\n",
       "      <td>4.803137</td>\n",
       "      <td>20971</td>\n",
       "      <td>9.728703</td>\n",
       "      <td>2070.826863</td>\n",
       "      <td>0</td>\n",
       "    </tr>\n",
       "  </tbody>\n",
       "</table>\n",
       "</div>"
      ],
      "text/plain": [
       "      slice_file_name    fsID  start        end  salience  fold  classID  \\\n",
       "0    100032-3-0-0.wav  100032    0.0   0.317551         1     5        3   \n",
       "1  100263-2-0-117.wav  100263   58.5  62.500000         1     5        2   \n",
       "2  100263-2-0-121.wav  100263   60.5  64.500000         1     5        2   \n",
       "\n",
       "              class                                               path  \\\n",
       "0          dog_bark  ../../data/raw/UrbanSound8K/audio/fold5/100032...   \n",
       "1  children_playing  ../../data/raw/UrbanSound8K/audio/fold5/100263...   \n",
       "2  children_playing  ../../data/raw/UrbanSound8K/audio/fold5/100263...   \n",
       "\n",
       "   duracion  tasa_muestreo  desplazamiento_dc  cantidad_canales  \\\n",
       "0  0.317551          44100           0.000005                 2   \n",
       "1  4.000000          44100           0.000067                 2   \n",
       "2  4.000000          44100           0.000097                 2   \n",
       "\n",
       "   rango_dinamico     energia  tasa_cruce_cero  entropia_espectograma  \\\n",
       "0        1.966949  757.039500             1947               6.716659   \n",
       "1        0.077789    9.032963            27607               9.991457   \n",
       "2        0.045868    4.803137            20971               9.728703   \n",
       "\n",
       "   avg_centroide_espectral  avg_tonalidad  \n",
       "0              2503.702337              0  \n",
       "1              2339.221804              0  \n",
       "2              2070.826863              0  "
      ]
     },
     "execution_count": 9,
     "metadata": {},
     "output_type": "execute_result"
    }
   ],
   "source": [
    "urbansound8k_path = \"../../data/raw/UrbanSound8K/\"\n",
    "\n",
    "# Primer dataset - Carpeta con los audios\n",
    "urbansound8k_audio_path = \"audio/\"\n",
    "\n",
    "# Segundo dataset - Archivo CSV con metadatos sobre los audios\n",
    "urbansound8k_metadata_path_file = \"metadata/UrbanSound8K.csv\"\n",
    "\n",
    "# Dataset CSV con metadatos generados a partir de los audios\n",
    "dataset_urbansound8k_path_file = \"../../data/processed/metadata_urbansound8k_adic.csv\"\n",
    "\n",
    "dataset_urbansound8k_df = pd.read_csv(\"../../data/processed/metadata_urbansound8k_adic.csv\", sep=\";\")\n",
    "\n",
    "dataset_urbansound8k_df.head(3)"
   ]
  },
  {
   "cell_type": "markdown",
   "metadata": {},
   "source": [
    "# Extraccion caracteristicas"
   ]
  },
  {
   "cell_type": "code",
   "execution_count": 10,
   "metadata": {},
   "outputs": [],
   "source": [
    "def extract_mfcc(file_path, n_mfcc=13):\n",
    "    signal, sr = librosa.load(file_path, sr=None, mono=True)  # Cargar el archivo de audio\n",
    "    mfccs = librosa.feature.mfcc(y=signal, sr=sr, n_mfcc=n_mfcc)  # Extraer MFCC\n",
    "    mfccs = np.mean(mfccs.T, axis=0)  # Tomar el promedio de los coeficientes MFCC en el tiempo\n",
    "    return mfccs"
   ]
  },
  {
   "cell_type": "code",
   "execution_count": 11,
   "metadata": {},
   "outputs": [
    {
     "name": "stderr",
     "output_type": "stream",
     "text": [
      "c:\\Users\\colbe\\Documents\\VIU\\TFM\\tfm-clasificador-fuentes-sonoras-ciudad\\.env\\lib\\site-packages\\librosa\\feature\\spectral.py:2143: UserWarning: Empty filters detected in mel frequency basis. Some channels will produce empty responses. Try increasing your sampling rate (and fmax) or reducing n_mels.\n",
      "  mel_basis = filters.mel(sr=sr, n_fft=n_fft, **kwargs)\n"
     ]
    }
   ],
   "source": [
    "# Extraer MFCCs para todos los archivos\n",
    "mfcc_features = []\n",
    "labels = []\n",
    "for index, row in dataset_urbansound8k_df.iterrows():\n",
    "    mfcc = extract_mfcc(row['path'])\n",
    "    mfcc_features.append(mfcc)\n",
    "    labels.append(row['classID'])"
   ]
  },
  {
   "cell_type": "code",
   "execution_count": 12,
   "metadata": {},
   "outputs": [],
   "source": [
    "# Convertir a numpy arrays\n",
    "X = np.array(mfcc_features)\n",
    "y = np.array(labels)\n"
   ]
  },
  {
   "cell_type": "code",
   "execution_count": 13,
   "metadata": {},
   "outputs": [],
   "source": [
    "X_train, X_test, y_train, y_test = train_test_split(X, y, test_size=0.2, random_state=42)"
   ]
  },
  {
   "cell_type": "markdown",
   "metadata": {},
   "source": [
    "# Modelos de Clasificacion"
   ]
  },
  {
   "cell_type": "markdown",
   "metadata": {},
   "source": [
    "## > KNeighborsClassifier"
   ]
  },
  {
   "cell_type": "code",
   "execution_count": 14,
   "metadata": {},
   "outputs": [
    {
     "name": "stdout",
     "output_type": "stream",
     "text": [
      "Accuracy: 0.8586147681740126\n",
      "Classification Report:\n",
      "               precision    recall  f1-score   support\n",
      "\n",
      "           0       0.86      0.93      0.89       203\n",
      "           1       0.75      0.73      0.74        86\n",
      "           2       0.74      0.87      0.80       183\n",
      "           3       0.90      0.80      0.85       201\n",
      "           4       0.92      0.81      0.86       206\n",
      "           5       0.89      0.93      0.91       193\n",
      "           6       0.75      0.82      0.78        72\n",
      "           7       0.90      0.95      0.93       208\n",
      "           8       0.90      0.94      0.92       165\n",
      "           9       0.87      0.74      0.80       230\n",
      "\n",
      "    accuracy                           0.86      1747\n",
      "   macro avg       0.85      0.85      0.85      1747\n",
      "weighted avg       0.86      0.86      0.86      1747\n",
      "\n"
     ]
    }
   ],
   "source": [
    "# Crear el modelo KNN\n",
    "knn = KNeighborsClassifier(n_neighbors=3)\n",
    "\n",
    "# Entrenar el modelo\n",
    "knn.fit(X_train, y_train)\n",
    "\n",
    "# Realizar predicciones\n",
    "y_pred = knn.predict(X_test)\n",
    "\n",
    "# Evaluar el modelo\n",
    "print(\"Accuracy:\", accuracy_score(y_test, y_pred))\n",
    "print(\"Classification Report:\\n\", classification_report(y_test, y_pred))"
   ]
  }
 ],
 "metadata": {
  "kernelspec": {
   "display_name": "huemul",
   "language": "python",
   "name": "python3"
  },
  "language_info": {
   "codemirror_mode": {
    "name": "ipython",
    "version": 3
   },
   "file_extension": ".py",
   "mimetype": "text/x-python",
   "name": "python",
   "nbconvert_exporter": "python",
   "pygments_lexer": "ipython3",
   "version": "3.10.5"
  }
 },
 "nbformat": 4,
 "nbformat_minor": 2
}
