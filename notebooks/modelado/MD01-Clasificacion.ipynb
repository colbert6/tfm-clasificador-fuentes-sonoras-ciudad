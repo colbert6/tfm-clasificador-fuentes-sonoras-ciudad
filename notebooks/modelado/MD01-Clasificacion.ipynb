{
 "cells": [
  {
   "cell_type": "markdown",
   "metadata": {},
   "source": [
    "# Importación de librerías"
   ]
  },
  {
   "cell_type": "code",
   "execution_count": 1,
   "metadata": {},
   "outputs": [],
   "source": [
    "import pandas as pd\n",
    "import numpy as np\n",
    "\n",
    "import os\n",
    "import librosa\n",
    "import librosa.display\n",
    "\n",
    "import matplotlib.pyplot as plt\n",
    "import seaborn as sns\n"
   ]
  },
  {
   "cell_type": "code",
   "execution_count": 2,
   "metadata": {},
   "outputs": [],
   "source": [
    "from sklearn.model_selection import train_test_split\n",
    "from sklearn.metrics import classification_report, accuracy_score\n",
    "\n",
    "from sklearn.neighbors import KNeighborsClassifier\n",
    "from sklearn.ensemble import RandomForestClassifier\n",
    "from sklearn.svm import SVC\n",
    "\n",
    "from sklearn.model_selection import GridSearchCV\n",
    "from sklearn.model_selection import KFold\n",
    "\n",
    "from sklearn.preprocessing import MinMaxScaler, StandardScaler\n",
    "\n",
    "from sklearn.metrics import accuracy_score \n",
    "from sklearn.metrics import confusion_matrix, ConfusionMatrixDisplay"
   ]
  },
  {
   "cell_type": "markdown",
   "metadata": {},
   "source": [
    "# Lectura del dataset"
   ]
  },
  {
   "cell_type": "code",
   "execution_count": 3,
   "metadata": {},
   "outputs": [],
   "source": [
    "urbansound8k_path = \"../../data/raw/UrbanSound8K/\"\n",
    "\n",
    "# Primer dataset - Carpeta con los audios\n",
    "urbansound8k_audio_path = \"audio/\"\n",
    "\n",
    "# Segundo dataset - Archivo CSV con metadatos sobre los audios\n",
    "urbansound8k_metadata_path_file = \"metadata/UrbanSound8K.csv\"\n",
    "\n",
    "# Dataset CSV con metadatos consolidados\n",
    "dataset_urbansound8k_vfinal_path_file = \"../../data/final/dataset_urbansound8k_vfinal.csv\"\n"
   ]
  },
  {
   "cell_type": "code",
   "execution_count": 4,
   "metadata": {},
   "outputs": [
    {
     "data": {
      "text/html": [
       "<div>\n",
       "<style scoped>\n",
       "    .dataframe tbody tr th:only-of-type {\n",
       "        vertical-align: middle;\n",
       "    }\n",
       "\n",
       "    .dataframe tbody tr th {\n",
       "        vertical-align: top;\n",
       "    }\n",
       "\n",
       "    .dataframe thead th {\n",
       "        text-align: right;\n",
       "    }\n",
       "</style>\n",
       "<table border=\"1\" class=\"dataframe\">\n",
       "  <thead>\n",
       "    <tr style=\"text-align: right;\">\n",
       "      <th></th>\n",
       "      <th>classID</th>\n",
       "      <th>tasa_cruce_cero</th>\n",
       "      <th>entropia_espectograma</th>\n",
       "      <th>avg_centroide_espectral</th>\n",
       "      <th>fold</th>\n",
       "      <th>mfcc_1</th>\n",
       "      <th>mfcc_2</th>\n",
       "      <th>mfcc_3</th>\n",
       "      <th>mfcc_4</th>\n",
       "      <th>mfcc_5</th>\n",
       "      <th>mfcc_6</th>\n",
       "      <th>mfcc_7</th>\n",
       "      <th>mfcc_8</th>\n",
       "      <th>mfcc_9</th>\n",
       "      <th>mfcc_10</th>\n",
       "      <th>mfcc_11</th>\n",
       "      <th>mfcc_12</th>\n",
       "      <th>mfcc_13</th>\n",
       "    </tr>\n",
       "  </thead>\n",
       "  <tbody>\n",
       "    <tr>\n",
       "      <th>0</th>\n",
       "      <td>3</td>\n",
       "      <td>1947</td>\n",
       "      <td>6.716659</td>\n",
       "      <td>2503.702337</td>\n",
       "      <td>5</td>\n",
       "      <td>-275.91843</td>\n",
       "      <td>119.49280</td>\n",
       "      <td>-98.21178</td>\n",
       "      <td>-66.515140</td>\n",
       "      <td>-42.606050</td>\n",
       "      <td>0.505066</td>\n",
       "      <td>-28.330938</td>\n",
       "      <td>-5.746867</td>\n",
       "      <td>9.992785</td>\n",
       "      <td>4.795411</td>\n",
       "      <td>15.461894</td>\n",
       "      <td>-0.069880</td>\n",
       "      <td>-2.842674</td>\n",
       "    </tr>\n",
       "    <tr>\n",
       "      <th>1</th>\n",
       "      <td>2</td>\n",
       "      <td>27607</td>\n",
       "      <td>9.991457</td>\n",
       "      <td>2339.221804</td>\n",
       "      <td>5</td>\n",
       "      <td>-500.90840</td>\n",
       "      <td>185.10641</td>\n",
       "      <td>-86.53282</td>\n",
       "      <td>49.858850</td>\n",
       "      <td>9.230822</td>\n",
       "      <td>22.548956</td>\n",
       "      <td>-3.567175</td>\n",
       "      <td>12.220052</td>\n",
       "      <td>7.720082</td>\n",
       "      <td>-6.460391</td>\n",
       "      <td>16.995657</td>\n",
       "      <td>-6.625116</td>\n",
       "      <td>1.469779</td>\n",
       "    </tr>\n",
       "    <tr>\n",
       "      <th>2</th>\n",
       "      <td>2</td>\n",
       "      <td>20971</td>\n",
       "      <td>9.728703</td>\n",
       "      <td>2070.826863</td>\n",
       "      <td>5</td>\n",
       "      <td>-531.19530</td>\n",
       "      <td>186.93994</td>\n",
       "      <td>-70.34916</td>\n",
       "      <td>40.429245</td>\n",
       "      <td>9.121047</td>\n",
       "      <td>18.398588</td>\n",
       "      <td>6.283282</td>\n",
       "      <td>15.504061</td>\n",
       "      <td>9.613501</td>\n",
       "      <td>-7.113610</td>\n",
       "      <td>16.179823</td>\n",
       "      <td>-5.710522</td>\n",
       "      <td>-0.899251</td>\n",
       "    </tr>\n",
       "  </tbody>\n",
       "</table>\n",
       "</div>"
      ],
      "text/plain": [
       "   classID  tasa_cruce_cero  entropia_espectograma  avg_centroide_espectral  \\\n",
       "0        3             1947               6.716659              2503.702337   \n",
       "1        2            27607               9.991457              2339.221804   \n",
       "2        2            20971               9.728703              2070.826863   \n",
       "\n",
       "   fold     mfcc_1     mfcc_2    mfcc_3     mfcc_4     mfcc_5     mfcc_6  \\\n",
       "0     5 -275.91843  119.49280 -98.21178 -66.515140 -42.606050   0.505066   \n",
       "1     5 -500.90840  185.10641 -86.53282  49.858850   9.230822  22.548956   \n",
       "2     5 -531.19530  186.93994 -70.34916  40.429245   9.121047  18.398588   \n",
       "\n",
       "      mfcc_7     mfcc_8    mfcc_9   mfcc_10    mfcc_11   mfcc_12   mfcc_13  \n",
       "0 -28.330938  -5.746867  9.992785  4.795411  15.461894 -0.069880 -2.842674  \n",
       "1  -3.567175  12.220052  7.720082 -6.460391  16.995657 -6.625116  1.469779  \n",
       "2   6.283282  15.504061  9.613501 -7.113610  16.179823 -5.710522 -0.899251  "
      ]
     },
     "execution_count": 4,
     "metadata": {},
     "output_type": "execute_result"
    }
   ],
   "source": [
    "# Lectura\n",
    "dataset_urbansound8k_df = pd.read_csv(dataset_urbansound8k_vfinal_path_file, sep=\";\")\n",
    "\n",
    "dataset_urbansound8k_df.head(3)"
   ]
  },
  {
   "cell_type": "code",
   "execution_count": 5,
   "metadata": {},
   "outputs": [
    {
     "data": {
      "text/plain": [
       "Index(['classID', 'tasa_cruce_cero', 'entropia_espectograma',\n",
       "       'avg_centroide_espectral', 'fold', 'mfcc_1', 'mfcc_2', 'mfcc_3',\n",
       "       'mfcc_4', 'mfcc_5', 'mfcc_6', 'mfcc_7', 'mfcc_8', 'mfcc_9', 'mfcc_10',\n",
       "       'mfcc_11', 'mfcc_12', 'mfcc_13'],\n",
       "      dtype='object')"
      ]
     },
     "execution_count": 5,
     "metadata": {},
     "output_type": "execute_result"
    }
   ],
   "source": [
    "# Columnas disponibles del dataset\n",
    "dataset_urbansound8k_df.columns"
   ]
  },
  {
   "cell_type": "markdown",
   "metadata": {},
   "source": [
    "# Generación datos de entrenamiento y prueba"
   ]
  },
  {
   "cell_type": "code",
   "execution_count": 7,
   "metadata": {},
   "outputs": [],
   "source": [
    "# Separar las características y la variable objetivo\n",
    "# ['tasa_cruce_cero', 'entropia_espectograma', 'avg_centroide_espectral'\n",
    "columnas_caracteristicas = ['mfcc_1', 'mfcc_2', 'mfcc_3', 'mfcc_4', 'mfcc_5', 'mfcc_6', 'mfcc_7',\n",
    "             'mfcc_8', 'mfcc_9', 'mfcc_10', 'mfcc_11', 'mfcc_12', 'mfcc_13']\n",
    "\n",
    "columna_predecir = 'classID'\n",
    "columna_fold = 'fold'\n",
    "\n",
    "# Separar las características y etiquetas\n",
    "X = dataset_urbansound8k_df[columnas_caracteristicas]  # Suponiendo que 'classID' es la etiqueta y 'fold' el número de fold\n",
    "y = dataset_urbansound8k_df[columna_predecir]\n",
    "folds = dataset_urbansound8k_df['fold']"
   ]
  },
  {
   "cell_type": "markdown",
   "metadata": {},
   "source": [
    "# Modelos de Clasificacion"
   ]
  },
  {
   "cell_type": "markdown",
   "metadata": {},
   "source": [
    "## KNeighborsClassifier"
   ]
  },
  {
   "cell_type": "code",
   "execution_count": 8,
   "metadata": {},
   "outputs": [
    {
     "name": "stdout",
     "output_type": "stream",
     "text": [
      "Fold 1 Accuracy: 0.4800\n",
      "Fold 2 Accuracy: 0.3626\n",
      "Fold 3 Accuracy: 0.3968\n",
      "Fold 4 Accuracy: 0.3929\n",
      "Fold 5 Accuracy: 0.4776\n",
      "Fold 6 Accuracy: 0.4107\n",
      "Fold 7 Accuracy: 0.4845\n",
      "Fold 8 Accuracy: 0.4752\n",
      "Fold 9 Accuracy: 0.5319\n",
      "Fold 10 Accuracy: 0.4970\n",
      "\n",
      "Accuracy promedio: 0.4509\n",
      "Desviación estándar: 0.0526\n"
     ]
    },
    {
     "data": {
      "image/png": "[encoded data removed]",
      "text/plain": [
       "<Figure size 640x480 with 1 Axes>"
      ]
     },
     "metadata": {},
     "output_type": "display_data"
    }
   ],
   "source": [
    "# Opcional: Escalar los datos\n",
    "scaler = StandardScaler()\n",
    "X_scaled = scaler.fit_transform(X)\n",
    "\n",
    "# Configurar el modelo (SVM en este caso)\n",
    "model_knn = KNeighborsClassifier(n_neighbors=4, weights='distance')\n",
    "\n",
    "# Inicializar lista para almacenar accuracies\n",
    "fold_accuracies = []\n",
    "\n",
    "# Realizar la validación cruzada respetando los folds predefinidos\n",
    "for fold in range(1, 11):  # Hay 10 folds en UrbanSound8K\n",
    "    # Dividir el dataset en entrenamiento y prueba\n",
    "    train_index = folds != fold\n",
    "    test_index = folds == fold\n",
    "    \n",
    "    X_train, X_test = X_scaled[train_index], X_scaled[test_index]\n",
    "    y_train, y_test = y[train_index], y[test_index]\n",
    "    \n",
    "    # Entrenar el modelo\n",
    "    model_knn.fit(X_train, y_train)\n",
    "    \n",
    "    # Predecir y evaluar\n",
    "    y_pred = model_knn.predict(X_test)\n",
    "    accuracy = accuracy_score(y_test, y_pred)\n",
    "    fold_accuracies.append(accuracy)\n",
    "\n",
    "    print(f\"Fold {fold} Accuracy: {accuracy:.4f}\")\n",
    "\n",
    "# Mostrar el promedio y desviación estándar\n",
    "mean_accuracy = np.mean(fold_accuracies)\n",
    "std_accuracy = np.std(fold_accuracies)\n",
    "\n",
    "print(f\"\\nAccuracy promedio: {mean_accuracy:.4f}\")\n",
    "print(f\"Desviación estándar: {std_accuracy:.4f}\")\n",
    "\n",
    "# Opcional: Visualizar los resultados con un boxplot\n",
    "plt.boxplot(fold_accuracies)\n",
    "plt.title('Distribución de Accuracy en 10-Fold Cross Validation')\n",
    "plt.ylabel('Accuracy')\n",
    "plt.show()\n"
   ]
  },
  {
   "cell_type": "markdown",
   "metadata": {},
   "source": [
    "## Random Forest"
   ]
  },
  {
   "cell_type": "code",
   "execution_count": 9,
   "metadata": {},
   "outputs": [
    {
     "name": "stdout",
     "output_type": "stream",
     "text": [
      "Fold 1 Accuracy: 0.5212\n",
      "Fold 2 Accuracy: 0.4189\n",
      "Fold 3 Accuracy: 0.4530\n",
      "Fold 4 Accuracy: 0.4394\n",
      "Fold 5 Accuracy: 0.5513\n",
      "Fold 6 Accuracy: 0.4544\n",
      "Fold 7 Accuracy: 0.5477\n",
      "Fold 8 Accuracy: 0.4975\n",
      "Fold 9 Accuracy: 0.5417\n",
      "Fold 10 Accuracy: 0.5125\n",
      "\n",
      "Accuracy promedio: 0.4938\n",
      "Desviación estándar: 0.0463\n"
     ]
    },
    {
     "data": {
      "image/png": "[encoded data removed]",
      "text/plain": [
       "<Figure size 640x480 with 1 Axes>"
      ]
     },
     "metadata": {},
     "output_type": "display_data"
    }
   ],
   "source": [
    "# Escalar los datos (opcional)\n",
    "scaler = StandardScaler()\n",
    "X_scaled = scaler.fit_transform(X)\n",
    "\n",
    "# Configurar el modelo Random Forest\n",
    "model_rf = RandomForestClassifier(n_estimators=100, max_depth=None, random_state=42)  # Puedes ajustar los hiperparámetros según sea necesario\n",
    "\n",
    "# Inicializar lista para almacenar accuracies\n",
    "fold_accuracies = []\n",
    "\n",
    "# Realizar la validación cruzada respetando los folds predefinidos\n",
    "for fold in range(1, 11):  # Hay 10 folds en UrbanSound8K\n",
    "    # Dividir el dataset en entrenamiento y prueba\n",
    "    train_index = folds != fold\n",
    "    test_index = folds == fold\n",
    "    \n",
    "    X_train, X_test = X_scaled[train_index], X_scaled[test_index]\n",
    "    y_train, y_test = y[train_index], y[test_index]\n",
    "    \n",
    "    # Entrenar el modelo\n",
    "    model_rf.fit(X_train, y_train)\n",
    "    \n",
    "    # Predecir y evaluar\n",
    "    y_pred = model_rf.predict(X_test)\n",
    "    accuracy = accuracy_score(y_test, y_pred)\n",
    "    fold_accuracies.append(accuracy)\n",
    "\n",
    "    print(f\"Fold {fold} Accuracy: {accuracy:.4f}\")\n",
    "\n",
    "# Mostrar el promedio y desviación estándar\n",
    "mean_accuracy = np.mean(fold_accuracies)\n",
    "std_accuracy = np.std(fold_accuracies)\n",
    "\n",
    "print(f\"\\nAccuracy promedio: {mean_accuracy:.4f}\")\n",
    "print(f\"Desviación estándar: {std_accuracy:.4f}\")\n",
    "\n",
    "# Opcional: Visualizar los resultados con un boxplot\n",
    "plt.boxplot(fold_accuracies)\n",
    "plt.title('Distribución de Accuracy en 10-Fold Cross Validation con Random Forest')\n",
    "plt.ylabel('Accuracy')\n",
    "plt.show()\n"
   ]
  },
  {
   "cell_type": "markdown",
   "metadata": {},
   "source": [
    "## SVM"
   ]
  },
  {
   "cell_type": "code",
   "execution_count": 10,
   "metadata": {},
   "outputs": [
    {
     "name": "stdout",
     "output_type": "stream",
     "text": [
      "Fold 1 Accuracy: 0.5097\n",
      "Fold 2 Accuracy: 0.3806\n",
      "Fold 3 Accuracy: 0.4411\n",
      "Fold 4 Accuracy: 0.4414\n",
      "Fold 5 Accuracy: 0.5246\n",
      "Fold 6 Accuracy: 0.4241\n",
      "Fold 7 Accuracy: 0.5263\n",
      "Fold 8 Accuracy: 0.5199\n",
      "Fold 9 Accuracy: 0.5502\n",
      "Fold 10 Accuracy: 0.5544\n",
      "\n",
      "Accuracy promedio: 0.4872\n",
      "Desviación estándar: 0.0571\n"
     ]
    },
    {
     "data": {
      "image/png": "[encoded data removed]",
      "text/plain": [
       "<Figure size 640x480 with 1 Axes>"
      ]
     },
     "metadata": {},
     "output_type": "display_data"
    }
   ],
   "source": [
    "# Opcional: Escalar los datos\n",
    "scaler = StandardScaler()\n",
    "X_scaled = scaler.fit_transform(X)\n",
    "\n",
    "# Configurar el modelo (SVM en este caso)\n",
    "model = SVC(kernel='rbf', C=10)\n",
    "\n",
    "# Inicializar lista para almacenar accuracies\n",
    "fold_accuracies = []\n",
    "\n",
    "# Realizar la validación cruzada respetando los folds predefinidos\n",
    "for fold in range(1, 11):  # Hay 10 folds en UrbanSound8K\n",
    "    # Dividir el dataset en entrenamiento y prueba\n",
    "    train_index = folds != fold\n",
    "    test_index = folds == fold\n",
    "    \n",
    "    X_train, X_test = X_scaled[train_index], X_scaled[test_index]\n",
    "    y_train, y_test = y[train_index], y[test_index]\n",
    "    \n",
    "    # Entrenar el modelo\n",
    "    model.fit(X_train, y_train)\n",
    "    \n",
    "    # Predecir y evaluar\n",
    "    y_pred = model.predict(X_test)\n",
    "    accuracy = accuracy_score(y_test, y_pred)\n",
    "    fold_accuracies.append(accuracy)\n",
    "\n",
    "    print(f\"Fold {fold} Accuracy: {accuracy:.4f}\")\n",
    "\n",
    "# Mostrar el promedio y desviación estándar\n",
    "mean_accuracy = np.mean(fold_accuracies)\n",
    "std_accuracy = np.std(fold_accuracies)\n",
    "\n",
    "print(f\"\\nAccuracy promedio: {mean_accuracy:.4f}\")\n",
    "print(f\"Desviación estándar: {std_accuracy:.4f}\")\n",
    "\n",
    "# Opcional: Visualizar los resultados con un boxplot\n",
    "plt.boxplot(fold_accuracies)\n",
    "plt.title('Distribución de Accuracy en 10-Fold Cross Validation')\n",
    "plt.ylabel('Accuracy')\n",
    "plt.show()\n"
   ]
  }
 ],
 "metadata": {
  "kernelspec": {
   "display_name": "huemul",
   "language": "python",
   "name": "python3"
  },
  "language_info": {
   "codemirror_mode": {
    "name": "ipython",
    "version": 3
   },
   "file_extension": ".py",
   "mimetype": "text/x-python",
   "name": "python",
   "nbconvert_exporter": "python",
   "pygments_lexer": "ipython3",
   "version": "3.10.5"
  }
 },
 "nbformat": 4,
 "nbformat_minor": 2
}
