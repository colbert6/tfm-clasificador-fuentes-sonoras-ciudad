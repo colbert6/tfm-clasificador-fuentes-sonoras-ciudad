{
 "cells": [
  {
   "cell_type": "markdown",
   "metadata": {},
   "source": [
    "# Importación de librerías"
   ]
  },
  {
   "cell_type": "code",
   "execution_count": 2,
   "metadata": {},
   "outputs": [],
   "source": [
    "import pandas as pd\n",
    "import numpy as np\n",
    "\n",
    "import os\n",
    "import librosa\n",
    "import librosa.display\n",
    "\n",
    "import matplotlib.pyplot as plt\n",
    "import seaborn as sns\n"
   ]
  },
  {
   "cell_type": "code",
   "execution_count": 3,
   "metadata": {},
   "outputs": [],
   "source": [
    "from sklearn.model_selection import train_test_split\n",
    "from sklearn.metrics import classification_report, accuracy_score\n",
    "\n",
    "from sklearn.neighbors import KNeighborsClassifier\n",
    "from sklearn.ensemble import RandomForestClassifier\n",
    "from sklearn.svm import SVC\n",
    "\n",
    "from sklearn.model_selection import GridSearchCV\n",
    "from sklearn.model_selection import KFold\n",
    "\n",
    "from sklearn.preprocessing import MinMaxScaler, StandardScaler\n",
    "\n",
    "from sklearn.metrics import accuracy_score \n",
    "from sklearn.metrics import confusion_matrix, ConfusionMatrixDisplay"
   ]
  },
  {
   "cell_type": "markdown",
   "metadata": {},
   "source": [
    "# Lectura del dataset"
   ]
  },
  {
   "cell_type": "code",
   "execution_count": 4,
   "metadata": {},
   "outputs": [
    {
     "data": {
      "text/html": [
       "<div>\n",
       "<style scoped>\n",
       "    .dataframe tbody tr th:only-of-type {\n",
       "        vertical-align: middle;\n",
       "    }\n",
       "\n",
       "    .dataframe tbody tr th {\n",
       "        vertical-align: top;\n",
       "    }\n",
       "\n",
       "    .dataframe thead th {\n",
       "        text-align: right;\n",
       "    }\n",
       "</style>\n",
       "<table border=\"1\" class=\"dataframe\">\n",
       "  <thead>\n",
       "    <tr style=\"text-align: right;\">\n",
       "      <th></th>\n",
       "      <th>classID</th>\n",
       "      <th>tasa_cruce_cero</th>\n",
       "      <th>entropia_espectograma</th>\n",
       "      <th>avg_centroide_espectral</th>\n",
       "      <th>mfcc_1</th>\n",
       "      <th>mfcc_2</th>\n",
       "      <th>mfcc_3</th>\n",
       "      <th>mfcc_4</th>\n",
       "      <th>mfcc_5</th>\n",
       "      <th>mfcc_6</th>\n",
       "      <th>mfcc_7</th>\n",
       "      <th>mfcc_8</th>\n",
       "      <th>mfcc_9</th>\n",
       "      <th>mfcc_10</th>\n",
       "      <th>mfcc_11</th>\n",
       "      <th>mfcc_12</th>\n",
       "      <th>mfcc_13</th>\n",
       "    </tr>\n",
       "  </thead>\n",
       "  <tbody>\n",
       "    <tr>\n",
       "      <th>0</th>\n",
       "      <td>3</td>\n",
       "      <td>1947</td>\n",
       "      <td>6.716659</td>\n",
       "      <td>2503.702337</td>\n",
       "      <td>-275.91843</td>\n",
       "      <td>119.49280</td>\n",
       "      <td>-98.21178</td>\n",
       "      <td>-66.515140</td>\n",
       "      <td>-42.606050</td>\n",
       "      <td>0.505066</td>\n",
       "      <td>-28.330938</td>\n",
       "      <td>-5.746867</td>\n",
       "      <td>9.992785</td>\n",
       "      <td>4.795411</td>\n",
       "      <td>15.461894</td>\n",
       "      <td>-0.069880</td>\n",
       "      <td>-2.842674</td>\n",
       "    </tr>\n",
       "    <tr>\n",
       "      <th>1</th>\n",
       "      <td>2</td>\n",
       "      <td>27607</td>\n",
       "      <td>9.991457</td>\n",
       "      <td>2339.221804</td>\n",
       "      <td>-500.90840</td>\n",
       "      <td>185.10641</td>\n",
       "      <td>-86.53282</td>\n",
       "      <td>49.858850</td>\n",
       "      <td>9.230822</td>\n",
       "      <td>22.548956</td>\n",
       "      <td>-3.567175</td>\n",
       "      <td>12.220052</td>\n",
       "      <td>7.720082</td>\n",
       "      <td>-6.460391</td>\n",
       "      <td>16.995657</td>\n",
       "      <td>-6.625116</td>\n",
       "      <td>1.469779</td>\n",
       "    </tr>\n",
       "    <tr>\n",
       "      <th>2</th>\n",
       "      <td>2</td>\n",
       "      <td>20971</td>\n",
       "      <td>9.728703</td>\n",
       "      <td>2070.826863</td>\n",
       "      <td>-531.19530</td>\n",
       "      <td>186.93994</td>\n",
       "      <td>-70.34916</td>\n",
       "      <td>40.429245</td>\n",
       "      <td>9.121047</td>\n",
       "      <td>18.398588</td>\n",
       "      <td>6.283282</td>\n",
       "      <td>15.504061</td>\n",
       "      <td>9.613501</td>\n",
       "      <td>-7.113610</td>\n",
       "      <td>16.179823</td>\n",
       "      <td>-5.710522</td>\n",
       "      <td>-0.899251</td>\n",
       "    </tr>\n",
       "  </tbody>\n",
       "</table>\n",
       "</div>"
      ],
      "text/plain": [
       "   classID  tasa_cruce_cero  entropia_espectograma  avg_centroide_espectral  \\\n",
       "0        3             1947               6.716659              2503.702337   \n",
       "1        2            27607               9.991457              2339.221804   \n",
       "2        2            20971               9.728703              2070.826863   \n",
       "\n",
       "      mfcc_1     mfcc_2    mfcc_3     mfcc_4     mfcc_5     mfcc_6     mfcc_7  \\\n",
       "0 -275.91843  119.49280 -98.21178 -66.515140 -42.606050   0.505066 -28.330938   \n",
       "1 -500.90840  185.10641 -86.53282  49.858850   9.230822  22.548956  -3.567175   \n",
       "2 -531.19530  186.93994 -70.34916  40.429245   9.121047  18.398588   6.283282   \n",
       "\n",
       "      mfcc_8    mfcc_9   mfcc_10    mfcc_11   mfcc_12   mfcc_13  \n",
       "0  -5.746867  9.992785  4.795411  15.461894 -0.069880 -2.842674  \n",
       "1  12.220052  7.720082 -6.460391  16.995657 -6.625116  1.469779  \n",
       "2  15.504061  9.613501 -7.113610  16.179823 -5.710522 -0.899251  "
      ]
     },
     "execution_count": 4,
     "metadata": {},
     "output_type": "execute_result"
    }
   ],
   "source": [
    "urbansound8k_path = \"../../data/raw/UrbanSound8K/\"\n",
    "\n",
    "# Primer dataset - Carpeta con los audios\n",
    "urbansound8k_audio_path = \"audio/\"\n",
    "\n",
    "# Segundo dataset - Archivo CSV con metadatos sobre los audios\n",
    "urbansound8k_metadata_path_file = \"metadata/UrbanSound8K.csv\"\n",
    "\n",
    "# Dataset CSV con metadatos generados a partir de los audios\n",
    "dataset_urbansound8k_vfinal_path_file = \"../../data/final/dataset_urbansound8k_vfinal.csv\"\n",
    "\n",
    "variable_predict =  'classID'\n",
    "\n",
    "dataset_urbansound8k_df = pd.read_csv(dataset_urbansound8k_vfinal_path_file, sep=\";\")\n",
    "\n",
    "dataset_urbansound8k_df.head(3)"
   ]
  },
  {
   "cell_type": "code",
   "execution_count": 5,
   "metadata": {},
   "outputs": [
    {
     "data": {
      "text/plain": [
       "Index(['classID', 'tasa_cruce_cero', 'entropia_espectograma',\n",
       "       'avg_centroide_espectral', 'mfcc_1', 'mfcc_2', 'mfcc_3', 'mfcc_4',\n",
       "       'mfcc_5', 'mfcc_6', 'mfcc_7', 'mfcc_8', 'mfcc_9', 'mfcc_10', 'mfcc_11',\n",
       "       'mfcc_12', 'mfcc_13'],\n",
       "      dtype='object')"
      ]
     },
     "execution_count": 5,
     "metadata": {},
     "output_type": "execute_result"
    }
   ],
   "source": [
    "dataset_urbansound8k_df.columns"
   ]
  },
  {
   "cell_type": "code",
   "execution_count": 6,
   "metadata": {},
   "outputs": [
    {
     "data": {
      "text/html": [
       "<div>\n",
       "<style scoped>\n",
       "    .dataframe tbody tr th:only-of-type {\n",
       "        vertical-align: middle;\n",
       "    }\n",
       "\n",
       "    .dataframe tbody tr th {\n",
       "        vertical-align: top;\n",
       "    }\n",
       "\n",
       "    .dataframe thead th {\n",
       "        text-align: right;\n",
       "    }\n",
       "</style>\n",
       "<table border=\"1\" class=\"dataframe\">\n",
       "  <thead>\n",
       "    <tr style=\"text-align: right;\">\n",
       "      <th></th>\n",
       "      <th>mfcc_1</th>\n",
       "      <th>mfcc_2</th>\n",
       "      <th>mfcc_3</th>\n",
       "      <th>mfcc_4</th>\n",
       "      <th>mfcc_5</th>\n",
       "      <th>mfcc_6</th>\n",
       "      <th>mfcc_7</th>\n",
       "      <th>mfcc_8</th>\n",
       "      <th>mfcc_9</th>\n",
       "      <th>mfcc_10</th>\n",
       "      <th>mfcc_11</th>\n",
       "      <th>mfcc_12</th>\n",
       "      <th>mfcc_13</th>\n",
       "      <th>classID</th>\n",
       "    </tr>\n",
       "  </thead>\n",
       "  <tbody>\n",
       "    <tr>\n",
       "      <th>0</th>\n",
       "      <td>-159.67445</td>\n",
       "      <td>181.50089</td>\n",
       "      <td>-92.606600</td>\n",
       "      <td>-15.836291</td>\n",
       "      <td>-32.712960</td>\n",
       "      <td>-0.886196</td>\n",
       "      <td>-2.333837</td>\n",
       "      <td>21.515417</td>\n",
       "      <td>25.863836</td>\n",
       "      <td>-0.396893</td>\n",
       "      <td>-0.778924</td>\n",
       "      <td>9.013906</td>\n",
       "      <td>6.754499</td>\n",
       "      <td>8</td>\n",
       "    </tr>\n",
       "    <tr>\n",
       "      <th>1</th>\n",
       "      <td>-219.52864</td>\n",
       "      <td>177.02522</td>\n",
       "      <td>-32.444240</td>\n",
       "      <td>26.932178</td>\n",
       "      <td>-21.066864</td>\n",
       "      <td>4.041955</td>\n",
       "      <td>-10.886847</td>\n",
       "      <td>-7.922688</td>\n",
       "      <td>-13.082119</td>\n",
       "      <td>-10.993799</td>\n",
       "      <td>-3.332730</td>\n",
       "      <td>-5.833699</td>\n",
       "      <td>-5.191674</td>\n",
       "      <td>9</td>\n",
       "    </tr>\n",
       "    <tr>\n",
       "      <th>2</th>\n",
       "      <td>-320.74875</td>\n",
       "      <td>205.43745</td>\n",
       "      <td>-47.278393</td>\n",
       "      <td>-87.469260</td>\n",
       "      <td>-26.390732</td>\n",
       "      <td>-40.026196</td>\n",
       "      <td>-48.005367</td>\n",
       "      <td>16.560823</td>\n",
       "      <td>49.147522</td>\n",
       "      <td>14.839294</td>\n",
       "      <td>-4.111610</td>\n",
       "      <td>4.170245</td>\n",
       "      <td>1.705174</td>\n",
       "      <td>8</td>\n",
       "    </tr>\n",
       "  </tbody>\n",
       "</table>\n",
       "</div>"
      ],
      "text/plain": [
       "      mfcc_1     mfcc_2     mfcc_3     mfcc_4     mfcc_5     mfcc_6  \\\n",
       "0 -159.67445  181.50089 -92.606600 -15.836291 -32.712960  -0.886196   \n",
       "1 -219.52864  177.02522 -32.444240  26.932178 -21.066864   4.041955   \n",
       "2 -320.74875  205.43745 -47.278393 -87.469260 -26.390732 -40.026196   \n",
       "\n",
       "      mfcc_7     mfcc_8     mfcc_9    mfcc_10   mfcc_11   mfcc_12   mfcc_13  \\\n",
       "0  -2.333837  21.515417  25.863836  -0.396893 -0.778924  9.013906  6.754499   \n",
       "1 -10.886847  -7.922688 -13.082119 -10.993799 -3.332730 -5.833699 -5.191674   \n",
       "2 -48.005367  16.560823  49.147522  14.839294 -4.111610  4.170245  1.705174   \n",
       "\n",
       "   classID  \n",
       "0        8  \n",
       "1        9  \n",
       "2        8  "
      ]
     },
     "execution_count": 6,
     "metadata": {},
     "output_type": "execute_result"
    }
   ],
   "source": [
    "# Separar las características y la variable objetivo\n",
    "# ['tasa_cruce_cero', 'entropia_espectograma', 'avg_centroide_espectral'\n",
    "columnas_caracteristicas = ['mfcc_1', 'mfcc_2', 'mfcc_3', 'mfcc_4', 'mfcc_5', 'mfcc_6', 'mfcc_7',\n",
    "             'mfcc_8', 'mfcc_9', 'mfcc_10', 'mfcc_11', 'mfcc_12', 'mfcc_13']\n",
    "\n",
    "X = dataset_urbansound8k_df[columnas_caracteristicas]  # Características\n",
    "y = dataset_urbansound8k_df[variable_predict]  # Variable objetivo\n",
    "\n",
    "#  Dividir los datos en entrenamiento y prueba\n",
    "X_train, X_test, y_train, y_test = train_test_split(X, y, test_size=0.2, random_state=42)\n",
    "\n",
    "dataset_train_df = pd.DataFrame(X_train) \n",
    "dataset_train_df[variable_predict] = y_train\n",
    "dataset_train_df.reset_index(drop=True, inplace=True)\n",
    "dataset_train_df.head(3)"
   ]
  },
  {
   "cell_type": "markdown",
   "metadata": {},
   "source": [
    "# Modelos de Clasificacion"
   ]
  },
  {
   "cell_type": "markdown",
   "metadata": {},
   "source": [
    "## KNeighborsClassifier"
   ]
  },
  {
   "cell_type": "markdown",
   "metadata": {},
   "source": [
    "### Cross Validation - KNN"
   ]
  },
  {
   "cell_type": "code",
   "execution_count": 7,
   "metadata": {},
   "outputs": [],
   "source": [
    "scaler = MinMaxScaler()\n",
    "\n",
    "def determinar_best_model_knn(train_knn, variable_predict, flag_normalizar=0):\n",
    "  \n",
    "  print(\" KNN evaluación con cross validation\")\n",
    "  print(\" --------- \")\n",
    "  print(f\" Variable a predecir : {variable_predict} \")\n",
    "  if flag_normalizar == 1:\n",
    "    print(\" Datos a normalizar : activado \")\n",
    "  \n",
    "  cv = KFold(n_splits = 11, shuffle=True, random_state=42) # Configurar el KFold\n",
    "  plt.figure(figsize=(8, 5))  \n",
    "  \n",
    "  for i, weights in enumerate(['uniform', 'distance']):\n",
    "    total_scores = []\n",
    "\n",
    "    for n_neighbors in range(1,30):\n",
    "      fold_accuracy = []\n",
    "      knn = KNeighborsClassifier(n_neighbors, weights=weights)\n",
    "      \n",
    "      # Verificar cada uno de los modelos con validación cruzada.\n",
    "      for train_fold, test_fold in cv.split(train_knn):\n",
    "                    \n",
    "        # División train test aleatoria\n",
    "        f_train = train_knn.loc[train_fold]\n",
    "        f_test = train_knn.loc[test_fold]\n",
    "\n",
    "        # Condicion para normalizar los datos\n",
    "        if flag_normalizar == 1:\n",
    "          norm_f_train_df = scaler.fit_transform(f_train.drop([variable_predict], axis=1))\n",
    "          norm_f_test_df = scaler.fit_transform(f_test.drop([variable_predict], axis=1))\n",
    "        else:\n",
    "          norm_f_train_df = f_train.drop([variable_predict], axis=1)\n",
    "          norm_f_test_df = f_test.drop([variable_predict], axis=1)\n",
    "\n",
    "        # Entrenamiento y ejecución del modelo\n",
    "        knn.fit( X = norm_f_train_df, y = f_train[variable_predict])\n",
    "        y_pred = knn.predict(X = norm_f_test_df)\n",
    "\n",
    "        # Evaluación del modelo\n",
    "        acc = accuracy_score(f_test[variable_predict], y_pred)\n",
    "        fold_accuracy.append(acc)\n",
    "\n",
    "      # Calculo promedio de la accuracy\n",
    "      total_scores.append(sum(fold_accuracy)/len(fold_accuracy))  \n",
    "\n",
    "    plt.plot(range(1,len(total_scores)+1), total_scores, marker='o', label=weights)\n",
    "    print ('Max Value ' +  weights + \" : \" +  str(max(total_scores)) +\" (\" + str(np.argmax(total_scores) + 1) + \")\")\n",
    "    plt.ylabel('ACC') \n",
    "\n",
    "  plt.grid()\n",
    "  plt.legend()\n",
    "  plt.show()"
   ]
  },
  {
   "cell_type": "code",
   "execution_count": 8,
   "metadata": {},
   "outputs": [
    {
     "name": "stdout",
     "output_type": "stream",
     "text": [
      " KNN evaluación con cross validation\n",
      " --------- \n",
      " Variable a predecir : classID \n"
     ]
    },
    {
     "name": "stdout",
     "output_type": "stream",
     "text": [
      "Max Value uniform : 0.8873299928418039 (1)\n",
      "Max Value distance : 0.8873299928418039 (1)\n"
     ]
    },
    {
     "data": {
      "image/png": "[encoded data removed]",
      "text/plain": [
       "<Figure size 800x500 with 1 Axes>"
      ]
     },
     "metadata": {},
     "output_type": "display_data"
    }
   ],
   "source": [
    "determinar_best_model_knn(dataset_train_df, variable_predict, flag_normalizar=0)"
   ]
  },
  {
   "cell_type": "markdown",
   "metadata": {},
   "source": [
    "### GridSearchCV - KNN"
   ]
  },
  {
   "cell_type": "code",
   "execution_count": 9,
   "metadata": {},
   "outputs": [
    {
     "name": "stdout",
     "output_type": "stream",
     "text": [
      "Mejores Parámetros: {'metric': 'manhattan', 'n_neighbors': 2, 'weights': 'distance'}\n",
      "Mejor Score: 0.8953471725125268\n",
      "Accuracy en conjunto de prueba: 0.9061247853463079\n"
     ]
    }
   ],
   "source": [
    "# Definir el modelo KNN\n",
    "knn = KNeighborsClassifier()\n",
    "\n",
    "# Definir la rejilla de parámetros a buscar\n",
    "param_grid = {\n",
    "    'n_neighbors': [ 2, 3, 4, 5, 6, 7, 8, 9],       # Número de vecinos\n",
    "    'weights': ['uniform', 'distance'], # Tipo de ponderación\n",
    "    'metric': ['euclidean', 'manhattan', 'minkowski']  # Métricas de distancia\n",
    "}\n",
    "\n",
    "# Configurar GridSearchCV\n",
    "grid_search = GridSearchCV(estimator=knn, param_grid=param_grid, cv=5, scoring='accuracy', n_jobs=-1)\n",
    "\n",
    "# Entrenar el modelo con la búsqueda de hiperparámetros\n",
    "grid_search.fit(X_train, y_train)\n",
    "\n",
    "# Obtener los mejores parámetros y el mejor score\n",
    "best_params = grid_search.best_params_\n",
    "best_score = grid_search.best_score_\n",
    "\n",
    "print(f\"Mejores Parámetros: {best_params}\")\n",
    "print(f\"Mejor Score: {best_score}\")\n",
    "\n",
    "# Evaluar el modelo con los mejores parámetros en el conjunto de prueba\n",
    "best_knn = grid_search.best_estimator_\n",
    "y_pred = best_knn.predict(X_test)\n",
    "\n",
    "accuracy = accuracy_score(y_test, y_pred)\n",
    "print(f\"Accuracy en conjunto de prueba: {accuracy}\")"
   ]
  },
  {
   "cell_type": "markdown",
   "metadata": {},
   "source": [
    "### Modelo final"
   ]
  },
  {
   "cell_type": "code",
   "execution_count": 10,
   "metadata": {},
   "outputs": [
    {
     "name": "stdout",
     "output_type": "stream",
     "text": [
      "Accuracy: 0.9061247853463079\n",
      "Classification Report:\n",
      "               precision    recall  f1-score   support\n",
      "\n",
      "           0       0.94      0.94      0.94       203\n",
      "           1       0.84      0.77      0.80        86\n",
      "           2       0.89      0.90      0.89       183\n",
      "           3       0.92      0.88      0.90       201\n",
      "           4       0.92      0.89      0.91       206\n",
      "           5       0.93      0.97      0.95       193\n",
      "           6       0.74      0.89      0.81        72\n",
      "           7       0.93      0.96      0.95       208\n",
      "           8       0.93      0.95      0.94       165\n",
      "           9       0.89      0.85      0.87       230\n",
      "\n",
      "    accuracy                           0.91      1747\n",
      "   macro avg       0.89      0.90      0.89      1747\n",
      "weighted avg       0.91      0.91      0.91      1747\n",
      "\n"
     ]
    }
   ],
   "source": [
    "# Crear el modelo KNN\n",
    "knn = KNeighborsClassifier(n_neighbors=2, weights='distance', metric='manhattan')\n",
    "\n",
    "# Entrenar el modelo\n",
    "knn.fit(X_train, y_train)\n",
    "\n",
    "# Realizar predicciones\n",
    "knn_y_pred = knn.predict(X_test)\n",
    "\n",
    "# Evaluar el modelo\n",
    "print(\"Accuracy:\", accuracy_score(y_test, knn_y_pred))\n",
    "print(\"Classification Report:\\n\", classification_report(y_test, knn_y_pred))"
   ]
  },
  {
   "cell_type": "code",
   "execution_count": 11,
   "metadata": {},
   "outputs": [
    {
     "data": {
      "image/png": "[encoded data removed]",
      "text/plain": [
       "<Figure size 1000x700 with 2 Axes>"
      ]
     },
     "metadata": {},
     "output_type": "display_data"
    }
   ],
   "source": [
    "cm = confusion_matrix(y_test, knn_y_pred)\n",
    "\n",
    "# Mostrar la matriz de confusión\n",
    "plt.figure(figsize=(10, 7))\n",
    "sns.heatmap(cm, annot=True, fmt='d', cmap='Blues', xticklabels=knn.classes_, yticklabels=knn.classes_)\n",
    "plt.xlabel('Predicted')\n",
    "plt.ylabel('Actual')\n",
    "plt.title('Confusion Matrix')\n",
    "plt.show()"
   ]
  },
  {
   "cell_type": "markdown",
   "metadata": {},
   "source": [
    "## SVM"
   ]
  },
  {
   "cell_type": "markdown",
   "metadata": {},
   "source": [
    "### Cross Validation - SVM"
   ]
  },
  {
   "cell_type": "code",
   "execution_count": 9,
   "metadata": {},
   "outputs": [],
   "source": [
    "scaler = MinMaxScaler()\n",
    "\n",
    "def determinar_best_model_svm(train_svm, variable_predict, flag_normalizar=0):\n",
    "  \n",
    "    print(\"SVM evaluación con cross validation\")\n",
    "    print(\"---------\")\n",
    "    print(f\"Variable a predecir : {variable_predict}\")\n",
    "    if flag_normalizar == 1:\n",
    "        print(\"Datos a normalizar : activado\")\n",
    "    \n",
    "    cv = KFold(n_splits=11, shuffle=True, random_state=42)  # Configurar el KFold\n",
    "    plt.figure(figsize=(8, 5))\n",
    "    \n",
    "    for kernel in ['linear', 'rbf', 'poly']:  # Tipos de kernel que se probarán\n",
    "        total_scores = []\n",
    "        print(f\"> kernel {kernel}\")\n",
    "        c_regulizacion_list = [0.000001] # [0.1, 1, 10, 100, 1000]: \n",
    "\n",
    "        for C in c_regulizacion_list: # Regularización en un rango logarítmico\n",
    "            fold_accuracy = []\n",
    "            svm = SVC(kernel=kernel, C=C)\n",
    "            print(f\">> C {C}\")\n",
    "            \n",
    "            # Verificar cada uno de los modelos con validación cruzada\n",
    "            for train_fold, test_fold in cv.split(train_svm):\n",
    "                        \n",
    "                # División train test aleatoria\n",
    "                f_train = train_svm.loc[train_fold]\n",
    "                f_test = train_svm.loc[test_fold]\n",
    "\n",
    "                # Condición para normalizar los datos\n",
    "                if flag_normalizar == 1:\n",
    "                    norm_f_train_df = scaler.fit_transform(f_train.drop([variable_predict], axis=1))\n",
    "                    norm_f_test_df = scaler.fit_transform(f_test.drop([variable_predict], axis=1))\n",
    "                else:\n",
    "                    norm_f_train_df = f_train.drop([variable_predict], axis=1)\n",
    "                    norm_f_test_df = f_test.drop([variable_predict], axis=1)\n",
    "\n",
    "                # Entrenamiento y ejecución del modelo\n",
    "                svm.fit(X=norm_f_train_df, y=f_train[variable_predict])\n",
    "                y_pred = svm.predict(X=norm_f_test_df)\n",
    "\n",
    "                # Evaluación del modelo\n",
    "                acc = accuracy_score(f_test[variable_predict], y_pred)\n",
    "                fold_accuracy.append(acc)\n",
    "\n",
    "            # Cálculo promedio de la accuracy\n",
    "            total_scores.append(sum(fold_accuracy)/len(fold_accuracy))  \n",
    "\n",
    "        plt.plot(c_regulizacion_list, total_scores, marker='o', label=kernel)\n",
    "        print('Max Value ' + kernel + \" : \" + str(max(total_scores)) + \" (C=\" + str(c_regulizacion_list[np.argmax(total_scores)]) + \")\")\n",
    "        plt.ylabel('ACC') \n",
    "\n",
    "    plt.xscale('log')\n",
    "    plt.grid()\n",
    "    plt.legend()\n",
    "    plt.show()\n"
   ]
  },
  {
   "cell_type": "code",
   "execution_count": 10,
   "metadata": {},
   "outputs": [
    {
     "name": "stdout",
     "output_type": "stream",
     "text": [
      "SVM evaluación con cross validation\n",
      "---------\n",
      "Variable a predecir : classID\n",
      "> kernel linear\n",
      ">> C 1e-06\n",
      "Max Value linear : 0.35748031496062993 (C=1e-06)\n",
      "> kernel rbf\n",
      ">> C 1e-06\n",
      "Max Value rbf : 0.11567644953471726 (C=1e-06)\n",
      "> kernel poly\n",
      ">> C 1e-06\n",
      "Max Value poly : 0.11267000715819613 (C=1e-06)\n"
     ]
    },
    {
     "data": {
      "image/png": "[encoded data removed]",
      "text/plain": [
       "<Figure size 800x500 with 1 Axes>"
      ]
     },
     "metadata": {},
     "output_type": "display_data"
    }
   ],
   "source": [
    "determinar_best_model_svm(dataset_train_df, variable_predict, flag_normalizar=0)"
   ]
  },
  {
   "cell_type": "markdown",
   "metadata": {},
   "source": [
    "### GridSearchCV - SVM"
   ]
  },
  {
   "cell_type": "code",
   "execution_count": 10,
   "metadata": {},
   "outputs": [
    {
     "ename": "KeyboardInterrupt",
     "evalue": "",
     "output_type": "error",
     "traceback": [
      "\u001b[1;31m---------------------------------------------------------------------------\u001b[0m",
      "\u001b[1;31mKeyboardInterrupt\u001b[0m                         Traceback (most recent call last)",
      "Cell \u001b[1;32mIn[10], line 16\u001b[0m\n\u001b[0;32m     13\u001b[0m grid_search \u001b[38;5;241m=\u001b[39m GridSearchCV(estimator\u001b[38;5;241m=\u001b[39msvm, param_grid\u001b[38;5;241m=\u001b[39mparam_grid, cv\u001b[38;5;241m=\u001b[39m\u001b[38;5;241m5\u001b[39m, scoring\u001b[38;5;241m=\u001b[39m\u001b[38;5;124m'\u001b[39m\u001b[38;5;124maccuracy\u001b[39m\u001b[38;5;124m'\u001b[39m, n_jobs\u001b[38;5;241m=\u001b[39m\u001b[38;5;241m-\u001b[39m\u001b[38;5;241m1\u001b[39m)\n\u001b[0;32m     15\u001b[0m \u001b[38;5;66;03m# Entrenar el modelo con la búsqueda de hiperparámetros\u001b[39;00m\n\u001b[1;32m---> 16\u001b[0m \u001b[43mgrid_search\u001b[49m\u001b[38;5;241;43m.\u001b[39;49m\u001b[43mfit\u001b[49m\u001b[43m(\u001b[49m\u001b[43mX_train\u001b[49m\u001b[43m,\u001b[49m\u001b[43m \u001b[49m\u001b[43my_train\u001b[49m\u001b[43m)\u001b[49m\n\u001b[0;32m     18\u001b[0m \u001b[38;5;66;03m# Obtener los mejores parámetros y el mejor score\u001b[39;00m\n\u001b[0;32m     19\u001b[0m best_params \u001b[38;5;241m=\u001b[39m grid_search\u001b[38;5;241m.\u001b[39mbest_params_\n",
      "File \u001b[1;32mc:\\Users\\colbe\\Documents\\VIU\\TFM\\tfm-clasificador-fuentes-sonoras-ciudad\\.env\\lib\\site-packages\\sklearn\\base.py:1473\u001b[0m, in \u001b[0;36m_fit_context.<locals>.decorator.<locals>.wrapper\u001b[1;34m(estimator, *args, **kwargs)\u001b[0m\n\u001b[0;32m   1466\u001b[0m     estimator\u001b[38;5;241m.\u001b[39m_validate_params()\n\u001b[0;32m   1468\u001b[0m \u001b[38;5;28;01mwith\u001b[39;00m config_context(\n\u001b[0;32m   1469\u001b[0m     skip_parameter_validation\u001b[38;5;241m=\u001b[39m(\n\u001b[0;32m   1470\u001b[0m         prefer_skip_nested_validation \u001b[38;5;129;01mor\u001b[39;00m global_skip_validation\n\u001b[0;32m   1471\u001b[0m     )\n\u001b[0;32m   1472\u001b[0m ):\n\u001b[1;32m-> 1473\u001b[0m     \u001b[38;5;28;01mreturn\u001b[39;00m fit_method(estimator, \u001b[38;5;241m*\u001b[39margs, \u001b[38;5;241m*\u001b[39m\u001b[38;5;241m*\u001b[39mkwargs)\n",
      "File \u001b[1;32mc:\\Users\\colbe\\Documents\\VIU\\TFM\\tfm-clasificador-fuentes-sonoras-ciudad\\.env\\lib\\site-packages\\sklearn\\model_selection\\_search.py:1018\u001b[0m, in \u001b[0;36mBaseSearchCV.fit\u001b[1;34m(self, X, y, **params)\u001b[0m\n\u001b[0;32m   1012\u001b[0m     results \u001b[38;5;241m=\u001b[39m \u001b[38;5;28mself\u001b[39m\u001b[38;5;241m.\u001b[39m_format_results(\n\u001b[0;32m   1013\u001b[0m         all_candidate_params, n_splits, all_out, all_more_results\n\u001b[0;32m   1014\u001b[0m     )\n\u001b[0;32m   1016\u001b[0m     \u001b[38;5;28;01mreturn\u001b[39;00m results\n\u001b[1;32m-> 1018\u001b[0m \u001b[38;5;28;43mself\u001b[39;49m\u001b[38;5;241;43m.\u001b[39;49m\u001b[43m_run_search\u001b[49m\u001b[43m(\u001b[49m\u001b[43mevaluate_candidates\u001b[49m\u001b[43m)\u001b[49m\n\u001b[0;32m   1020\u001b[0m \u001b[38;5;66;03m# multimetric is determined here because in the case of a callable\u001b[39;00m\n\u001b[0;32m   1021\u001b[0m \u001b[38;5;66;03m# self.scoring the return type is only known after calling\u001b[39;00m\n\u001b[0;32m   1022\u001b[0m first_test_score \u001b[38;5;241m=\u001b[39m all_out[\u001b[38;5;241m0\u001b[39m][\u001b[38;5;124m\"\u001b[39m\u001b[38;5;124mtest_scores\u001b[39m\u001b[38;5;124m\"\u001b[39m]\n",
      "File \u001b[1;32mc:\\Users\\colbe\\Documents\\VIU\\TFM\\tfm-clasificador-fuentes-sonoras-ciudad\\.env\\lib\\site-packages\\sklearn\\model_selection\\_search.py:1572\u001b[0m, in \u001b[0;36mGridSearchCV._run_search\u001b[1;34m(self, evaluate_candidates)\u001b[0m\n\u001b[0;32m   1570\u001b[0m \u001b[38;5;28;01mdef\u001b[39;00m \u001b[38;5;21m_run_search\u001b[39m(\u001b[38;5;28mself\u001b[39m, evaluate_candidates):\n\u001b[0;32m   1571\u001b[0m \u001b[38;5;250m    \u001b[39m\u001b[38;5;124;03m\"\"\"Search all candidates in param_grid\"\"\"\u001b[39;00m\n\u001b[1;32m-> 1572\u001b[0m     \u001b[43mevaluate_candidates\u001b[49m\u001b[43m(\u001b[49m\u001b[43mParameterGrid\u001b[49m\u001b[43m(\u001b[49m\u001b[38;5;28;43mself\u001b[39;49m\u001b[38;5;241;43m.\u001b[39;49m\u001b[43mparam_grid\u001b[49m\u001b[43m)\u001b[49m\u001b[43m)\u001b[49m\n",
      "File \u001b[1;32mc:\\Users\\colbe\\Documents\\VIU\\TFM\\tfm-clasificador-fuentes-sonoras-ciudad\\.env\\lib\\site-packages\\sklearn\\model_selection\\_search.py:964\u001b[0m, in \u001b[0;36mBaseSearchCV.fit.<locals>.evaluate_candidates\u001b[1;34m(candidate_params, cv, more_results)\u001b[0m\n\u001b[0;32m    956\u001b[0m \u001b[38;5;28;01mif\u001b[39;00m \u001b[38;5;28mself\u001b[39m\u001b[38;5;241m.\u001b[39mverbose \u001b[38;5;241m>\u001b[39m \u001b[38;5;241m0\u001b[39m:\n\u001b[0;32m    957\u001b[0m     \u001b[38;5;28mprint\u001b[39m(\n\u001b[0;32m    958\u001b[0m         \u001b[38;5;124m\"\u001b[39m\u001b[38;5;124mFitting \u001b[39m\u001b[38;5;132;01m{0}\u001b[39;00m\u001b[38;5;124m folds for each of \u001b[39m\u001b[38;5;132;01m{1}\u001b[39;00m\u001b[38;5;124m candidates,\u001b[39m\u001b[38;5;124m\"\u001b[39m\n\u001b[0;32m    959\u001b[0m         \u001b[38;5;124m\"\u001b[39m\u001b[38;5;124m totalling \u001b[39m\u001b[38;5;132;01m{2}\u001b[39;00m\u001b[38;5;124m fits\u001b[39m\u001b[38;5;124m\"\u001b[39m\u001b[38;5;241m.\u001b[39mformat(\n\u001b[0;32m    960\u001b[0m             n_splits, n_candidates, n_candidates \u001b[38;5;241m*\u001b[39m n_splits\n\u001b[0;32m    961\u001b[0m         )\n\u001b[0;32m    962\u001b[0m     )\n\u001b[1;32m--> 964\u001b[0m out \u001b[38;5;241m=\u001b[39m \u001b[43mparallel\u001b[49m\u001b[43m(\u001b[49m\n\u001b[0;32m    965\u001b[0m \u001b[43m    \u001b[49m\u001b[43mdelayed\u001b[49m\u001b[43m(\u001b[49m\u001b[43m_fit_and_score\u001b[49m\u001b[43m)\u001b[49m\u001b[43m(\u001b[49m\n\u001b[0;32m    966\u001b[0m \u001b[43m        \u001b[49m\u001b[43mclone\u001b[49m\u001b[43m(\u001b[49m\u001b[43mbase_estimator\u001b[49m\u001b[43m)\u001b[49m\u001b[43m,\u001b[49m\n\u001b[0;32m    967\u001b[0m \u001b[43m        \u001b[49m\u001b[43mX\u001b[49m\u001b[43m,\u001b[49m\n\u001b[0;32m    968\u001b[0m \u001b[43m        \u001b[49m\u001b[43my\u001b[49m\u001b[43m,\u001b[49m\n\u001b[0;32m    969\u001b[0m \u001b[43m        \u001b[49m\u001b[43mtrain\u001b[49m\u001b[38;5;241;43m=\u001b[39;49m\u001b[43mtrain\u001b[49m\u001b[43m,\u001b[49m\n\u001b[0;32m    970\u001b[0m \u001b[43m        \u001b[49m\u001b[43mtest\u001b[49m\u001b[38;5;241;43m=\u001b[39;49m\u001b[43mtest\u001b[49m\u001b[43m,\u001b[49m\n\u001b[0;32m    971\u001b[0m \u001b[43m        \u001b[49m\u001b[43mparameters\u001b[49m\u001b[38;5;241;43m=\u001b[39;49m\u001b[43mparameters\u001b[49m\u001b[43m,\u001b[49m\n\u001b[0;32m    972\u001b[0m \u001b[43m        \u001b[49m\u001b[43msplit_progress\u001b[49m\u001b[38;5;241;43m=\u001b[39;49m\u001b[43m(\u001b[49m\u001b[43msplit_idx\u001b[49m\u001b[43m,\u001b[49m\u001b[43m \u001b[49m\u001b[43mn_splits\u001b[49m\u001b[43m)\u001b[49m\u001b[43m,\u001b[49m\n\u001b[0;32m    973\u001b[0m \u001b[43m        \u001b[49m\u001b[43mcandidate_progress\u001b[49m\u001b[38;5;241;43m=\u001b[39;49m\u001b[43m(\u001b[49m\u001b[43mcand_idx\u001b[49m\u001b[43m,\u001b[49m\u001b[43m \u001b[49m\u001b[43mn_candidates\u001b[49m\u001b[43m)\u001b[49m\u001b[43m,\u001b[49m\n\u001b[0;32m    974\u001b[0m \u001b[43m        \u001b[49m\u001b[38;5;241;43m*\u001b[39;49m\u001b[38;5;241;43m*\u001b[39;49m\u001b[43mfit_and_score_kwargs\u001b[49m\u001b[43m,\u001b[49m\n\u001b[0;32m    975\u001b[0m \u001b[43m    \u001b[49m\u001b[43m)\u001b[49m\n\u001b[0;32m    976\u001b[0m \u001b[43m    \u001b[49m\u001b[38;5;28;43;01mfor\u001b[39;49;00m\u001b[43m \u001b[49m\u001b[43m(\u001b[49m\u001b[43mcand_idx\u001b[49m\u001b[43m,\u001b[49m\u001b[43m \u001b[49m\u001b[43mparameters\u001b[49m\u001b[43m)\u001b[49m\u001b[43m,\u001b[49m\u001b[43m \u001b[49m\u001b[43m(\u001b[49m\u001b[43msplit_idx\u001b[49m\u001b[43m,\u001b[49m\u001b[43m \u001b[49m\u001b[43m(\u001b[49m\u001b[43mtrain\u001b[49m\u001b[43m,\u001b[49m\u001b[43m \u001b[49m\u001b[43mtest\u001b[49m\u001b[43m)\u001b[49m\u001b[43m)\u001b[49m\u001b[43m \u001b[49m\u001b[38;5;129;43;01min\u001b[39;49;00m\u001b[43m \u001b[49m\u001b[43mproduct\u001b[49m\u001b[43m(\u001b[49m\n\u001b[0;32m    977\u001b[0m \u001b[43m        \u001b[49m\u001b[38;5;28;43menumerate\u001b[39;49m\u001b[43m(\u001b[49m\u001b[43mcandidate_params\u001b[49m\u001b[43m)\u001b[49m\u001b[43m,\u001b[49m\n\u001b[0;32m    978\u001b[0m \u001b[43m        \u001b[49m\u001b[38;5;28;43menumerate\u001b[39;49m\u001b[43m(\u001b[49m\u001b[43mcv\u001b[49m\u001b[38;5;241;43m.\u001b[39;49m\u001b[43msplit\u001b[49m\u001b[43m(\u001b[49m\u001b[43mX\u001b[49m\u001b[43m,\u001b[49m\u001b[43m \u001b[49m\u001b[43my\u001b[49m\u001b[43m,\u001b[49m\u001b[43m \u001b[49m\u001b[38;5;241;43m*\u001b[39;49m\u001b[38;5;241;43m*\u001b[39;49m\u001b[43mrouted_params\u001b[49m\u001b[38;5;241;43m.\u001b[39;49m\u001b[43msplitter\u001b[49m\u001b[38;5;241;43m.\u001b[39;49m\u001b[43msplit\u001b[49m\u001b[43m)\u001b[49m\u001b[43m)\u001b[49m\u001b[43m,\u001b[49m\n\u001b[0;32m    979\u001b[0m \u001b[43m    \u001b[49m\u001b[43m)\u001b[49m\n\u001b[0;32m    980\u001b[0m \u001b[43m\u001b[49m\u001b[43m)\u001b[49m\n\u001b[0;32m    982\u001b[0m \u001b[38;5;28;01mif\u001b[39;00m \u001b[38;5;28mlen\u001b[39m(out) \u001b[38;5;241m<\u001b[39m \u001b[38;5;241m1\u001b[39m:\n\u001b[0;32m    983\u001b[0m     \u001b[38;5;28;01mraise\u001b[39;00m \u001b[38;5;167;01mValueError\u001b[39;00m(\n\u001b[0;32m    984\u001b[0m         \u001b[38;5;124m\"\u001b[39m\u001b[38;5;124mNo fits were performed. \u001b[39m\u001b[38;5;124m\"\u001b[39m\n\u001b[0;32m    985\u001b[0m         \u001b[38;5;124m\"\u001b[39m\u001b[38;5;124mWas the CV iterator empty? \u001b[39m\u001b[38;5;124m\"\u001b[39m\n\u001b[0;32m    986\u001b[0m         \u001b[38;5;124m\"\u001b[39m\u001b[38;5;124mWere there no candidates?\u001b[39m\u001b[38;5;124m\"\u001b[39m\n\u001b[0;32m    987\u001b[0m     )\n",
      "File \u001b[1;32mc:\\Users\\colbe\\Documents\\VIU\\TFM\\tfm-clasificador-fuentes-sonoras-ciudad\\.env\\lib\\site-packages\\sklearn\\utils\\parallel.py:74\u001b[0m, in \u001b[0;36mParallel.__call__\u001b[1;34m(self, iterable)\u001b[0m\n\u001b[0;32m     69\u001b[0m config \u001b[38;5;241m=\u001b[39m get_config()\n\u001b[0;32m     70\u001b[0m iterable_with_config \u001b[38;5;241m=\u001b[39m (\n\u001b[0;32m     71\u001b[0m     (_with_config(delayed_func, config), args, kwargs)\n\u001b[0;32m     72\u001b[0m     \u001b[38;5;28;01mfor\u001b[39;00m delayed_func, args, kwargs \u001b[38;5;129;01min\u001b[39;00m iterable\n\u001b[0;32m     73\u001b[0m )\n\u001b[1;32m---> 74\u001b[0m \u001b[38;5;28;01mreturn\u001b[39;00m \u001b[38;5;28;43msuper\u001b[39;49m\u001b[43m(\u001b[49m\u001b[43m)\u001b[49m\u001b[38;5;241;43m.\u001b[39;49m\u001b[38;5;21;43m__call__\u001b[39;49m\u001b[43m(\u001b[49m\u001b[43miterable_with_config\u001b[49m\u001b[43m)\u001b[49m\n",
      "File \u001b[1;32mc:\\Users\\colbe\\Documents\\VIU\\TFM\\tfm-clasificador-fuentes-sonoras-ciudad\\.env\\lib\\site-packages\\joblib\\parallel.py:2007\u001b[0m, in \u001b[0;36mParallel.__call__\u001b[1;34m(self, iterable)\u001b[0m\n\u001b[0;32m   2001\u001b[0m \u001b[38;5;66;03m# The first item from the output is blank, but it makes the interpreter\u001b[39;00m\n\u001b[0;32m   2002\u001b[0m \u001b[38;5;66;03m# progress until it enters the Try/Except block of the generator and\u001b[39;00m\n\u001b[0;32m   2003\u001b[0m \u001b[38;5;66;03m# reaches the first `yield` statement. This starts the asynchronous\u001b[39;00m\n\u001b[0;32m   2004\u001b[0m \u001b[38;5;66;03m# dispatch of the tasks to the workers.\u001b[39;00m\n\u001b[0;32m   2005\u001b[0m \u001b[38;5;28mnext\u001b[39m(output)\n\u001b[1;32m-> 2007\u001b[0m \u001b[38;5;28;01mreturn\u001b[39;00m output \u001b[38;5;28;01mif\u001b[39;00m \u001b[38;5;28mself\u001b[39m\u001b[38;5;241m.\u001b[39mreturn_generator \u001b[38;5;28;01melse\u001b[39;00m \u001b[38;5;28;43mlist\u001b[39;49m\u001b[43m(\u001b[49m\u001b[43moutput\u001b[49m\u001b[43m)\u001b[49m\n",
      "File \u001b[1;32mc:\\Users\\colbe\\Documents\\VIU\\TFM\\tfm-clasificador-fuentes-sonoras-ciudad\\.env\\lib\\site-packages\\joblib\\parallel.py:1650\u001b[0m, in \u001b[0;36mParallel._get_outputs\u001b[1;34m(self, iterator, pre_dispatch)\u001b[0m\n\u001b[0;32m   1647\u001b[0m     \u001b[38;5;28;01myield\u001b[39;00m\n\u001b[0;32m   1649\u001b[0m     \u001b[38;5;28;01mwith\u001b[39;00m \u001b[38;5;28mself\u001b[39m\u001b[38;5;241m.\u001b[39m_backend\u001b[38;5;241m.\u001b[39mretrieval_context():\n\u001b[1;32m-> 1650\u001b[0m         \u001b[38;5;28;01myield from\u001b[39;00m \u001b[38;5;28mself\u001b[39m\u001b[38;5;241m.\u001b[39m_retrieve()\n\u001b[0;32m   1652\u001b[0m \u001b[38;5;28;01mexcept\u001b[39;00m \u001b[38;5;167;01mGeneratorExit\u001b[39;00m:\n\u001b[0;32m   1653\u001b[0m     \u001b[38;5;66;03m# The generator has been garbage collected before being fully\u001b[39;00m\n\u001b[0;32m   1654\u001b[0m     \u001b[38;5;66;03m# consumed. This aborts the remaining tasks if possible and warn\u001b[39;00m\n\u001b[0;32m   1655\u001b[0m     \u001b[38;5;66;03m# the user if necessary.\u001b[39;00m\n\u001b[0;32m   1656\u001b[0m     \u001b[38;5;28mself\u001b[39m\u001b[38;5;241m.\u001b[39m_exception \u001b[38;5;241m=\u001b[39m \u001b[38;5;28;01mTrue\u001b[39;00m\n",
      "File \u001b[1;32mc:\\Users\\colbe\\Documents\\VIU\\TFM\\tfm-clasificador-fuentes-sonoras-ciudad\\.env\\lib\\site-packages\\joblib\\parallel.py:1762\u001b[0m, in \u001b[0;36mParallel._retrieve\u001b[1;34m(self)\u001b[0m\n\u001b[0;32m   1757\u001b[0m \u001b[38;5;66;03m# If the next job is not ready for retrieval yet, we just wait for\u001b[39;00m\n\u001b[0;32m   1758\u001b[0m \u001b[38;5;66;03m# async callbacks to progress.\u001b[39;00m\n\u001b[0;32m   1759\u001b[0m \u001b[38;5;28;01mif\u001b[39;00m ((\u001b[38;5;28mlen\u001b[39m(\u001b[38;5;28mself\u001b[39m\u001b[38;5;241m.\u001b[39m_jobs) \u001b[38;5;241m==\u001b[39m \u001b[38;5;241m0\u001b[39m) \u001b[38;5;129;01mor\u001b[39;00m\n\u001b[0;32m   1760\u001b[0m     (\u001b[38;5;28mself\u001b[39m\u001b[38;5;241m.\u001b[39m_jobs[\u001b[38;5;241m0\u001b[39m]\u001b[38;5;241m.\u001b[39mget_status(\n\u001b[0;32m   1761\u001b[0m         timeout\u001b[38;5;241m=\u001b[39m\u001b[38;5;28mself\u001b[39m\u001b[38;5;241m.\u001b[39mtimeout) \u001b[38;5;241m==\u001b[39m TASK_PENDING)):\n\u001b[1;32m-> 1762\u001b[0m     \u001b[43mtime\u001b[49m\u001b[38;5;241;43m.\u001b[39;49m\u001b[43msleep\u001b[49m\u001b[43m(\u001b[49m\u001b[38;5;241;43m0.01\u001b[39;49m\u001b[43m)\u001b[49m\n\u001b[0;32m   1763\u001b[0m     \u001b[38;5;28;01mcontinue\u001b[39;00m\n\u001b[0;32m   1765\u001b[0m \u001b[38;5;66;03m# We need to be careful: the job list can be filling up as\u001b[39;00m\n\u001b[0;32m   1766\u001b[0m \u001b[38;5;66;03m# we empty it and Python list are not thread-safe by\u001b[39;00m\n\u001b[0;32m   1767\u001b[0m \u001b[38;5;66;03m# default hence the use of the lock\u001b[39;00m\n",
      "\u001b[1;31mKeyboardInterrupt\u001b[0m: "
     ]
    }
   ],
   "source": [
    "# Definir el modelo SVM\n",
    "svm = SVC()\n",
    "\n",
    "# Definir la rejilla de parámetros a buscar\n",
    "param_grid = {\n",
    "    'C': [0.1, 1, 10, 100, 1000], # Parámetro de regularización\n",
    "    'kernel': ['linear', 'rbf', 'poly'], # Tipo de kernel\n",
    "    'gamma': ['scale', 'auto'],          # Coeficiente del kernel para 'rbf' y 'poly'\n",
    "    'degree': [2, 3, 4],                 # Grado del polinomio para 'poly'\n",
    "}\n",
    "\n",
    "# Configurar GridSearchCV\n",
    "grid_search = GridSearchCV(estimator=svm, param_grid=param_grid, cv=5, scoring='accuracy', n_jobs=-1)\n",
    "\n",
    "# Entrenar el modelo con la búsqueda de hiperparámetros\n",
    "grid_search.fit(X_train, y_train)\n",
    "\n",
    "# Obtener los mejores parámetros y el mejor score\n",
    "best_params = grid_search.best_params_\n",
    "best_score = grid_search.best_score_\n",
    "\n",
    "print(f\"Mejores Parámetros: {best_params}\")\n",
    "print(f\"Mejor Score: {best_score}\")\n",
    "\n",
    "# Evaluar el modelo con los mejores parámetros en el conjunto de prueba\n",
    "best_svm = grid_search.best_estimator_\n",
    "y_pred = best_svm.predict(X_test)\n",
    "\n",
    "accuracy = accuracy_score(y_test, y_pred)\n",
    "print(f\"Accuracy en conjunto de prueba: {accuracy}\")"
   ]
  },
  {
   "cell_type": "markdown",
   "metadata": {},
   "source": [
    "### Modelo final"
   ]
  },
  {
   "cell_type": "code",
   "execution_count": 7,
   "metadata": {},
   "outputs": [
    {
     "name": "stdout",
     "output_type": "stream",
     "text": [
      "Accuracy: 0.6222095020034345\n",
      "Classification Report:\n",
      "               precision    recall  f1-score   support\n",
      "\n",
      "           0       0.52      0.64      0.57       203\n",
      "           1       0.64      0.40      0.49        86\n",
      "           2       0.55      0.62      0.58       183\n",
      "           3       0.66      0.74      0.70       201\n",
      "           4       0.68      0.57      0.62       206\n",
      "           5       0.69      0.62      0.65       193\n",
      "           6       0.96      0.31      0.46        72\n",
      "           7       0.64      0.83      0.72       208\n",
      "           8       0.78      0.76      0.77       165\n",
      "           9       0.49      0.46      0.48       230\n",
      "\n",
      "    accuracy                           0.62      1747\n",
      "   macro avg       0.66      0.59      0.60      1747\n",
      "weighted avg       0.64      0.62      0.62      1747\n",
      "\n"
     ]
    }
   ],
   "source": [
    "# Crear el modelo KNN\n",
    "svc = SVC(kernel='rbf', C=10)\n",
    "\n",
    "# Entrenar el modelo\n",
    "svc.fit(X_train, y_train)\n",
    "\n",
    "# Realizar predicciones\n",
    "svc_y_pred = svc.predict(X_test)\n",
    "\n",
    "# Evaluar el modelo\n",
    "print(\"Accuracy:\", accuracy_score(y_test, svc_y_pred))\n",
    "print(\"Classification Report:\\n\", classification_report(y_test, svc_y_pred))"
   ]
  },
  {
   "cell_type": "markdown",
   "metadata": {},
   "source": [
    "## GMM"
   ]
  },
  {
   "cell_type": "markdown",
   "metadata": {},
   "source": [
    "### GridSearchCV - GMM"
   ]
  },
  {
   "cell_type": "code",
   "execution_count": null,
   "metadata": {},
   "outputs": [],
   "source": [
    "from sklearn.mixture import GaussianMixture\n",
    "from sklearn.model_selection import GridSearchCV\n",
    "from sklearn.model_selection import train_test_split\n",
    "from sklearn.preprocessing import StandardScaler\n",
    "from sklearn.metrics import accuracy_score\n",
    "import numpy as np\n",
    "\n",
    "# Definir el modelo GMM\n",
    "gmm = GaussianMixture()\n",
    "\n",
    "# Definir la rejilla de hiperparámetros a buscar\n",
    "param_grid = {\n",
    "    'n_components': [1, 2, 4, 8, 16],  # Número de componentes gausianas\n",
    "    'covariance_type': ['full', 'tied', 'diag', 'spherical'],  # Tipo de matriz de covarianza\n",
    "    'tol': [1e-3, 1e-4, 1e-5],  # Tolerancia para la convergencia\n",
    "    'reg_covar': [1e-6, 1e-5, 1e-4],  # Regularización de la covarianza\n",
    "    'max_iter': [100, 200, 300]  # Número máximo de iteraciones\n",
    "}\n",
    "\n",
    "# Configurar GridSearchCV\n",
    "grid_search = GridSearchCV(estimator=gmm, param_grid=param_grid, cv=5, scoring='accuracy', n_jobs=-1)\n",
    "\n",
    "# Entrenar el modelo con la búsqueda de hiperparámetros\n",
    "grid_search.fit(X_train, y_train)\n",
    "\n",
    "# Obtener los mejores parámetros y el mejor score\n",
    "best_params = grid_search.best_params_\n",
    "best_score = grid_search.best_score_\n",
    "\n",
    "print(f\"Mejores Parámetros: {best_params}\")\n",
    "print(f\"Mejor Score: {best_score}\")\n",
    "\n",
    "# Evaluar el modelo con los mejores parámetros en el conjunto de prueba\n",
    "best_gmm = grid_search.best_estimator_\n",
    "y_pred = best_gmm.predict(X_test)\n",
    "\n",
    "accuracy = accuracy_score(y_test, y\n"
   ]
  },
  {
   "cell_type": "code",
   "execution_count": 11,
   "metadata": {},
   "outputs": [
    {
     "name": "stdout",
     "output_type": "stream",
     "text": [
      " GMM evaluación con cross validation\n",
      " --------- \n",
      " Variable a predecir : classID \n",
      " Datos a normalizar : activado \n"
     ]
    },
    {
     "name": "stderr",
     "output_type": "stream",
     "text": [
      "c:\\Users\\colbe\\Documents\\VIU\\TFM\\tfm-clasificador-fuentes-sonoras-ciudad\\.env\\lib\\site-packages\\sklearn\\mixture\\_base.py:270: ConvergenceWarning: Best performing initialization did not converge. Try different init parameters, or increase max_iter, tol, or check for degenerate data.\n",
      "  warnings.warn(\n",
      "c:\\Users\\colbe\\Documents\\VIU\\TFM\\tfm-clasificador-fuentes-sonoras-ciudad\\.env\\lib\\site-packages\\sklearn\\mixture\\_base.py:270: ConvergenceWarning: Best performing initialization did not converge. Try different init parameters, or increase max_iter, tol, or check for degenerate data.\n",
      "  warnings.warn(\n"
     ]
    },
    {
     "name": "stdout",
     "output_type": "stream",
     "text": [
      "Max Value: 0.12208120574144442 (Componentes: 5)\n"
     ]
    },
    {
     "data": {
      "image/png": "[encoded data removed]",
      "text/plain": [
       "<Figure size 800x500 with 1 Axes>"
      ]
     },
     "metadata": {},
     "output_type": "display_data"
    }
   ],
   "source": [
    "from sklearn.mixture import GaussianMixture\n",
    "from sklearn.preprocessing import MinMaxScaler\n",
    "from sklearn.model_selection import KFold\n",
    "from sklearn.metrics import accuracy_score\n",
    "\n",
    "def determinar_best_model_gmm(train_data, variable_predict, flag_normalizar=0):\n",
    "    scaler = MinMaxScaler()\n",
    "\n",
    "    print(\" GMM evaluación con cross validation\")\n",
    "    print(\" --------- \")\n",
    "    print(f\" Variable a predecir : {variable_predict} \")\n",
    "    if flag_normalizar == 1:\n",
    "        print(\" Datos a normalizar : activado \")\n",
    "  \n",
    "    cv = KFold(n_splits=11, shuffle=True, random_state=42)  # Configurar el KFold\n",
    "    plt.figure(figsize=(8, 5))  \n",
    "  \n",
    "    total_scores = []\n",
    "    \n",
    "    # Evaluar GMM con diferentes números de componentes\n",
    "    for n_components in range(1, 30):\n",
    "        fold_accuracy = []\n",
    "        \n",
    "        for train_fold, test_fold in cv.split(train_data):\n",
    "            \n",
    "            f_train = train_data.loc[train_fold]\n",
    "            f_test = train_data.loc[test_fold]\n",
    "\n",
    "            # Condición para normalizar los datos\n",
    "            if flag_normalizar == 1:\n",
    "                norm_f_train_df = scaler.fit_transform(f_train.drop([variable_predict], axis=1))\n",
    "                norm_f_test_df = scaler.fit_transform(f_test.drop([variable_predict], axis=1))\n",
    "            else:\n",
    "                norm_f_train_df = f_train.drop([variable_predict], axis=1)\n",
    "                norm_f_test_df = f_test.drop([variable_predict], axis=1)\n",
    "\n",
    "            # Entrenamiento del modelo GMM\n",
    "            gmm = GaussianMixture(n_components=n_components, random_state=42)\n",
    "            gmm.fit(norm_f_train_df)\n",
    "            \n",
    "            # Obtener las predicciones (asignar cada muestra al componente más probable)\n",
    "            y_pred = gmm.predict(norm_f_test_df)\n",
    "\n",
    "            # Evaluación del modelo\n",
    "            acc = accuracy_score(f_test[variable_predict], y_pred)\n",
    "            fold_accuracy.append(acc)\n",
    "        \n",
    "        # Calcular promedio de la accuracy\n",
    "        total_scores.append(sum(fold_accuracy)/len(fold_accuracy))  \n",
    "\n",
    "    plt.plot(range(1, len(total_scores) + 1), total_scores, marker='o')\n",
    "    print('Max Value: ' + str(max(total_scores)) + \" (Componentes: \" + str(np.argmax(total_scores) + 1) + \")\")\n",
    "    plt.ylabel('ACC') \n",
    "\n",
    "    plt.grid()\n",
    "    plt.show()\n",
    "\n",
    "# Ejemplo de uso\n",
    "determinar_best_model_gmm(dataset_urbansound8k_df, 'classID', flag_normalizar=1)"
   ]
  },
  {
   "cell_type": "code",
   "execution_count": 12,
   "metadata": {},
   "outputs": [],
   "source": [
    "from sklearn.naive_bayes import GaussianNB, MultinomialNB, BernoulliNB, ComplementNB"
   ]
  },
  {
   "cell_type": "code",
   "execution_count": 13,
   "metadata": {},
   "outputs": [
    {
     "name": "stdout",
     "output_type": "stream",
     "text": [
      "Acc 0.47395535203205497\n"
     ]
    }
   ],
   "source": [
    "clf = GaussianNB()\n",
    "clf.fit(X_train, y_train)\n",
    "GMM_y_pred = clf.predict(X_test)\n",
    "acc = accuracy_score(y_test, GMM_y_pred)\n",
    "print ('Acc', acc)"
   ]
  },
  {
   "cell_type": "code",
   "execution_count": 17,
   "metadata": {},
   "outputs": [
    {
     "name": "stdout",
     "output_type": "stream",
     "text": [
      "GaussianNB - Acc 0.46206699112510735  | score 0.46206699112510735\n",
      "MultiNomialNB - Acc 0.3306613226452906  | score 0.3306613226452906\n",
      "BernouilliNB - Acc 0.11022044088176353  | score 0.11022044088176353\n",
      "ComplementNB - Acc 0.34554823933581447  | score 0.34554823933581447\n"
     ]
    }
   ],
   "source": [
    "from matplotlib.colors import ListedColormap\n",
    "from sklearn.model_selection import train_test_split\n",
    "import matplotlib.pyplot as plt\n",
    "from sklearn.preprocessing import StandardScaler, MinMaxScaler\n",
    "from sklearn.metrics import accuracy_score\n",
    "from sklearn.naive_bayes import GaussianNB, MultinomialNB, BernoulliNB, ComplementNB\n",
    "\n",
    "names = [\"GaussianNB\", \"MultiNomialNB\", 'BernouilliNB', 'ComplementNB']\n",
    "classifiers = [GaussianNB(), MultinomialNB(), BernoulliNB(), ComplementNB()]\n",
    "\n",
    "for name, clf in zip(names, classifiers):\n",
    "  # FIT THE MODEL\n",
    "  clf.fit(X_train, y_train)\n",
    "  # PREDIT AND SCORE\n",
    "  score = clf.score(X_test, y_test) #Returns the mean accuracy on the given test data and labels.\n",
    "\n",
    "  GMM_y_pred = clf.predict(X_test)\n",
    "  acc = accuracy_score(y_test, GMM_y_pred)\n",
    "  print (f'{name} - Acc {acc}  | score {score}')"
   ]
  },
  {
   "cell_type": "markdown",
   "metadata": {},
   "source": [
    "## Random Forest"
   ]
  },
  {
   "cell_type": "markdown",
   "metadata": {},
   "source": [
    "### GridSearchCV - Random Forest"
   ]
  },
  {
   "cell_type": "code",
   "execution_count": null,
   "metadata": {},
   "outputs": [],
   "source": [
    "from sklearn.ensemble import RandomForestClassifier\n",
    "from sklearn.model_selection import GridSearchCV\n",
    "from sklearn.model_selection import train_test_split\n",
    "from sklearn.preprocessing import StandardScaler\n",
    "from sklearn.metrics import accuracy_score\n",
    "import numpy as np\n",
    "\n",
    "\n",
    "# Definir el modelo Random Forest\n",
    "rf = RandomForestClassifier()\n",
    "\n",
    "# Definir la rejilla de hiperparámetros a buscar\n",
    "param_grid = {\n",
    "    'n_estimators': [50, 100, 200],  # Número de árboles en el bosque\n",
    "    'max_depth': [None, 10, 20, 30],  # Máxima profundidad de cada árbol\n",
    "    'min_samples_split': [2, 5, 10],  # Mínimo número de muestras requeridas para dividir un nodo\n",
    "    'min_samples_leaf': [1, 2, 4],  # Mínimo número de muestras requeridas en una hoja\n",
    "    'max_features': ['auto', 'sqrt', 'log2'],  # Número de características a considerar al buscar la mejor división\n",
    "    'bootstrap': [True, False]  # Método para seleccionar muestras para construir cada árbol\n",
    "}\n",
    "\n",
    "# Configurar GridSearchCV\n",
    "grid_search = GridSearchCV(estimator=rf, param_grid=param_grid, cv=5, scoring='accuracy', n_jobs=-1)\n",
    "\n",
    "# Entrenar el modelo con la búsqueda de hiperparámetros\n",
    "grid_search.fit(X_train, y_train)\n",
    "\n",
    "# Obtener los mejores parámetros y el mejor score\n",
    "best_params = grid_search.best_params_\n",
    "best_score = grid_search.best_score_\n",
    "\n",
    "print(f\"Mejores Parámetros: {best_params}\")\n",
    "print(f\"Mejor Score: {best_score}\")\n",
    "\n",
    "# Evaluar el modelo con los mejores parámetros en el conjunto de prueba\n",
    "best_rf = grid_search.best_estimator_\n",
    "y_pred = best_rf.predict(X_test)\n",
    "\n",
    "accuracy = accuracy_score(y_test, y_pred)\n",
    "print(f\"Accuracy en conjunto de prueba: {accuracy}\")\n"
   ]
  },
  {
   "cell_type": "code",
   "execution_count": 12,
   "metadata": {},
   "outputs": [
    {
     "name": "stdout",
     "output_type": "stream",
     "text": [
      " Random Forest evaluación con cross validation\n",
      " --------- \n",
      " Variable a predecir : classID \n",
      " Datos a normalizar : activado \n"
     ]
    }
   ],
   "source": [
    "from sklearn.ensemble import RandomForestClassifier\n",
    "from sklearn.preprocessing import MinMaxScaler\n",
    "from sklearn.model_selection import KFold\n",
    "from sklearn.metrics import accuracy_score\n",
    "import matplotlib.pyplot as plt\n",
    "import numpy as np\n",
    "\n",
    "def determinar_best_model_rf(train_data, variable_predict, flag_normalizar=0):\n",
    "    scaler = MinMaxScaler()\n",
    "\n",
    "    print(\" Random Forest evaluación con cross validation\")\n",
    "    print(\" --------- \")\n",
    "    print(f\" Variable a predecir : {variable_predict} \")\n",
    "    if flag_normalizar == 1:\n",
    "        print(\" Datos a normalizar : activado \")\n",
    "  \n",
    "    cv = KFold(n_splits=11, shuffle=True, random_state=42)  # Configurar el KFold\n",
    "    plt.figure(figsize=(8, 5))  \n",
    "  \n",
    "    total_scores = []\n",
    "    \n",
    "    # Evaluar Random Forest con diferentes números de estimadores\n",
    "    for n_estimators in range(10, 201, 10):\n",
    "        fold_accuracy = []\n",
    "        \n",
    "        for train_fold, test_fold in cv.split(train_data):\n",
    "            \n",
    "            f_train = train_data.loc[train_fold]\n",
    "            f_test = train_data.loc[test_fold]\n",
    "\n",
    "            # Condición para normalizar los datos\n",
    "            if flag_normalizar == 1:\n",
    "                norm_f_train_df = scaler.fit_transform(f_train.drop([variable_predict], axis=1))\n",
    "                norm_f_test_df = scaler.transform(f_test.drop([variable_predict], axis=1))\n",
    "            else:\n",
    "                norm_f_train_df = f_train.drop([variable_predict], axis=1)\n",
    "                norm_f_test_df = f_test.drop([variable_predict], axis=1)\n",
    "\n",
    "            # Entrenamiento del modelo Random Forest\n",
    "            rf = RandomForestClassifier(n_estimators=n_estimators, random_state=42)\n",
    "            rf.fit(norm_f_train_df, f_train[variable_predict])\n",
    "            \n",
    "            # Obtener las predicciones\n",
    "            y_pred = rf.predict(norm_f_test_df)\n",
    "\n",
    "            # Evaluación del modelo\n",
    "            acc = accuracy_score(f_test[variable_predict], y_pred)\n",
    "            fold_accuracy.append(acc)\n",
    "        \n",
    "        # Calcular promedio de la accuracy\n",
    "        total_scores.append(sum(fold_accuracy) / len(fold_accuracy))  \n",
    "\n",
    "    plt.plot(range(10, 201, 10), total_scores, marker='o')\n",
    "    print('Max Value: ' + str(max(total_scores)) + \" (Estimadores: \" + str((np.argmax(total_scores) + 1) * 10) + \")\")\n",
    "    plt.xlabel('Número de Estimadores')\n",
    "    plt.ylabel('ACC') \n",
    "\n",
    "    plt.grid()\n",
    "    plt.show()\n",
    "\n",
    "# Ejemplo de uso\n",
    "determinar_best_model_rf(dataset_urbansound8k_df, 'classID', flag_normalizar=1)\n"
   ]
  }
 ],
 "metadata": {
  "kernelspec": {
   "display_name": "huemul",
   "language": "python",
   "name": "python3"
  },
  "language_info": {
   "codemirror_mode": {
    "name": "ipython",
    "version": 3
   },
   "file_extension": ".py",
   "mimetype": "text/x-python",
   "name": "python",
   "nbconvert_exporter": "python",
   "pygments_lexer": "ipython3",
   "version": "3.10.5"
  }
 },
 "nbformat": 4,
 "nbformat_minor": 2
}
