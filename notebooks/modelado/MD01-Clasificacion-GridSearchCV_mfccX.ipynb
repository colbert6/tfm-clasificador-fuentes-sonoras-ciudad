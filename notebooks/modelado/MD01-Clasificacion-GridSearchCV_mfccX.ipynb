{
 "cells": [
  {
   "cell_type": "markdown",
   "metadata": {},
   "source": [
    "# Importación de librerías"
   ]
  },
  {
   "cell_type": "code",
   "execution_count": 16,
   "metadata": {},
   "outputs": [],
   "source": [
    "import pandas as pd\n",
    "import numpy as np\n",
    "import time \n",
    "\n",
    "import os\n",
    "import librosa\n",
    "import librosa.display\n",
    "\n",
    "import matplotlib.pyplot as plt\n",
    "import seaborn as sns\n",
    "\n",
    "import mlflow\n"
   ]
  },
  {
   "cell_type": "code",
   "execution_count": 17,
   "metadata": {},
   "outputs": [],
   "source": [
    "from sklearn.model_selection import train_test_split\n",
    "from sklearn.metrics import classification_report, accuracy_score\n",
    "\n",
    "from sklearn.neighbors import KNeighborsClassifier\n",
    "from sklearn.ensemble import RandomForestClassifier\n",
    "from sklearn.svm import SVC\n",
    "\n",
    "from sklearn.model_selection import GridSearchCV \n",
    "from sklearn.model_selection import KFold\n",
    "\n",
    "from sklearn.preprocessing import MinMaxScaler, StandardScaler\n",
    "\n",
    "from sklearn.metrics import accuracy_score, f1_score, precision_score, recall_score\n",
    "from sklearn.metrics import confusion_matrix, ConfusionMatrixDisplay"
   ]
  },
  {
   "cell_type": "markdown",
   "metadata": {},
   "source": [
    "# Lectura del dataset"
   ]
  },
  {
   "cell_type": "code",
   "execution_count": 18,
   "metadata": {},
   "outputs": [
    {
     "data": {
      "text/html": [
       "<div>\n",
       "<style scoped>\n",
       "    .dataframe tbody tr th:only-of-type {\n",
       "        vertical-align: middle;\n",
       "    }\n",
       "\n",
       "    .dataframe tbody tr th {\n",
       "        vertical-align: top;\n",
       "    }\n",
       "\n",
       "    .dataframe thead th {\n",
       "        text-align: right;\n",
       "    }\n",
       "</style>\n",
       "<table border=\"1\" class=\"dataframe\">\n",
       "  <thead>\n",
       "    <tr style=\"text-align: right;\">\n",
       "      <th></th>\n",
       "      <th>fold</th>\n",
       "      <th>classID</th>\n",
       "      <th>mfcc_mean_1</th>\n",
       "      <th>mfcc_mean_2</th>\n",
       "      <th>mfcc_mean_3</th>\n",
       "      <th>mfcc_mean_4</th>\n",
       "      <th>mfcc_mean_5</th>\n",
       "      <th>mfcc_mean_6</th>\n",
       "      <th>mfcc_mean_7</th>\n",
       "      <th>mfcc_mean_8</th>\n",
       "      <th>...</th>\n",
       "      <th>delta2_mfcc_var_11</th>\n",
       "      <th>delta2_mfcc_var_12</th>\n",
       "      <th>delta2_mfcc_var_13</th>\n",
       "      <th>delta2_mfcc_var_14</th>\n",
       "      <th>delta2_mfcc_var_15</th>\n",
       "      <th>delta2_mfcc_var_16</th>\n",
       "      <th>delta2_mfcc_var_17</th>\n",
       "      <th>delta2_mfcc_var_18</th>\n",
       "      <th>delta2_mfcc_var_19</th>\n",
       "      <th>delta2_mfcc_var_20</th>\n",
       "    </tr>\n",
       "  </thead>\n",
       "  <tbody>\n",
       "    <tr>\n",
       "      <th>0</th>\n",
       "      <td>5</td>\n",
       "      <td>3</td>\n",
       "      <td>-275.91843</td>\n",
       "      <td>119.49280</td>\n",
       "      <td>-98.21178</td>\n",
       "      <td>-66.515140</td>\n",
       "      <td>-42.606050</td>\n",
       "      <td>0.505066</td>\n",
       "      <td>-28.330938</td>\n",
       "      <td>-5.746867</td>\n",
       "      <td>...</td>\n",
       "      <td>41.223183</td>\n",
       "      <td>27.885939</td>\n",
       "      <td>51.33420</td>\n",
       "      <td>47.697777</td>\n",
       "      <td>49.812220</td>\n",
       "      <td>14.355281</td>\n",
       "      <td>46.313560</td>\n",
       "      <td>44.401760</td>\n",
       "      <td>110.738230</td>\n",
       "      <td>25.753720</td>\n",
       "    </tr>\n",
       "    <tr>\n",
       "      <th>1</th>\n",
       "      <td>5</td>\n",
       "      <td>2</td>\n",
       "      <td>-500.90840</td>\n",
       "      <td>185.10641</td>\n",
       "      <td>-86.53282</td>\n",
       "      <td>49.858850</td>\n",
       "      <td>9.230822</td>\n",
       "      <td>22.548956</td>\n",
       "      <td>-3.567175</td>\n",
       "      <td>12.220052</td>\n",
       "      <td>...</td>\n",
       "      <td>38.453808</td>\n",
       "      <td>28.922888</td>\n",
       "      <td>32.19454</td>\n",
       "      <td>32.540830</td>\n",
       "      <td>27.270597</td>\n",
       "      <td>28.516123</td>\n",
       "      <td>27.197691</td>\n",
       "      <td>23.052114</td>\n",
       "      <td>32.825718</td>\n",
       "      <td>28.952673</td>\n",
       "    </tr>\n",
       "    <tr>\n",
       "      <th>2</th>\n",
       "      <td>5</td>\n",
       "      <td>2</td>\n",
       "      <td>-531.19530</td>\n",
       "      <td>186.93994</td>\n",
       "      <td>-70.34916</td>\n",
       "      <td>40.429245</td>\n",
       "      <td>9.121047</td>\n",
       "      <td>18.398588</td>\n",
       "      <td>6.283282</td>\n",
       "      <td>15.504061</td>\n",
       "      <td>...</td>\n",
       "      <td>25.948908</td>\n",
       "      <td>28.198223</td>\n",
       "      <td>31.85179</td>\n",
       "      <td>33.908460</td>\n",
       "      <td>27.358440</td>\n",
       "      <td>25.454557</td>\n",
       "      <td>29.894941</td>\n",
       "      <td>28.242071</td>\n",
       "      <td>25.876347</td>\n",
       "      <td>25.493631</td>\n",
       "    </tr>\n",
       "  </tbody>\n",
       "</table>\n",
       "<p>3 rows × 222 columns</p>\n",
       "</div>"
      ],
      "text/plain": [
       "   fold  classID  mfcc_mean_1  mfcc_mean_2  mfcc_mean_3  mfcc_mean_4  \\\n",
       "0     5        3   -275.91843    119.49280    -98.21178   -66.515140   \n",
       "1     5        2   -500.90840    185.10641    -86.53282    49.858850   \n",
       "2     5        2   -531.19530    186.93994    -70.34916    40.429245   \n",
       "\n",
       "   mfcc_mean_5  mfcc_mean_6  mfcc_mean_7  mfcc_mean_8  ...  \\\n",
       "0   -42.606050     0.505066   -28.330938    -5.746867  ...   \n",
       "1     9.230822    22.548956    -3.567175    12.220052  ...   \n",
       "2     9.121047    18.398588     6.283282    15.504061  ...   \n",
       "\n",
       "   delta2_mfcc_var_11  delta2_mfcc_var_12  delta2_mfcc_var_13  \\\n",
       "0           41.223183           27.885939            51.33420   \n",
       "1           38.453808           28.922888            32.19454   \n",
       "2           25.948908           28.198223            31.85179   \n",
       "\n",
       "   delta2_mfcc_var_14  delta2_mfcc_var_15  delta2_mfcc_var_16  \\\n",
       "0           47.697777           49.812220           14.355281   \n",
       "1           32.540830           27.270597           28.516123   \n",
       "2           33.908460           27.358440           25.454557   \n",
       "\n",
       "   delta2_mfcc_var_17  delta2_mfcc_var_18  delta2_mfcc_var_19  \\\n",
       "0           46.313560           44.401760          110.738230   \n",
       "1           27.197691           23.052114           32.825718   \n",
       "2           29.894941           28.242071           25.876347   \n",
       "\n",
       "   delta2_mfcc_var_20  \n",
       "0           25.753720  \n",
       "1           28.952673  \n",
       "2           25.493631  \n",
       "\n",
       "[3 rows x 222 columns]"
      ]
     },
     "execution_count": 18,
     "metadata": {},
     "output_type": "execute_result"
    }
   ],
   "source": [
    "urbansound8k_path = \"../../data/raw/UrbanSound8K/\"\n",
    "\n",
    "# Primer dataset - Carpeta con los audios\n",
    "urbansound8k_audio_path = \"audio/\"\n",
    "\n",
    "# Segundo dataset - Archivo CSV con metadatos sobre los audios\n",
    "urbansound8k_metadata_path_file = \"metadata/UrbanSound8K.csv\" \n",
    "\n",
    "\n",
    "mfcc_n_coeficiente = \"20\"\n",
    "\n",
    "# Dataset input\n",
    "dataset_input_path = f\"../../data/processed/dataset_mfcc_{mfcc_n_coeficiente}.csv\"\n",
    "\n",
    "# Lectura\n",
    "dataset_urbansound8k_df = pd.read_csv(dataset_input_path, sep=\";\")\n",
    "dataset_urbansound8k_df.head(3)\n"
   ]
  },
  {
   "cell_type": "code",
   "execution_count": 19,
   "metadata": {},
   "outputs": [
    {
     "name": "stdout",
     "output_type": "stream",
     "text": [
      "Cantidad de columnas: 222\n",
      "Cantidad de filas: 8732\n",
      "Columnas del dataset:\n",
      "'fold', 'classID', 'mfcc_mean_1', 'mfcc_mean_2', \n",
      "'mfcc_mean_3', 'mfcc_mean_4', 'mfcc_mean_5', 'mfcc_mean_6', 'mfcc_mean_7', \n",
      "'mfcc_mean_8', 'mfcc_mean_9', 'mfcc_mean_10', 'mfcc_mean_11', 'mfcc_mean_12', \n",
      "'mfcc_mean_13', 'mfcc_mean_14', 'mfcc_mean_15', 'mfcc_mean_16', 'mfcc_mean_17', \n",
      "'mfcc_mean_18', 'mfcc_mean_19', 'mfcc_mean_20', 'mfcc_median_1', 'mfcc_median_2', \n",
      "'mfcc_median_3', 'mfcc_median_4', 'mfcc_median_5', 'mfcc_median_6', 'mfcc_median_7', \n",
      "'mfcc_median_8', 'mfcc_median_9', 'mfcc_median_10', 'mfcc_median_11', 'mfcc_median_12', \n",
      "'mfcc_median_13', 'mfcc_median_14', 'mfcc_median_15', 'mfcc_median_16', 'mfcc_median_17', \n",
      "'mfcc_median_18', 'mfcc_median_19', 'mfcc_median_20', 'mfcc_min_1', 'mfcc_min_2', \n",
      "'mfcc_min_3', 'mfcc_min_4', 'mfcc_min_5', 'mfcc_min_6', 'mfcc_min_7', \n",
      "'mfcc_min_8', 'mfcc_min_9', 'mfcc_min_10', 'mfcc_min_11', 'mfcc_min_12', \n",
      "'mfcc_min_13', 'mfcc_min_14', 'mfcc_min_15', 'mfcc_min_16', 'mfcc_min_17', \n",
      "'mfcc_min_18', 'mfcc_min_19', 'mfcc_min_20', 'mfcc_max_1', 'mfcc_max_2', \n",
      "'mfcc_max_3', 'mfcc_max_4', 'mfcc_max_5', 'mfcc_max_6', 'mfcc_max_7', \n",
      "'mfcc_max_8', 'mfcc_max_9', 'mfcc_max_10', 'mfcc_max_11', 'mfcc_max_12', \n",
      "'mfcc_max_13', 'mfcc_max_14', 'mfcc_max_15', 'mfcc_max_16', 'mfcc_max_17', \n",
      "'mfcc_max_18', 'mfcc_max_19', 'mfcc_max_20', 'mfcc_var_1', 'mfcc_var_2', \n",
      "'mfcc_var_3', 'mfcc_var_4', 'mfcc_var_5', 'mfcc_var_6', 'mfcc_var_7', \n",
      "'mfcc_var_8', 'mfcc_var_9', 'mfcc_var_10', 'mfcc_var_11', 'mfcc_var_12', \n",
      "'mfcc_var_13', 'mfcc_var_14', 'mfcc_var_15', 'mfcc_var_16', 'mfcc_var_17', \n",
      "'mfcc_var_18', 'mfcc_var_19', 'mfcc_var_20', 'mfcc_skew_1', 'mfcc_skew_2', \n",
      "'mfcc_skew_3', 'mfcc_skew_4', 'mfcc_skew_5', 'mfcc_skew_6', 'mfcc_skew_7', \n",
      "'mfcc_skew_8', 'mfcc_skew_9', 'mfcc_skew_10', 'mfcc_skew_11', 'mfcc_skew_12', \n",
      "'mfcc_skew_13', 'mfcc_skew_14', 'mfcc_skew_15', 'mfcc_skew_16', 'mfcc_skew_17', \n",
      "'mfcc_skew_18', 'mfcc_skew_19', 'mfcc_skew_20', 'mfcc_kurt_1', 'mfcc_kurt_2', \n",
      "'mfcc_kurt_3', 'mfcc_kurt_4', 'mfcc_kurt_5', 'mfcc_kurt_6', 'mfcc_kurt_7', \n",
      "'mfcc_kurt_8', 'mfcc_kurt_9', 'mfcc_kurt_10', 'mfcc_kurt_11', 'mfcc_kurt_12', \n",
      "'mfcc_kurt_13', 'mfcc_kurt_14', 'mfcc_kurt_15', 'mfcc_kurt_16', 'mfcc_kurt_17', \n",
      "'mfcc_kurt_18', 'mfcc_kurt_19', 'mfcc_kurt_20', 'delta_mfcc_mean_1', 'delta_mfcc_mean_2', \n",
      "'delta_mfcc_mean_3', 'delta_mfcc_mean_4', 'delta_mfcc_mean_5', 'delta_mfcc_mean_6', 'delta_mfcc_mean_7', \n",
      "'delta_mfcc_mean_8', 'delta_mfcc_mean_9', 'delta_mfcc_mean_10', 'delta_mfcc_mean_11', 'delta_mfcc_mean_12', \n",
      "'delta_mfcc_mean_13', 'delta_mfcc_mean_14', 'delta_mfcc_mean_15', 'delta_mfcc_mean_16', 'delta_mfcc_mean_17', \n",
      "'delta_mfcc_mean_18', 'delta_mfcc_mean_19', 'delta_mfcc_mean_20', 'delta_mfcc_var_1', 'delta_mfcc_var_2', \n",
      "'delta_mfcc_var_3', 'delta_mfcc_var_4', 'delta_mfcc_var_5', 'delta_mfcc_var_6', 'delta_mfcc_var_7', \n",
      "'delta_mfcc_var_8', 'delta_mfcc_var_9', 'delta_mfcc_var_10', 'delta_mfcc_var_11', 'delta_mfcc_var_12', \n",
      "'delta_mfcc_var_13', 'delta_mfcc_var_14', 'delta_mfcc_var_15', 'delta_mfcc_var_16', 'delta_mfcc_var_17', \n",
      "'delta_mfcc_var_18', 'delta_mfcc_var_19', 'delta_mfcc_var_20', 'delta2_mfcc_mean_1', 'delta2_mfcc_mean_2', \n",
      "'delta2_mfcc_mean_3', 'delta2_mfcc_mean_4', 'delta2_mfcc_mean_5', 'delta2_mfcc_mean_6', 'delta2_mfcc_mean_7', \n",
      "'delta2_mfcc_mean_8', 'delta2_mfcc_mean_9', 'delta2_mfcc_mean_10', 'delta2_mfcc_mean_11', 'delta2_mfcc_mean_12', \n",
      "'delta2_mfcc_mean_13', 'delta2_mfcc_mean_14', 'delta2_mfcc_mean_15', 'delta2_mfcc_mean_16', 'delta2_mfcc_mean_17', \n",
      "'delta2_mfcc_mean_18', 'delta2_mfcc_mean_19', 'delta2_mfcc_mean_20', 'delta2_mfcc_var_1', 'delta2_mfcc_var_2', \n",
      "'delta2_mfcc_var_3', 'delta2_mfcc_var_4', 'delta2_mfcc_var_5', 'delta2_mfcc_var_6', 'delta2_mfcc_var_7', \n",
      "'delta2_mfcc_var_8', 'delta2_mfcc_var_9', 'delta2_mfcc_var_10', 'delta2_mfcc_var_11', 'delta2_mfcc_var_12', \n",
      "'delta2_mfcc_var_13', 'delta2_mfcc_var_14', 'delta2_mfcc_var_15', 'delta2_mfcc_var_16', 'delta2_mfcc_var_17', \n",
      "'delta2_mfcc_var_18', 'delta2_mfcc_var_19', 'delta2_mfcc_var_20', "
     ]
    }
   ],
   "source": [
    "print(f\"Cantidad de columnas: {dataset_urbansound8k_df.shape[1]}\")\n",
    "print(f\"Cantidad de filas: {dataset_urbansound8k_df.shape[0]}\")\n",
    "\n",
    "print(\"Columnas del dataset:\")\n",
    "contador = 0\n",
    "for name in dataset_urbansound8k_df.columns:\n",
    "    contador +=1\n",
    "    if contador%5==0:\n",
    "        print(\"\")        \n",
    "    print(f\"'{name}'\", end=\", \")"
   ]
  },
  {
   "cell_type": "markdown",
   "metadata": {},
   "source": [
    "# Generación datos de entrenamiento y prueba"
   ]
  },
  {
   "cell_type": "code",
   "execution_count": 20,
   "metadata": {},
   "outputs": [],
   "source": [
    "# Separar las características y la variable objetivo\n",
    "# ['tasa_cruce_cero', 'entropia_espectograma', 'avg_centroide_espectral'\n",
    "columnas_caracteristicas_mfcc = [col for col in dataset_urbansound8k_df.columns if 'mfcc' in col]\n",
    "columna_predecir = 'classID'\n",
    "columna_fold = 'fold'\n",
    "\n",
    "# Separar las características y etiquetas\n",
    "X_caracteristicas = dataset_urbansound8k_df[columnas_caracteristicas_mfcc]  # 'classID' es la etiqueta y 'fold' el número de fold\n",
    "y = dataset_urbansound8k_df[columna_predecir]\n",
    "folds = dataset_urbansound8k_df['fold']"
   ]
  },
  {
   "cell_type": "markdown",
   "metadata": {},
   "source": [
    "# Modelos de Clasificacion"
   ]
  },
  {
   "cell_type": "code",
   "execution_count": 21,
   "metadata": {},
   "outputs": [
    {
     "name": "stderr",
     "output_type": "stream",
     "text": [
      "2024/11/02 23:30:06 INFO mlflow.tracking.fluent: Experiment with name 'FINAL MFCC20 - V1' does not exist. Creating a new experiment.\n"
     ]
    },
    {
     "data": {
      "text/plain": [
       "<Experiment: artifact_location='file:///c:/Users/colbe/Documents/VIU/TFM/tfm-clasificador-fuentes-sonoras-ciudad/notebooks/modelado/mlruns/215287537433083468', creation_time=1730608206357, experiment_id='215287537433083468', last_update_time=1730608206357, lifecycle_stage='active', name='FINAL MFCC20 - V1', tags={}>"
      ]
     },
     "execution_count": 21,
     "metadata": {},
     "output_type": "execute_result"
    }
   ],
   "source": [
    "# Iniciar el experimento en MLflow\n",
    "mlflow.set_experiment(f\"FINAL MFCC{mfcc_n_coeficiente} - V1\")"
   ]
  },
  {
   "cell_type": "markdown",
   "metadata": {},
   "source": [
    "## KNeighborsClassifier"
   ]
  },
  {
   "cell_type": "code",
   "execution_count": 22,
   "metadata": {},
   "outputs": [
    {
     "name": "stdout",
     "output_type": "stream",
     "text": [
      "Mejores Parámetros: {'metric': 'manhattan', 'n_neighbors': 9, 'weights': 'uniform'}\n",
      "Mejor Score: 0.588993857473947\n",
      "Fold 1 Accuracy: 0.5304\n",
      "Tiempo de entrenamiento (segundos): 8.0975\n"
     ]
    },
    {
     "name": "stderr",
     "output_type": "stream",
     "text": [
      "c:\\Users\\colbe\\Documents\\VIU\\TFM\\tfm-clasificador-fuentes-sonoras-ciudad\\.env\\lib\\site-packages\\mlflow\\types\\utils.py:406: UserWarning: Hint: Inferred schema contains integer column(s). Integer columns in Python cannot represent missing values. If your input data contains missing values at inference time, it will be encoded as floats and will cause a schema enforcement error. The best way to avoid this problem is to infer the model schema based on a realistic data sample (training dataset) that includes missing values. Alternatively, you can declare integer columns as doubles (float64) whenever these columns may have missing values. See `Handling Integers With Missing Values <https://www.mlflow.org/docs/latest/models.html#handling-integers-with-missing-values>`_ for more details.\n",
      "  warnings.warn(\n"
     ]
    },
    {
     "data": {
      "application/vnd.jupyter.widget-view+json": {
       "model_id": "4a6021852a65451c8e1a3fdd8e1483b8",
       "version_major": 2,
       "version_minor": 0
      },
      "text/plain": [
       "Downloading artifacts:   0%|          | 0/7 [00:00<?, ?it/s]"
      ]
     },
     "metadata": {},
     "output_type": "display_data"
    },
    {
     "name": "stdout",
     "output_type": "stream",
     "text": [
      "Mejores Parámetros: {'metric': 'manhattan', 'n_neighbors': 9, 'weights': 'uniform'}\n",
      "Mejor Score: 0.5954894059534641\n",
      "Fold 2 Accuracy: 0.5766\n",
      "Tiempo de entrenamiento (segundos): 4.6311\n"
     ]
    },
    {
     "name": "stderr",
     "output_type": "stream",
     "text": [
      "c:\\Users\\colbe\\Documents\\VIU\\TFM\\tfm-clasificador-fuentes-sonoras-ciudad\\.env\\lib\\site-packages\\mlflow\\types\\utils.py:406: UserWarning: Hint: Inferred schema contains integer column(s). Integer columns in Python cannot represent missing values. If your input data contains missing values at inference time, it will be encoded as floats and will cause a schema enforcement error. The best way to avoid this problem is to infer the model schema based on a realistic data sample (training dataset) that includes missing values. Alternatively, you can declare integer columns as doubles (float64) whenever these columns may have missing values. See `Handling Integers With Missing Values <https://www.mlflow.org/docs/latest/models.html#handling-integers-with-missing-values>`_ for more details.\n",
      "  warnings.warn(\n"
     ]
    },
    {
     "data": {
      "application/vnd.jupyter.widget-view+json": {
       "model_id": "1586338858a54953a5db553fb7e5d17c",
       "version_major": 2,
       "version_minor": 0
      },
      "text/plain": [
       "Downloading artifacts:   0%|          | 0/7 [00:00<?, ?it/s]"
      ]
     },
     "metadata": {},
     "output_type": "display_data"
    },
    {
     "name": "stdout",
     "output_type": "stream",
     "text": [
      "Mejores Parámetros: {'metric': 'manhattan', 'n_neighbors': 9, 'weights': 'uniform'}\n",
      "Mejor Score: 0.6012467579368987\n",
      "Fold 3 Accuracy: 0.5200\n",
      "Tiempo de entrenamiento (segundos): 4.7453\n"
     ]
    },
    {
     "name": "stderr",
     "output_type": "stream",
     "text": [
      "c:\\Users\\colbe\\Documents\\VIU\\TFM\\tfm-clasificador-fuentes-sonoras-ciudad\\.env\\lib\\site-packages\\mlflow\\types\\utils.py:406: UserWarning: Hint: Inferred schema contains integer column(s). Integer columns in Python cannot represent missing values. If your input data contains missing values at inference time, it will be encoded as floats and will cause a schema enforcement error. The best way to avoid this problem is to infer the model schema based on a realistic data sample (training dataset) that includes missing values. Alternatively, you can declare integer columns as doubles (float64) whenever these columns may have missing values. See `Handling Integers With Missing Values <https://www.mlflow.org/docs/latest/models.html#handling-integers-with-missing-values>`_ for more details.\n",
      "  warnings.warn(\n"
     ]
    },
    {
     "data": {
      "application/vnd.jupyter.widget-view+json": {
       "model_id": "f26c109cd1f740c3bd96757083fc3738",
       "version_major": 2,
       "version_minor": 0
      },
      "text/plain": [
       "Downloading artifacts:   0%|          | 0/7 [00:00<?, ?it/s]"
      ]
     },
     "metadata": {},
     "output_type": "display_data"
    },
    {
     "name": "stdout",
     "output_type": "stream",
     "text": [
      "Mejores Parámetros: {'metric': 'manhattan', 'n_neighbors': 9, 'weights': 'uniform'}\n",
      "Mejor Score: 0.5940358422939068\n",
      "Fold 4 Accuracy: 0.6303\n",
      "Tiempo de entrenamiento (segundos): 4.6628\n"
     ]
    },
    {
     "name": "stderr",
     "output_type": "stream",
     "text": [
      "c:\\Users\\colbe\\Documents\\VIU\\TFM\\tfm-clasificador-fuentes-sonoras-ciudad\\.env\\lib\\site-packages\\mlflow\\types\\utils.py:406: UserWarning: Hint: Inferred schema contains integer column(s). Integer columns in Python cannot represent missing values. If your input data contains missing values at inference time, it will be encoded as floats and will cause a schema enforcement error. The best way to avoid this problem is to infer the model schema based on a realistic data sample (training dataset) that includes missing values. Alternatively, you can declare integer columns as doubles (float64) whenever these columns may have missing values. See `Handling Integers With Missing Values <https://www.mlflow.org/docs/latest/models.html#handling-integers-with-missing-values>`_ for more details.\n",
      "  warnings.warn(\n"
     ]
    },
    {
     "data": {
      "application/vnd.jupyter.widget-view+json": {
       "model_id": "ac6e0fffd05a46639045c8e8a22dd7ba",
       "version_major": 2,
       "version_minor": 0
      },
      "text/plain": [
       "Downloading artifacts:   0%|          | 0/7 [00:00<?, ?it/s]"
      ]
     },
     "metadata": {},
     "output_type": "display_data"
    },
    {
     "name": "stdout",
     "output_type": "stream",
     "text": [
      "Mejores Parámetros: {'metric': 'manhattan', 'n_neighbors': 9, 'weights': 'uniform'}\n",
      "Mejor Score: 0.5720766268391428\n",
      "Fold 5 Accuracy: 0.6442\n",
      "Tiempo de entrenamiento (segundos): 4.7339\n"
     ]
    },
    {
     "name": "stderr",
     "output_type": "stream",
     "text": [
      "c:\\Users\\colbe\\Documents\\VIU\\TFM\\tfm-clasificador-fuentes-sonoras-ciudad\\.env\\lib\\site-packages\\mlflow\\types\\utils.py:406: UserWarning: Hint: Inferred schema contains integer column(s). Integer columns in Python cannot represent missing values. If your input data contains missing values at inference time, it will be encoded as floats and will cause a schema enforcement error. The best way to avoid this problem is to infer the model schema based on a realistic data sample (training dataset) that includes missing values. Alternatively, you can declare integer columns as doubles (float64) whenever these columns may have missing values. See `Handling Integers With Missing Values <https://www.mlflow.org/docs/latest/models.html#handling-integers-with-missing-values>`_ for more details.\n",
      "  warnings.warn(\n"
     ]
    },
    {
     "data": {
      "application/vnd.jupyter.widget-view+json": {
       "model_id": "691c121cf2104b548b97530361afe54e",
       "version_major": 2,
       "version_minor": 0
      },
      "text/plain": [
       "Downloading artifacts:   0%|          | 0/7 [00:00<?, ?it/s]"
      ]
     },
     "metadata": {},
     "output_type": "display_data"
    },
    {
     "name": "stdout",
     "output_type": "stream",
     "text": [
      "Mejores Parámetros: {'metric': 'manhattan', 'n_neighbors': 9, 'weights': 'uniform'}\n",
      "Mejor Score: 0.5828670646033702\n",
      "Fold 6 Accuracy: 0.5832\n",
      "Tiempo de entrenamiento (segundos): 4.1456\n"
     ]
    },
    {
     "name": "stderr",
     "output_type": "stream",
     "text": [
      "c:\\Users\\colbe\\Documents\\VIU\\TFM\\tfm-clasificador-fuentes-sonoras-ciudad\\.env\\lib\\site-packages\\mlflow\\types\\utils.py:406: UserWarning: Hint: Inferred schema contains integer column(s). Integer columns in Python cannot represent missing values. If your input data contains missing values at inference time, it will be encoded as floats and will cause a schema enforcement error. The best way to avoid this problem is to infer the model schema based on a realistic data sample (training dataset) that includes missing values. Alternatively, you can declare integer columns as doubles (float64) whenever these columns may have missing values. See `Handling Integers With Missing Values <https://www.mlflow.org/docs/latest/models.html#handling-integers-with-missing-values>`_ for more details.\n",
      "  warnings.warn(\n"
     ]
    },
    {
     "data": {
      "application/vnd.jupyter.widget-view+json": {
       "model_id": "24774bdda3334bc5afb1e40fff13ed8e",
       "version_major": 2,
       "version_minor": 0
      },
      "text/plain": [
       "Downloading artifacts:   0%|          | 0/7 [00:00<?, ?it/s]"
      ]
     },
     "metadata": {},
     "output_type": "display_data"
    },
    {
     "name": "stdout",
     "output_type": "stream",
     "text": [
      "Mejores Parámetros: {'metric': 'manhattan', 'n_neighbors': 9, 'weights': 'uniform'}\n",
      "Mejor Score: 0.5932407630232148\n",
      "Fold 7 Accuracy: 0.5382\n",
      "Tiempo de entrenamiento (segundos): 5.0948\n"
     ]
    },
    {
     "name": "stderr",
     "output_type": "stream",
     "text": [
      "c:\\Users\\colbe\\Documents\\VIU\\TFM\\tfm-clasificador-fuentes-sonoras-ciudad\\.env\\lib\\site-packages\\mlflow\\types\\utils.py:406: UserWarning: Hint: Inferred schema contains integer column(s). Integer columns in Python cannot represent missing values. If your input data contains missing values at inference time, it will be encoded as floats and will cause a schema enforcement error. The best way to avoid this problem is to infer the model schema based on a realistic data sample (training dataset) that includes missing values. Alternatively, you can declare integer columns as doubles (float64) whenever these columns may have missing values. See `Handling Integers With Missing Values <https://www.mlflow.org/docs/latest/models.html#handling-integers-with-missing-values>`_ for more details.\n",
      "  warnings.warn(\n"
     ]
    },
    {
     "data": {
      "application/vnd.jupyter.widget-view+json": {
       "model_id": "d7bac8f38b4a4396bcab18ae7b5aaf2e",
       "version_major": 2,
       "version_minor": 0
      },
      "text/plain": [
       "Downloading artifacts:   0%|          | 0/7 [00:00<?, ?it/s]"
      ]
     },
     "metadata": {},
     "output_type": "display_data"
    },
    {
     "name": "stdout",
     "output_type": "stream",
     "text": [
      "Mejores Parámetros: {'metric': 'manhattan', 'n_neighbors': 9, 'weights': 'uniform'}\n",
      "Mejor Score: 0.5941134230068656\n",
      "Fold 8 Accuracy: 0.5335\n",
      "Tiempo de entrenamiento (segundos): 5.2021\n"
     ]
    },
    {
     "name": "stderr",
     "output_type": "stream",
     "text": [
      "c:\\Users\\colbe\\Documents\\VIU\\TFM\\tfm-clasificador-fuentes-sonoras-ciudad\\.env\\lib\\site-packages\\mlflow\\types\\utils.py:406: UserWarning: Hint: Inferred schema contains integer column(s). Integer columns in Python cannot represent missing values. If your input data contains missing values at inference time, it will be encoded as floats and will cause a schema enforcement error. The best way to avoid this problem is to infer the model schema based on a realistic data sample (training dataset) that includes missing values. Alternatively, you can declare integer columns as doubles (float64) whenever these columns may have missing values. See `Handling Integers With Missing Values <https://www.mlflow.org/docs/latest/models.html#handling-integers-with-missing-values>`_ for more details.\n",
      "  warnings.warn(\n"
     ]
    },
    {
     "data": {
      "application/vnd.jupyter.widget-view+json": {
       "model_id": "e4173dd2ac09475e9900566c80454488",
       "version_major": 2,
       "version_minor": 0
      },
      "text/plain": [
       "Downloading artifacts:   0%|          | 0/7 [00:00<?, ?it/s]"
      ]
     },
     "metadata": {},
     "output_type": "display_data"
    },
    {
     "name": "stdout",
     "output_type": "stream",
     "text": [
      "Mejores Parámetros: {'metric': 'manhattan', 'n_neighbors': 9, 'weights': 'uniform'}\n",
      "Mejor Score: 0.5692169801683076\n",
      "Fold 9 Accuracy: 0.6605\n",
      "Tiempo de entrenamiento (segundos): 4.8781\n"
     ]
    },
    {
     "name": "stderr",
     "output_type": "stream",
     "text": [
      "c:\\Users\\colbe\\Documents\\VIU\\TFM\\tfm-clasificador-fuentes-sonoras-ciudad\\.env\\lib\\site-packages\\mlflow\\types\\utils.py:406: UserWarning: Hint: Inferred schema contains integer column(s). Integer columns in Python cannot represent missing values. If your input data contains missing values at inference time, it will be encoded as floats and will cause a schema enforcement error. The best way to avoid this problem is to infer the model schema based on a realistic data sample (training dataset) that includes missing values. Alternatively, you can declare integer columns as doubles (float64) whenever these columns may have missing values. See `Handling Integers With Missing Values <https://www.mlflow.org/docs/latest/models.html#handling-integers-with-missing-values>`_ for more details.\n",
      "  warnings.warn(\n"
     ]
    },
    {
     "data": {
      "application/vnd.jupyter.widget-view+json": {
       "model_id": "f88ccff732f349e893791d463aa75957",
       "version_major": 2,
       "version_minor": 0
      },
      "text/plain": [
       "Downloading artifacts:   0%|          | 0/7 [00:00<?, ?it/s]"
      ]
     },
     "metadata": {},
     "output_type": "display_data"
    },
    {
     "name": "stdout",
     "output_type": "stream",
     "text": [
      "Mejores Parámetros: {'metric': 'manhattan', 'n_neighbors': 9, 'weights': 'uniform'}\n",
      "Mejor Score: 0.5799780205676148\n",
      "Fold 10 Accuracy: 0.6045\n",
      "Tiempo de entrenamiento (segundos): 5.0789\n"
     ]
    },
    {
     "name": "stderr",
     "output_type": "stream",
     "text": [
      "c:\\Users\\colbe\\Documents\\VIU\\TFM\\tfm-clasificador-fuentes-sonoras-ciudad\\.env\\lib\\site-packages\\mlflow\\types\\utils.py:406: UserWarning: Hint: Inferred schema contains integer column(s). Integer columns in Python cannot represent missing values. If your input data contains missing values at inference time, it will be encoded as floats and will cause a schema enforcement error. The best way to avoid this problem is to infer the model schema based on a realistic data sample (training dataset) that includes missing values. Alternatively, you can declare integer columns as doubles (float64) whenever these columns may have missing values. See `Handling Integers With Missing Values <https://www.mlflow.org/docs/latest/models.html#handling-integers-with-missing-values>`_ for more details.\n",
      "  warnings.warn(\n"
     ]
    },
    {
     "data": {
      "application/vnd.jupyter.widget-view+json": {
       "model_id": "1540e01a1a204fadafc8b41a14d6b5e0",
       "version_major": 2,
       "version_minor": 0
      },
      "text/plain": [
       "Downloading artifacts:   0%|          | 0/7 [00:00<?, ?it/s]"
      ]
     },
     "metadata": {},
     "output_type": "display_data"
    },
    {
     "name": "stdout",
     "output_type": "stream",
     "text": [
      "\n",
      "Accuracy promedio: 0.5821\n",
      "Desviación estándar: 0.0487\n",
      "Tiempo de entrenamiento promedio (segundos): 5.1270\n"
     ]
    },
    {
     "data": {
      "image/png": "[encoded data removed]",
      "text/plain": [
       "<Figure size 640x480 with 1 Axes>"
      ]
     },
     "metadata": {},
     "output_type": "display_data"
    }
   ],
   "source": [
    "# Definir el modelo KNN\n",
    "knn = KNeighborsClassifier()\n",
    "\n",
    "# Definir la rejilla de parámetros para GridSearchCV\n",
    "param_distributions = {\n",
    "    'n_neighbors': [9],  # Número de vecinos a considerar\n",
    "    'weights': ['uniform'],  # Función de peso a usar\n",
    "    'metric': ['manhattan']  # Métrica de distancia\n",
    "}\n",
    "\n",
    "# Inicializar lista para almacenar accuracies y tiempos\n",
    "fold_accuracies = []\n",
    "fold_training_times = []\n",
    "\n",
    "# Realizar la validación cruzada respetando los folds predefinidos\n",
    "for fold in range(1, 11):  # Hay 10 folds en UrbanSound8K\n",
    "\n",
    "    # Dividir el dataset en entrenamiento y prueba\n",
    "    train_index = folds != fold\n",
    "    test_index = folds == fold\n",
    "    \n",
    "    X_train, X_test = X_caracteristicas[train_index], X_caracteristicas[test_index]\n",
    "    y_train, y_test = y[train_index], y[test_index]\n",
    "\n",
    "    # Configurar GridSearchCV\n",
    "    grid_search = GridSearchCV(\n",
    "        estimator=knn, \n",
    "        param_grid=param_distributions, \n",
    "        cv=10,  # Validación cruzada interna con 10 pliegues\n",
    "        scoring='accuracy',  # Métrica para optimizar\n",
    "        n_jobs=-1  # Usar todos los núcleos disponibles\n",
    "    )\n",
    "\n",
    "    # Medir el tiempo de entrenamiento\n",
    "    start_time = time.time()  # Inicio del tiempo\n",
    "\n",
    "    # Entrenar el modelo con la búsqueda de hiperparámetros\n",
    "    grid_search.fit(X_train, y_train)\n",
    "\n",
    "    # Tiempo de finalización\n",
    "    end_time = time.time()\n",
    "\n",
    "    # Calcular el tiempo de entrenamiento\n",
    "    training_time = end_time - start_time\n",
    "    fold_training_times.append(training_time)\n",
    "\n",
    "    # Obtener el mejor modelo\n",
    "    best_knn = grid_search.best_estimator_\n",
    "\n",
    "    # Obtener los mejores parámetros y el mejor score\n",
    "    best_params = grid_search.best_params_\n",
    "    best_score = grid_search.best_score_    \n",
    "    \n",
    "    # Predecir y evaluar\n",
    "    y_pred = best_knn.predict(X_test)\n",
    "    accuracy_val = accuracy_score(y_test, y_pred)\n",
    "    f1_val = f1_score(y_test, y_pred, average='weighted' )\n",
    "    precision_val = precision_score(y_test, y_pred, average='weighted')\n",
    "    recall_val = recall_score(y_test, y_pred, average='weighted')   \n",
    "\n",
    "    fold_accuracies.append(accuracy_val)\n",
    "    \n",
    "    print(f\"Mejores Parámetros: {best_params}\")\n",
    "    print(f\"Mejor Score: {best_score}\")  \n",
    "    print(f\"Fold {fold} Accuracy: {accuracy_val:.4f}\")\n",
    "    print(f\"Tiempo de entrenamiento (segundos): {training_time:.4f}\")\n",
    "\n",
    "    with mlflow.start_run(run_name=f\"KNN GSCV MFCC{mfcc_n_coeficiente} Fold_{fold}\") as run:\n",
    "        # Registrar los parámetros y métricas en MLflow\n",
    "        mlflow.log_params(best_params)\n",
    "\n",
    "        param_auxilares = {\n",
    "            \"mfcc_coeficiente\": mfcc_n_coeficiente, \n",
    "            \"fold\": fold,\n",
    "            \"cv\": \"GSCV\", \n",
    "            \"model\": \"KNN\"\n",
    "        }\n",
    "\n",
    "        mlflow.log_params(param_auxilares)        \n",
    "        mlflow.set_tags(param_auxilares) \n",
    "\n",
    "        # Registrar la métrica de este fold\n",
    "        mlflow.log_metric(f\"accuracy_score\", accuracy_val)\n",
    "        mlflow.log_metric(f\"f1_weighted_score\", f1_val)\n",
    "        mlflow.log_metric(f\"precision_weighted_score\", precision_val)\n",
    "        mlflow.log_metric(f\"recall_weighted_score\", recall_val)\n",
    "\n",
    "        # Registrar el tiempo de entrenamiento\n",
    "        mlflow.log_metric(f\"training_time_seconds\", training_time)\n",
    "\n",
    "        # Guardar el modelo en MLflow con un ejemplo de entrada\n",
    "        input_example = X_test[:1]  # Ejemplo de entrada, una sola muestra de prueba\n",
    "        mlflow.sklearn.log_model(best_knn, f\"knn_gscv_mfcc{mfcc_n_coeficiente}_fold_{fold}\", input_example=input_example)\n",
    "\n",
    "        # Se finaliza el registro\n",
    "        mlflow.end_run()\n",
    "\n",
    "\n",
    "# Mostrar el promedio y desviación estándar\n",
    "mean_accuracy = np.mean(fold_accuracies)\n",
    "std_accuracy = np.std(fold_accuracies)\n",
    "mean_training_time = np.mean(fold_training_times)\n",
    "\n",
    "print(f\"\\nAccuracy promedio: {mean_accuracy:.4f}\")\n",
    "print(f\"Desviación estándar: {std_accuracy:.4f}\")\n",
    "print(f\"Tiempo de entrenamiento promedio (segundos): {mean_training_time:.4f}\")\n",
    "\n",
    "# Opcional: Visualizar los resultados con un boxplot\n",
    "plt.boxplot(fold_accuracies)\n",
    "plt.title(f'Distribución de Accuracy en KNN GSCV MFCC{mfcc_n_coeficiente}')\n",
    "plt.ylabel('Accuracy')\n",
    "plt.show()\n"
   ]
  },
  {
   "cell_type": "markdown",
   "metadata": {},
   "source": [
    "## Random Forest"
   ]
  },
  {
   "cell_type": "code",
   "execution_count": 23,
   "metadata": {},
   "outputs": [
    {
     "ename": "KeyboardInterrupt",
     "evalue": "",
     "output_type": "error",
     "traceback": [
      "\u001b[1;31m---------------------------------------------------------------------------\u001b[0m",
      "\u001b[1;31mKeyboardInterrupt\u001b[0m                         Traceback (most recent call last)",
      "Cell \u001b[1;32mIn[23], line 40\u001b[0m\n\u001b[0;32m     37\u001b[0m start_time \u001b[38;5;241m=\u001b[39m time\u001b[38;5;241m.\u001b[39mtime()  \u001b[38;5;66;03m# Inicio del tiempo\u001b[39;00m\n\u001b[0;32m     39\u001b[0m \u001b[38;5;66;03m# Entrenar el modelo con la búsqueda de hiperparámetros\u001b[39;00m\n\u001b[1;32m---> 40\u001b[0m \u001b[43mgrid_search\u001b[49m\u001b[38;5;241;43m.\u001b[39;49m\u001b[43mfit\u001b[49m\u001b[43m(\u001b[49m\u001b[43mX_train\u001b[49m\u001b[43m,\u001b[49m\u001b[43m \u001b[49m\u001b[43my_train\u001b[49m\u001b[43m)\u001b[49m\n\u001b[0;32m     42\u001b[0m \u001b[38;5;66;03m# Tiempo de finalización\u001b[39;00m\n\u001b[0;32m     43\u001b[0m end_time \u001b[38;5;241m=\u001b[39m time\u001b[38;5;241m.\u001b[39mtime()\n",
      "File \u001b[1;32mc:\\Users\\colbe\\Documents\\VIU\\TFM\\tfm-clasificador-fuentes-sonoras-ciudad\\.env\\lib\\site-packages\\sklearn\\base.py:1473\u001b[0m, in \u001b[0;36m_fit_context.<locals>.decorator.<locals>.wrapper\u001b[1;34m(estimator, *args, **kwargs)\u001b[0m\n\u001b[0;32m   1466\u001b[0m     estimator\u001b[38;5;241m.\u001b[39m_validate_params()\n\u001b[0;32m   1468\u001b[0m \u001b[38;5;28;01mwith\u001b[39;00m config_context(\n\u001b[0;32m   1469\u001b[0m     skip_parameter_validation\u001b[38;5;241m=\u001b[39m(\n\u001b[0;32m   1470\u001b[0m         prefer_skip_nested_validation \u001b[38;5;129;01mor\u001b[39;00m global_skip_validation\n\u001b[0;32m   1471\u001b[0m     )\n\u001b[0;32m   1472\u001b[0m ):\n\u001b[1;32m-> 1473\u001b[0m     \u001b[38;5;28;01mreturn\u001b[39;00m fit_method(estimator, \u001b[38;5;241m*\u001b[39margs, \u001b[38;5;241m*\u001b[39m\u001b[38;5;241m*\u001b[39mkwargs)\n",
      "File \u001b[1;32mc:\\Users\\colbe\\Documents\\VIU\\TFM\\tfm-clasificador-fuentes-sonoras-ciudad\\.env\\lib\\site-packages\\sklearn\\model_selection\\_search.py:1018\u001b[0m, in \u001b[0;36mBaseSearchCV.fit\u001b[1;34m(self, X, y, **params)\u001b[0m\n\u001b[0;32m   1012\u001b[0m     results \u001b[38;5;241m=\u001b[39m \u001b[38;5;28mself\u001b[39m\u001b[38;5;241m.\u001b[39m_format_results(\n\u001b[0;32m   1013\u001b[0m         all_candidate_params, n_splits, all_out, all_more_results\n\u001b[0;32m   1014\u001b[0m     )\n\u001b[0;32m   1016\u001b[0m     \u001b[38;5;28;01mreturn\u001b[39;00m results\n\u001b[1;32m-> 1018\u001b[0m \u001b[38;5;28;43mself\u001b[39;49m\u001b[38;5;241;43m.\u001b[39;49m\u001b[43m_run_search\u001b[49m\u001b[43m(\u001b[49m\u001b[43mevaluate_candidates\u001b[49m\u001b[43m)\u001b[49m\n\u001b[0;32m   1020\u001b[0m \u001b[38;5;66;03m# multimetric is determined here because in the case of a callable\u001b[39;00m\n\u001b[0;32m   1021\u001b[0m \u001b[38;5;66;03m# self.scoring the return type is only known after calling\u001b[39;00m\n\u001b[0;32m   1022\u001b[0m first_test_score \u001b[38;5;241m=\u001b[39m all_out[\u001b[38;5;241m0\u001b[39m][\u001b[38;5;124m\"\u001b[39m\u001b[38;5;124mtest_scores\u001b[39m\u001b[38;5;124m\"\u001b[39m]\n",
      "File \u001b[1;32mc:\\Users\\colbe\\Documents\\VIU\\TFM\\tfm-clasificador-fuentes-sonoras-ciudad\\.env\\lib\\site-packages\\sklearn\\model_selection\\_search.py:1572\u001b[0m, in \u001b[0;36mGridSearchCV._run_search\u001b[1;34m(self, evaluate_candidates)\u001b[0m\n\u001b[0;32m   1570\u001b[0m \u001b[38;5;28;01mdef\u001b[39;00m \u001b[38;5;21m_run_search\u001b[39m(\u001b[38;5;28mself\u001b[39m, evaluate_candidates):\n\u001b[0;32m   1571\u001b[0m \u001b[38;5;250m    \u001b[39m\u001b[38;5;124;03m\"\"\"Search all candidates in param_grid\"\"\"\u001b[39;00m\n\u001b[1;32m-> 1572\u001b[0m     \u001b[43mevaluate_candidates\u001b[49m\u001b[43m(\u001b[49m\u001b[43mParameterGrid\u001b[49m\u001b[43m(\u001b[49m\u001b[38;5;28;43mself\u001b[39;49m\u001b[38;5;241;43m.\u001b[39;49m\u001b[43mparam_grid\u001b[49m\u001b[43m)\u001b[49m\u001b[43m)\u001b[49m\n",
      "File \u001b[1;32mc:\\Users\\colbe\\Documents\\VIU\\TFM\\tfm-clasificador-fuentes-sonoras-ciudad\\.env\\lib\\site-packages\\sklearn\\model_selection\\_search.py:964\u001b[0m, in \u001b[0;36mBaseSearchCV.fit.<locals>.evaluate_candidates\u001b[1;34m(candidate_params, cv, more_results)\u001b[0m\n\u001b[0;32m    956\u001b[0m \u001b[38;5;28;01mif\u001b[39;00m \u001b[38;5;28mself\u001b[39m\u001b[38;5;241m.\u001b[39mverbose \u001b[38;5;241m>\u001b[39m \u001b[38;5;241m0\u001b[39m:\n\u001b[0;32m    957\u001b[0m     \u001b[38;5;28mprint\u001b[39m(\n\u001b[0;32m    958\u001b[0m         \u001b[38;5;124m\"\u001b[39m\u001b[38;5;124mFitting \u001b[39m\u001b[38;5;132;01m{0}\u001b[39;00m\u001b[38;5;124m folds for each of \u001b[39m\u001b[38;5;132;01m{1}\u001b[39;00m\u001b[38;5;124m candidates,\u001b[39m\u001b[38;5;124m\"\u001b[39m\n\u001b[0;32m    959\u001b[0m         \u001b[38;5;124m\"\u001b[39m\u001b[38;5;124m totalling \u001b[39m\u001b[38;5;132;01m{2}\u001b[39;00m\u001b[38;5;124m fits\u001b[39m\u001b[38;5;124m\"\u001b[39m\u001b[38;5;241m.\u001b[39mformat(\n\u001b[0;32m    960\u001b[0m             n_splits, n_candidates, n_candidates \u001b[38;5;241m*\u001b[39m n_splits\n\u001b[0;32m    961\u001b[0m         )\n\u001b[0;32m    962\u001b[0m     )\n\u001b[1;32m--> 964\u001b[0m out \u001b[38;5;241m=\u001b[39m \u001b[43mparallel\u001b[49m\u001b[43m(\u001b[49m\n\u001b[0;32m    965\u001b[0m \u001b[43m    \u001b[49m\u001b[43mdelayed\u001b[49m\u001b[43m(\u001b[49m\u001b[43m_fit_and_score\u001b[49m\u001b[43m)\u001b[49m\u001b[43m(\u001b[49m\n\u001b[0;32m    966\u001b[0m \u001b[43m        \u001b[49m\u001b[43mclone\u001b[49m\u001b[43m(\u001b[49m\u001b[43mbase_estimator\u001b[49m\u001b[43m)\u001b[49m\u001b[43m,\u001b[49m\n\u001b[0;32m    967\u001b[0m \u001b[43m        \u001b[49m\u001b[43mX\u001b[49m\u001b[43m,\u001b[49m\n\u001b[0;32m    968\u001b[0m \u001b[43m        \u001b[49m\u001b[43my\u001b[49m\u001b[43m,\u001b[49m\n\u001b[0;32m    969\u001b[0m \u001b[43m        \u001b[49m\u001b[43mtrain\u001b[49m\u001b[38;5;241;43m=\u001b[39;49m\u001b[43mtrain\u001b[49m\u001b[43m,\u001b[49m\n\u001b[0;32m    970\u001b[0m \u001b[43m        \u001b[49m\u001b[43mtest\u001b[49m\u001b[38;5;241;43m=\u001b[39;49m\u001b[43mtest\u001b[49m\u001b[43m,\u001b[49m\n\u001b[0;32m    971\u001b[0m \u001b[43m        \u001b[49m\u001b[43mparameters\u001b[49m\u001b[38;5;241;43m=\u001b[39;49m\u001b[43mparameters\u001b[49m\u001b[43m,\u001b[49m\n\u001b[0;32m    972\u001b[0m \u001b[43m        \u001b[49m\u001b[43msplit_progress\u001b[49m\u001b[38;5;241;43m=\u001b[39;49m\u001b[43m(\u001b[49m\u001b[43msplit_idx\u001b[49m\u001b[43m,\u001b[49m\u001b[43m \u001b[49m\u001b[43mn_splits\u001b[49m\u001b[43m)\u001b[49m\u001b[43m,\u001b[49m\n\u001b[0;32m    973\u001b[0m \u001b[43m        \u001b[49m\u001b[43mcandidate_progress\u001b[49m\u001b[38;5;241;43m=\u001b[39;49m\u001b[43m(\u001b[49m\u001b[43mcand_idx\u001b[49m\u001b[43m,\u001b[49m\u001b[43m \u001b[49m\u001b[43mn_candidates\u001b[49m\u001b[43m)\u001b[49m\u001b[43m,\u001b[49m\n\u001b[0;32m    974\u001b[0m \u001b[43m        \u001b[49m\u001b[38;5;241;43m*\u001b[39;49m\u001b[38;5;241;43m*\u001b[39;49m\u001b[43mfit_and_score_kwargs\u001b[49m\u001b[43m,\u001b[49m\n\u001b[0;32m    975\u001b[0m \u001b[43m    \u001b[49m\u001b[43m)\u001b[49m\n\u001b[0;32m    976\u001b[0m \u001b[43m    \u001b[49m\u001b[38;5;28;43;01mfor\u001b[39;49;00m\u001b[43m \u001b[49m\u001b[43m(\u001b[49m\u001b[43mcand_idx\u001b[49m\u001b[43m,\u001b[49m\u001b[43m \u001b[49m\u001b[43mparameters\u001b[49m\u001b[43m)\u001b[49m\u001b[43m,\u001b[49m\u001b[43m \u001b[49m\u001b[43m(\u001b[49m\u001b[43msplit_idx\u001b[49m\u001b[43m,\u001b[49m\u001b[43m \u001b[49m\u001b[43m(\u001b[49m\u001b[43mtrain\u001b[49m\u001b[43m,\u001b[49m\u001b[43m \u001b[49m\u001b[43mtest\u001b[49m\u001b[43m)\u001b[49m\u001b[43m)\u001b[49m\u001b[43m \u001b[49m\u001b[38;5;129;43;01min\u001b[39;49;00m\u001b[43m \u001b[49m\u001b[43mproduct\u001b[49m\u001b[43m(\u001b[49m\n\u001b[0;32m    977\u001b[0m \u001b[43m        \u001b[49m\u001b[38;5;28;43menumerate\u001b[39;49m\u001b[43m(\u001b[49m\u001b[43mcandidate_params\u001b[49m\u001b[43m)\u001b[49m\u001b[43m,\u001b[49m\n\u001b[0;32m    978\u001b[0m \u001b[43m        \u001b[49m\u001b[38;5;28;43menumerate\u001b[39;49m\u001b[43m(\u001b[49m\u001b[43mcv\u001b[49m\u001b[38;5;241;43m.\u001b[39;49m\u001b[43msplit\u001b[49m\u001b[43m(\u001b[49m\u001b[43mX\u001b[49m\u001b[43m,\u001b[49m\u001b[43m \u001b[49m\u001b[43my\u001b[49m\u001b[43m,\u001b[49m\u001b[43m \u001b[49m\u001b[38;5;241;43m*\u001b[39;49m\u001b[38;5;241;43m*\u001b[39;49m\u001b[43mrouted_params\u001b[49m\u001b[38;5;241;43m.\u001b[39;49m\u001b[43msplitter\u001b[49m\u001b[38;5;241;43m.\u001b[39;49m\u001b[43msplit\u001b[49m\u001b[43m)\u001b[49m\u001b[43m)\u001b[49m\u001b[43m,\u001b[49m\n\u001b[0;32m    979\u001b[0m \u001b[43m    \u001b[49m\u001b[43m)\u001b[49m\n\u001b[0;32m    980\u001b[0m \u001b[43m\u001b[49m\u001b[43m)\u001b[49m\n\u001b[0;32m    982\u001b[0m \u001b[38;5;28;01mif\u001b[39;00m \u001b[38;5;28mlen\u001b[39m(out) \u001b[38;5;241m<\u001b[39m \u001b[38;5;241m1\u001b[39m:\n\u001b[0;32m    983\u001b[0m     \u001b[38;5;28;01mraise\u001b[39;00m \u001b[38;5;167;01mValueError\u001b[39;00m(\n\u001b[0;32m    984\u001b[0m         \u001b[38;5;124m\"\u001b[39m\u001b[38;5;124mNo fits were performed. \u001b[39m\u001b[38;5;124m\"\u001b[39m\n\u001b[0;32m    985\u001b[0m         \u001b[38;5;124m\"\u001b[39m\u001b[38;5;124mWas the CV iterator empty? \u001b[39m\u001b[38;5;124m\"\u001b[39m\n\u001b[0;32m    986\u001b[0m         \u001b[38;5;124m\"\u001b[39m\u001b[38;5;124mWere there no candidates?\u001b[39m\u001b[38;5;124m\"\u001b[39m\n\u001b[0;32m    987\u001b[0m     )\n",
      "File \u001b[1;32mc:\\Users\\colbe\\Documents\\VIU\\TFM\\tfm-clasificador-fuentes-sonoras-ciudad\\.env\\lib\\site-packages\\sklearn\\utils\\parallel.py:74\u001b[0m, in \u001b[0;36mParallel.__call__\u001b[1;34m(self, iterable)\u001b[0m\n\u001b[0;32m     69\u001b[0m config \u001b[38;5;241m=\u001b[39m get_config()\n\u001b[0;32m     70\u001b[0m iterable_with_config \u001b[38;5;241m=\u001b[39m (\n\u001b[0;32m     71\u001b[0m     (_with_config(delayed_func, config), args, kwargs)\n\u001b[0;32m     72\u001b[0m     \u001b[38;5;28;01mfor\u001b[39;00m delayed_func, args, kwargs \u001b[38;5;129;01min\u001b[39;00m iterable\n\u001b[0;32m     73\u001b[0m )\n\u001b[1;32m---> 74\u001b[0m \u001b[38;5;28;01mreturn\u001b[39;00m \u001b[38;5;28;43msuper\u001b[39;49m\u001b[43m(\u001b[49m\u001b[43m)\u001b[49m\u001b[38;5;241;43m.\u001b[39;49m\u001b[38;5;21;43m__call__\u001b[39;49m\u001b[43m(\u001b[49m\u001b[43miterable_with_config\u001b[49m\u001b[43m)\u001b[49m\n",
      "File \u001b[1;32mc:\\Users\\colbe\\Documents\\VIU\\TFM\\tfm-clasificador-fuentes-sonoras-ciudad\\.env\\lib\\site-packages\\joblib\\parallel.py:2007\u001b[0m, in \u001b[0;36mParallel.__call__\u001b[1;34m(self, iterable)\u001b[0m\n\u001b[0;32m   2001\u001b[0m \u001b[38;5;66;03m# The first item from the output is blank, but it makes the interpreter\u001b[39;00m\n\u001b[0;32m   2002\u001b[0m \u001b[38;5;66;03m# progress until it enters the Try/Except block of the generator and\u001b[39;00m\n\u001b[0;32m   2003\u001b[0m \u001b[38;5;66;03m# reaches the first `yield` statement. This starts the asynchronous\u001b[39;00m\n\u001b[0;32m   2004\u001b[0m \u001b[38;5;66;03m# dispatch of the tasks to the workers.\u001b[39;00m\n\u001b[0;32m   2005\u001b[0m \u001b[38;5;28mnext\u001b[39m(output)\n\u001b[1;32m-> 2007\u001b[0m \u001b[38;5;28;01mreturn\u001b[39;00m output \u001b[38;5;28;01mif\u001b[39;00m \u001b[38;5;28mself\u001b[39m\u001b[38;5;241m.\u001b[39mreturn_generator \u001b[38;5;28;01melse\u001b[39;00m \u001b[38;5;28;43mlist\u001b[39;49m\u001b[43m(\u001b[49m\u001b[43moutput\u001b[49m\u001b[43m)\u001b[49m\n",
      "File \u001b[1;32mc:\\Users\\colbe\\Documents\\VIU\\TFM\\tfm-clasificador-fuentes-sonoras-ciudad\\.env\\lib\\site-packages\\joblib\\parallel.py:1650\u001b[0m, in \u001b[0;36mParallel._get_outputs\u001b[1;34m(self, iterator, pre_dispatch)\u001b[0m\n\u001b[0;32m   1647\u001b[0m     \u001b[38;5;28;01myield\u001b[39;00m\n\u001b[0;32m   1649\u001b[0m     \u001b[38;5;28;01mwith\u001b[39;00m \u001b[38;5;28mself\u001b[39m\u001b[38;5;241m.\u001b[39m_backend\u001b[38;5;241m.\u001b[39mretrieval_context():\n\u001b[1;32m-> 1650\u001b[0m         \u001b[38;5;28;01myield from\u001b[39;00m \u001b[38;5;28mself\u001b[39m\u001b[38;5;241m.\u001b[39m_retrieve()\n\u001b[0;32m   1652\u001b[0m \u001b[38;5;28;01mexcept\u001b[39;00m \u001b[38;5;167;01mGeneratorExit\u001b[39;00m:\n\u001b[0;32m   1653\u001b[0m     \u001b[38;5;66;03m# The generator has been garbage collected before being fully\u001b[39;00m\n\u001b[0;32m   1654\u001b[0m     \u001b[38;5;66;03m# consumed. This aborts the remaining tasks if possible and warn\u001b[39;00m\n\u001b[0;32m   1655\u001b[0m     \u001b[38;5;66;03m# the user if necessary.\u001b[39;00m\n\u001b[0;32m   1656\u001b[0m     \u001b[38;5;28mself\u001b[39m\u001b[38;5;241m.\u001b[39m_exception \u001b[38;5;241m=\u001b[39m \u001b[38;5;28;01mTrue\u001b[39;00m\n",
      "File \u001b[1;32mc:\\Users\\colbe\\Documents\\VIU\\TFM\\tfm-clasificador-fuentes-sonoras-ciudad\\.env\\lib\\site-packages\\joblib\\parallel.py:1762\u001b[0m, in \u001b[0;36mParallel._retrieve\u001b[1;34m(self)\u001b[0m\n\u001b[0;32m   1757\u001b[0m \u001b[38;5;66;03m# If the next job is not ready for retrieval yet, we just wait for\u001b[39;00m\n\u001b[0;32m   1758\u001b[0m \u001b[38;5;66;03m# async callbacks to progress.\u001b[39;00m\n\u001b[0;32m   1759\u001b[0m \u001b[38;5;28;01mif\u001b[39;00m ((\u001b[38;5;28mlen\u001b[39m(\u001b[38;5;28mself\u001b[39m\u001b[38;5;241m.\u001b[39m_jobs) \u001b[38;5;241m==\u001b[39m \u001b[38;5;241m0\u001b[39m) \u001b[38;5;129;01mor\u001b[39;00m\n\u001b[0;32m   1760\u001b[0m     (\u001b[38;5;28mself\u001b[39m\u001b[38;5;241m.\u001b[39m_jobs[\u001b[38;5;241m0\u001b[39m]\u001b[38;5;241m.\u001b[39mget_status(\n\u001b[0;32m   1761\u001b[0m         timeout\u001b[38;5;241m=\u001b[39m\u001b[38;5;28mself\u001b[39m\u001b[38;5;241m.\u001b[39mtimeout) \u001b[38;5;241m==\u001b[39m TASK_PENDING)):\n\u001b[1;32m-> 1762\u001b[0m     \u001b[43mtime\u001b[49m\u001b[38;5;241;43m.\u001b[39;49m\u001b[43msleep\u001b[49m\u001b[43m(\u001b[49m\u001b[38;5;241;43m0.01\u001b[39;49m\u001b[43m)\u001b[49m\n\u001b[0;32m   1763\u001b[0m     \u001b[38;5;28;01mcontinue\u001b[39;00m\n\u001b[0;32m   1765\u001b[0m \u001b[38;5;66;03m# We need to be careful: the job list can be filling up as\u001b[39;00m\n\u001b[0;32m   1766\u001b[0m \u001b[38;5;66;03m# we empty it and Python list are not thread-safe by\u001b[39;00m\n\u001b[0;32m   1767\u001b[0m \u001b[38;5;66;03m# default hence the use of the lock\u001b[39;00m\n",
      "\u001b[1;31mKeyboardInterrupt\u001b[0m: "
     ]
    }
   ],
   "source": [
    "# Definir el modelo Random Forest\n",
    "rf = RandomForestClassifier(random_state=42)\n",
    "\n",
    "# Definir la rejilla de parámetros para GridSearchCV\n",
    "param_distributions = {\n",
    "    'n_estimators': [500],  # Número de árboles en el bosque\n",
    "    'max_depth': [50],  # Máxima profundidad de cada árbol\n",
    "    'min_samples_split': [2],  # Mínimo número de muestras requeridas para dividir un nodo\n",
    "    'min_samples_leaf': [1],  # Mínimo número de muestras requeridas en una hoja\n",
    "    'max_features': ['log2'],  # Número de características a considerar al buscar la mejor división\n",
    "    'bootstrap': [False]  # Método para seleccionar muestras para construir cada árbol\n",
    "}\n",
    "\n",
    "# Inicializar lista para almacenar accuracies y tiempos\n",
    "fold_accuracies = []\n",
    "fold_training_times = []  # Lista para almacenar los tiempos de entrenamiento\n",
    "\n",
    "# Realizar la validación cruzada respetando los folds predefinidos\n",
    "for fold in range(1, 11):  # Hay 10 folds en UrbanSound8K\n",
    "    # Dividir el dataset en entrenamiento y prueba\n",
    "    train_index = folds != fold\n",
    "    test_index = folds == fold\n",
    "    \n",
    "    X_train, X_test = X_caracteristicas[train_index], X_caracteristicas[test_index]\n",
    "    y_train, y_test = y[train_index], y[test_index]\n",
    "\n",
    "    # Configurar GridSearchCV\n",
    "    grid_search = GridSearchCV(\n",
    "        estimator=rf, \n",
    "        param_grid=param_distributions, \n",
    "        cv=10,  # Validación cruzada interna con 10 pliegues\n",
    "        scoring='accuracy',  # Métrica para optimizar\n",
    "        n_jobs=-1  # Usar todos los núcleos disponibles\n",
    "    )\n",
    "\n",
    "    # Medir el tiempo de entrenamiento\n",
    "    start_time = time.time()  # Inicio del tiempo\n",
    "\n",
    "    # Entrenar el modelo con la búsqueda de hiperparámetros\n",
    "    grid_search.fit(X_train, y_train)\n",
    "\n",
    "    # Tiempo de finalización\n",
    "    end_time = time.time()\n",
    "\n",
    "    # Calcular el tiempo de entrenamiento\n",
    "    training_time = end_time - start_time\n",
    "    fold_training_times.append(training_time)\n",
    "\n",
    "    # Obtener el mejor modelo\n",
    "    best_rf = grid_search.best_estimator_\n",
    "\n",
    "    # Obtener los mejores parámetros y el mejor score\n",
    "    best_params = grid_search.best_params_\n",
    "    best_score = grid_search.best_score_\n",
    "    \n",
    "    # Predecir y evaluar\n",
    "    y_pred = best_rf.predict(X_test)\n",
    "    accuracy_val = accuracy_score(y_test, y_pred)\n",
    "    f1_val = f1_score(y_test, y_pred, average='weighted' )\n",
    "    precision_val = precision_score(y_test, y_pred, average='weighted')\n",
    "    recall_val = recall_score(y_test, y_pred, average='weighted')   \n",
    "    \n",
    "    fold_accuracies.append(accuracy_val)\n",
    "\n",
    "    print(f\"Mejores Parámetros: {best_params}\")\n",
    "    print(f\"Mejor Score: {best_score}\")\n",
    "    print(f\"Fold {fold} Accuracy: {accuracy_val:.4f}\")\n",
    "    print(f\"Tiempo de entrenamiento (segundos): {training_time:.4f}\")\n",
    "\n",
    "    with mlflow.start_run(run_name=f\"RF GSCV MFCC{mfcc_n_coeficiente} Fold_{fold}\") as run:\n",
    "        # Registrar los parámetros y métricas en MLflow\n",
    "        mlflow.log_params(best_params)\n",
    "\n",
    "        param_auxilares = {\n",
    "            \"mfcc_coeficiente\": mfcc_n_coeficiente, \n",
    "            \"fold\": fold,\n",
    "            \"cv\": \"GSCV\", \n",
    "            \"model\": \"RF\"\n",
    "        }\n",
    "\n",
    "        mlflow.log_params(param_auxilares)        \n",
    "        mlflow.set_tags(param_auxilares) \n",
    "\n",
    "        # Registrar la métrica de este fold\n",
    "        mlflow.log_metric(f\"accuracy_score\", accuracy_val)\n",
    "        mlflow.log_metric(f\"f1_weighted_score\", f1_val)\n",
    "        mlflow.log_metric(f\"precision_weighted_score\", precision_val)\n",
    "        mlflow.log_metric(f\"recall_weighted_score\", recall_val)\n",
    "\n",
    "        # Registrar el tiempo de entrenamiento\n",
    "        mlflow.log_metric(f\"training_time_seconds\", training_time)\n",
    "\n",
    "        # Guardar el modelo en MLflow con un ejemplo de entrada\n",
    "        input_example = X_test[:1]  # Ejemplo de entrada, una sola muestra de prueba\n",
    "        mlflow.sklearn.log_model(best_rf, f\"rf_gscv_mfcc{mfcc_n_coeficiente}_fold_{fold}\", input_example=input_example)\n",
    "\n",
    "        # Se finaliza el registro\n",
    "        mlflow.end_run()\n",
    "\n",
    "\n",
    "# Mostrar el promedio y desviación estándar\n",
    "mean_accuracy = np.mean(fold_accuracies)\n",
    "std_accuracy = np.std(fold_accuracies)\n",
    "mean_training_time = np.mean(fold_training_times)\n",
    "\n",
    "print(f\"\\nAccuracy promedio: {mean_accuracy:.4f}\")\n",
    "print(f\"Desviación estándar: {std_accuracy:.4f}\")\n",
    "print(f\"Tiempo de entrenamiento promedio (segundos): {mean_training_time:.4f}\")\n",
    "\n",
    "# Opcional: Visualizar los resultados con un boxplot\n",
    "plt.boxplot(fold_accuracies)\n",
    "plt.title(f'Distribución de Accuracy en RF GSCV MFCC{mfcc_n_coeficiente}')\n",
    "plt.ylabel('Accuracy')\n",
    "plt.show()"
   ]
  },
  {
   "cell_type": "markdown",
   "metadata": {},
   "source": [
    "## SVM"
   ]
  },
  {
   "cell_type": "code",
   "execution_count": null,
   "metadata": {},
   "outputs": [
    {
     "name": "stdout",
     "output_type": "stream",
     "text": [
      "Mejores Parámetros: {'C': 0.0001, 'kernel': 'linear'}\n",
      "Mejor Score: 0.70860131926549\n",
      "Fold 1 Accuracy: 0.6724\n",
      "Tiempo de entrenamiento (segundos): 211.4402\n"
     ]
    },
    {
     "name": "stderr",
     "output_type": "stream",
     "text": [
      "c:\\Users\\colbe\\Documents\\VIU\\TFM\\tfm-clasificador-fuentes-sonoras-ciudad\\.env\\lib\\site-packages\\mlflow\\types\\utils.py:406: UserWarning: Hint: Inferred schema contains integer column(s). Integer columns in Python cannot represent missing values. If your input data contains missing values at inference time, it will be encoded as floats and will cause a schema enforcement error. The best way to avoid this problem is to infer the model schema based on a realistic data sample (training dataset) that includes missing values. Alternatively, you can declare integer columns as doubles (float64) whenever these columns may have missing values. See `Handling Integers With Missing Values <https://www.mlflow.org/docs/latest/models.html#handling-integers-with-missing-values>`_ for more details.\n",
      "  warnings.warn(\n"
     ]
    },
    {
     "data": {
      "application/vnd.jupyter.widget-view+json": {
       "model_id": "3c660a3953c74ddda1a1c06b0dc33765",
       "version_major": 2,
       "version_minor": 0
      },
      "text/plain": [
       "Downloading artifacts:   0%|          | 0/7 [00:00<?, ?it/s]"
      ]
     },
     "metadata": {},
     "output_type": "display_data"
    },
    {
     "name": "stdout",
     "output_type": "stream",
     "text": [
      "Mejores Parámetros: {'C': 0.0001, 'kernel': 'linear'}\n",
      "Mejor Score: 0.7015413362797348\n",
      "Fold 2 Accuracy: 0.6115\n",
      "Tiempo de entrenamiento (segundos): 196.7604\n"
     ]
    },
    {
     "name": "stderr",
     "output_type": "stream",
     "text": [
      "c:\\Users\\colbe\\Documents\\VIU\\TFM\\tfm-clasificador-fuentes-sonoras-ciudad\\.env\\lib\\site-packages\\mlflow\\types\\utils.py:406: UserWarning: Hint: Inferred schema contains integer column(s). Integer columns in Python cannot represent missing values. If your input data contains missing values at inference time, it will be encoded as floats and will cause a schema enforcement error. The best way to avoid this problem is to infer the model schema based on a realistic data sample (training dataset) that includes missing values. Alternatively, you can declare integer columns as doubles (float64) whenever these columns may have missing values. See `Handling Integers With Missing Values <https://www.mlflow.org/docs/latest/models.html#handling-integers-with-missing-values>`_ for more details.\n",
      "  warnings.warn(\n"
     ]
    },
    {
     "data": {
      "application/vnd.jupyter.widget-view+json": {
       "model_id": "1c97a1e058a54503b4a4e3c589252c49",
       "version_major": 2,
       "version_minor": 0
      },
      "text/plain": [
       "Downloading artifacts:   0%|          | 0/7 [00:00<?, ?it/s]"
      ]
     },
     "metadata": {},
     "output_type": "display_data"
    },
    {
     "name": "stdout",
     "output_type": "stream",
     "text": [
      "Mejores Parámetros: {'C': 0.0001, 'kernel': 'linear'}\n",
      "Mejor Score: 0.7010046291736434\n",
      "Fold 3 Accuracy: 0.5827\n",
      "Tiempo de entrenamiento (segundos): 185.0873\n"
     ]
    },
    {
     "name": "stderr",
     "output_type": "stream",
     "text": [
      "c:\\Users\\colbe\\Documents\\VIU\\TFM\\tfm-clasificador-fuentes-sonoras-ciudad\\.env\\lib\\site-packages\\mlflow\\types\\utils.py:406: UserWarning: Hint: Inferred schema contains integer column(s). Integer columns in Python cannot represent missing values. If your input data contains missing values at inference time, it will be encoded as floats and will cause a schema enforcement error. The best way to avoid this problem is to infer the model schema based on a realistic data sample (training dataset) that includes missing values. Alternatively, you can declare integer columns as doubles (float64) whenever these columns may have missing values. See `Handling Integers With Missing Values <https://www.mlflow.org/docs/latest/models.html#handling-integers-with-missing-values>`_ for more details.\n",
      "  warnings.warn(\n"
     ]
    },
    {
     "data": {
      "application/vnd.jupyter.widget-view+json": {
       "model_id": "8d252b20411d47dea65e3be395762704",
       "version_major": 2,
       "version_minor": 0
      },
      "text/plain": [
       "Downloading artifacts:   0%|          | 0/7 [00:00<?, ?it/s]"
      ]
     },
     "metadata": {},
     "output_type": "display_data"
    },
    {
     "name": "stdout",
     "output_type": "stream",
     "text": [
      "Mejores Parámetros: {'C': 0.0001, 'kernel': 'linear'}\n",
      "Mejor Score: 0.6915365508043678\n",
      "Fold 4 Accuracy: 0.6929\n",
      "Tiempo de entrenamiento (segundos): 171.6258\n"
     ]
    },
    {
     "name": "stderr",
     "output_type": "stream",
     "text": [
      "c:\\Users\\colbe\\Documents\\VIU\\TFM\\tfm-clasificador-fuentes-sonoras-ciudad\\.env\\lib\\site-packages\\mlflow\\types\\utils.py:406: UserWarning: Hint: Inferred schema contains integer column(s). Integer columns in Python cannot represent missing values. If your input data contains missing values at inference time, it will be encoded as floats and will cause a schema enforcement error. The best way to avoid this problem is to infer the model schema based on a realistic data sample (training dataset) that includes missing values. Alternatively, you can declare integer columns as doubles (float64) whenever these columns may have missing values. See `Handling Integers With Missing Values <https://www.mlflow.org/docs/latest/models.html#handling-integers-with-missing-values>`_ for more details.\n",
      "  warnings.warn(\n"
     ]
    },
    {
     "data": {
      "application/vnd.jupyter.widget-view+json": {
       "model_id": "ba2520cc857a4f498fb51b4395143d19",
       "version_major": 2,
       "version_minor": 0
      },
      "text/plain": [
       "Downloading artifacts:   0%|          | 0/7 [00:00<?, ?it/s]"
      ]
     },
     "metadata": {},
     "output_type": "display_data"
    },
    {
     "name": "stdout",
     "output_type": "stream",
     "text": [
      "Mejores Parámetros: {'C': 0.0001, 'kernel': 'linear'}\n",
      "Mejor Score: 0.6767339784733879\n",
      "Fold 5 Accuracy: 0.6987\n",
      "Tiempo de entrenamiento (segundos): 212.5467\n"
     ]
    },
    {
     "name": "stderr",
     "output_type": "stream",
     "text": [
      "c:\\Users\\colbe\\Documents\\VIU\\TFM\\tfm-clasificador-fuentes-sonoras-ciudad\\.env\\lib\\site-packages\\mlflow\\types\\utils.py:406: UserWarning: Hint: Inferred schema contains integer column(s). Integer columns in Python cannot represent missing values. If your input data contains missing values at inference time, it will be encoded as floats and will cause a schema enforcement error. The best way to avoid this problem is to infer the model schema based on a realistic data sample (training dataset) that includes missing values. Alternatively, you can declare integer columns as doubles (float64) whenever these columns may have missing values. See `Handling Integers With Missing Values <https://www.mlflow.org/docs/latest/models.html#handling-integers-with-missing-values>`_ for more details.\n",
      "  warnings.warn(\n"
     ]
    },
    {
     "data": {
      "application/vnd.jupyter.widget-view+json": {
       "model_id": "3ddb15d2b367418791a01359a10f24bf",
       "version_major": 2,
       "version_minor": 0
      },
      "text/plain": [
       "Downloading artifacts:   0%|          | 0/7 [00:00<?, ?it/s]"
      ]
     },
     "metadata": {},
     "output_type": "display_data"
    },
    {
     "name": "stdout",
     "output_type": "stream",
     "text": [
      "Mejores Parámetros: {'C': 0.0001, 'kernel': 'linear'}\n",
      "Mejor Score: 0.6850320856470739\n",
      "Fold 6 Accuracy: 0.6744\n",
      "Tiempo de entrenamiento (segundos): 204.4354\n"
     ]
    },
    {
     "name": "stderr",
     "output_type": "stream",
     "text": [
      "c:\\Users\\colbe\\Documents\\VIU\\TFM\\tfm-clasificador-fuentes-sonoras-ciudad\\.env\\lib\\site-packages\\mlflow\\types\\utils.py:406: UserWarning: Hint: Inferred schema contains integer column(s). Integer columns in Python cannot represent missing values. If your input data contains missing values at inference time, it will be encoded as floats and will cause a schema enforcement error. The best way to avoid this problem is to infer the model schema based on a realistic data sample (training dataset) that includes missing values. Alternatively, you can declare integer columns as doubles (float64) whenever these columns may have missing values. See `Handling Integers With Missing Values <https://www.mlflow.org/docs/latest/models.html#handling-integers-with-missing-values>`_ for more details.\n",
      "  warnings.warn(\n"
     ]
    },
    {
     "data": {
      "application/vnd.jupyter.widget-view+json": {
       "model_id": "22c5e512a9e34b1bb941138b4d3cf2e9",
       "version_major": 2,
       "version_minor": 0
      },
      "text/plain": [
       "Downloading artifacts:   0%|          | 0/7 [00:00<?, ?it/s]"
      ]
     },
     "metadata": {},
     "output_type": "display_data"
    },
    {
     "name": "stdout",
     "output_type": "stream",
     "text": [
      "Mejores Parámetros: {'C': 0.001, 'kernel': 'linear'}\n",
      "Mejor Score: 0.6832821549469765\n",
      "Fold 7 Accuracy: 0.7136\n",
      "Tiempo de entrenamiento (segundos): 256.3924\n"
     ]
    },
    {
     "name": "stderr",
     "output_type": "stream",
     "text": [
      "c:\\Users\\colbe\\Documents\\VIU\\TFM\\tfm-clasificador-fuentes-sonoras-ciudad\\.env\\lib\\site-packages\\mlflow\\types\\utils.py:406: UserWarning: Hint: Inferred schema contains integer column(s). Integer columns in Python cannot represent missing values. If your input data contains missing values at inference time, it will be encoded as floats and will cause a schema enforcement error. The best way to avoid this problem is to infer the model schema based on a realistic data sample (training dataset) that includes missing values. Alternatively, you can declare integer columns as doubles (float64) whenever these columns may have missing values. See `Handling Integers With Missing Values <https://www.mlflow.org/docs/latest/models.html#handling-integers-with-missing-values>`_ for more details.\n",
      "  warnings.warn(\n"
     ]
    },
    {
     "data": {
      "application/vnd.jupyter.widget-view+json": {
       "model_id": "82d5d6ab85e5498483a80400c6edd265",
       "version_major": 2,
       "version_minor": 0
      },
      "text/plain": [
       "Downloading artifacts:   0%|          | 0/7 [00:00<?, ?it/s]"
      ]
     },
     "metadata": {},
     "output_type": "display_data"
    },
    {
     "name": "stdout",
     "output_type": "stream",
     "text": [
      "Mejores Parámetros: {'C': 0.0001, 'kernel': 'linear'}\n",
      "Mejor Score: 0.6850698026927535\n",
      "Fold 8 Accuracy: 0.6774\n",
      "Tiempo de entrenamiento (segundos): 210.1603\n"
     ]
    },
    {
     "name": "stderr",
     "output_type": "stream",
     "text": [
      "c:\\Users\\colbe\\Documents\\VIU\\TFM\\tfm-clasificador-fuentes-sonoras-ciudad\\.env\\lib\\site-packages\\mlflow\\types\\utils.py:406: UserWarning: Hint: Inferred schema contains integer column(s). Integer columns in Python cannot represent missing values. If your input data contains missing values at inference time, it will be encoded as floats and will cause a schema enforcement error. The best way to avoid this problem is to infer the model schema based on a realistic data sample (training dataset) that includes missing values. Alternatively, you can declare integer columns as doubles (float64) whenever these columns may have missing values. See `Handling Integers With Missing Values <https://www.mlflow.org/docs/latest/models.html#handling-integers-with-missing-values>`_ for more details.\n",
      "  warnings.warn(\n"
     ]
    },
    {
     "data": {
      "application/vnd.jupyter.widget-view+json": {
       "model_id": "35c78eb23492406f984d15d37f073883",
       "version_major": 2,
       "version_minor": 0
      },
      "text/plain": [
       "Downloading artifacts:   0%|          | 0/7 [00:00<?, ?it/s]"
      ]
     },
     "metadata": {},
     "output_type": "display_data"
    },
    {
     "name": "stdout",
     "output_type": "stream",
     "text": [
      "Mejores Parámetros: {'C': 0.0001, 'kernel': 'linear'}\n",
      "Mejor Score: 0.6831504041681032\n",
      "Fold 9 Accuracy: 0.7243\n",
      "Tiempo de entrenamiento (segundos): 187.8662\n"
     ]
    },
    {
     "name": "stderr",
     "output_type": "stream",
     "text": [
      "c:\\Users\\colbe\\Documents\\VIU\\TFM\\tfm-clasificador-fuentes-sonoras-ciudad\\.env\\lib\\site-packages\\mlflow\\types\\utils.py:406: UserWarning: Hint: Inferred schema contains integer column(s). Integer columns in Python cannot represent missing values. If your input data contains missing values at inference time, it will be encoded as floats and will cause a schema enforcement error. The best way to avoid this problem is to infer the model schema based on a realistic data sample (training dataset) that includes missing values. Alternatively, you can declare integer columns as doubles (float64) whenever these columns may have missing values. See `Handling Integers With Missing Values <https://www.mlflow.org/docs/latest/models.html#handling-integers-with-missing-values>`_ for more details.\n",
      "  warnings.warn(\n"
     ]
    },
    {
     "data": {
      "application/vnd.jupyter.widget-view+json": {
       "model_id": "2dc9ac9d02cc44c0921455a9ca3474a2",
       "version_major": 2,
       "version_minor": 0
      },
      "text/plain": [
       "Downloading artifacts:   0%|          | 0/7 [00:00<?, ?it/s]"
      ]
     },
     "metadata": {},
     "output_type": "display_data"
    },
    {
     "name": "stdout",
     "output_type": "stream",
     "text": [
      "Mejores Parámetros: {'C': 0.0001, 'kernel': 'linear'}\n",
      "Mejor Score: 0.6877574561614606\n",
      "Fold 10 Accuracy: 0.6810\n",
      "Tiempo de entrenamiento (segundos): 224.4931\n"
     ]
    },
    {
     "name": "stderr",
     "output_type": "stream",
     "text": [
      "c:\\Users\\colbe\\Documents\\VIU\\TFM\\tfm-clasificador-fuentes-sonoras-ciudad\\.env\\lib\\site-packages\\mlflow\\types\\utils.py:406: UserWarning: Hint: Inferred schema contains integer column(s). Integer columns in Python cannot represent missing values. If your input data contains missing values at inference time, it will be encoded as floats and will cause a schema enforcement error. The best way to avoid this problem is to infer the model schema based on a realistic data sample (training dataset) that includes missing values. Alternatively, you can declare integer columns as doubles (float64) whenever these columns may have missing values. See `Handling Integers With Missing Values <https://www.mlflow.org/docs/latest/models.html#handling-integers-with-missing-values>`_ for more details.\n",
      "  warnings.warn(\n"
     ]
    },
    {
     "data": {
      "application/vnd.jupyter.widget-view+json": {
       "model_id": "2422dc0f29bc42398ba4215093a30b79",
       "version_major": 2,
       "version_minor": 0
      },
      "text/plain": [
       "Downloading artifacts:   0%|          | 0/7 [00:00<?, ?it/s]"
      ]
     },
     "metadata": {},
     "output_type": "display_data"
    },
    {
     "name": "stdout",
     "output_type": "stream",
     "text": [
      "\n",
      "Accuracy promedio: 0.6729\n",
      "Desviación estándar: 0.0417\n",
      "Tiempo de entrenamiento promedio (segundos): 206.0808\n"
     ]
    },
    {
     "data": {
      "image/png": "[encoded data removed]",
      "text/plain": [
       "<Figure size 640x480 with 1 Axes>"
      ]
     },
     "metadata": {},
     "output_type": "display_data"
    }
   ],
   "source": [
    "\n",
    "# Definir el modelo SVM\n",
    "svm = SVC(random_state=42)\n",
    "\n",
    "# Definir la rejilla de parámetros para GridSearchCV\n",
    "param_distributions = {\n",
    "    'C': [0.0001],  \n",
    "    'kernel': ['linear']\n",
    "}\n",
    "\n",
    "# Inicializar lista para almacenar accuracies y tiempos\n",
    "fold_accuracies = []\n",
    "fold_training_times = []  # Lista para almacenar los tiempos de entrenamiento\n",
    "\n",
    "# Realizar la validación cruzada respetando los folds predefinidos\n",
    "for fold in range(1, 11):  # Hay 10 folds en UrbanSound8K\n",
    "    # Dividir el dataset en entrenamiento y prueba\n",
    "    train_index = folds != fold\n",
    "    test_index = folds == fold\n",
    "    \n",
    "    X_train, X_test = X_caracteristicas[train_index], X_caracteristicas[test_index]\n",
    "    y_train, y_test = y[train_index], y[test_index]\n",
    "\n",
    "    # Configurar GridSearchCV\n",
    "    grid_search = GridSearchCV(\n",
    "        estimator=svm, \n",
    "        param_grid=param_distributions, \n",
    "        cv=10,  # Validación cruzada interna con 10 pliegues\n",
    "        scoring='accuracy',  # Métrica para optimizar\n",
    "        n_jobs=-1  # Usar todos los núcleos disponibles\n",
    "    )\n",
    "\n",
    "    # Medir el tiempo de entrenamiento\n",
    "    start_time = time.time()  # Inicio del tiempo\n",
    "\n",
    "    # Entrenar el modelo con la búsqueda de hiperparámetros\n",
    "    grid_search.fit(X_train, y_train)\n",
    "\n",
    "    # Tiempo de finalización\n",
    "    end_time = time.time()\n",
    "\n",
    "    # Calcular el tiempo de entrenamiento\n",
    "    training_time = end_time - start_time\n",
    "    fold_training_times.append(training_time)\n",
    "\n",
    "    # Obtener el mejor modelo\n",
    "    best_svm = grid_search.best_estimator_\n",
    "\n",
    "    # Obtener los mejores parámetros y el mejor score\n",
    "    best_params = grid_search.best_params_\n",
    "    best_score = grid_search.best_score_\n",
    "    \n",
    "    # Predecir y evaluar\n",
    "    y_pred = best_svm.predict(X_test)\n",
    "    accuracy_val = accuracy_score(y_test, y_pred)\n",
    "    f1_val = f1_score(y_test, y_pred, average='weighted' )\n",
    "    precision_val = precision_score(y_test, y_pred, average='weighted')\n",
    "    recall_val = recall_score(y_test, y_pred, average='weighted') \n",
    "    fold_accuracies.append(accuracy_val)\n",
    "\n",
    "    print(f\"Mejores Parámetros: {best_params}\")\n",
    "    print(f\"Mejor Score: {best_score}\")\n",
    "    print(f\"Fold {fold} Accuracy: {accuracy_val:.4f}\")\n",
    "    print(f\"Tiempo de entrenamiento (segundos): {training_time:.4f}\")\n",
    "\n",
    "    with mlflow.start_run(run_name=f\"SVM GSCV MFCC{mfcc_n_coeficiente} Fold_{fold}\") as run:\n",
    "        # Registrar los parámetros y métricas en MLflow\n",
    "        mlflow.log_params(best_params)\n",
    "\n",
    "        param_auxilares = {\n",
    "            \"mfcc_coeficiente\": mfcc_n_coeficiente, \n",
    "            \"fold\": fold,\n",
    "            \"cv\": \"GSCV\", \n",
    "            \"model\": \"SVM\"\n",
    "        }\n",
    "\n",
    "        mlflow.log_params(param_auxilares)        \n",
    "        mlflow.set_tags(param_auxilares) \n",
    "\n",
    "        # Registrar la métrica de este fold\n",
    "        mlflow.log_metric(f\"accuracy_score\", accuracy_val)\n",
    "        mlflow.log_metric(f\"f1_weighted_score\", f1_val)\n",
    "        mlflow.log_metric(f\"precision_weighted_score\", precision_val)\n",
    "        mlflow.log_metric(f\"recall_weighted_score\", recall_val)\n",
    "\n",
    "        # Registrar el tiempo de entrenamiento\n",
    "        mlflow.log_metric(f\"training_time_seconds\", training_time)\n",
    "\n",
    "        # Guardar el modelo en MLflow con un ejemplo de entrada\n",
    "        input_example = X_test[:1]  # Ejemplo de entrada, una sola muestra de prueba\n",
    "        mlflow.sklearn.log_model(best_svm, f\"svm_gscv_mfcc{mfcc_n_coeficiente}_fold_{fold}\", input_example=input_example)\n",
    "\n",
    "        # Se finaliza el registro\n",
    "        mlflow.end_run()\n",
    "\n",
    "\n",
    "# Mostrar el promedio y desviación estándar\n",
    "mean_accuracy = np.mean(fold_accuracies)\n",
    "std_accuracy = np.std(fold_accuracies)\n",
    "mean_training_time = np.mean(fold_training_times)\n",
    "\n",
    "print(f\"\\nAccuracy promedio: {mean_accuracy:.4f}\")\n",
    "print(f\"Desviación estándar: {std_accuracy:.4f}\")\n",
    "print(f\"Tiempo de entrenamiento promedio (segundos): {mean_training_time:.4f}\")\n",
    "\n",
    "# Opcional: Visualizar los resultados con un boxplot\n",
    "plt.boxplot(fold_accuracies)\n",
    "plt.title(f'Distribución de Accuracy en SVM GSCV MFCC{mfcc_n_coeficiente}')\n",
    "plt.ylabel('Accuracy')\n",
    "plt.show()\n"
   ]
  },
  {
   "cell_type": "markdown",
   "metadata": {},
   "source": [
    "# Grafico de comparacion"
   ]
  },
  {
   "cell_type": "code",
   "execution_count": null,
   "metadata": {},
   "outputs": [
    {
     "name": "stderr",
     "output_type": "stream",
     "text": [
      "C:\\Users\\colbe\\AppData\\Local\\Temp\\ipykernel_344\\388596318.py:56: FutureWarning: \n",
      "\n",
      "Passing `palette` without assigning `hue` is deprecated and will be removed in v0.14.0. Assign the `x` variable to `hue` and set `legend=False` for the same effect.\n",
      "\n",
      "  sns.boxplot(x='Modelo', y='Accuracy', data=df[df['MFCC'] == mfcc], palette='Set2')\n"
     ]
    },
    {
     "data": {
      "image/png": "[encoded data removed]",
      "text/plain": [
       "<Figure size 800x600 with 1 Axes>"
      ]
     },
     "metadata": {},
     "output_type": "display_data"
    },
    {
     "name": "stderr",
     "output_type": "stream",
     "text": [
      "C:\\Users\\colbe\\AppData\\Local\\Temp\\ipykernel_344\\388596318.py:56: FutureWarning: \n",
      "\n",
      "Passing `palette` without assigning `hue` is deprecated and will be removed in v0.14.0. Assign the `x` variable to `hue` and set `legend=False` for the same effect.\n",
      "\n",
      "  sns.boxplot(x='Modelo', y='Accuracy', data=df[df['MFCC'] == mfcc], palette='Set2')\n"
     ]
    },
    {
     "data": {
      "image/png": "[encoded data removed]",
      "text/plain": [
       "<Figure size 800x600 with 1 Axes>"
      ]
     },
     "metadata": {},
     "output_type": "display_data"
    },
    {
     "name": "stderr",
     "output_type": "stream",
     "text": [
      "C:\\Users\\colbe\\AppData\\Local\\Temp\\ipykernel_344\\388596318.py:56: FutureWarning: \n",
      "\n",
      "Passing `palette` without assigning `hue` is deprecated and will be removed in v0.14.0. Assign the `x` variable to `hue` and set `legend=False` for the same effect.\n",
      "\n",
      "  sns.boxplot(x='Modelo', y='Accuracy', data=df[df['MFCC'] == mfcc], palette='Set2')\n"
     ]
    },
    {
     "data": {
      "image/png": "[encoded data removed]",
      "text/plain": [
       "<Figure size 800x600 with 1 Axes>"
      ]
     },
     "metadata": {},
     "output_type": "display_data"
    },
    {
     "name": "stderr",
     "output_type": "stream",
     "text": [
      "C:\\Users\\colbe\\AppData\\Local\\Temp\\ipykernel_344\\388596318.py:56: FutureWarning: \n",
      "\n",
      "Passing `palette` without assigning `hue` is deprecated and will be removed in v0.14.0. Assign the `x` variable to `hue` and set `legend=False` for the same effect.\n",
      "\n",
      "  sns.boxplot(x='Modelo', y='Accuracy', data=df[df['MFCC'] == mfcc], palette='Set2')\n"
     ]
    },
    {
     "data": {
      "image/png": "[encoded data removed]",
      "text/plain": [
       "<Figure size 800x600 with 1 Axes>"
      ]
     },
     "metadata": {},
     "output_type": "display_data"
    }
   ],
   "source": [
    "import pandas as pd\n",
    "import seaborn as sns\n",
    "import matplotlib.pyplot as plt\n",
    "\n",
    "# Paso 1: Organizar tus datos en un DataFrame\n",
    "\n",
    "# Crear una lista con los nombres de los folds\n",
    "folds = ['FOLD1', 'FOLD2', 'FOLD3', 'FOLD4', 'FOLD5', 'FOLD6', 'FOLD7', 'FOLD8', 'FOLD9', 'FOLD10']\n",
    "\n",
    "# Datos de exactitud para cada modelo y configuración de MFCC\n",
    "data = {\n",
    "    'FOLD': folds * 12,  # 10 folds para cada combinación de modelo y MFCC (10 folds x 12 combinaciones)\n",
    "    'MFCC': ['MFCC10'] * 30 + ['MFCC13'] * 30 + ['MFCC15'] * 30 + ['MFCC20'] * 30,\n",
    "    'Modelo': (['KNN'] * 10 + ['RF'] * 10 + ['SVM'] * 10) * 4,\n",
    "    'Accuracy': [\n",
    "        # MFCC10 - KNN\n",
    "        0.51, 0.53, 0.49, 0.58, 0.62, 0.52, 0.50, 0.53, 0.62, 0.59,\n",
    "        # MFCC10 - RF\n",
    "        0.67, 0.63, 0.54, 0.72, 0.71, 0.67, 0.68, 0.67, 0.70, 0.74,\n",
    "        # MFCC10 - SVM\n",
    "        0.62, 0.58, 0.54, 0.66, 0.66, 0.65, 0.71, 0.71, 0.66, 0.63,\n",
    "        # MFCC13 - KNN\n",
    "        0.51, 0.54, 0.47, 0.59, 0.64, 0.54, 0.51, 0.54, 0.64, 0.58,\n",
    "        # MFCC13 - RF\n",
    "        0.68, 0.66, 0.56, 0.70, 0.71, 0.69, 0.69, 0.67, 0.71, 0.74,\n",
    "        # MFCC13 - SVM\n",
    "        0.64, 0.62, 0.56, 0.63, 0.66, 0.66, 0.71, 0.71, 0.71, 0.65,\n",
    "        # MFCC15 - KNN\n",
    "        0.51, 0.55, 0.49, 0.60, 0.64, 0.55, 0.52, 0.52, 0.64, 0.60,\n",
    "        # MFCC15 - RF\n",
    "        0.69, 0.68, 0.56, 0.72, 0.74, 0.68, 0.69, 0.72, 0.71, 0.76,\n",
    "        # MFCC15 - SVM\n",
    "        0.66, 0.63, 0.57, 0.66, 0.66, 0.673, 0.698, 0.699, 0.701, 0.64,\n",
    "        # MFCC20 - KNN\n",
    "        0.53, 0.57, 0.52, 0.62, 0.65, 0.59, 0.54, 0.53, 0.65, 0.60,\n",
    "        # MFCC20 - RF\n",
    "        0.71, 0.72, 0.57, 0.70, 0.76, 0.69, 0.68, 0.73, 0.72, 0.77,\n",
    "        # MFCC20 - SVM\n",
    "        0.63, 0.63, 0.58, 0.67, 0.71, 0.68, 0.71, 0.66, 0.73, 0.66\n",
    "    ]\n",
    "}\n",
    "\n",
    "# Crear el DataFrame\n",
    "df = pd.DataFrame(data)\n",
    "\n",
    "# Ajustar la columna 'Modelo' para que se repita correctamente\n",
    "models = ['KNN'] * 10 + ['RF'] * 10 + ['SVM'] * 10\n",
    "df['Modelo'] = models * 4  # Multiplicar por 4 porque hay 4 configuraciones de MFCC\n",
    "\n",
    "# Paso 2: Crear un DataFrame separado para cada MFCC y generar los boxplots\n",
    "\n",
    "mfcc_list = ['MFCC10', 'MFCC13', 'MFCC15', 'MFCC20']\n",
    "\n",
    "for mfcc in mfcc_list:\n",
    "    plt.figure(figsize=(8, 6))\n",
    "    sns.boxplot(x='Modelo', y='Accuracy', data=df[df['MFCC'] == mfcc], palette='Set2')\n",
    "    plt.title(f'Comparación de Accuracy para {mfcc}')\n",
    "    plt.ylabel('Accuracy')\n",
    "    plt.xlabel('Modelo')\n",
    "    plt.grid(axis='y')\n",
    "    plt.show()\n"
   ]
  },
  {
   "cell_type": "code",
   "execution_count": null,
   "metadata": {},
   "outputs": [
    {
     "data": {
      "image/png": "[encoded data removed]",
      "text/plain": [
       "<Figure size 1200x600 with 1 Axes>"
      ]
     },
     "metadata": {},
     "output_type": "display_data"
    }
   ],
   "source": [
    "plt.figure(figsize=(12, 6))\n",
    "sns.boxplot(x='Modelo', y='Accuracy', hue='MFCC', data=df, palette='Set3')\n",
    "plt.title('Comparación de Accuracy entre Modelos y Configuraciones MFCC')\n",
    "plt.ylabel('Accuracy')\n",
    "plt.xlabel('Modelo')\n",
    "plt.legend(title='MFCC')\n",
    "plt.grid(axis='y')\n",
    "plt.show()\n"
   ]
  },
  {
   "cell_type": "code",
   "execution_count": null,
   "metadata": {},
   "outputs": [
    {
     "name": "stdout",
     "output_type": "stream",
     "text": [
      "<scipy.stats._distn_infrastructure.rv_continuous_frozen object at 0x00000221A5A3A9E0>\n"
     ]
    }
   ],
   "source": []
  }
 ],
 "metadata": {
  "kernelspec": {
   "display_name": "huemul",
   "language": "python",
   "name": "python3"
  },
  "language_info": {
   "codemirror_mode": {
    "name": "ipython",
    "version": 3
   },
   "file_extension": ".py",
   "mimetype": "text/x-python",
   "name": "python",
   "nbconvert_exporter": "python",
   "pygments_lexer": "ipython3",
   "version": "3.10.5"
  }
 },
 "nbformat": 4,
 "nbformat_minor": 2
}
