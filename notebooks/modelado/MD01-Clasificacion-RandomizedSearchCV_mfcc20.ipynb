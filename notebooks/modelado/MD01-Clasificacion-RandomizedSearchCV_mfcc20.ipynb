{
 "cells": [
  {
   "cell_type": "markdown",
   "metadata": {},
   "source": [
    "# Importación de librerías"
   ]
  },
  {
   "cell_type": "code",
   "execution_count": 7,
   "metadata": {},
   "outputs": [],
   "source": [
    "import pandas as pd\n",
    "import numpy as np\n",
    "import time \n",
    "\n",
    "import os\n",
    "import librosa\n",
    "import librosa.display\n",
    "\n",
    "import matplotlib.pyplot as plt\n",
    "import seaborn as sns\n",
    "\n",
    "import mlflow\n"
   ]
  },
  {
   "cell_type": "code",
   "execution_count": 8,
   "metadata": {},
   "outputs": [],
   "source": [
    "from sklearn.model_selection import train_test_split\n",
    "from sklearn.metrics import classification_report, accuracy_score\n",
    "\n",
    "from sklearn.neighbors import KNeighborsClassifier\n",
    "from sklearn.ensemble import RandomForestClassifier\n",
    "from sklearn.svm import SVC\n",
    "\n",
    "from sklearn.model_selection import GridSearchCV, RandomizedSearchCV\n",
    "from sklearn.model_selection import KFold\n",
    "\n",
    "from sklearn.preprocessing import MinMaxScaler, StandardScaler\n",
    "\n",
    "from sklearn.metrics import accuracy_score \n",
    "from sklearn.metrics import confusion_matrix, ConfusionMatrixDisplay"
   ]
  },
  {
   "cell_type": "markdown",
   "metadata": {},
   "source": [
    "# Lectura del dataset"
   ]
  },
  {
   "cell_type": "code",
   "execution_count": 9,
   "metadata": {},
   "outputs": [],
   "source": [
    "urbansound8k_path = \"../../data/raw/UrbanSound8K/\"\n",
    "\n",
    "# Primer dataset - Carpeta con los audios\n",
    "urbansound8k_audio_path = \"audio/\"\n",
    "\n",
    "# Segundo dataset - Archivo CSV con metadatos sobre los audios\n",
    "urbansound8k_metadata_path_file = \"metadata/UrbanSound8K.csv\" \n",
    "\n",
    "# Dataset input\n",
    "dataset_input_path = \"../../data/processed/dataset_mfcc_20.csv\"\n"
   ]
  },
  {
   "cell_type": "code",
   "execution_count": 10,
   "metadata": {},
   "outputs": [
    {
     "data": {
      "text/html": [
       "<div>\n",
       "<style scoped>\n",
       "    .dataframe tbody tr th:only-of-type {\n",
       "        vertical-align: middle;\n",
       "    }\n",
       "\n",
       "    .dataframe tbody tr th {\n",
       "        vertical-align: top;\n",
       "    }\n",
       "\n",
       "    .dataframe thead th {\n",
       "        text-align: right;\n",
       "    }\n",
       "</style>\n",
       "<table border=\"1\" class=\"dataframe\">\n",
       "  <thead>\n",
       "    <tr style=\"text-align: right;\">\n",
       "      <th></th>\n",
       "      <th>fold</th>\n",
       "      <th>classID</th>\n",
       "      <th>mfcc_mean_1</th>\n",
       "      <th>mfcc_mean_2</th>\n",
       "      <th>mfcc_mean_3</th>\n",
       "      <th>mfcc_mean_4</th>\n",
       "      <th>mfcc_mean_5</th>\n",
       "      <th>mfcc_mean_6</th>\n",
       "      <th>mfcc_mean_7</th>\n",
       "      <th>mfcc_mean_8</th>\n",
       "      <th>...</th>\n",
       "      <th>delta2_mfcc_var_1</th>\n",
       "      <th>delta2_mfcc_var_2</th>\n",
       "      <th>delta2_mfcc_var_3</th>\n",
       "      <th>delta2_mfcc_var_4</th>\n",
       "      <th>delta2_mfcc_var_5</th>\n",
       "      <th>delta2_mfcc_var_6</th>\n",
       "      <th>delta2_mfcc_var_7</th>\n",
       "      <th>delta2_mfcc_var_8</th>\n",
       "      <th>delta2_mfcc_var_9</th>\n",
       "      <th>delta2_mfcc_var_10</th>\n",
       "    </tr>\n",
       "  </thead>\n",
       "  <tbody>\n",
       "    <tr>\n",
       "      <th>0</th>\n",
       "      <td>5</td>\n",
       "      <td>3</td>\n",
       "      <td>-275.91843</td>\n",
       "      <td>119.49280</td>\n",
       "      <td>-98.21178</td>\n",
       "      <td>-66.515140</td>\n",
       "      <td>-42.606050</td>\n",
       "      <td>0.505066</td>\n",
       "      <td>-28.330938</td>\n",
       "      <td>-5.746867</td>\n",
       "      <td>...</td>\n",
       "      <td>112.505020</td>\n",
       "      <td>213.598100</td>\n",
       "      <td>39.538475</td>\n",
       "      <td>116.963340</td>\n",
       "      <td>28.015196</td>\n",
       "      <td>153.756260</td>\n",
       "      <td>35.081203</td>\n",
       "      <td>40.550793</td>\n",
       "      <td>19.388300</td>\n",
       "      <td>49.317924</td>\n",
       "    </tr>\n",
       "    <tr>\n",
       "      <th>1</th>\n",
       "      <td>5</td>\n",
       "      <td>2</td>\n",
       "      <td>-500.90840</td>\n",
       "      <td>185.10641</td>\n",
       "      <td>-86.53282</td>\n",
       "      <td>49.858850</td>\n",
       "      <td>9.230822</td>\n",
       "      <td>22.548956</td>\n",
       "      <td>-3.567175</td>\n",
       "      <td>12.220052</td>\n",
       "      <td>...</td>\n",
       "      <td>45.168175</td>\n",
       "      <td>41.733723</td>\n",
       "      <td>32.465210</td>\n",
       "      <td>30.765085</td>\n",
       "      <td>34.802017</td>\n",
       "      <td>35.170403</td>\n",
       "      <td>32.595600</td>\n",
       "      <td>35.089226</td>\n",
       "      <td>29.046677</td>\n",
       "      <td>31.543688</td>\n",
       "    </tr>\n",
       "    <tr>\n",
       "      <th>2</th>\n",
       "      <td>5</td>\n",
       "      <td>2</td>\n",
       "      <td>-531.19530</td>\n",
       "      <td>186.93994</td>\n",
       "      <td>-70.34916</td>\n",
       "      <td>40.429245</td>\n",
       "      <td>9.121047</td>\n",
       "      <td>18.398588</td>\n",
       "      <td>6.283282</td>\n",
       "      <td>15.504061</td>\n",
       "      <td>...</td>\n",
       "      <td>37.555386</td>\n",
       "      <td>37.222927</td>\n",
       "      <td>33.088345</td>\n",
       "      <td>33.774395</td>\n",
       "      <td>34.858345</td>\n",
       "      <td>33.916622</td>\n",
       "      <td>30.953386</td>\n",
       "      <td>31.146223</td>\n",
       "      <td>27.312347</td>\n",
       "      <td>28.527649</td>\n",
       "    </tr>\n",
       "  </tbody>\n",
       "</table>\n",
       "<p>3 rows × 112 columns</p>\n",
       "</div>"
      ],
      "text/plain": [
       "   fold  classID  mfcc_mean_1  mfcc_mean_2  mfcc_mean_3  mfcc_mean_4  \\\n",
       "0     5        3   -275.91843    119.49280    -98.21178   -66.515140   \n",
       "1     5        2   -500.90840    185.10641    -86.53282    49.858850   \n",
       "2     5        2   -531.19530    186.93994    -70.34916    40.429245   \n",
       "\n",
       "   mfcc_mean_5  mfcc_mean_6  mfcc_mean_7  mfcc_mean_8  ...  delta2_mfcc_var_1  \\\n",
       "0   -42.606050     0.505066   -28.330938    -5.746867  ...         112.505020   \n",
       "1     9.230822    22.548956    -3.567175    12.220052  ...          45.168175   \n",
       "2     9.121047    18.398588     6.283282    15.504061  ...          37.555386   \n",
       "\n",
       "   delta2_mfcc_var_2  delta2_mfcc_var_3  delta2_mfcc_var_4  delta2_mfcc_var_5  \\\n",
       "0         213.598100          39.538475         116.963340          28.015196   \n",
       "1          41.733723          32.465210          30.765085          34.802017   \n",
       "2          37.222927          33.088345          33.774395          34.858345   \n",
       "\n",
       "   delta2_mfcc_var_6  delta2_mfcc_var_7  delta2_mfcc_var_8  delta2_mfcc_var_9  \\\n",
       "0         153.756260          35.081203          40.550793          19.388300   \n",
       "1          35.170403          32.595600          35.089226          29.046677   \n",
       "2          33.916622          30.953386          31.146223          27.312347   \n",
       "\n",
       "   delta2_mfcc_var_10  \n",
       "0           49.317924  \n",
       "1           31.543688  \n",
       "2           28.527649  \n",
       "\n",
       "[3 rows x 112 columns]"
      ]
     },
     "execution_count": 10,
     "metadata": {},
     "output_type": "execute_result"
    }
   ],
   "source": [
    "# Lectura\n",
    "dataset_urbansound8k_df = pd.read_csv(dataset_input_path, sep=\";\")\n",
    "dataset_urbansound8k_df.head(3)"
   ]
  },
  {
   "cell_type": "code",
   "execution_count": 11,
   "metadata": {},
   "outputs": [
    {
     "name": "stdout",
     "output_type": "stream",
     "text": [
      "Cantidad de columnas: 112\n",
      "Cantidad de filas: 8732\n",
      "Columnas del dataset:\n",
      "'fold', 'classID', 'mfcc_mean_1', 'mfcc_mean_2', \n",
      "'mfcc_mean_3', 'mfcc_mean_4', 'mfcc_mean_5', 'mfcc_mean_6', 'mfcc_mean_7', \n",
      "'mfcc_mean_8', 'mfcc_mean_9', 'mfcc_mean_10', 'mfcc_median_1', 'mfcc_median_2', \n",
      "'mfcc_median_3', 'mfcc_median_4', 'mfcc_median_5', 'mfcc_median_6', 'mfcc_median_7', \n",
      "'mfcc_median_8', 'mfcc_median_9', 'mfcc_median_10', 'mfcc_min_1', 'mfcc_min_2', \n",
      "'mfcc_min_3', 'mfcc_min_4', 'mfcc_min_5', 'mfcc_min_6', 'mfcc_min_7', \n",
      "'mfcc_min_8', 'mfcc_min_9', 'mfcc_min_10', 'mfcc_max_1', 'mfcc_max_2', \n",
      "'mfcc_max_3', 'mfcc_max_4', 'mfcc_max_5', 'mfcc_max_6', 'mfcc_max_7', \n",
      "'mfcc_max_8', 'mfcc_max_9', 'mfcc_max_10', 'mfcc_var_1', 'mfcc_var_2', \n",
      "'mfcc_var_3', 'mfcc_var_4', 'mfcc_var_5', 'mfcc_var_6', 'mfcc_var_7', \n",
      "'mfcc_var_8', 'mfcc_var_9', 'mfcc_var_10', 'mfcc_skew_1', 'mfcc_skew_2', \n",
      "'mfcc_skew_3', 'mfcc_skew_4', 'mfcc_skew_5', 'mfcc_skew_6', 'mfcc_skew_7', \n",
      "'mfcc_skew_8', 'mfcc_skew_9', 'mfcc_skew_10', 'mfcc_kurt_1', 'mfcc_kurt_2', \n",
      "'mfcc_kurt_3', 'mfcc_kurt_4', 'mfcc_kurt_5', 'mfcc_kurt_6', 'mfcc_kurt_7', \n",
      "'mfcc_kurt_8', 'mfcc_kurt_9', 'mfcc_kurt_10', 'delta_mfcc_mean_1', 'delta_mfcc_mean_2', \n",
      "'delta_mfcc_mean_3', 'delta_mfcc_mean_4', 'delta_mfcc_mean_5', 'delta_mfcc_mean_6', 'delta_mfcc_mean_7', \n",
      "'delta_mfcc_mean_8', 'delta_mfcc_mean_9', 'delta_mfcc_mean_10', 'delta_mfcc_var_1', 'delta_mfcc_var_2', \n",
      "'delta_mfcc_var_3', 'delta_mfcc_var_4', 'delta_mfcc_var_5', 'delta_mfcc_var_6', 'delta_mfcc_var_7', \n",
      "'delta_mfcc_var_8', 'delta_mfcc_var_9', 'delta_mfcc_var_10', 'delta2_mfcc_mean_1', 'delta2_mfcc_mean_2', \n",
      "'delta2_mfcc_mean_3', 'delta2_mfcc_mean_4', 'delta2_mfcc_mean_5', 'delta2_mfcc_mean_6', 'delta2_mfcc_mean_7', \n",
      "'delta2_mfcc_mean_8', 'delta2_mfcc_mean_9', 'delta2_mfcc_mean_10', 'delta2_mfcc_var_1', 'delta2_mfcc_var_2', \n",
      "'delta2_mfcc_var_3', 'delta2_mfcc_var_4', 'delta2_mfcc_var_5', 'delta2_mfcc_var_6', 'delta2_mfcc_var_7', \n",
      "'delta2_mfcc_var_8', 'delta2_mfcc_var_9', 'delta2_mfcc_var_10', "
     ]
    }
   ],
   "source": [
    "print(f\"Cantidad de columnas: {dataset_urbansound8k_df.shape[1]}\")\n",
    "print(f\"Cantidad de filas: {dataset_urbansound8k_df.shape[0]}\")\n",
    "\n",
    "print(\"Columnas del dataset:\")\n",
    "contador = 0\n",
    "for name in dataset_urbansound8k_df.columns:\n",
    "    contador +=1\n",
    "    if contador%5==0:\n",
    "        print(\"\")        \n",
    "    print(f\"'{name}'\", end=\", \")"
   ]
  },
  {
   "cell_type": "markdown",
   "metadata": {},
   "source": [
    "# Generación datos de entrenamiento y prueba"
   ]
  },
  {
   "cell_type": "code",
   "execution_count": 12,
   "metadata": {},
   "outputs": [],
   "source": [
    "# Separar las características y la variable objetivo\n",
    "# ['tasa_cruce_cero', 'entropia_espectograma', 'avg_centroide_espectral'\n",
    "columnas_caracteristicas_mfcc = [col for col in dataset_urbansound8k_df.columns if 'mfcc' in col]\n",
    "columna_predecir = 'classID'\n",
    "columna_fold = 'fold'\n",
    "\n",
    "# Separar las características y etiquetas\n",
    "X_caracteristicas = dataset_urbansound8k_df[columnas_caracteristicas_mfcc]  # 'classID' es la etiqueta y 'fold' el número de fold\n",
    "y = dataset_urbansound8k_df[columna_predecir]\n",
    "folds = dataset_urbansound8k_df['fold']"
   ]
  },
  {
   "cell_type": "markdown",
   "metadata": {},
   "source": [
    "# Modelos de Clasificacion"
   ]
  },
  {
   "cell_type": "code",
   "execution_count": 13,
   "metadata": {},
   "outputs": [
    {
     "name": "stderr",
     "output_type": "stream",
     "text": [
      "2024/10/26 18:47:15 INFO mlflow.tracking.fluent: Experiment with name 'RSCV MFCC10 ' does not exist. Creating a new experiment.\n"
     ]
    },
    {
     "data": {
      "text/plain": [
       "<Experiment: artifact_location='file:///c:/Users/colbe/Documents/VIU/TFM/tfm-clasificador-fuentes-sonoras-ciudad/notebooks/modelado/mlruns/869989259800020411', creation_time=1729986435799, experiment_id='869989259800020411', last_update_time=1729986435799, lifecycle_stage='active', name='RSCV MFCC10 ', tags={}>"
      ]
     },
     "execution_count": 13,
     "metadata": {},
     "output_type": "execute_result"
    }
   ],
   "source": [
    "# Iniciar el experimento en MLflow\n",
    "mlflow.set_experiment(\"RSCV MFCC20 \")"
   ]
  },
  {
   "cell_type": "markdown",
   "metadata": {},
   "source": [
    "## KNeighborsClassifier"
   ]
  },
  {
   "cell_type": "code",
   "execution_count": 14,
   "metadata": {},
   "outputs": [
    {
     "name": "stdout",
     "output_type": "stream",
     "text": [
      "Mejores Parámetros: {'weights': 'uniform', 'n_neighbors': 5, 'metric': 'manhattan'}\n",
      "Mejor Score: 0.5682527025493915\n",
      "Fold 1 Accuracy: 0.5086\n",
      "Tiempo de entrenamiento (segundos): 14.2903\n"
     ]
    },
    {
     "name": "stderr",
     "output_type": "stream",
     "text": [
      "c:\\Users\\colbe\\Documents\\VIU\\TFM\\tfm-clasificador-fuentes-sonoras-ciudad\\.env\\lib\\site-packages\\mlflow\\types\\utils.py:406: UserWarning: Hint: Inferred schema contains integer column(s). Integer columns in Python cannot represent missing values. If your input data contains missing values at inference time, it will be encoded as floats and will cause a schema enforcement error. The best way to avoid this problem is to infer the model schema based on a realistic data sample (training dataset) that includes missing values. Alternatively, you can declare integer columns as doubles (float64) whenever these columns may have missing values. See `Handling Integers With Missing Values <https://www.mlflow.org/docs/latest/models.html#handling-integers-with-missing-values>`_ for more details.\n",
      "  warnings.warn(\n"
     ]
    },
    {
     "data": {
      "application/vnd.jupyter.widget-view+json": {
       "model_id": "9c9f00ad128b4ef080a6e9abf8988d96",
       "version_major": 2,
       "version_minor": 0
      },
      "text/plain": [
       "Downloading artifacts:   0%|          | 0/7 [00:00<?, ?it/s]"
      ]
     },
     "metadata": {},
     "output_type": "display_data"
    },
    {
     "name": "stdout",
     "output_type": "stream",
     "text": [
      "Mejores Parámetros: {'weights': 'uniform', 'n_neighbors': 5, 'metric': 'manhattan'}\n",
      "Mejor Score: 0.5673115169634733\n",
      "Fold 2 Accuracy: 0.5304\n",
      "Tiempo de entrenamiento (segundos): 9.4830\n"
     ]
    },
    {
     "name": "stderr",
     "output_type": "stream",
     "text": [
      "c:\\Users\\colbe\\Documents\\VIU\\TFM\\tfm-clasificador-fuentes-sonoras-ciudad\\.env\\lib\\site-packages\\mlflow\\types\\utils.py:406: UserWarning: Hint: Inferred schema contains integer column(s). Integer columns in Python cannot represent missing values. If your input data contains missing values at inference time, it will be encoded as floats and will cause a schema enforcement error. The best way to avoid this problem is to infer the model schema based on a realistic data sample (training dataset) that includes missing values. Alternatively, you can declare integer columns as doubles (float64) whenever these columns may have missing values. See `Handling Integers With Missing Values <https://www.mlflow.org/docs/latest/models.html#handling-integers-with-missing-values>`_ for more details.\n",
      "  warnings.warn(\n"
     ]
    },
    {
     "data": {
      "application/vnd.jupyter.widget-view+json": {
       "model_id": "443f76eb87c74bfbb03343f0e8615c48",
       "version_major": 2,
       "version_minor": 0
      },
      "text/plain": [
       "Downloading artifacts:   0%|          | 0/7 [00:00<?, ?it/s]"
      ]
     },
     "metadata": {},
     "output_type": "display_data"
    },
    {
     "name": "stdout",
     "output_type": "stream",
     "text": [
      "Mejores Parámetros: {'weights': 'uniform', 'n_neighbors': 10, 'metric': 'manhattan'}\n",
      "Mejor Score: 0.5781934731934731\n",
      "Fold 3 Accuracy: 0.4886\n",
      "Tiempo de entrenamiento (segundos): 10.0709\n"
     ]
    },
    {
     "name": "stderr",
     "output_type": "stream",
     "text": [
      "c:\\Users\\colbe\\Documents\\VIU\\TFM\\tfm-clasificador-fuentes-sonoras-ciudad\\.env\\lib\\site-packages\\mlflow\\types\\utils.py:406: UserWarning: Hint: Inferred schema contains integer column(s). Integer columns in Python cannot represent missing values. If your input data contains missing values at inference time, it will be encoded as floats and will cause a schema enforcement error. The best way to avoid this problem is to infer the model schema based on a realistic data sample (training dataset) that includes missing values. Alternatively, you can declare integer columns as doubles (float64) whenever these columns may have missing values. See `Handling Integers With Missing Values <https://www.mlflow.org/docs/latest/models.html#handling-integers-with-missing-values>`_ for more details.\n",
      "  warnings.warn(\n"
     ]
    },
    {
     "data": {
      "application/vnd.jupyter.widget-view+json": {
       "model_id": "c979c29e8cd441229cdd441826081fb1",
       "version_major": 2,
       "version_minor": 0
      },
      "text/plain": [
       "Downloading artifacts:   0%|          | 0/7 [00:00<?, ?it/s]"
      ]
     },
     "metadata": {},
     "output_type": "display_data"
    },
    {
     "name": "stdout",
     "output_type": "stream",
     "text": [
      "Mejores Parámetros: {'weights': 'uniform', 'n_neighbors': 10, 'metric': 'manhattan'}\n",
      "Mejor Score: 0.5691046094857048\n",
      "Fold 4 Accuracy: 0.5838\n",
      "Tiempo de entrenamiento (segundos): 9.9479\n"
     ]
    },
    {
     "name": "stderr",
     "output_type": "stream",
     "text": [
      "c:\\Users\\colbe\\Documents\\VIU\\TFM\\tfm-clasificador-fuentes-sonoras-ciudad\\.env\\lib\\site-packages\\mlflow\\types\\utils.py:406: UserWarning: Hint: Inferred schema contains integer column(s). Integer columns in Python cannot represent missing values. If your input data contains missing values at inference time, it will be encoded as floats and will cause a schema enforcement error. The best way to avoid this problem is to infer the model schema based on a realistic data sample (training dataset) that includes missing values. Alternatively, you can declare integer columns as doubles (float64) whenever these columns may have missing values. See `Handling Integers With Missing Values <https://www.mlflow.org/docs/latest/models.html#handling-integers-with-missing-values>`_ for more details.\n",
      "  warnings.warn(\n"
     ]
    },
    {
     "data": {
      "application/vnd.jupyter.widget-view+json": {
       "model_id": "1450644786da47ac9c28062e847e4ed9",
       "version_major": 2,
       "version_minor": 0
      },
      "text/plain": [
       "Downloading artifacts:   0%|          | 0/7 [00:00<?, ?it/s]"
      ]
     },
     "metadata": {},
     "output_type": "display_data"
    },
    {
     "name": "stdout",
     "output_type": "stream",
     "text": [
      "Mejores Parámetros: {'weights': 'uniform', 'n_neighbors': 5, 'metric': 'manhattan'}\n",
      "Mejor Score: 0.5506530397287779\n",
      "Fold 5 Accuracy: 0.6218\n",
      "Tiempo de entrenamiento (segundos): 10.0116\n"
     ]
    },
    {
     "name": "stderr",
     "output_type": "stream",
     "text": [
      "c:\\Users\\colbe\\Documents\\VIU\\TFM\\tfm-clasificador-fuentes-sonoras-ciudad\\.env\\lib\\site-packages\\mlflow\\types\\utils.py:406: UserWarning: Hint: Inferred schema contains integer column(s). Integer columns in Python cannot represent missing values. If your input data contains missing values at inference time, it will be encoded as floats and will cause a schema enforcement error. The best way to avoid this problem is to infer the model schema based on a realistic data sample (training dataset) that includes missing values. Alternatively, you can declare integer columns as doubles (float64) whenever these columns may have missing values. See `Handling Integers With Missing Values <https://www.mlflow.org/docs/latest/models.html#handling-integers-with-missing-values>`_ for more details.\n",
      "  warnings.warn(\n"
     ]
    },
    {
     "data": {
      "application/vnd.jupyter.widget-view+json": {
       "model_id": "7679d246032f4deeb103e520e8ff5971",
       "version_major": 2,
       "version_minor": 0
      },
      "text/plain": [
       "Downloading artifacts:   0%|          | 0/7 [00:00<?, ?it/s]"
      ]
     },
     "metadata": {},
     "output_type": "display_data"
    },
    {
     "name": "stdout",
     "output_type": "stream",
     "text": [
      "Mejores Parámetros: {'weights': 'distance', 'n_neighbors': 27, 'metric': 'manhattan'}\n",
      "Mejor Score: 0.5549221462977483\n",
      "Fold 6 Accuracy: 0.5164\n",
      "Tiempo de entrenamiento (segundos): 10.7439\n"
     ]
    },
    {
     "name": "stderr",
     "output_type": "stream",
     "text": [
      "c:\\Users\\colbe\\Documents\\VIU\\TFM\\tfm-clasificador-fuentes-sonoras-ciudad\\.env\\lib\\site-packages\\mlflow\\types\\utils.py:406: UserWarning: Hint: Inferred schema contains integer column(s). Integer columns in Python cannot represent missing values. If your input data contains missing values at inference time, it will be encoded as floats and will cause a schema enforcement error. The best way to avoid this problem is to infer the model schema based on a realistic data sample (training dataset) that includes missing values. Alternatively, you can declare integer columns as doubles (float64) whenever these columns may have missing values. See `Handling Integers With Missing Values <https://www.mlflow.org/docs/latest/models.html#handling-integers-with-missing-values>`_ for more details.\n",
      "  warnings.warn(\n"
     ]
    },
    {
     "data": {
      "application/vnd.jupyter.widget-view+json": {
       "model_id": "0ac4832a3ab84c26acea0801032ff17a",
       "version_major": 2,
       "version_minor": 0
      },
      "text/plain": [
       "Downloading artifacts:   0%|          | 0/7 [00:00<?, ?it/s]"
      ]
     },
     "metadata": {},
     "output_type": "display_data"
    },
    {
     "name": "stdout",
     "output_type": "stream",
     "text": [
      "Mejores Parámetros: {'weights': 'uniform', 'n_neighbors': 5, 'metric': 'manhattan'}\n",
      "Mejor Score: 0.5700494136144133\n",
      "Fold 7 Accuracy: 0.5024\n",
      "Tiempo de entrenamiento (segundos): 11.3236\n"
     ]
    },
    {
     "name": "stderr",
     "output_type": "stream",
     "text": [
      "c:\\Users\\colbe\\Documents\\VIU\\TFM\\tfm-clasificador-fuentes-sonoras-ciudad\\.env\\lib\\site-packages\\mlflow\\types\\utils.py:406: UserWarning: Hint: Inferred schema contains integer column(s). Integer columns in Python cannot represent missing values. If your input data contains missing values at inference time, it will be encoded as floats and will cause a schema enforcement error. The best way to avoid this problem is to infer the model schema based on a realistic data sample (training dataset) that includes missing values. Alternatively, you can declare integer columns as doubles (float64) whenever these columns may have missing values. See `Handling Integers With Missing Values <https://www.mlflow.org/docs/latest/models.html#handling-integers-with-missing-values>`_ for more details.\n",
      "  warnings.warn(\n"
     ]
    },
    {
     "data": {
      "application/vnd.jupyter.widget-view+json": {
       "model_id": "c447fe4f6c584d56906b5bfd02bda9a5",
       "version_major": 2,
       "version_minor": 0
      },
      "text/plain": [
       "Downloading artifacts:   0%|          | 0/7 [00:00<?, ?it/s]"
      ]
     },
     "metadata": {},
     "output_type": "display_data"
    },
    {
     "name": "stdout",
     "output_type": "stream",
     "text": [
      "Mejores Parámetros: {'weights': 'uniform', 'n_neighbors': 10, 'metric': 'manhattan'}\n",
      "Mejor Score: 0.5679985542690461\n",
      "Fold 8 Accuracy: 0.5261\n",
      "Tiempo de entrenamiento (segundos): 11.1901\n"
     ]
    },
    {
     "name": "stderr",
     "output_type": "stream",
     "text": [
      "c:\\Users\\colbe\\Documents\\VIU\\TFM\\tfm-clasificador-fuentes-sonoras-ciudad\\.env\\lib\\site-packages\\mlflow\\types\\utils.py:406: UserWarning: Hint: Inferred schema contains integer column(s). Integer columns in Python cannot represent missing values. If your input data contains missing values at inference time, it will be encoded as floats and will cause a schema enforcement error. The best way to avoid this problem is to infer the model schema based on a realistic data sample (training dataset) that includes missing values. Alternatively, you can declare integer columns as doubles (float64) whenever these columns may have missing values. See `Handling Integers With Missing Values <https://www.mlflow.org/docs/latest/models.html#handling-integers-with-missing-values>`_ for more details.\n",
      "  warnings.warn(\n"
     ]
    },
    {
     "data": {
      "application/vnd.jupyter.widget-view+json": {
       "model_id": "b8bdbf05de9949e1bd3e5c1fd4f301ec",
       "version_major": 2,
       "version_minor": 0
      },
      "text/plain": [
       "Downloading artifacts:   0%|          | 0/7 [00:00<?, ?it/s]"
      ]
     },
     "metadata": {},
     "output_type": "display_data"
    },
    {
     "name": "stdout",
     "output_type": "stream",
     "text": [
      "Mejores Parámetros: {'weights': 'uniform', 'n_neighbors': 5, 'metric': 'manhattan'}\n",
      "Mejor Score: 0.5473569449233165\n",
      "Fold 9 Accuracy: 0.6225\n",
      "Tiempo de entrenamiento (segundos): 11.8766\n"
     ]
    },
    {
     "name": "stderr",
     "output_type": "stream",
     "text": [
      "c:\\Users\\colbe\\Documents\\VIU\\TFM\\tfm-clasificador-fuentes-sonoras-ciudad\\.env\\lib\\site-packages\\mlflow\\types\\utils.py:406: UserWarning: Hint: Inferred schema contains integer column(s). Integer columns in Python cannot represent missing values. If your input data contains missing values at inference time, it will be encoded as floats and will cause a schema enforcement error. The best way to avoid this problem is to infer the model schema based on a realistic data sample (training dataset) that includes missing values. Alternatively, you can declare integer columns as doubles (float64) whenever these columns may have missing values. See `Handling Integers With Missing Values <https://www.mlflow.org/docs/latest/models.html#handling-integers-with-missing-values>`_ for more details.\n",
      "  warnings.warn(\n"
     ]
    },
    {
     "data": {
      "application/vnd.jupyter.widget-view+json": {
       "model_id": "a5cfa25015434df9a81457ecf1328995",
       "version_major": 2,
       "version_minor": 0
      },
      "text/plain": [
       "Downloading artifacts:   0%|          | 0/7 [00:00<?, ?it/s]"
      ]
     },
     "metadata": {},
     "output_type": "display_data"
    },
    {
     "name": "stdout",
     "output_type": "stream",
     "text": [
      "Mejores Parámetros: {'weights': 'uniform', 'n_neighbors': 5, 'metric': 'manhattan'}\n",
      "Mejor Score: 0.5559084564662848\n",
      "Fold 10 Accuracy: 0.5854\n",
      "Tiempo de entrenamiento (segundos): 10.8147\n"
     ]
    },
    {
     "name": "stderr",
     "output_type": "stream",
     "text": [
      "c:\\Users\\colbe\\Documents\\VIU\\TFM\\tfm-clasificador-fuentes-sonoras-ciudad\\.env\\lib\\site-packages\\mlflow\\types\\utils.py:406: UserWarning: Hint: Inferred schema contains integer column(s). Integer columns in Python cannot represent missing values. If your input data contains missing values at inference time, it will be encoded as floats and will cause a schema enforcement error. The best way to avoid this problem is to infer the model schema based on a realistic data sample (training dataset) that includes missing values. Alternatively, you can declare integer columns as doubles (float64) whenever these columns may have missing values. See `Handling Integers With Missing Values <https://www.mlflow.org/docs/latest/models.html#handling-integers-with-missing-values>`_ for more details.\n",
      "  warnings.warn(\n"
     ]
    },
    {
     "data": {
      "application/vnd.jupyter.widget-view+json": {
       "model_id": "1f12f2078a0d45d7a1117f3d604ee664",
       "version_major": 2,
       "version_minor": 0
      },
      "text/plain": [
       "Downloading artifacts:   0%|          | 0/7 [00:00<?, ?it/s]"
      ]
     },
     "metadata": {},
     "output_type": "display_data"
    },
    {
     "name": "stdout",
     "output_type": "stream",
     "text": [
      "\n",
      "Accuracy promedio: 0.5486\n",
      "Desviación estándar: 0.0476\n"
     ]
    },
    {
     "data": {
      "image/png": "[encoded data removed]",
      "text/plain": [
       "<Figure size 640x480 with 1 Axes>"
      ]
     },
     "metadata": {},
     "output_type": "display_data"
    }
   ],
   "source": [
    "# Definir el modelo KNN\n",
    "knn = KNeighborsClassifier()\n",
    "\n",
    "# Definir la rejilla de parámetros para RandomizedSearchCV\n",
    "param_distributions = {\n",
    "    'n_neighbors': np.arange(1, 31),  # Número de vecinos a considerar\n",
    "    'weights': ['uniform', 'distance'],  # Función de peso a usar\n",
    "    'metric': ['euclidean', 'manhattan', 'minkowski']  # Métrica de distancia\n",
    "}\n",
    "\n",
    "# Inicializar lista para almacenar accuracies y tiempos\n",
    "fold_accuracies = []\n",
    "fold_training_times = []\n",
    "\n",
    "# Realizar la validación cruzada respetando los folds predefinidos\n",
    "for fold in range(1, 11):  # Hay 10 folds en UrbanSound8K\n",
    "\n",
    "    # Dividir el dataset en entrenamiento y prueba\n",
    "    train_index = folds != fold\n",
    "    test_index = folds == fold\n",
    "    \n",
    "    X_train, X_test = X_caracteristicas[train_index], X_caracteristicas[test_index]\n",
    "    y_train, y_test = y[train_index], y[test_index]\n",
    "\n",
    "    # Configurar RandomizedSearchCV\n",
    "    random_search = RandomizedSearchCV(\n",
    "        estimator=knn, \n",
    "        param_distributions=param_distributions, \n",
    "        n_iter=10,  # Número de combinaciones aleatorias a probar\n",
    "        cv=10,  # Validación cruzada interna con 10 pliegues\n",
    "        scoring='accuracy',  # Métrica para optimizar\n",
    "        n_jobs=-1,  # Usar todos los núcleos disponibles\n",
    "        random_state=42\n",
    "    )\n",
    "\n",
    "    # Medir el tiempo de entrenamiento\n",
    "    start_time = time.time()  # Inicio del tiempo\n",
    "\n",
    "    # Entrenar el modelo con la búsqueda de hiperparámetros\n",
    "    random_search.fit(X_train, y_train)\n",
    "\n",
    "    # Tiempo de finalización\n",
    "    end_time = time.time()\n",
    "\n",
    "    # Calcular el tiempo de entrenamiento\n",
    "    training_time = end_time - start_time\n",
    "    fold_training_times.append(training_time)\n",
    "\n",
    "    # Obtener el mejor modelo\n",
    "    best_knn = random_search.best_estimator_\n",
    "\n",
    "    # Obtener los mejores parámetros y el mejor score\n",
    "    best_params = random_search.best_params_\n",
    "    best_score = random_search.best_score_    \n",
    "    \n",
    "    # Predecir y evaluar\n",
    "    y_pred = best_knn.predict(X_test)\n",
    "    accuracy = accuracy_score(y_test, y_pred)\n",
    "    fold_accuracies.append(accuracy)\n",
    "\n",
    "    \n",
    "    print(f\"Mejores Parámetros: {best_params}\")\n",
    "    print(f\"Mejor Score: {best_score}\")        \n",
    "    print(f\"Fold {fold} Accuracy: {accuracy:.4f}\")\n",
    "    print(f\"Tiempo de entrenamiento (segundos): {training_time:.4f}\")\n",
    "\n",
    "    with mlflow.start_run(run_name=f\"KNN RSCV Fold_{fold}\") as run:\n",
    "        # Registrar los parámetros y métricas en MLflow\n",
    "        mlflow.log_params(best_params)\n",
    "\n",
    "        # Registrar la métrica de accuracy de este fold\n",
    "        mlflow.log_metric(f\"accuracy_score\", accuracy)\n",
    "\n",
    "        # Registrar el tiempo de entrenamiento\n",
    "        mlflow.log_metric(f\"training_time_seconds\", training_time)\n",
    "\n",
    "        # Guardar el modelo en MLflow con un ejemplo de entrada\n",
    "        input_example = X_test[:1]  # Ejemplo de entrada, una sola muestra de prueba\n",
    "        mlflow.sklearn.log_model(best_knn, f\"knn_model_fold_{fold}\", input_example=input_example)\n",
    "\n",
    "        # Se finaliza el registro\n",
    "        mlflow.end_run()\n",
    "\n",
    "\n",
    "# Mostrar el promedio y desviación estándar\n",
    "mean_accuracy = np.mean(fold_accuracies)\n",
    "std_accuracy = np.std(fold_accuracies)\n",
    "\n",
    "print(f\"\\nAccuracy promedio: {mean_accuracy:.4f}\")\n",
    "print(f\"Desviación estándar: {std_accuracy:.4f}\")\n",
    "\n",
    "\n",
    "# Opcional: Visualizar los resultados con un boxplot\n",
    "plt.boxplot(fold_accuracies)\n",
    "plt.title('Distribución de Accuracy en 10-Fold Cross Validation con KNN y RandomizedSearchCV')\n",
    "plt.ylabel('Accuracy')\n",
    "plt.show()\n"
   ]
  },
  {
   "cell_type": "markdown",
   "metadata": {},
   "source": [
    "## Random Forest"
   ]
  },
  {
   "cell_type": "code",
   "execution_count": 17,
   "metadata": {},
   "outputs": [
    {
     "name": "stdout",
     "output_type": "stream",
     "text": [
      "Mejores Parámetros: {'n_estimators': 500, 'min_samples_split': 5, 'min_samples_leaf': 1, 'max_features': 'log2', 'max_depth': 50, 'bootstrap': False}\n",
      "Mejor Score: 0.685072191014814\n",
      "Fold 8 Accuracy: 0.6725\n",
      "Tiempo de entrenamiento (segundos): 478.9476\n"
     ]
    },
    {
     "name": "stderr",
     "output_type": "stream",
     "text": [
      "c:\\Users\\colbe\\Documents\\VIU\\TFM\\tfm-clasificador-fuentes-sonoras-ciudad\\.env\\lib\\site-packages\\mlflow\\types\\utils.py:406: UserWarning: Hint: Inferred schema contains integer column(s). Integer columns in Python cannot represent missing values. If your input data contains missing values at inference time, it will be encoded as floats and will cause a schema enforcement error. The best way to avoid this problem is to infer the model schema based on a realistic data sample (training dataset) that includes missing values. Alternatively, you can declare integer columns as doubles (float64) whenever these columns may have missing values. See `Handling Integers With Missing Values <https://www.mlflow.org/docs/latest/models.html#handling-integers-with-missing-values>`_ for more details.\n",
      "  warnings.warn(\n"
     ]
    },
    {
     "data": {
      "application/vnd.jupyter.widget-view+json": {
       "model_id": "41d33400af4a407782fde0c1120ed501",
       "version_major": 2,
       "version_minor": 0
      },
      "text/plain": [
       "Downloading artifacts:   0%|          | 0/7 [00:00<?, ?it/s]"
      ]
     },
     "metadata": {},
     "output_type": "display_data"
    },
    {
     "name": "stdout",
     "output_type": "stream",
     "text": [
      "Mejores Parámetros: {'n_estimators': 500, 'min_samples_split': 2, 'min_samples_leaf': 1, 'max_features': 'log2', 'max_depth': 20, 'bootstrap': False}\n",
      "Mejor Score: 0.6808647473470482\n",
      "Fold 9 Accuracy: 0.6985\n",
      "Tiempo de entrenamiento (segundos): 421.9503\n"
     ]
    },
    {
     "name": "stderr",
     "output_type": "stream",
     "text": [
      "c:\\Users\\colbe\\Documents\\VIU\\TFM\\tfm-clasificador-fuentes-sonoras-ciudad\\.env\\lib\\site-packages\\mlflow\\types\\utils.py:406: UserWarning: Hint: Inferred schema contains integer column(s). Integer columns in Python cannot represent missing values. If your input data contains missing values at inference time, it will be encoded as floats and will cause a schema enforcement error. The best way to avoid this problem is to infer the model schema based on a realistic data sample (training dataset) that includes missing values. Alternatively, you can declare integer columns as doubles (float64) whenever these columns may have missing values. See `Handling Integers With Missing Values <https://www.mlflow.org/docs/latest/models.html#handling-integers-with-missing-values>`_ for more details.\n",
      "  warnings.warn(\n"
     ]
    },
    {
     "data": {
      "application/vnd.jupyter.widget-view+json": {
       "model_id": "fac04db08f2045a2bbbedf392fad1966",
       "version_major": 2,
       "version_minor": 0
      },
      "text/plain": [
       "Downloading artifacts:   0%|          | 0/7 [00:00<?, ?it/s]"
      ]
     },
     "metadata": {},
     "output_type": "display_data"
    },
    {
     "name": "stdout",
     "output_type": "stream",
     "text": [
      "Mejores Parámetros: {'n_estimators': 500, 'min_samples_split': 5, 'min_samples_leaf': 1, 'max_features': 'log2', 'max_depth': 50, 'bootstrap': False}\n",
      "Mejor Score: 0.6899122427042724\n",
      "Fold 10 Accuracy: 0.7431\n",
      "Tiempo de entrenamiento (segundos): 433.0376\n"
     ]
    },
    {
     "name": "stderr",
     "output_type": "stream",
     "text": [
      "c:\\Users\\colbe\\Documents\\VIU\\TFM\\tfm-clasificador-fuentes-sonoras-ciudad\\.env\\lib\\site-packages\\mlflow\\types\\utils.py:406: UserWarning: Hint: Inferred schema contains integer column(s). Integer columns in Python cannot represent missing values. If your input data contains missing values at inference time, it will be encoded as floats and will cause a schema enforcement error. The best way to avoid this problem is to infer the model schema based on a realistic data sample (training dataset) that includes missing values. Alternatively, you can declare integer columns as doubles (float64) whenever these columns may have missing values. See `Handling Integers With Missing Values <https://www.mlflow.org/docs/latest/models.html#handling-integers-with-missing-values>`_ for more details.\n",
      "  warnings.warn(\n"
     ]
    },
    {
     "data": {
      "application/vnd.jupyter.widget-view+json": {
       "model_id": "07c5a9a0e2ed4cbaaf3627524f462fbe",
       "version_major": 2,
       "version_minor": 0
      },
      "text/plain": [
       "Downloading artifacts:   0%|          | 0/7 [00:00<?, ?it/s]"
      ]
     },
     "metadata": {},
     "output_type": "display_data"
    },
    {
     "name": "stdout",
     "output_type": "stream",
     "text": [
      "\n",
      "Accuracy promedio: 0.7047\n",
      "Desviación estándar: 0.0292\n",
      "Tiempo de entrenamiento promedio (segundos): 444.6452\n"
     ]
    },
    {
     "data": {
      "image/png": "[encoded data removed]",
      "text/plain": [
       "<Figure size 640x480 with 1 Axes>"
      ]
     },
     "metadata": {},
     "output_type": "display_data"
    }
   ],
   "source": [
    "# Definir el modelo Random Forest\n",
    "rf = RandomForestClassifier(random_state=42)\n",
    "\n",
    "# Definir la rejilla de parámetros para RandomizedSearchCV\n",
    "param_distributions = {\n",
    "    'n_estimators': [10, 50, 100, 200, 500],  # Número de árboles en el bosque\n",
    "    'max_depth': [None, 10, 20, 30, 40, 50],  # Máxima profundidad de cada árbol\n",
    "    'min_samples_split': [2, 5, 10],  # Mínimo número de muestras requeridas para dividir un nodo\n",
    "    'min_samples_leaf': [1, 2, 4],  # Mínimo número de muestras requeridas en una hoja\n",
    "    'max_features': ['sqrt', 'log2'],  # Número de características a considerar al buscar la mejor división\n",
    "    'bootstrap': [True, False]  # Método para seleccionar muestras para construir cada árbol\n",
    "}\n",
    "\n",
    "# Inicializar lista para almacenar accuracies y tiempos\n",
    "fold_accuracies = []\n",
    "fold_training_times = []  # Lista para almacenar los tiempos de entrenamiento\n",
    "\n",
    "# Realizar la validación cruzada respetando los folds predefinidos\n",
    "for fold in range(1, 11):  # Hay 10 folds en UrbanSound8K\n",
    "    # Dividir el dataset en entrenamiento y prueba\n",
    "    train_index = folds != fold\n",
    "    test_index = folds == fold\n",
    "    \n",
    "    X_train, X_test = X_caracteristicas[train_index], X_caracteristicas[test_index]\n",
    "    y_train, y_test = y[train_index], y[test_index]\n",
    "\n",
    "    # Configurar RandomizedSearchCV\n",
    "    random_search = RandomizedSearchCV(\n",
    "        estimator=rf, \n",
    "        param_distributions=param_distributions, \n",
    "        n_iter=10,  # Número de combinaciones aleatorias a probar\n",
    "        cv=10,  # Validación cruzada interna con 10 pliegues\n",
    "        scoring='accuracy',  # Métrica para optimizar\n",
    "        n_jobs=-1,  # Usar todos los núcleos disponibles\n",
    "        random_state=42\n",
    "    )\n",
    "\n",
    "    # Medir el tiempo de entrenamiento\n",
    "    start_time = time.time()  # Inicio del tiempo\n",
    "\n",
    "    # Entrenar el modelo con la búsqueda de hiperparámetros\n",
    "    random_search.fit(X_train, y_train)\n",
    "\n",
    "    # Tiempo de finalización\n",
    "    end_time = time.time()\n",
    "\n",
    "    # Calcular el tiempo de entrenamiento\n",
    "    training_time = end_time - start_time\n",
    "    fold_training_times.append(training_time)\n",
    "\n",
    "    # Obtener el mejor modelo\n",
    "    best_rf = random_search.best_estimator_\n",
    "\n",
    "    # Obtener los mejores parámetros y el mejor score\n",
    "    best_params = random_search.best_params_\n",
    "    best_score = random_search.best_score_\n",
    "    \n",
    "    # Predecir y evaluar\n",
    "    y_pred = best_rf.predict(X_test)\n",
    "    accuracy = accuracy_score(y_test, y_pred)\n",
    "    fold_accuracies.append(accuracy)\n",
    "\n",
    "    print(f\"Mejores Parámetros: {best_params}\")\n",
    "    print(f\"Mejor Score: {best_score}\")\n",
    "    print(f\"Fold {fold} Accuracy: {accuracy:.4f}\")\n",
    "    print(f\"Tiempo de entrenamiento (segundos): {training_time:.4f}\")\n",
    "\n",
    "    with mlflow.start_run(run_name=f\"RandomForest RSCV Fold_{fold}\") as run:\n",
    "        # Registrar los parámetros y métricas en MLflow\n",
    "        mlflow.log_params(best_params)\n",
    "\n",
    "        # Registrar la métrica de accuracy de este fold\n",
    "        mlflow.log_metric(f\"accuracy_score\", accuracy)\n",
    "\n",
    "        # Registrar el tiempo de entrenamiento\n",
    "        mlflow.log_metric(f\"training_time_seconds\", training_time)\n",
    "\n",
    "        # Guardar el modelo en MLflow con un ejemplo de entrada\n",
    "        input_example = X_test[:1]  # Ejemplo de entrada, una sola muestra de prueba\n",
    "        mlflow.sklearn.log_model(best_rf, f\"rf_model_fold_{fold}\", input_example=input_example)\n",
    "\n",
    "        # Se finaliza el registro\n",
    "        mlflow.end_run()\n",
    "\n",
    "\n",
    "# Mostrar el promedio y desviación estándar\n",
    "mean_accuracy = np.mean(fold_accuracies)\n",
    "std_accuracy = np.std(fold_accuracies)\n",
    "mean_training_time = np.mean(fold_training_times)\n",
    "\n",
    "print(f\"\\nAccuracy promedio: {mean_accuracy:.4f}\")\n",
    "print(f\"Desviación estándar: {std_accuracy:.4f}\")\n",
    "print(f\"Tiempo de entrenamiento promedio (segundos): {mean_training_time:.4f}\")\n",
    "\n",
    "# Opcional: Visualizar los resultados con un boxplot\n",
    "plt.boxplot(fold_accuracies)\n",
    "plt.title('Distribución de Accuracy en 10-Fold Cross Validation con Random Forest y RandomizedSearchCV')\n",
    "plt.ylabel('Accuracy')\n",
    "plt.show()"
   ]
  },
  {
   "cell_type": "markdown",
   "metadata": {},
   "source": [
    "## SVM"
   ]
  },
  {
   "cell_type": "code",
   "execution_count": 18,
   "metadata": {},
   "outputs": [
    {
     "name": "stdout",
     "output_type": "stream",
     "text": [
      "iniciando\n",
      "Mejores Parámetros: {'kernel': 'linear', 'gamma': 'scale', 'C': 0.01}\n",
      "Mejor Score: 0.6496875253237386\n",
      "Fold 1 Accuracy: 0.6094\n",
      "Tiempo de entrenamiento (segundos): 2651.8384\n"
     ]
    },
    {
     "name": "stderr",
     "output_type": "stream",
     "text": [
      "c:\\Users\\colbe\\Documents\\VIU\\TFM\\tfm-clasificador-fuentes-sonoras-ciudad\\.env\\lib\\site-packages\\mlflow\\types\\utils.py:406: UserWarning: Hint: Inferred schema contains integer column(s). Integer columns in Python cannot represent missing values. If your input data contains missing values at inference time, it will be encoded as floats and will cause a schema enforcement error. The best way to avoid this problem is to infer the model schema based on a realistic data sample (training dataset) that includes missing values. Alternatively, you can declare integer columns as doubles (float64) whenever these columns may have missing values. See `Handling Integers With Missing Values <https://www.mlflow.org/docs/latest/models.html#handling-integers-with-missing-values>`_ for more details.\n",
      "  warnings.warn(\n"
     ]
    },
    {
     "data": {
      "application/vnd.jupyter.widget-view+json": {
       "model_id": "810a71efb7e545f4a5cf5e329715ce92",
       "version_major": 2,
       "version_minor": 0
      },
      "text/plain": [
       "Downloading artifacts:   0%|          | 0/7 [00:00<?, ?it/s]"
      ]
     },
     "metadata": {},
     "output_type": "display_data"
    },
    {
     "name": "stdout",
     "output_type": "stream",
     "text": [
      "iniciando\n"
     ]
    }
   ],
   "source": [
    "# Definir el modelo SVM\n",
    "svm = SVC()\n",
    "\n",
    "# Definir la rejilla de parámetros para RandomizedSearchCV\n",
    "param_distributions = {\n",
    "    'C': [0.001, 0.0001],  # Parámetro de regularización\n",
    "    'kernel': ['linear', 'rbf'],  # Tipo de kernel\n",
    "    'gamma': ['scale', 'auto'],  # Coeficiente del kernel 'rbf', 'poly' o 'sigmoid' \n",
    "}\n",
    "\n",
    "# Inicializar lista para almacenar accuracies y tiempos\n",
    "fold_accuracies = []\n",
    "fold_training_times = []  # Lista para almacenar los tiempos de entrenamiento\n",
    "\n",
    "# Realizar la validación cruzada respetando los folds predefinidos\n",
    "for fold in range(1, 11):  # Hay 10 folds en UrbanSound8K\n",
    "    # Dividir el dataset en entrenamiento y prueba\n",
    "    train_index = folds != fold\n",
    "    test_index = folds == fold\n",
    "    \n",
    "    X_train, X_test = X_caracteristicas[train_index], X_caracteristicas[test_index]\n",
    "    y_train, y_test = y[train_index], y[test_index]\n",
    "\n",
    "    print(\"iniciando\")\n",
    "\n",
    "    # Configurar RandomizedSearchCV\n",
    "    random_search = RandomizedSearchCV(\n",
    "        estimator=svm, \n",
    "        param_distributions=param_distributions, \n",
    "        n_iter=5,  # Número de combinaciones aleatorias a probar\n",
    "        cv=10,  # Validación cruzada interna \n",
    "        scoring='accuracy',  # Métrica para optimizar\n",
    "        n_jobs=-1,  # Usar todos los núcleos disponibles\n",
    "        random_state=42\n",
    "    )\n",
    "\n",
    "    # Medir el tiempo de entrenamiento\n",
    "    start_time = time.time()  # Inicio del tiempo\n",
    "\n",
    "    # Entrenar el modelo con la búsqueda de hiperparámetros\n",
    "    random_search.fit(X_train, y_train)\n",
    "\n",
    "    # Tiempo de finalización\n",
    "    end_time = time.time()\n",
    "\n",
    "    # Calcular el tiempo de entrenamiento\n",
    "    training_time = end_time - start_time\n",
    "    fold_training_times.append(training_time)\n",
    "\n",
    "    # Obtener el mejor modelo\n",
    "    best_svm = random_search.best_estimator_\n",
    "\n",
    "    # Obtener los mejores parámetros y el mejor score\n",
    "    best_params = random_search.best_params_\n",
    "    best_score = random_search.best_score_\n",
    "    \n",
    "    # Predecir y evaluar\n",
    "    y_pred = best_svm.predict(X_test)\n",
    "    accuracy = accuracy_score(y_test, y_pred)\n",
    "    fold_accuracies.append(accuracy)\n",
    "\n",
    "    print(f\"Mejores Parámetros: {best_params}\")\n",
    "    print(f\"Mejor Score: {best_score}\")\n",
    "    print(f\"Fold {fold} Accuracy: {accuracy:.4f}\")\n",
    "    print(f\"Tiempo de entrenamiento (segundos): {training_time:.4f}\")\n",
    "\n",
    "    with mlflow.start_run(run_name=f\"SVM RSCV MFCC20 Fold_{fold}\") as run:\n",
    "        # Registrar los parámetros y métricas en MLflow\n",
    "        mlflow.log_params(best_params)\n",
    "\n",
    "        # Registrar la métrica de accuracy de este fold\n",
    "        mlflow.log_metric(f\"accuracy_score\", accuracy)\n",
    "\n",
    "        # Registrar el tiempo de entrenamiento\n",
    "        mlflow.log_metric(f\"training_time_seconds\", training_time)\n",
    "\n",
    "        # Guardar el modelo en MLflow con un ejemplo de entrada\n",
    "        input_example = X_test[:1]  # Ejemplo de entrada, una sola muestra de prueba\n",
    "        mlflow.sklearn.log_model(best_svm, f\"svm_rscv_mfcc20_fold_{fold}\", input_example=input_example)\n",
    "\n",
    "        # Se finaliza el registro\n",
    "        mlflow.end_run()\n",
    "\n",
    "\n",
    "# Mostrar el promedio y desviación estándar\n",
    "mean_accuracy = np.mean(fold_accuracies)\n",
    "std_accuracy = np.std(fold_accuracies)\n",
    "mean_training_time = np.mean(fold_training_times)\n",
    "\n",
    "print(f\"\\nAccuracy promedio: {mean_accuracy:.4f}\")\n",
    "print(f\"Desviación estándar: {std_accuracy:.4f}\")\n",
    "print(f\"Tiempo de entrenamiento promedio (segundos): {mean_training_time:.4f}\")\n",
    "\n",
    "# Opcional: Visualizar los resultados con un boxplot\n",
    "plt.boxplot(fold_accuracies)\n",
    "plt.title('Distribución de Accuracy en 10-Fold Cross Validation con SVM y RandomizedSearchCV')\n",
    "plt.ylabel('Accuracy')\n",
    "plt.show()\n"
   ]
  }
 ],
 "metadata": {
  "kernelspec": {
   "display_name": "huemul",
   "language": "python",
   "name": "python3"
  },
  "language_info": {
   "codemirror_mode": {
    "name": "ipython",
    "version": 3
   },
   "file_extension": ".py",
   "mimetype": "text/x-python",
   "name": "python",
   "nbconvert_exporter": "python",
   "pygments_lexer": "ipython3",
   "version": "3.10.5"
  }
 },
 "nbformat": 4,
 "nbformat_minor": 2
}
