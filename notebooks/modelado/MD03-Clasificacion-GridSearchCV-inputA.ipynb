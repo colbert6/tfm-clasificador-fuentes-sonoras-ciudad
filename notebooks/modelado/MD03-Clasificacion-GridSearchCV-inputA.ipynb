{
 "cells": [
  {
   "cell_type": "markdown",
   "metadata": {},
   "source": [
    "# Importación de librerías"
   ]
  },
  {
   "cell_type": "code",
   "execution_count": 1,
   "metadata": {},
   "outputs": [],
   "source": [
    "import pandas as pd\n",
    "import numpy as np\n",
    "\n",
    "import os\n",
    "import librosa\n",
    "import librosa.display\n",
    "\n",
    "import matplotlib.pyplot as plt\n",
    "import seaborn as sns\n",
    "\n",
    "import mlflow\n"
   ]
  },
  {
   "cell_type": "code",
   "execution_count": 2,
   "metadata": {},
   "outputs": [],
   "source": [
    "from sklearn.model_selection import train_test_split\n",
    "from sklearn.metrics import classification_report, accuracy_score\n",
    "\n",
    "from sklearn.neighbors import KNeighborsClassifier\n",
    "from sklearn.ensemble import RandomForestClassifier\n",
    "from sklearn.svm import SVC\n",
    "\n",
    "from sklearn.model_selection import GridSearchCV, RandomizedSearchCV\n",
    "from sklearn.model_selection import KFold\n",
    "\n",
    "from sklearn.preprocessing import MinMaxScaler, StandardScaler\n",
    "\n",
    "from sklearn.metrics import accuracy_score \n",
    "from sklearn.metrics import confusion_matrix, ConfusionMatrixDisplay"
   ]
  },
  {
   "cell_type": "markdown",
   "metadata": {},
   "source": [
    "# Lectura del dataset"
   ]
  },
  {
   "cell_type": "code",
   "execution_count": 3,
   "metadata": {},
   "outputs": [],
   "source": [
    "urbansound8k_path = \"../../data/raw/UrbanSound8K/\"\n",
    "\n",
    "# Primer dataset - Carpeta con los audios\n",
    "urbansound8k_audio_path = \"audio/\"\n",
    "\n",
    "# Segundo dataset - Archivo CSV con metadatos sobre los audios\n",
    "urbansound8k_metadata_path_file = \"metadata/UrbanSound8K.csv\" \n",
    "\n",
    "# Dataset input\n",
    "dataset_urbansound8k_vfinal_path_file = \"../../data/processed/pd01_transformaciones_v1.csv\"\n"
   ]
  },
  {
   "cell_type": "code",
   "execution_count": 4,
   "metadata": {},
   "outputs": [
    {
     "data": {
      "text/html": [
       "<div>\n",
       "<style scoped>\n",
       "    .dataframe tbody tr th:only-of-type {\n",
       "        vertical-align: middle;\n",
       "    }\n",
       "\n",
       "    .dataframe tbody tr th {\n",
       "        vertical-align: top;\n",
       "    }\n",
       "\n",
       "    .dataframe thead th {\n",
       "        text-align: right;\n",
       "    }\n",
       "</style>\n",
       "<table border=\"1\" class=\"dataframe\">\n",
       "  <thead>\n",
       "    <tr style=\"text-align: right;\">\n",
       "      <th></th>\n",
       "      <th>slice_file_name</th>\n",
       "      <th>fold</th>\n",
       "      <th>classID</th>\n",
       "      <th>mfcc_mean_1</th>\n",
       "      <th>mfcc_mean_2</th>\n",
       "      <th>mfcc_mean_3</th>\n",
       "      <th>mfcc_mean_4</th>\n",
       "      <th>mfcc_mean_5</th>\n",
       "      <th>mfcc_mean_6</th>\n",
       "      <th>mfcc_mean_7</th>\n",
       "      <th>...</th>\n",
       "      <th>mfcc_std_4</th>\n",
       "      <th>mfcc_std_5</th>\n",
       "      <th>mfcc_std_6</th>\n",
       "      <th>mfcc_std_7</th>\n",
       "      <th>mfcc_std_8</th>\n",
       "      <th>mfcc_std_9</th>\n",
       "      <th>mfcc_std_10</th>\n",
       "      <th>mfcc_std_11</th>\n",
       "      <th>mfcc_std_12</th>\n",
       "      <th>mfcc_std_13</th>\n",
       "    </tr>\n",
       "  </thead>\n",
       "  <tbody>\n",
       "    <tr>\n",
       "      <th>0</th>\n",
       "      <td>100032-3-0-0.wav</td>\n",
       "      <td>5</td>\n",
       "      <td>3</td>\n",
       "      <td>-275.91843</td>\n",
       "      <td>119.49280</td>\n",
       "      <td>-98.21178</td>\n",
       "      <td>-66.515140</td>\n",
       "      <td>-42.606050</td>\n",
       "      <td>0.505066</td>\n",
       "      <td>-28.330938</td>\n",
       "      <td>...</td>\n",
       "      <td>7.711867</td>\n",
       "      <td>20.805027</td>\n",
       "      <td>9.134558</td>\n",
       "      <td>18.894438</td>\n",
       "      <td>6.147139</td>\n",
       "      <td>6.089511</td>\n",
       "      <td>5.562755</td>\n",
       "      <td>8.565537</td>\n",
       "      <td>6.207259</td>\n",
       "      <td>6.475474</td>\n",
       "    </tr>\n",
       "    <tr>\n",
       "      <th>1</th>\n",
       "      <td>100263-2-0-117.wav</td>\n",
       "      <td>5</td>\n",
       "      <td>2</td>\n",
       "      <td>-500.90840</td>\n",
       "      <td>185.10641</td>\n",
       "      <td>-86.53282</td>\n",
       "      <td>49.858850</td>\n",
       "      <td>9.230822</td>\n",
       "      <td>22.548956</td>\n",
       "      <td>-3.567175</td>\n",
       "      <td>...</td>\n",
       "      <td>7.905810</td>\n",
       "      <td>10.492388</td>\n",
       "      <td>8.088639</td>\n",
       "      <td>10.003834</td>\n",
       "      <td>8.190908</td>\n",
       "      <td>7.428165</td>\n",
       "      <td>8.623438</td>\n",
       "      <td>8.925406</td>\n",
       "      <td>6.448639</td>\n",
       "      <td>8.688373</td>\n",
       "    </tr>\n",
       "    <tr>\n",
       "      <th>2</th>\n",
       "      <td>100263-2-0-121.wav</td>\n",
       "      <td>5</td>\n",
       "      <td>2</td>\n",
       "      <td>-531.19530</td>\n",
       "      <td>186.93994</td>\n",
       "      <td>-70.34916</td>\n",
       "      <td>40.429245</td>\n",
       "      <td>9.121047</td>\n",
       "      <td>18.398588</td>\n",
       "      <td>6.283282</td>\n",
       "      <td>...</td>\n",
       "      <td>8.959305</td>\n",
       "      <td>12.224772</td>\n",
       "      <td>6.729685</td>\n",
       "      <td>6.964815</td>\n",
       "      <td>7.970478</td>\n",
       "      <td>8.061611</td>\n",
       "      <td>6.219080</td>\n",
       "      <td>6.053109</td>\n",
       "      <td>5.661677</td>\n",
       "      <td>6.233405</td>\n",
       "    </tr>\n",
       "  </tbody>\n",
       "</table>\n",
       "<p>3 rows × 42 columns</p>\n",
       "</div>"
      ],
      "text/plain": [
       "      slice_file_name  fold  classID  mfcc_mean_1  mfcc_mean_2  mfcc_mean_3  \\\n",
       "0    100032-3-0-0.wav     5        3   -275.91843    119.49280    -98.21178   \n",
       "1  100263-2-0-117.wav     5        2   -500.90840    185.10641    -86.53282   \n",
       "2  100263-2-0-121.wav     5        2   -531.19530    186.93994    -70.34916   \n",
       "\n",
       "   mfcc_mean_4  mfcc_mean_5  mfcc_mean_6  mfcc_mean_7  ...  mfcc_std_4  \\\n",
       "0   -66.515140   -42.606050     0.505066   -28.330938  ...    7.711867   \n",
       "1    49.858850     9.230822    22.548956    -3.567175  ...    7.905810   \n",
       "2    40.429245     9.121047    18.398588     6.283282  ...    8.959305   \n",
       "\n",
       "   mfcc_std_5  mfcc_std_6  mfcc_std_7  mfcc_std_8  mfcc_std_9  mfcc_std_10  \\\n",
       "0   20.805027    9.134558   18.894438    6.147139    6.089511     5.562755   \n",
       "1   10.492388    8.088639   10.003834    8.190908    7.428165     8.623438   \n",
       "2   12.224772    6.729685    6.964815    7.970478    8.061611     6.219080   \n",
       "\n",
       "   mfcc_std_11  mfcc_std_12  mfcc_std_13  \n",
       "0     8.565537     6.207259     6.475474  \n",
       "1     8.925406     6.448639     8.688373  \n",
       "2     6.053109     5.661677     6.233405  \n",
       "\n",
       "[3 rows x 42 columns]"
      ]
     },
     "execution_count": 4,
     "metadata": {},
     "output_type": "execute_result"
    }
   ],
   "source": [
    "# Lectura\n",
    "dataset_urbansound8k_df = pd.read_csv(dataset_urbansound8k_vfinal_path_file, sep=\";\")\n",
    "\n",
    "dataset_urbansound8k_df.head(3)"
   ]
  },
  {
   "cell_type": "code",
   "execution_count": 5,
   "metadata": {},
   "outputs": [
    {
     "name": "stdout",
     "output_type": "stream",
     "text": [
      "Columnas del dataset:\n",
      "Index(['slice_file_name', 'fold', 'classID', 'mfcc_mean_1', 'mfcc_mean_2',\n",
      "       'mfcc_mean_3', 'mfcc_mean_4', 'mfcc_mean_5', 'mfcc_mean_6',\n",
      "       'mfcc_mean_7', 'mfcc_mean_8', 'mfcc_mean_9', 'mfcc_mean_10',\n",
      "       'mfcc_mean_11', 'mfcc_mean_12', 'mfcc_mean_13', 'mfcc_median_1',\n",
      "       'mfcc_median_2', 'mfcc_median_3', 'mfcc_median_4', 'mfcc_median_5',\n",
      "       'mfcc_median_6', 'mfcc_median_7', 'mfcc_median_8', 'mfcc_median_9',\n",
      "       'mfcc_median_10', 'mfcc_median_11', 'mfcc_median_12', 'mfcc_median_13',\n",
      "       'mfcc_std_1', 'mfcc_std_2', 'mfcc_std_3', 'mfcc_std_4', 'mfcc_std_5',\n",
      "       'mfcc_std_6', 'mfcc_std_7', 'mfcc_std_8', 'mfcc_std_9', 'mfcc_std_10',\n",
      "       'mfcc_std_11', 'mfcc_std_12', 'mfcc_std_13'],\n",
      "      dtype='object')\n",
      "---\n",
      "Cantidad de columnas: 42\n",
      "Cantidad de filas: 8732\n"
     ]
    }
   ],
   "source": [
    "print(\"Columnas del dataset:\")\n",
    "print(dataset_urbansound8k_df.columns)\n",
    "print(\"---\")\n",
    "\n",
    "print(f\"Cantidad de columnas: {dataset_urbansound8k_df.shape[1]}\")\n",
    "print(f\"Cantidad de filas: {dataset_urbansound8k_df.shape[0]}\")"
   ]
  },
  {
   "cell_type": "markdown",
   "metadata": {},
   "source": [
    "# Generación datos de entrenamiento y prueba"
   ]
  },
  {
   "cell_type": "code",
   "execution_count": 6,
   "metadata": {},
   "outputs": [],
   "source": [
    "# Separar las características y la variable objetivo\n",
    "# ['tasa_cruce_cero', 'entropia_espectograma', 'avg_centroide_espectral'\n",
    "columnas_caracteristicas = ['mfcc_mean_1', 'mfcc_mean_2',\n",
    "       'mfcc_mean_3', 'mfcc_mean_4', 'mfcc_mean_5', 'mfcc_mean_6',\n",
    "       'mfcc_mean_7', 'mfcc_mean_8', 'mfcc_mean_9', 'mfcc_mean_10',\n",
    "       'mfcc_mean_11', 'mfcc_mean_12', 'mfcc_mean_13', 'mfcc_median_1',\n",
    "       'mfcc_median_2', 'mfcc_median_3', 'mfcc_median_4', 'mfcc_median_5',\n",
    "       'mfcc_median_6', 'mfcc_median_7', 'mfcc_median_8', 'mfcc_median_9',\n",
    "       'mfcc_median_10', 'mfcc_median_11', 'mfcc_median_12', 'mfcc_median_13',\n",
    "       'mfcc_std_1', 'mfcc_std_2', 'mfcc_std_3', 'mfcc_std_4', 'mfcc_std_5',\n",
    "       'mfcc_std_6', 'mfcc_std_7', 'mfcc_std_8', 'mfcc_std_9', 'mfcc_std_10',\n",
    "       'mfcc_std_11', 'mfcc_std_12', 'mfcc_std_13']\n",
    "\n",
    "columna_predecir = 'classID'\n",
    "columna_fold = 'fold'\n",
    "\n",
    "# Separar las características y etiquetas\n",
    "X = dataset_urbansound8k_df[columnas_caracteristicas]  # Suponiendo que 'classID' es la etiqueta y 'fold' el número de fold\n",
    "y = dataset_urbansound8k_df[columna_predecir]\n",
    "folds = dataset_urbansound8k_df['fold']"
   ]
  },
  {
   "cell_type": "markdown",
   "metadata": {},
   "source": [
    "# Modelos de Clasificacion"
   ]
  },
  {
   "cell_type": "code",
   "execution_count": 7,
   "metadata": {},
   "outputs": [
    {
     "name": "stderr",
     "output_type": "stream",
     "text": [
      "2024/09/12 19:53:30 INFO mlflow.tracking.fluent: Experiment with name 'Clasificación sonidos urbanos GridSearchCV 1' does not exist. Creating a new experiment.\n"
     ]
    },
    {
     "data": {
      "text/plain": [
       "<Experiment: artifact_location='file:///c:/Users/colbe/Documents/VIU/TFM/tfm-clasificador-fuentes-sonoras-ciudad/notebooks/modelado/mlruns/925337277139110677', creation_time=1726188810310, experiment_id='925337277139110677', last_update_time=1726188810310, lifecycle_stage='active', name='Clasificación sonidos urbanos GridSearchCV 1', tags={}>"
      ]
     },
     "execution_count": 7,
     "metadata": {},
     "output_type": "execute_result"
    }
   ],
   "source": [
    "# Iniciar el experimento en MLflow\n",
    "mlflow.set_experiment(\"Clasificación sonidos urbanos GridSearchCV 1\")"
   ]
  },
  {
   "cell_type": "markdown",
   "metadata": {},
   "source": [
    "## KNeighborsClassifier"
   ]
  },
  {
   "cell_type": "code",
   "execution_count": 10,
   "metadata": {},
   "outputs": [
    {
     "name": "stdout",
     "output_type": "stream",
     "text": [
      "Mejores Parámetros: {'metric': 'euclidean', 'n_neighbors': 8, 'weights': 'distance'}\n",
      "Mejor Score: 0.5855511255895366\n",
      "Fold 1 Accuracy: 0.5269\n"
     ]
    },
    {
     "data": {
      "application/vnd.jupyter.widget-view+json": {
       "model_id": "3e1faabcefc346eca1672e5020760e92",
       "version_major": 2,
       "version_minor": 0
      },
      "text/plain": [
       "Downloading artifacts:   0%|          | 0/7 [00:00<?, ?it/s]"
      ]
     },
     "metadata": {},
     "output_type": "display_data"
    },
    {
     "name": "stdout",
     "output_type": "stream",
     "text": [
      "Mejores Parámetros: {'metric': 'euclidean', 'n_neighbors': 8, 'weights': 'distance'}\n",
      "Mejor Score: 0.5888601650851424\n",
      "Fold 2 Accuracy: 0.5214\n"
     ]
    },
    {
     "data": {
      "application/vnd.jupyter.widget-view+json": {
       "model_id": "7ebe5e1c54074a12bf32f06412009078",
       "version_major": 2,
       "version_minor": 0
      },
      "text/plain": [
       "Downloading artifacts:   0%|          | 0/7 [00:00<?, ?it/s]"
      ]
     },
     "metadata": {},
     "output_type": "display_data"
    },
    {
     "name": "stdout",
     "output_type": "stream",
     "text": [
      "Mejores Parámetros: {'metric': 'euclidean', 'n_neighbors': 18, 'weights': 'distance'}\n",
      "Mejor Score: 0.5854735874454186\n",
      "Fold 3 Accuracy: 0.4638\n"
     ]
    },
    {
     "data": {
      "application/vnd.jupyter.widget-view+json": {
       "model_id": "941d33131e4a4f62b86826bb16f94711",
       "version_major": 2,
       "version_minor": 0
      },
      "text/plain": [
       "Downloading artifacts:   0%|          | 0/7 [00:00<?, ?it/s]"
      ]
     },
     "metadata": {},
     "output_type": "display_data"
    },
    {
     "name": "stdout",
     "output_type": "stream",
     "text": [
      "Mejores Parámetros: {'metric': 'euclidean', 'n_neighbors': 8, 'weights': 'distance'}\n",
      "Mejor Score: 0.5665152954905393\n",
      "Fold 4 Accuracy: 0.5051\n"
     ]
    },
    {
     "data": {
      "application/vnd.jupyter.widget-view+json": {
       "model_id": "0e838ded057e4d42b3c0207fb2b5e896",
       "version_major": 2,
       "version_minor": 0
      },
      "text/plain": [
       "Downloading artifacts:   0%|          | 0/7 [00:00<?, ?it/s]"
      ]
     },
     "metadata": {},
     "output_type": "display_data"
    },
    {
     "name": "stdout",
     "output_type": "stream",
     "text": [
      "Mejores Parámetros: {'metric': 'euclidean', 'n_neighbors': 18, 'weights': 'distance'}\n",
      "Mejor Score: 0.5707891445311214\n",
      "Fold 5 Accuracy: 0.6132\n"
     ]
    },
    {
     "data": {
      "application/vnd.jupyter.widget-view+json": {
       "model_id": "e8eec60f5bbd4b6483fa200424b73452",
       "version_major": 2,
       "version_minor": 0
      },
      "text/plain": [
       "Downloading artifacts:   0%|          | 0/7 [00:00<?, ?it/s]"
      ]
     },
     "metadata": {},
     "output_type": "display_data"
    },
    {
     "name": "stdout",
     "output_type": "stream",
     "text": [
      "Mejores Parámetros: {'metric': 'euclidean', 'n_neighbors': 18, 'weights': 'distance'}\n",
      "Mejor Score: 0.5836222375138024\n",
      "Fold 6 Accuracy: 0.5298\n"
     ]
    },
    {
     "data": {
      "application/vnd.jupyter.widget-view+json": {
       "model_id": "227135ab21f845f58e28646534fd093b",
       "version_major": 2,
       "version_minor": 0
      },
      "text/plain": [
       "Downloading artifacts:   0%|          | 0/7 [00:00<?, ?it/s]"
      ]
     },
     "metadata": {},
     "output_type": "display_data"
    },
    {
     "name": "stdout",
     "output_type": "stream",
     "text": [
      "Mejores Parámetros: {'metric': 'euclidean', 'n_neighbors': 16, 'weights': 'distance'}\n",
      "Mejor Score: 0.5745983539490783\n",
      "Fold 7 Accuracy: 0.5561\n"
     ]
    },
    {
     "data": {
      "application/vnd.jupyter.widget-view+json": {
       "model_id": "b605d9655e444e5cbdbd300a61c181ba",
       "version_major": 2,
       "version_minor": 0
      },
      "text/plain": [
       "Downloading artifacts:   0%|          | 0/7 [00:00<?, ?it/s]"
      ]
     },
     "metadata": {},
     "output_type": "display_data"
    },
    {
     "name": "stdout",
     "output_type": "stream",
     "text": [
      "Mejores Parámetros: {'metric': 'euclidean', 'n_neighbors': 8, 'weights': 'distance'}\n",
      "Mejor Score: 0.5679920261887474\n",
      "Fold 8 Accuracy: 0.6166\n"
     ]
    },
    {
     "data": {
      "application/vnd.jupyter.widget-view+json": {
       "model_id": "c7e076c2861240ccb7d0f7b3240fc413",
       "version_major": 2,
       "version_minor": 0
      },
      "text/plain": [
       "Downloading artifacts:   0%|          | 0/7 [00:00<?, ?it/s]"
      ]
     },
     "metadata": {},
     "output_type": "display_data"
    },
    {
     "name": "stdout",
     "output_type": "stream",
     "text": [
      "Mejores Parámetros: {'metric': 'euclidean', 'n_neighbors': 17, 'weights': 'distance'}\n",
      "Mejor Score: 0.5737586037364798\n",
      "Fold 9 Accuracy: 0.6189\n"
     ]
    },
    {
     "data": {
      "application/vnd.jupyter.widget-view+json": {
       "model_id": "e075916e41c04794a888b338dc39d5bc",
       "version_major": 2,
       "version_minor": 0
      },
      "text/plain": [
       "Downloading artifacts:   0%|          | 0/7 [00:00<?, ?it/s]"
      ]
     },
     "metadata": {},
     "output_type": "display_data"
    },
    {
     "name": "stdout",
     "output_type": "stream",
     "text": [
      "Mejores Parámetros: {'metric': 'euclidean', 'n_neighbors': 16, 'weights': 'distance'}\n",
      "Mejor Score: 0.5787072243346008\n",
      "Fold 10 Accuracy: 0.5568\n"
     ]
    },
    {
     "data": {
      "application/vnd.jupyter.widget-view+json": {
       "model_id": "113ff1fd62d54542816e6595c3c18eeb",
       "version_major": 2,
       "version_minor": 0
      },
      "text/plain": [
       "Downloading artifacts:   0%|          | 0/7 [00:00<?, ?it/s]"
      ]
     },
     "metadata": {},
     "output_type": "display_data"
    },
    {
     "name": "stdout",
     "output_type": "stream",
     "text": [
      "\n",
      "Accuracy promedio: 0.5509\n",
      "Desviación estándar: 0.0495\n"
     ]
    },
    {
     "data": {
      "image/png": "[encoded data removed]",
      "text/plain": [
       "<Figure size 640x480 with 1 Axes>"
      ]
     },
     "metadata": {},
     "output_type": "display_data"
    }
   ],
   "source": [
    "# Escalar los datos (opcional)\n",
    "scaler = StandardScaler()\n",
    "X_scaled = scaler.fit_transform(X)\n",
    "\n",
    "# Definir el modelo KNN\n",
    "knn = KNeighborsClassifier()\n",
    "\n",
    "# Definir la rejilla de parámetros para GridSearchCV\n",
    "param_grid = {\n",
    "    'n_neighbors': [7,8,9,16,17,18],  # Número de vecinos a considerar\n",
    "    'weights': ['distance'],  # Función de peso a usar\n",
    "    'metric': ['euclidean', 'minkowski']  # Métrica de distancia\n",
    "}\n",
    "\n",
    "# Inicializar lista para almacenar accuracies\n",
    "fold_accuracies = []\n",
    "\n",
    "# Realizar la validación cruzada respetando los folds predefinidos\n",
    "for fold in range(1, 11):  # Hay 10 folds en UrbanSound8K\n",
    "    # Dividir el dataset en entrenamiento y prueba\n",
    "    train_index = folds != fold\n",
    "    test_index = folds == fold\n",
    "    \n",
    "    X_train, X_test = X_scaled[train_index], X_scaled[test_index]\n",
    "    y_train, y_test = y[train_index], y[test_index]    \n",
    "\n",
    "    with mlflow.start_run(run_name=f\"KNN GSCV Fold_{fold}\") as run:\n",
    "\n",
    "        # Configurar GridSearchCV\n",
    "        grid_search = GridSearchCV(\n",
    "            estimator=knn, \n",
    "            param_grid=param_grid, \n",
    "            cv=10,  # Validación cruzada interna con 10 pliegues\n",
    "            scoring='accuracy',  # Métrica para optimizar\n",
    "            n_jobs=-1  # Usar todos los núcleos disponibles\n",
    "        )\n",
    "\n",
    "        # Entrenar el modelo con la búsqueda de hiperparámetros\n",
    "        grid_search.fit(X_train, y_train)\n",
    "\n",
    "        # Obtener el mejor modelo\n",
    "        best_knn = grid_search.best_estimator_\n",
    "\n",
    "        # Obtener los mejores parámetros y el mejor score\n",
    "        best_params = grid_search.best_params_\n",
    "        best_score = grid_search.best_score_    \n",
    "        \n",
    "        # Predecir y evaluar\n",
    "        y_pred = best_knn.predict(X_test)\n",
    "        accuracy = accuracy_score(y_test, y_pred)\n",
    "        fold_accuracies.append(accuracy)\n",
    "        \n",
    "        print(f\"Mejores Parámetros: {best_params}\")\n",
    "        print(f\"Mejor Score: {best_score}\")        \n",
    "        print(f\"Fold {fold} Accuracy: {accuracy:.4f}\")\n",
    "    \n",
    "        # Registrar los parámetros y métricas en MLflow\n",
    "        mlflow.log_params(best_params)\n",
    "\n",
    "        #mlflow.log_metric(f\"best_cv_score_fold_{fold}\", best_score)\n",
    "        # Registrar la métrica de accuracy de este fold\n",
    "        mlflow.log_metric(f\"accuracy_score\", accuracy)\n",
    "\n",
    "        # Guardar el modelo en MLflow con un ejemplo de entrada\n",
    "        input_example = X_test[:1]  # Ejemplo de entrada, una sola muestra de prueba\n",
    "        mlflow.sklearn.log_model(best_knn, f\"knn_model_fold_{fold}\", input_example=input_example)\n",
    "\n",
    "        # Se finaliza el registro\n",
    "        mlflow.end_run()\n",
    "\n",
    "\n",
    "# Mostrar el promedio y desviación estándar\n",
    "mean_accuracy = np.mean(fold_accuracies)\n",
    "std_accuracy = np.std(fold_accuracies)\n",
    "\n",
    "print(f\"\\nAccuracy promedio: {mean_accuracy:.4f}\")\n",
    "print(f\"Desviación estándar: {std_accuracy:.4f}\")\n",
    "\n",
    "\n",
    "\n",
    "# Opcional: Visualizar los resultados con un boxplot\n",
    "plt.boxplot(fold_accuracies)\n",
    "plt.title('Distribución de Accuracy en 10-Fold Cross Validation con KNN y GridSearchCV')\n",
    "plt.ylabel('Accuracy')\n",
    "plt.show()\n"
   ]
  },
  {
   "cell_type": "code",
   "execution_count": 23,
   "metadata": {},
   "outputs": [],
   "source": [
    "mlflow.end_run()"
   ]
  },
  {
   "cell_type": "markdown",
   "metadata": {},
   "source": [
    "## Random Forest"
   ]
  },
  {
   "cell_type": "code",
   "execution_count": 10,
   "metadata": {},
   "outputs": [
    {
     "name": "stdout",
     "output_type": "stream",
     "text": [
      "Mejores Parámetros: {'n_estimators': 500, 'min_samples_split': 2, 'min_samples_leaf': 1, 'max_features': 'log2', 'max_depth': 20, 'bootstrap': False}\n",
      "Mejor Score: 0.6232143725385326\n",
      "Fold 1 Accuracy: 0.6140\n"
     ]
    },
    {
     "data": {
      "application/vnd.jupyter.widget-view+json": {
       "model_id": "564ba2d42d1843ada4afc194167b0d46",
       "version_major": 2,
       "version_minor": 0
      },
      "text/plain": [
       "Downloading artifacts:   0%|          | 0/7 [00:00<?, ?it/s]"
      ]
     },
     "metadata": {},
     "output_type": "display_data"
    },
    {
     "name": "stdout",
     "output_type": "stream",
     "text": [
      "Mejores Parámetros: {'n_estimators': 500, 'min_samples_split': 5, 'min_samples_leaf': 1, 'max_features': 'log2', 'max_depth': 50, 'bootstrap': False}\n",
      "Mejor Score: 0.6462274145326921\n",
      "Fold 2 Accuracy: 0.5698\n"
     ]
    },
    {
     "data": {
      "application/vnd.jupyter.widget-view+json": {
       "model_id": "57a67513ec0a4042bc1a6e345c41319e",
       "version_major": 2,
       "version_minor": 0
      },
      "text/plain": [
       "Downloading artifacts:   0%|          | 0/7 [00:00<?, ?it/s]"
      ]
     },
     "metadata": {},
     "output_type": "display_data"
    },
    {
     "name": "stdout",
     "output_type": "stream",
     "text": [
      "Mejores Parámetros: {'n_estimators': 500, 'min_samples_split': 5, 'min_samples_leaf': 1, 'max_features': 'log2', 'max_depth': 50, 'bootstrap': False}\n",
      "Mejor Score: 0.6342841196362323\n",
      "Fold 3 Accuracy: 0.5373\n"
     ]
    },
    {
     "data": {
      "application/vnd.jupyter.widget-view+json": {
       "model_id": "755fa8218b7341f08e620e009f13e0ca",
       "version_major": 2,
       "version_minor": 0
      },
      "text/plain": [
       "Downloading artifacts:   0%|          | 0/7 [00:00<?, ?it/s]"
      ]
     },
     "metadata": {},
     "output_type": "display_data"
    },
    {
     "name": "stdout",
     "output_type": "stream",
     "text": [
      "Mejores Parámetros: {'n_estimators': 500, 'min_samples_split': 2, 'min_samples_leaf': 1, 'max_features': 'log2', 'max_depth': 20, 'bootstrap': False}\n",
      "Mejor Score: 0.6289013920146703\n",
      "Fold 4 Accuracy: 0.5909\n"
     ]
    },
    {
     "data": {
      "application/vnd.jupyter.widget-view+json": {
       "model_id": "60fae0bf415f4377999e05e0847dabd7",
       "version_major": 2,
       "version_minor": 0
      },
      "text/plain": [
       "Downloading artifacts:   0%|          | 0/7 [00:00<?, ?it/s]"
      ]
     },
     "metadata": {},
     "output_type": "display_data"
    },
    {
     "name": "stdout",
     "output_type": "stream",
     "text": [
      "Mejores Parámetros: {'n_estimators': 500, 'min_samples_split': 2, 'min_samples_leaf': 1, 'max_features': 'log2', 'max_depth': 20, 'bootstrap': False}\n",
      "Mejor Score: 0.608760738619532\n",
      "Fold 5 Accuracy: 0.6314\n"
     ]
    },
    {
     "data": {
      "application/vnd.jupyter.widget-view+json": {
       "model_id": "2e3679a2a5d646ad8e7b8d0720f64ad0",
       "version_major": 2,
       "version_minor": 0
      },
      "text/plain": [
       "Downloading artifacts:   0%|          | 0/7 [00:00<?, ?it/s]"
      ]
     },
     "metadata": {},
     "output_type": "display_data"
    },
    {
     "name": "stdout",
     "output_type": "stream",
     "text": [
      "Mejores Parámetros: {'n_estimators': 500, 'min_samples_split': 2, 'min_samples_leaf': 1, 'max_features': 'log2', 'max_depth': 20, 'bootstrap': False}\n",
      "Mejor Score: 0.6388802829297957\n",
      "Fold 6 Accuracy: 0.5407\n"
     ]
    },
    {
     "data": {
      "application/vnd.jupyter.widget-view+json": {
       "model_id": "c5785b6f23e44a9bb97aedf298b4542a",
       "version_major": 2,
       "version_minor": 0
      },
      "text/plain": [
       "Downloading artifacts:   0%|          | 0/7 [00:00<?, ?it/s]"
      ]
     },
     "metadata": {},
     "output_type": "display_data"
    },
    {
     "name": "stdout",
     "output_type": "stream",
     "text": [
      "Mejores Parámetros: {'n_estimators': 500, 'min_samples_split': 5, 'min_samples_leaf': 1, 'max_features': 'log2', 'max_depth': 50, 'bootstrap': False}\n",
      "Mejor Score: 0.62045900113908\n",
      "Fold 7 Accuracy: 0.6229\n"
     ]
    },
    {
     "data": {
      "application/vnd.jupyter.widget-view+json": {
       "model_id": "c69aeb8055074c758626240181a917d6",
       "version_major": 2,
       "version_minor": 0
      },
      "text/plain": [
       "Downloading artifacts:   0%|          | 0/7 [00:00<?, ?it/s]"
      ]
     },
     "metadata": {},
     "output_type": "display_data"
    },
    {
     "name": "stdout",
     "output_type": "stream",
     "text": [
      "Mejores Parámetros: {'n_estimators': 200, 'min_samples_split': 10, 'min_samples_leaf': 2, 'max_features': 'log2', 'max_depth': 30, 'bootstrap': True}\n",
      "Mejor Score: 0.6166962818602163\n",
      "Fold 8 Accuracy: 0.6141\n"
     ]
    },
    {
     "data": {
      "application/vnd.jupyter.widget-view+json": {
       "model_id": "879255fce0454bcfb4acfddd8aa34b9b",
       "version_major": 2,
       "version_minor": 0
      },
      "text/plain": [
       "Downloading artifacts:   0%|          | 0/7 [00:00<?, ?it/s]"
      ]
     },
     "metadata": {},
     "output_type": "display_data"
    },
    {
     "name": "stdout",
     "output_type": "stream",
     "text": [
      "Mejores Parámetros: {'n_estimators': 500, 'min_samples_split': 2, 'min_samples_leaf': 1, 'max_features': 'log2', 'max_depth': 20, 'bootstrap': False}\n",
      "Mejor Score: 0.6175929650487173\n",
      "Fold 9 Accuracy: 0.6495\n"
     ]
    },
    {
     "data": {
      "application/vnd.jupyter.widget-view+json": {
       "model_id": "94f006a0551b41918eecae05bc34d8b8",
       "version_major": 2,
       "version_minor": 0
      },
      "text/plain": [
       "Downloading artifacts:   0%|          | 0/7 [00:00<?, ?it/s]"
      ]
     },
     "metadata": {},
     "output_type": "display_data"
    },
    {
     "name": "stdout",
     "output_type": "stream",
     "text": [
      "Mejores Parámetros: {'n_estimators': 500, 'min_samples_split': 2, 'min_samples_leaf': 1, 'max_features': 'log2', 'max_depth': 20, 'bootstrap': False}\n",
      "Mejor Score: 0.6339373666393928\n",
      "Fold 10 Accuracy: 0.6392\n"
     ]
    },
    {
     "data": {
      "application/vnd.jupyter.widget-view+json": {
       "model_id": "0dd802491a4f4dc18cc93990963f62e2",
       "version_major": 2,
       "version_minor": 0
      },
      "text/plain": [
       "Downloading artifacts:   0%|          | 0/7 [00:00<?, ?it/s]"
      ]
     },
     "metadata": {},
     "output_type": "display_data"
    },
    {
     "name": "stdout",
     "output_type": "stream",
     "text": [
      "\n",
      "Accuracy promedio: 0.6010\n",
      "Desviación estándar: 0.0378\n"
     ]
    },
    {
     "data": {
      "image/png": "[encoded data removed]",
      "text/plain": [
       "<Figure size 640x480 with 1 Axes>"
      ]
     },
     "metadata": {},
     "output_type": "display_data"
    }
   ],
   "source": [
    "# Escalar los datos (opcional)\n",
    "scaler = StandardScaler()\n",
    "X_scaled = scaler.fit_transform(X)\n",
    "\n",
    "# Definir el modelo Random Forest\n",
    "rf = RandomForestClassifier(random_state=42)\n",
    "\n",
    "# Definir la rejilla de parámetros para GridSearchCV\n",
    "param_grid = {\n",
    "    'n_estimators': [450, 500, 550],  # Número de árboles en el bosque\n",
    "    'max_depth': [20, 25, 30],  # Máxima profundidad de cada árbol\n",
    "    'min_samples_split': [2, 3],  # Mínimo número de muestras requeridas para dividir un nodo\n",
    "    'min_samples_leaf': [1, 2],  # Mínimo número de muestras requeridas en una hoja\n",
    "    'max_features': ['log2'],  # Número de características a considerar al buscar la mejor división\n",
    "    'bootstrap': [True, False]  # Método para seleccionar muestras para construir cada árbol\n",
    "}\n",
    "\n",
    "# Inicializar lista para almacenar accuracies\n",
    "fold_accuracies = []\n",
    "\n",
    "# Realizar la validación cruzada respetando los folds predefinidos\n",
    "for fold in range(1, 11):  # Hay 10 folds en UrbanSound8K\n",
    "    # Dividir el dataset en entrenamiento y prueba\n",
    "    train_index = folds != fold\n",
    "    test_index = folds == fold\n",
    "    \n",
    "    X_train, X_test = X_scaled[train_index], X_scaled[test_index]\n",
    "    y_train, y_test = y[train_index], y[test_index]\n",
    "\n",
    "    with mlflow.start_run(run_name=f\"RandomForest GSCV Fold_{fold}\") as run:\n",
    "\n",
    "        # Configurar GridSearchCV\n",
    "        grid_search = GridSearchCV(\n",
    "            estimator=rf, \n",
    "            param_grid=param_grid, \n",
    "            cv=10,  # Validación cruzada interna con 10 pliegues\n",
    "            scoring='accuracy',  # Métrica para optimizar\n",
    "            n_jobs=-1  # Usar todos los núcleos disponibles\n",
    "        )\n",
    "\n",
    "        # Entrenar el modelo con la búsqueda de hiperparámetros\n",
    "        grid_search.fit(X_train, y_train)\n",
    "\n",
    "        # Obtener el mejor modelo\n",
    "        best_rf = grid_search.best_estimator_\n",
    "\n",
    "        # Obtener los mejores parámetros y el mejor score\n",
    "        best_params = grid_search.best_params_\n",
    "        best_score = grid_search.best_score_\n",
    "        \n",
    "        # Predecir y evaluar\n",
    "        y_pred = best_rf.predict(X_test)\n",
    "        accuracy = accuracy_score(y_test, y_pred)\n",
    "        fold_accuracies.append(accuracy)\n",
    "\n",
    "        print(f\"Mejores Parámetros: {best_params}\")\n",
    "        print(f\"Mejor Score: {best_score}\")\n",
    "        \n",
    "        print(f\"Fold {fold} Accuracy: {accuracy:.4f}\")\n",
    "    \n",
    "        # Registrar los parámetros y métricas en MLflow\n",
    "        mlflow.log_params(best_params)\n",
    "\n",
    "        #mlflow.log_metric(f\"best_cv_score_fold_{fold}\", best_score)\n",
    "        # Registrar la métrica de accuracy de este fold\n",
    "        mlflow.log_metric(f\"accuracy_score\", accuracy)\n",
    "\n",
    "        # Guardar el modelo en MLflow con un ejemplo de entrada\n",
    "        input_example = X_test[:1]  # Ejemplo de entrada, una sola muestra de prueba\n",
    "        mlflow.sklearn.log_model(best_rf, f\"rf_model_fold_{fold}\", input_example=input_example)\n",
    "\n",
    "        # Se finaliza el registro\n",
    "        mlflow.end_run()\n",
    "\n",
    "\n",
    "# Mostrar el promedio y desviación estándar\n",
    "mean_accuracy = np.mean(fold_accuracies)\n",
    "std_accuracy = np.std(fold_accuracies)\n",
    "\n",
    "print(f\"\\nAccuracy promedio: {mean_accuracy:.4f}\")\n",
    "print(f\"Desviación estándar: {std_accuracy:.4f}\")\n",
    "\n",
    "# Opcional: Visualizar los resultados con un boxplot\n",
    "plt.boxplot(fold_accuracies)\n",
    "plt.title('Distribución de Accuracy en 10-Fold Cross Validation con Random Forest y GridSearchCV ')\n",
    "plt.ylabel('Accuracy')\n",
    "plt.show()\n"
   ]
  },
  {
   "cell_type": "markdown",
   "metadata": {},
   "source": [
    "## SVM"
   ]
  },
  {
   "cell_type": "code",
   "execution_count": 11,
   "metadata": {},
   "outputs": [
    {
     "name": "stdout",
     "output_type": "stream",
     "text": [
      "Mejores Parámetros: {'kernel': 'rbf', 'gamma': 'scale', 'degree': 3, 'coef0': 0.5555555555555556, 'C': 1.0}\n",
      "Mejor Score: 0.6482854410787506\n",
      "Fold 1 Accuracy: 0.6197\n"
     ]
    },
    {
     "data": {
      "application/vnd.jupyter.widget-view+json": {
       "model_id": "1457d13d8f174678b05741c401d32857",
       "version_major": 2,
       "version_minor": 0
      },
      "text/plain": [
       "Downloading artifacts:   0%|          | 0/7 [00:00<?, ?it/s]"
      ]
     },
     "metadata": {},
     "output_type": "display_data"
    },
    {
     "name": "stdout",
     "output_type": "stream",
     "text": [
      "Mejores Parámetros: {'kernel': 'rbf', 'gamma': 'scale', 'degree': 3, 'coef0': 0.5555555555555556, 'C': 1.0}\n",
      "Mejor Score: 0.6650991160795529\n",
      "Fold 2 Accuracy: 0.6284\n"
     ]
    },
    {
     "data": {
      "application/vnd.jupyter.widget-view+json": {
       "model_id": "3b456d14aa3b407a97439f534515f974",
       "version_major": 2,
       "version_minor": 0
      },
      "text/plain": [
       "Downloading artifacts:   0%|          | 0/7 [00:00<?, ?it/s]"
      ]
     },
     "metadata": {},
     "output_type": "display_data"
    },
    {
     "name": "stdout",
     "output_type": "stream",
     "text": [
      "Mejores Parámetros: {'kernel': 'rbf', 'gamma': 'scale', 'degree': 3, 'coef0': 0.5555555555555556, 'C': 1.0}\n",
      "Mejor Score: 0.6586102629764601\n",
      "Fold 3 Accuracy: 0.5470\n"
     ]
    },
    {
     "data": {
      "application/vnd.jupyter.widget-view+json": {
       "model_id": "a8669fcb83374a8680dfbfc75539bb12",
       "version_major": 2,
       "version_minor": 0
      },
      "text/plain": [
       "Downloading artifacts:   0%|          | 0/7 [00:00<?, ?it/s]"
      ]
     },
     "metadata": {},
     "output_type": "display_data"
    },
    {
     "name": "stdout",
     "output_type": "stream",
     "text": [
      "Mejores Parámetros: {'kernel': 'rbf', 'gamma': 'auto', 'degree': 2, 'coef0': 0.5555555555555556, 'C': 1.0}\n",
      "Mejor Score: 0.6477617737767776\n",
      "Fold 4 Accuracy: 0.6303\n"
     ]
    },
    {
     "data": {
      "application/vnd.jupyter.widget-view+json": {
       "model_id": "684b4ccace8a44099508af6379a4c3db",
       "version_major": 2,
       "version_minor": 0
      },
      "text/plain": [
       "Downloading artifacts:   0%|          | 0/7 [00:00<?, ?it/s]"
      ]
     },
     "metadata": {},
     "output_type": "display_data"
    },
    {
     "name": "stdout",
     "output_type": "stream",
     "text": [
      "Mejores Parámetros: {'kernel': 'rbf', 'gamma': 'auto', 'degree': 2, 'coef0': 0.5555555555555556, 'C': 1.0}\n",
      "Mejor Score: 0.6256856258845989\n",
      "Fold 5 Accuracy: 0.6357\n"
     ]
    },
    {
     "data": {
      "application/vnd.jupyter.widget-view+json": {
       "model_id": "d6e1ed36d3f841dcb45c80e3568560fc",
       "version_major": 2,
       "version_minor": 0
      },
      "text/plain": [
       "Downloading artifacts:   0%|          | 0/7 [00:00<?, ?it/s]"
      ]
     },
     "metadata": {},
     "output_type": "display_data"
    },
    {
     "name": "stdout",
     "output_type": "stream",
     "text": [
      "Mejores Parámetros: {'kernel': 'rbf', 'gamma': 'auto', 'degree': 2, 'coef0': 0.5555555555555556, 'C': 1.0}\n",
      "Mejor Score: 0.6629027508841556\n",
      "Fold 6 Accuracy: 0.6015\n"
     ]
    },
    {
     "data": {
      "application/vnd.jupyter.widget-view+json": {
       "model_id": "66dd8c098d9e4bb7ba747561cf949086",
       "version_major": 2,
       "version_minor": 0
      },
      "text/plain": [
       "Downloading artifacts:   0%|          | 0/7 [00:00<?, ?it/s]"
      ]
     },
     "metadata": {},
     "output_type": "display_data"
    },
    {
     "name": "stdout",
     "output_type": "stream",
     "text": [
      "Mejores Parámetros: {'kernel': 'rbf', 'gamma': 'scale', 'degree': 3, 'coef0': 0.5555555555555556, 'C': 1.0}\n",
      "Mejor Score: 0.6507307760183536\n",
      "Fold 7 Accuracy: 0.6587\n"
     ]
    },
    {
     "data": {
      "application/vnd.jupyter.widget-view+json": {
       "model_id": "49246b1a5a8e4c33802cf28f9f2f2da4",
       "version_major": 2,
       "version_minor": 0
      },
      "text/plain": [
       "Downloading artifacts:   0%|          | 0/7 [00:00<?, ?it/s]"
      ]
     },
     "metadata": {},
     "output_type": "display_data"
    },
    {
     "name": "stdout",
     "output_type": "stream",
     "text": [
      "Mejores Parámetros: {'kernel': 'rbf', 'gamma': 'scale', 'degree': 3, 'coef0': 0.5555555555555556, 'C': 1.0}\n",
      "Mejor Score: 0.6400370349140841\n",
      "Fold 8 Accuracy: 0.6650\n"
     ]
    },
    {
     "data": {
      "application/vnd.jupyter.widget-view+json": {
       "model_id": "d1f12b8198384a8a84f0d9b76d55301b",
       "version_major": 2,
       "version_minor": 0
      },
      "text/plain": [
       "Downloading artifacts:   0%|          | 0/7 [00:00<?, ?it/s]"
      ]
     },
     "metadata": {},
     "output_type": "display_data"
    },
    {
     "name": "stdout",
     "output_type": "stream",
     "text": [
      "Mejores Parámetros: {'kernel': 'rbf', 'gamma': 'scale', 'degree': 3, 'coef0': 0.5555555555555556, 'C': 1.0}\n",
      "Mejor Score: 0.6364190259101765\n",
      "Fold 9 Accuracy: 0.6593\n"
     ]
    },
    {
     "data": {
      "application/vnd.jupyter.widget-view+json": {
       "model_id": "b320220eaf1c4789b91ba09e0310236f",
       "version_major": 2,
       "version_minor": 0
      },
      "text/plain": [
       "Downloading artifacts:   0%|          | 0/7 [00:00<?, ?it/s]"
      ]
     },
     "metadata": {},
     "output_type": "display_data"
    },
    {
     "name": "stdout",
     "output_type": "stream",
     "text": [
      "Mejores Parámetros: {'kernel': 'rbf', 'gamma': 'auto', 'degree': 2, 'coef0': 0.5555555555555556, 'C': 1.0}\n",
      "Mejor Score: 0.6642123501949271\n",
      "Fold 10 Accuracy: 0.6511\n"
     ]
    },
    {
     "data": {
      "application/vnd.jupyter.widget-view+json": {
       "model_id": "f35c62a3fedf472895366d93d698a7db",
       "version_major": 2,
       "version_minor": 0
      },
      "text/plain": [
       "Downloading artifacts:   0%|          | 0/7 [00:00<?, ?it/s]"
      ]
     },
     "metadata": {},
     "output_type": "display_data"
    },
    {
     "name": "stdout",
     "output_type": "stream",
     "text": [
      "\n",
      "Accuracy promedio: 0.6297\n",
      "Desviación estándar: 0.0335\n"
     ]
    },
    {
     "data": {
      "image/png": "[encoded data removed]",
      "text/plain": [
       "<Figure size 640x480 with 1 Axes>"
      ]
     },
     "metadata": {},
     "output_type": "display_data"
    }
   ],
   "source": [
    "# Escalar los datos (opcional)\n",
    "scaler = StandardScaler()\n",
    "X_scaled = scaler.fit_transform(X)\n",
    "\n",
    "# Definir el modelo SVM\n",
    "svm = SVC()\n",
    "\n",
    "# Definir la rejilla de parámetros para RandomizedSearchCV\n",
    "param_grid  = {\n",
    "    'C': [1],  # Parámetro de regularización\n",
    "    'kernel': ['rbf'],  # Tipo de kernel\n",
    "    'gamma': ['scale'],  # Coeficiente del kernel 'rbf', 'poly' o 'sigmoid'\n",
    "    'degree': [2,3,4],  # Grado del polinomio si se usa kernel 'poly'\n",
    "    'coef0': [0.5555555555555556]  # Término independiente en el kernel 'poly' y 'sigmoid'\n",
    "}\n",
    "\n",
    "# Inicializar lista para almacenar accuracies\n",
    "fold_accuracies = []\n",
    "\n",
    "# Realizar la validación cruzada respetando los folds predefinidos\n",
    "for fold in range(1, 11):  # Hay 10 folds en UrbanSound8K\n",
    "    # Dividir el dataset en entrenamiento y prueba\n",
    "    train_index = folds != fold\n",
    "    test_index = folds == fold\n",
    "    \n",
    "    X_train, X_test = X_scaled[train_index], X_scaled[test_index]\n",
    "    y_train, y_test = y[train_index], y[test_index]\n",
    "\n",
    "    # Configurar RandomizedSearchCV\n",
    "    random_search = RandomizedSearchCV(\n",
    "        estimator=svm, \n",
    "        param_distributions=param_distributions, \n",
    "        n_iter=10,  # Número de combinaciones aleatorias a probar\n",
    "        cv=10,  # Validación cruzada interna con 10 pliegues\n",
    "        scoring='accuracy',  # Métrica para optimizar\n",
    "        n_jobs=-1,  # Usar todos los núcleos disponibles\n",
    "        random_state=42\n",
    "    )\n",
    "\n",
    "    # Entrenar el modelo con la búsqueda de hiperparámetros\n",
    "    random_search.fit(X_train, y_train)\n",
    "\n",
    "    # Obtener el mejor modelo\n",
    "    best_svm = random_search.best_estimator_\n",
    "\n",
    "    # Obtener los mejores parámetros y el mejor score\n",
    "    best_params = random_search.best_params_\n",
    "    best_score = random_search.best_score_\n",
    "    \n",
    "    # Predecir y evaluar\n",
    "    y_pred = best_svm.predict(X_test)\n",
    "    accuracy = accuracy_score(y_test, y_pred)\n",
    "    fold_accuracies.append(accuracy)\n",
    "\n",
    "    print(f\"Mejores Parámetros: {best_params}\")\n",
    "    print(f\"Mejor Score: {best_score}\")\n",
    "    \n",
    "    print(f\"Fold {fold} Accuracy: {accuracy:.4f}\")\n",
    "\n",
    "    with mlflow.start_run(run_name=f\"SVM RSCV Fold_{fold}\") as run:\n",
    "        # Registrar los parámetros y métricas en MLflow\n",
    "        mlflow.log_params(best_params)\n",
    "\n",
    "        #mlflow.log_metric(f\"best_cv_score_fold_{fold}\", best_score)\n",
    "        # Registrar la métrica de accuracy de este fold\n",
    "        mlflow.log_metric(f\"accuracy_score\", accuracy)\n",
    "\n",
    "        # Guardar el modelo en MLflow con un ejemplo de entrada\n",
    "        input_example = X_test[:1]  # Ejemplo de entrada, una sola muestra de prueba\n",
    "        mlflow.sklearn.log_model(best_svm, f\"svm_model_fold_{fold}\", input_example=input_example)\n",
    "\n",
    "        # Se finaliza el registro\n",
    "        mlflow.end_run()\n",
    "\n",
    "\n",
    "# Mostrar el promedio y desviación estándar\n",
    "mean_accuracy = np.mean(fold_accuracies)\n",
    "std_accuracy = np.std(fold_accuracies)\n",
    "\n",
    "print(f\"\\nAccuracy promedio: {mean_accuracy:.4f}\")\n",
    "print(f\"Desviación estándar: {std_accuracy:.4f}\")\n",
    "\n",
    "# Opcional: Visualizar los resultados con un boxplot\n",
    "plt.boxplot(fold_accuracies)\n",
    "plt.title('Distribución de Accuracy en 10-Fold Cross Validation con SVM y RandomizedSearchCV')\n",
    "plt.ylabel('Accuracy')\n",
    "plt.show()\n"
   ]
  }
 ],
 "metadata": {
  "kernelspec": {
   "display_name": "huemul",
   "language": "python",
   "name": "python3"
  },
  "language_info": {
   "codemirror_mode": {
    "name": "ipython",
    "version": 3
   },
   "file_extension": ".py",
   "mimetype": "text/x-python",
   "name": "python",
   "nbconvert_exporter": "python",
   "pygments_lexer": "ipython3",
   "version": "3.10.5"
  }
 },
 "nbformat": 4,
 "nbformat_minor": 2
}
