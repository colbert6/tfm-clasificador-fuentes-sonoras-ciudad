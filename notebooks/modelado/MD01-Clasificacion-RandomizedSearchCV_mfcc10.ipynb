{
 "cells": [
  {
   "cell_type": "markdown",
   "metadata": {},
   "source": [
    "# Importación de librerías"
   ]
  },
  {
   "cell_type": "code",
   "execution_count": 2,
   "metadata": {},
   "outputs": [],
   "source": [
    "import pandas as pd\n",
    "import numpy as np\n",
    "import time \n",
    "\n",
    "import os\n",
    "import librosa\n",
    "import librosa.display\n",
    "\n",
    "import matplotlib.pyplot as plt\n",
    "import seaborn as sns\n",
    "\n",
    "import mlflow\n"
   ]
  },
  {
   "cell_type": "code",
   "execution_count": 3,
   "metadata": {},
   "outputs": [],
   "source": [
    "from sklearn.model_selection import train_test_split\n",
    "from sklearn.metrics import classification_report, accuracy_score\n",
    "\n",
    "from sklearn.neighbors import KNeighborsClassifier\n",
    "from sklearn.ensemble import RandomForestClassifier\n",
    "from sklearn.svm import SVC\n",
    "\n",
    "from sklearn.model_selection import GridSearchCV, RandomizedSearchCV\n",
    "from sklearn.model_selection import KFold\n",
    "\n",
    "from sklearn.preprocessing import MinMaxScaler, StandardScaler\n",
    "\n",
    "from sklearn.metrics import accuracy_score, f1_score, precision_score, recall_score\n",
    "from sklearn.metrics import confusion_matrix, ConfusionMatrixDisplay"
   ]
  },
  {
   "cell_type": "markdown",
   "metadata": {},
   "source": [
    "# Lectura del dataset"
   ]
  },
  {
   "cell_type": "code",
   "execution_count": 4,
   "metadata": {},
   "outputs": [
    {
     "data": {
      "text/html": [
       "<div>\n",
       "<style scoped>\n",
       "    .dataframe tbody tr th:only-of-type {\n",
       "        vertical-align: middle;\n",
       "    }\n",
       "\n",
       "    .dataframe tbody tr th {\n",
       "        vertical-align: top;\n",
       "    }\n",
       "\n",
       "    .dataframe thead th {\n",
       "        text-align: right;\n",
       "    }\n",
       "</style>\n",
       "<table border=\"1\" class=\"dataframe\">\n",
       "  <thead>\n",
       "    <tr style=\"text-align: right;\">\n",
       "      <th></th>\n",
       "      <th>fold</th>\n",
       "      <th>classID</th>\n",
       "      <th>mfcc_mean_1</th>\n",
       "      <th>mfcc_mean_2</th>\n",
       "      <th>mfcc_mean_3</th>\n",
       "      <th>mfcc_mean_4</th>\n",
       "      <th>mfcc_mean_5</th>\n",
       "      <th>mfcc_mean_6</th>\n",
       "      <th>mfcc_mean_7</th>\n",
       "      <th>mfcc_mean_8</th>\n",
       "      <th>...</th>\n",
       "      <th>delta2_mfcc_var_1</th>\n",
       "      <th>delta2_mfcc_var_2</th>\n",
       "      <th>delta2_mfcc_var_3</th>\n",
       "      <th>delta2_mfcc_var_4</th>\n",
       "      <th>delta2_mfcc_var_5</th>\n",
       "      <th>delta2_mfcc_var_6</th>\n",
       "      <th>delta2_mfcc_var_7</th>\n",
       "      <th>delta2_mfcc_var_8</th>\n",
       "      <th>delta2_mfcc_var_9</th>\n",
       "      <th>delta2_mfcc_var_10</th>\n",
       "    </tr>\n",
       "  </thead>\n",
       "  <tbody>\n",
       "    <tr>\n",
       "      <th>0</th>\n",
       "      <td>5</td>\n",
       "      <td>3</td>\n",
       "      <td>-275.91843</td>\n",
       "      <td>119.49280</td>\n",
       "      <td>-98.21178</td>\n",
       "      <td>-66.515140</td>\n",
       "      <td>-42.606050</td>\n",
       "      <td>0.505066</td>\n",
       "      <td>-28.330938</td>\n",
       "      <td>-5.746867</td>\n",
       "      <td>...</td>\n",
       "      <td>112.505020</td>\n",
       "      <td>213.598100</td>\n",
       "      <td>39.538475</td>\n",
       "      <td>116.963340</td>\n",
       "      <td>28.015196</td>\n",
       "      <td>153.756260</td>\n",
       "      <td>35.081203</td>\n",
       "      <td>40.550793</td>\n",
       "      <td>19.388300</td>\n",
       "      <td>49.317924</td>\n",
       "    </tr>\n",
       "    <tr>\n",
       "      <th>1</th>\n",
       "      <td>5</td>\n",
       "      <td>2</td>\n",
       "      <td>-500.90840</td>\n",
       "      <td>185.10641</td>\n",
       "      <td>-86.53282</td>\n",
       "      <td>49.858850</td>\n",
       "      <td>9.230822</td>\n",
       "      <td>22.548956</td>\n",
       "      <td>-3.567175</td>\n",
       "      <td>12.220052</td>\n",
       "      <td>...</td>\n",
       "      <td>45.168175</td>\n",
       "      <td>41.733723</td>\n",
       "      <td>32.465210</td>\n",
       "      <td>30.765085</td>\n",
       "      <td>34.802017</td>\n",
       "      <td>35.170403</td>\n",
       "      <td>32.595600</td>\n",
       "      <td>35.089226</td>\n",
       "      <td>29.046677</td>\n",
       "      <td>31.543688</td>\n",
       "    </tr>\n",
       "    <tr>\n",
       "      <th>2</th>\n",
       "      <td>5</td>\n",
       "      <td>2</td>\n",
       "      <td>-531.19530</td>\n",
       "      <td>186.93994</td>\n",
       "      <td>-70.34916</td>\n",
       "      <td>40.429245</td>\n",
       "      <td>9.121047</td>\n",
       "      <td>18.398588</td>\n",
       "      <td>6.283282</td>\n",
       "      <td>15.504061</td>\n",
       "      <td>...</td>\n",
       "      <td>37.555386</td>\n",
       "      <td>37.222927</td>\n",
       "      <td>33.088345</td>\n",
       "      <td>33.774395</td>\n",
       "      <td>34.858345</td>\n",
       "      <td>33.916622</td>\n",
       "      <td>30.953386</td>\n",
       "      <td>31.146223</td>\n",
       "      <td>27.312347</td>\n",
       "      <td>28.527649</td>\n",
       "    </tr>\n",
       "  </tbody>\n",
       "</table>\n",
       "<p>3 rows × 112 columns</p>\n",
       "</div>"
      ],
      "text/plain": [
       "   fold  classID  mfcc_mean_1  mfcc_mean_2  mfcc_mean_3  mfcc_mean_4  \\\n",
       "0     5        3   -275.91843    119.49280    -98.21178   -66.515140   \n",
       "1     5        2   -500.90840    185.10641    -86.53282    49.858850   \n",
       "2     5        2   -531.19530    186.93994    -70.34916    40.429245   \n",
       "\n",
       "   mfcc_mean_5  mfcc_mean_6  mfcc_mean_7  mfcc_mean_8  ...  delta2_mfcc_var_1  \\\n",
       "0   -42.606050     0.505066   -28.330938    -5.746867  ...         112.505020   \n",
       "1     9.230822    22.548956    -3.567175    12.220052  ...          45.168175   \n",
       "2     9.121047    18.398588     6.283282    15.504061  ...          37.555386   \n",
       "\n",
       "   delta2_mfcc_var_2  delta2_mfcc_var_3  delta2_mfcc_var_4  delta2_mfcc_var_5  \\\n",
       "0         213.598100          39.538475         116.963340          28.015196   \n",
       "1          41.733723          32.465210          30.765085          34.802017   \n",
       "2          37.222927          33.088345          33.774395          34.858345   \n",
       "\n",
       "   delta2_mfcc_var_6  delta2_mfcc_var_7  delta2_mfcc_var_8  delta2_mfcc_var_9  \\\n",
       "0         153.756260          35.081203          40.550793          19.388300   \n",
       "1          35.170403          32.595600          35.089226          29.046677   \n",
       "2          33.916622          30.953386          31.146223          27.312347   \n",
       "\n",
       "   delta2_mfcc_var_10  \n",
       "0           49.317924  \n",
       "1           31.543688  \n",
       "2           28.527649  \n",
       "\n",
       "[3 rows x 112 columns]"
      ]
     },
     "execution_count": 4,
     "metadata": {},
     "output_type": "execute_result"
    }
   ],
   "source": [
    "urbansound8k_path = \"../../data/raw/UrbanSound8K/\"\n",
    "\n",
    "# Primer dataset - Carpeta con los audios\n",
    "urbansound8k_audio_path = \"audio/\"\n",
    "\n",
    "# Segundo dataset - Archivo CSV con metadatos sobre los audios\n",
    "urbansound8k_metadata_path_file = \"metadata/UrbanSound8K.csv\" \n",
    "\n",
    "\n",
    "mfcc_n_coeficiente = \"10\"\n",
    "\n",
    "# Dataset input\n",
    "dataset_input_path = f\"../../data/processed/dataset_mfcc_{mfcc_n_coeficiente}.csv\"\n",
    "\n",
    "# Lectura\n",
    "dataset_urbansound8k_df = pd.read_csv(dataset_input_path, sep=\";\")\n",
    "dataset_urbansound8k_df.head(3)\n"
   ]
  },
  {
   "cell_type": "code",
   "execution_count": 18,
   "metadata": {},
   "outputs": [
    {
     "name": "stdout",
     "output_type": "stream",
     "text": [
      "Cantidad de columnas: 167\n",
      "Cantidad de filas: 8732\n",
      "Columnas del dataset:\n",
      "'fold', 'classID', 'mfcc_mean_1', 'mfcc_mean_2', \n",
      "'mfcc_mean_3', 'mfcc_mean_4', 'mfcc_mean_5', 'mfcc_mean_6', 'mfcc_mean_7', \n",
      "'mfcc_mean_8', 'mfcc_mean_9', 'mfcc_mean_10', 'mfcc_mean_11', 'mfcc_mean_12', \n",
      "'mfcc_mean_13', 'mfcc_mean_14', 'mfcc_mean_15', 'mfcc_median_1', 'mfcc_median_2', \n",
      "'mfcc_median_3', 'mfcc_median_4', 'mfcc_median_5', 'mfcc_median_6', 'mfcc_median_7', \n",
      "'mfcc_median_8', 'mfcc_median_9', 'mfcc_median_10', 'mfcc_median_11', 'mfcc_median_12', \n",
      "'mfcc_median_13', 'mfcc_median_14', 'mfcc_median_15', 'mfcc_min_1', 'mfcc_min_2', \n",
      "'mfcc_min_3', 'mfcc_min_4', 'mfcc_min_5', 'mfcc_min_6', 'mfcc_min_7', \n",
      "'mfcc_min_8', 'mfcc_min_9', 'mfcc_min_10', 'mfcc_min_11', 'mfcc_min_12', \n",
      "'mfcc_min_13', 'mfcc_min_14', 'mfcc_min_15', 'mfcc_max_1', 'mfcc_max_2', \n",
      "'mfcc_max_3', 'mfcc_max_4', 'mfcc_max_5', 'mfcc_max_6', 'mfcc_max_7', \n",
      "'mfcc_max_8', 'mfcc_max_9', 'mfcc_max_10', 'mfcc_max_11', 'mfcc_max_12', \n",
      "'mfcc_max_13', 'mfcc_max_14', 'mfcc_max_15', 'mfcc_var_1', 'mfcc_var_2', \n",
      "'mfcc_var_3', 'mfcc_var_4', 'mfcc_var_5', 'mfcc_var_6', 'mfcc_var_7', \n",
      "'mfcc_var_8', 'mfcc_var_9', 'mfcc_var_10', 'mfcc_var_11', 'mfcc_var_12', \n",
      "'mfcc_var_13', 'mfcc_var_14', 'mfcc_var_15', 'mfcc_skew_1', 'mfcc_skew_2', \n",
      "'mfcc_skew_3', 'mfcc_skew_4', 'mfcc_skew_5', 'mfcc_skew_6', 'mfcc_skew_7', \n",
      "'mfcc_skew_8', 'mfcc_skew_9', 'mfcc_skew_10', 'mfcc_skew_11', 'mfcc_skew_12', \n",
      "'mfcc_skew_13', 'mfcc_skew_14', 'mfcc_skew_15', 'mfcc_kurt_1', 'mfcc_kurt_2', \n",
      "'mfcc_kurt_3', 'mfcc_kurt_4', 'mfcc_kurt_5', 'mfcc_kurt_6', 'mfcc_kurt_7', \n",
      "'mfcc_kurt_8', 'mfcc_kurt_9', 'mfcc_kurt_10', 'mfcc_kurt_11', 'mfcc_kurt_12', \n",
      "'mfcc_kurt_13', 'mfcc_kurt_14', 'mfcc_kurt_15', 'delta_mfcc_mean_1', 'delta_mfcc_mean_2', \n",
      "'delta_mfcc_mean_3', 'delta_mfcc_mean_4', 'delta_mfcc_mean_5', 'delta_mfcc_mean_6', 'delta_mfcc_mean_7', \n",
      "'delta_mfcc_mean_8', 'delta_mfcc_mean_9', 'delta_mfcc_mean_10', 'delta_mfcc_mean_11', 'delta_mfcc_mean_12', \n",
      "'delta_mfcc_mean_13', 'delta_mfcc_mean_14', 'delta_mfcc_mean_15', 'delta_mfcc_var_1', 'delta_mfcc_var_2', \n",
      "'delta_mfcc_var_3', 'delta_mfcc_var_4', 'delta_mfcc_var_5', 'delta_mfcc_var_6', 'delta_mfcc_var_7', \n",
      "'delta_mfcc_var_8', 'delta_mfcc_var_9', 'delta_mfcc_var_10', 'delta_mfcc_var_11', 'delta_mfcc_var_12', \n",
      "'delta_mfcc_var_13', 'delta_mfcc_var_14', 'delta_mfcc_var_15', 'delta2_mfcc_mean_1', 'delta2_mfcc_mean_2', \n",
      "'delta2_mfcc_mean_3', 'delta2_mfcc_mean_4', 'delta2_mfcc_mean_5', 'delta2_mfcc_mean_6', 'delta2_mfcc_mean_7', \n",
      "'delta2_mfcc_mean_8', 'delta2_mfcc_mean_9', 'delta2_mfcc_mean_10', 'delta2_mfcc_mean_11', 'delta2_mfcc_mean_12', \n",
      "'delta2_mfcc_mean_13', 'delta2_mfcc_mean_14', 'delta2_mfcc_mean_15', 'delta2_mfcc_var_1', 'delta2_mfcc_var_2', \n",
      "'delta2_mfcc_var_3', 'delta2_mfcc_var_4', 'delta2_mfcc_var_5', 'delta2_mfcc_var_6', 'delta2_mfcc_var_7', \n",
      "'delta2_mfcc_var_8', 'delta2_mfcc_var_9', 'delta2_mfcc_var_10', 'delta2_mfcc_var_11', 'delta2_mfcc_var_12', \n",
      "'delta2_mfcc_var_13', 'delta2_mfcc_var_14', 'delta2_mfcc_var_15', "
     ]
    }
   ],
   "source": [
    "print(f\"Cantidad de columnas: {dataset_urbansound8k_df.shape[1]}\")\n",
    "print(f\"Cantidad de filas: {dataset_urbansound8k_df.shape[0]}\")\n",
    "\n",
    "print(\"Columnas del dataset:\")\n",
    "contador = 0\n",
    "for name in dataset_urbansound8k_df.columns:\n",
    "    contador +=1\n",
    "    if contador%5==0:\n",
    "        print(\"\")        \n",
    "    print(f\"'{name}'\", end=\", \")"
   ]
  },
  {
   "cell_type": "markdown",
   "metadata": {},
   "source": [
    "# Generación datos de entrenamiento y prueba"
   ]
  },
  {
   "cell_type": "code",
   "execution_count": 5,
   "metadata": {},
   "outputs": [],
   "source": [
    "# Separar las características y la variable objetivo\n",
    "# ['tasa_cruce_cero', 'entropia_espectograma', 'avg_centroide_espectral'\n",
    "columnas_caracteristicas_mfcc = [col for col in dataset_urbansound8k_df.columns if 'mfcc' in col]\n",
    "columna_predecir = 'classID'\n",
    "columna_fold = 'fold'\n",
    "\n",
    "# Separar las características y etiquetas\n",
    "X_caracteristicas = dataset_urbansound8k_df[columnas_caracteristicas_mfcc]  # 'classID' es la etiqueta y 'fold' el número de fold\n",
    "y = dataset_urbansound8k_df[columna_predecir]\n",
    "folds = dataset_urbansound8k_df['fold']"
   ]
  },
  {
   "cell_type": "markdown",
   "metadata": {},
   "source": [
    "# Modelos de Clasificacion"
   ]
  },
  {
   "cell_type": "code",
   "execution_count": 6,
   "metadata": {},
   "outputs": [
    {
     "data": {
      "text/plain": [
       "<Experiment: artifact_location='file:///c:/Users/colbe/Documents/VIU/TFM/tfm-clasificador-fuentes-sonoras-ciudad/notebooks/modelado/mlruns/838284965544001482', creation_time=1730391618821, experiment_id='838284965544001482', last_update_time=1730391618821, lifecycle_stage='active', name='RSCV MFCC10 - V2', tags={}>"
      ]
     },
     "execution_count": 6,
     "metadata": {},
     "output_type": "execute_result"
    }
   ],
   "source": [
    "# Iniciar el experimento en MLflow\n",
    "mlflow.set_experiment(f\"RSCV MFCC{mfcc_n_coeficiente} - V2\")"
   ]
  },
  {
   "cell_type": "markdown",
   "metadata": {},
   "source": [
    "## KNeighborsClassifier"
   ]
  },
  {
   "cell_type": "code",
   "execution_count": 28,
   "metadata": {},
   "outputs": [
    {
     "name": "stdout",
     "output_type": "stream",
     "text": [
      "Mejores Parámetros: {'weights': 'uniform', 'n_neighbors': 5, 'metric': 'manhattan'}\n",
      "Mejor Score: 0.5920474546603783\n",
      "Fold 1 Accuracy: 0.5258\n",
      "Tiempo de entrenamiento (segundos): 18.6779\n"
     ]
    },
    {
     "name": "stderr",
     "output_type": "stream",
     "text": [
      "c:\\Users\\colbe\\Documents\\VIU\\TFM\\tfm-clasificador-fuentes-sonoras-ciudad\\.env\\lib\\site-packages\\mlflow\\types\\utils.py:406: UserWarning: Hint: Inferred schema contains integer column(s). Integer columns in Python cannot represent missing values. If your input data contains missing values at inference time, it will be encoded as floats and will cause a schema enforcement error. The best way to avoid this problem is to infer the model schema based on a realistic data sample (training dataset) that includes missing values. Alternatively, you can declare integer columns as doubles (float64) whenever these columns may have missing values. See `Handling Integers With Missing Values <https://www.mlflow.org/docs/latest/models.html#handling-integers-with-missing-values>`_ for more details.\n",
      "  warnings.warn(\n"
     ]
    },
    {
     "data": {
      "application/vnd.jupyter.widget-view+json": {
       "model_id": "57b2ada701f5411da5cb58df95204af4",
       "version_major": 2,
       "version_minor": 0
      },
      "text/plain": [
       "Downloading artifacts:   0%|          | 0/7 [00:00<?, ?it/s]"
      ]
     },
     "metadata": {},
     "output_type": "display_data"
    },
    {
     "name": "stdout",
     "output_type": "stream",
     "text": [
      "Mejores Parámetros: {'weights': 'uniform', 'n_neighbors': 10, 'metric': 'manhattan'}\n",
      "Mejor Score: 0.5921724294813467\n",
      "Fold 2 Accuracy: 0.5732\n",
      "Tiempo de entrenamiento (segundos): 18.0572\n"
     ]
    },
    {
     "name": "stderr",
     "output_type": "stream",
     "text": [
      "c:\\Users\\colbe\\Documents\\VIU\\TFM\\tfm-clasificador-fuentes-sonoras-ciudad\\.env\\lib\\site-packages\\mlflow\\types\\utils.py:406: UserWarning: Hint: Inferred schema contains integer column(s). Integer columns in Python cannot represent missing values. If your input data contains missing values at inference time, it will be encoded as floats and will cause a schema enforcement error. The best way to avoid this problem is to infer the model schema based on a realistic data sample (training dataset) that includes missing values. Alternatively, you can declare integer columns as doubles (float64) whenever these columns may have missing values. See `Handling Integers With Missing Values <https://www.mlflow.org/docs/latest/models.html#handling-integers-with-missing-values>`_ for more details.\n",
      "  warnings.warn(\n"
     ]
    },
    {
     "data": {
      "application/vnd.jupyter.widget-view+json": {
       "model_id": "6661898657364c5fbea8512240554cc4",
       "version_major": 2,
       "version_minor": 0
      },
      "text/plain": [
       "Downloading artifacts:   0%|          | 0/7 [00:00<?, ?it/s]"
      ]
     },
     "metadata": {},
     "output_type": "display_data"
    },
    {
     "name": "stdout",
     "output_type": "stream",
     "text": [
      "Mejores Parámetros: {'weights': 'uniform', 'n_neighbors': 10, 'metric': 'manhattan'}\n",
      "Mejor Score: 0.6027855477855477\n",
      "Fold 3 Accuracy: 0.5222\n",
      "Tiempo de entrenamiento (segundos): 17.7974\n"
     ]
    },
    {
     "name": "stderr",
     "output_type": "stream",
     "text": [
      "c:\\Users\\colbe\\Documents\\VIU\\TFM\\tfm-clasificador-fuentes-sonoras-ciudad\\.env\\lib\\site-packages\\mlflow\\types\\utils.py:406: UserWarning: Hint: Inferred schema contains integer column(s). Integer columns in Python cannot represent missing values. If your input data contains missing values at inference time, it will be encoded as floats and will cause a schema enforcement error. The best way to avoid this problem is to infer the model schema based on a realistic data sample (training dataset) that includes missing values. Alternatively, you can declare integer columns as doubles (float64) whenever these columns may have missing values. See `Handling Integers With Missing Values <https://www.mlflow.org/docs/latest/models.html#handling-integers-with-missing-values>`_ for more details.\n",
      "  warnings.warn(\n"
     ]
    },
    {
     "data": {
      "application/vnd.jupyter.widget-view+json": {
       "model_id": "36b8bfb7692945e5bdc75059d6617e57",
       "version_major": 2,
       "version_minor": 0
      },
      "text/plain": [
       "Downloading artifacts:   0%|          | 0/7 [00:00<?, ?it/s]"
      ]
     },
     "metadata": {},
     "output_type": "display_data"
    },
    {
     "name": "stdout",
     "output_type": "stream",
     "text": [
      "Mejores Parámetros: {'weights': 'uniform', 'n_neighbors': 10, 'metric': 'manhattan'}\n",
      "Mejor Score: 0.5886138201216972\n",
      "Fold 4 Accuracy: 0.6192\n",
      "Tiempo de entrenamiento (segundos): 17.5805\n"
     ]
    },
    {
     "name": "stderr",
     "output_type": "stream",
     "text": [
      "c:\\Users\\colbe\\Documents\\VIU\\TFM\\tfm-clasificador-fuentes-sonoras-ciudad\\.env\\lib\\site-packages\\mlflow\\types\\utils.py:406: UserWarning: Hint: Inferred schema contains integer column(s). Integer columns in Python cannot represent missing values. If your input data contains missing values at inference time, it will be encoded as floats and will cause a schema enforcement error. The best way to avoid this problem is to infer the model schema based on a realistic data sample (training dataset) that includes missing values. Alternatively, you can declare integer columns as doubles (float64) whenever these columns may have missing values. See `Handling Integers With Missing Values <https://www.mlflow.org/docs/latest/models.html#handling-integers-with-missing-values>`_ for more details.\n",
      "  warnings.warn(\n"
     ]
    },
    {
     "data": {
      "application/vnd.jupyter.widget-view+json": {
       "model_id": "b0511e09f80e4584bc28020163bb2989",
       "version_major": 2,
       "version_minor": 0
      },
      "text/plain": [
       "Downloading artifacts:   0%|          | 0/7 [00:00<?, ?it/s]"
      ]
     },
     "metadata": {},
     "output_type": "display_data"
    },
    {
     "name": "stdout",
     "output_type": "stream",
     "text": [
      "Mejores Parámetros: {'weights': 'uniform', 'n_neighbors': 5, 'metric': 'manhattan'}\n",
      "Mejor Score: 0.5761828116256871\n",
      "Fold 5 Accuracy: 0.6528\n",
      "Tiempo de entrenamiento (segundos): 18.1672\n"
     ]
    },
    {
     "name": "stderr",
     "output_type": "stream",
     "text": [
      "c:\\Users\\colbe\\Documents\\VIU\\TFM\\tfm-clasificador-fuentes-sonoras-ciudad\\.env\\lib\\site-packages\\mlflow\\types\\utils.py:406: UserWarning: Hint: Inferred schema contains integer column(s). Integer columns in Python cannot represent missing values. If your input data contains missing values at inference time, it will be encoded as floats and will cause a schema enforcement error. The best way to avoid this problem is to infer the model schema based on a realistic data sample (training dataset) that includes missing values. Alternatively, you can declare integer columns as doubles (float64) whenever these columns may have missing values. See `Handling Integers With Missing Values <https://www.mlflow.org/docs/latest/models.html#handling-integers-with-missing-values>`_ for more details.\n",
      "  warnings.warn(\n"
     ]
    },
    {
     "data": {
      "application/vnd.jupyter.widget-view+json": {
       "model_id": "0c0be52f608247399f686fcd72a2c254",
       "version_major": 2,
       "version_minor": 0
      },
      "text/plain": [
       "Downloading artifacts:   0%|          | 0/7 [00:00<?, ?it/s]"
      ]
     },
     "metadata": {},
     "output_type": "display_data"
    },
    {
     "name": "stdout",
     "output_type": "stream",
     "text": [
      "Mejores Parámetros: {'weights': 'uniform', 'n_neighbors': 10, 'metric': 'manhattan'}\n",
      "Mejor Score: 0.585143465249884\n",
      "Fold 6 Accuracy: 0.5930\n",
      "Tiempo de entrenamiento (segundos): 18.9622\n"
     ]
    },
    {
     "name": "stderr",
     "output_type": "stream",
     "text": [
      "c:\\Users\\colbe\\Documents\\VIU\\TFM\\tfm-clasificador-fuentes-sonoras-ciudad\\.env\\lib\\site-packages\\mlflow\\types\\utils.py:406: UserWarning: Hint: Inferred schema contains integer column(s). Integer columns in Python cannot represent missing values. If your input data contains missing values at inference time, it will be encoded as floats and will cause a schema enforcement error. The best way to avoid this problem is to infer the model schema based on a realistic data sample (training dataset) that includes missing values. Alternatively, you can declare integer columns as doubles (float64) whenever these columns may have missing values. See `Handling Integers With Missing Values <https://www.mlflow.org/docs/latest/models.html#handling-integers-with-missing-values>`_ for more details.\n",
      "  warnings.warn(\n"
     ]
    },
    {
     "data": {
      "application/vnd.jupyter.widget-view+json": {
       "model_id": "cd901275bc5e49c78f005b1dcd3b4912",
       "version_major": 2,
       "version_minor": 0
      },
      "text/plain": [
       "Downloading artifacts:   0%|          | 0/7 [00:00<?, ?it/s]"
      ]
     },
     "metadata": {},
     "output_type": "display_data"
    },
    {
     "name": "stdout",
     "output_type": "stream",
     "text": [
      "Mejores Parámetros: {'weights': 'uniform', 'n_neighbors': 10, 'metric': 'manhattan'}\n",
      "Mejor Score: 0.595266721214163\n",
      "Fold 7 Accuracy: 0.5406\n",
      "Tiempo de entrenamiento (segundos): 18.4955\n"
     ]
    },
    {
     "name": "stderr",
     "output_type": "stream",
     "text": [
      "c:\\Users\\colbe\\Documents\\VIU\\TFM\\tfm-clasificador-fuentes-sonoras-ciudad\\.env\\lib\\site-packages\\mlflow\\types\\utils.py:406: UserWarning: Hint: Inferred schema contains integer column(s). Integer columns in Python cannot represent missing values. If your input data contains missing values at inference time, it will be encoded as floats and will cause a schema enforcement error. The best way to avoid this problem is to infer the model schema based on a realistic data sample (training dataset) that includes missing values. Alternatively, you can declare integer columns as doubles (float64) whenever these columns may have missing values. See `Handling Integers With Missing Values <https://www.mlflow.org/docs/latest/models.html#handling-integers-with-missing-values>`_ for more details.\n",
      "  warnings.warn(\n"
     ]
    },
    {
     "data": {
      "application/vnd.jupyter.widget-view+json": {
       "model_id": "0a91c8b8b87e4fea992d8cdff1b56523",
       "version_major": 2,
       "version_minor": 0
      },
      "text/plain": [
       "Downloading artifacts:   0%|          | 0/7 [00:00<?, ?it/s]"
      ]
     },
     "metadata": {},
     "output_type": "display_data"
    },
    {
     "name": "stdout",
     "output_type": "stream",
     "text": [
      "Mejores Parámetros: {'weights': 'uniform', 'n_neighbors': 10, 'metric': 'manhattan'}\n",
      "Mejor Score: 0.5944915739997707\n",
      "Fold 8 Accuracy: 0.5248\n",
      "Tiempo de entrenamiento (segundos): 18.8645\n"
     ]
    },
    {
     "name": "stderr",
     "output_type": "stream",
     "text": [
      "c:\\Users\\colbe\\Documents\\VIU\\TFM\\tfm-clasificador-fuentes-sonoras-ciudad\\.env\\lib\\site-packages\\mlflow\\types\\utils.py:406: UserWarning: Hint: Inferred schema contains integer column(s). Integer columns in Python cannot represent missing values. If your input data contains missing values at inference time, it will be encoded as floats and will cause a schema enforcement error. The best way to avoid this problem is to infer the model schema based on a realistic data sample (training dataset) that includes missing values. Alternatively, you can declare integer columns as doubles (float64) whenever these columns may have missing values. See `Handling Integers With Missing Values <https://www.mlflow.org/docs/latest/models.html#handling-integers-with-missing-values>`_ for more details.\n",
      "  warnings.warn(\n"
     ]
    },
    {
     "data": {
      "application/vnd.jupyter.widget-view+json": {
       "model_id": "345691b1fde04bbcbaf859a61bb74cc8",
       "version_major": 2,
       "version_minor": 0
      },
      "text/plain": [
       "Downloading artifacts:   0%|          | 0/7 [00:00<?, ?it/s]"
      ]
     },
     "metadata": {},
     "output_type": "display_data"
    },
    {
     "name": "stdout",
     "output_type": "stream",
     "text": [
      "Mejores Parámetros: {'weights': 'uniform', 'n_neighbors': 5, 'metric': 'manhattan'}\n",
      "Mejor Score: 0.5736377683280339\n",
      "Fold 9 Accuracy: 0.6446\n",
      "Tiempo de entrenamiento (segundos): 18.1945\n"
     ]
    },
    {
     "name": "stderr",
     "output_type": "stream",
     "text": [
      "c:\\Users\\colbe\\Documents\\VIU\\TFM\\tfm-clasificador-fuentes-sonoras-ciudad\\.env\\lib\\site-packages\\mlflow\\types\\utils.py:406: UserWarning: Hint: Inferred schema contains integer column(s). Integer columns in Python cannot represent missing values. If your input data contains missing values at inference time, it will be encoded as floats and will cause a schema enforcement error. The best way to avoid this problem is to infer the model schema based on a realistic data sample (training dataset) that includes missing values. Alternatively, you can declare integer columns as doubles (float64) whenever these columns may have missing values. See `Handling Integers With Missing Values <https://www.mlflow.org/docs/latest/models.html#handling-integers-with-missing-values>`_ for more details.\n",
      "  warnings.warn(\n"
     ]
    },
    {
     "data": {
      "application/vnd.jupyter.widget-view+json": {
       "model_id": "6e8ba39f651344d4b4d42a9d494c9c64",
       "version_major": 2,
       "version_minor": 0
      },
      "text/plain": [
       "Downloading artifacts:   0%|          | 0/7 [00:00<?, ?it/s]"
      ]
     },
     "metadata": {},
     "output_type": "display_data"
    },
    {
     "name": "stdout",
     "output_type": "stream",
     "text": [
      "Mejores Parámetros: {'weights': 'uniform', 'n_neighbors': 10, 'metric': 'manhattan'}\n",
      "Mejor Score: 0.5815002165856475\n",
      "Fold 10 Accuracy: 0.5986\n",
      "Tiempo de entrenamiento (segundos): 18.3624\n"
     ]
    },
    {
     "name": "stderr",
     "output_type": "stream",
     "text": [
      "c:\\Users\\colbe\\Documents\\VIU\\TFM\\tfm-clasificador-fuentes-sonoras-ciudad\\.env\\lib\\site-packages\\mlflow\\types\\utils.py:406: UserWarning: Hint: Inferred schema contains integer column(s). Integer columns in Python cannot represent missing values. If your input data contains missing values at inference time, it will be encoded as floats and will cause a schema enforcement error. The best way to avoid this problem is to infer the model schema based on a realistic data sample (training dataset) that includes missing values. Alternatively, you can declare integer columns as doubles (float64) whenever these columns may have missing values. See `Handling Integers With Missing Values <https://www.mlflow.org/docs/latest/models.html#handling-integers-with-missing-values>`_ for more details.\n",
      "  warnings.warn(\n"
     ]
    },
    {
     "data": {
      "application/vnd.jupyter.widget-view+json": {
       "model_id": "2475d46871024999978714ff0936a14c",
       "version_major": 2,
       "version_minor": 0
      },
      "text/plain": [
       "Downloading artifacts:   0%|          | 0/7 [00:00<?, ?it/s]"
      ]
     },
     "metadata": {},
     "output_type": "display_data"
    },
    {
     "name": "stdout",
     "output_type": "stream",
     "text": [
      "\n",
      "Accuracy promedio: 0.5795\n",
      "Desviación estándar: 0.0474\n",
      "Tiempo de entrenamiento promedio (segundos): 18.3159\n"
     ]
    },
    {
     "data": {
      "image/png": "[encoded data removed]",
      "text/plain": [
       "<Figure size 640x480 with 1 Axes>"
      ]
     },
     "metadata": {},
     "output_type": "display_data"
    }
   ],
   "source": [
    "# Definir el modelo KNN\n",
    "knn = KNeighborsClassifier()\n",
    "\n",
    "# Definir la rejilla de parámetros para RandomizedSearchCV\n",
    "param_distributions = {\n",
    "    'n_neighbors': np.arange(1, 31),  # Número de vecinos a considerar\n",
    "    'weights': ['uniform', 'distance'],  # Función de peso a usar\n",
    "    'metric': ['euclidean', 'manhattan', 'minkowski']  # Métrica de distancia\n",
    "}\n",
    "\n",
    "# Inicializar lista para almacenar accuracies y tiempos\n",
    "fold_accuracies = []\n",
    "fold_training_times = []\n",
    "\n",
    "# Realizar la validación cruzada respetando los folds predefinidos\n",
    "for fold in range(1, 11):  # Hay 10 folds en UrbanSound8K\n",
    "\n",
    "    # Dividir el dataset en entrenamiento y prueba\n",
    "    train_index = folds != fold\n",
    "    test_index = folds == fold\n",
    "    \n",
    "    X_train, X_test = X_caracteristicas[train_index], X_caracteristicas[test_index]\n",
    "    y_train, y_test = y[train_index], y[test_index]\n",
    "\n",
    "    # Configurar RandomizedSearchCV\n",
    "    random_search = RandomizedSearchCV(\n",
    "        estimator=knn, \n",
    "        param_distributions=param_distributions, \n",
    "        n_iter=10,  # Número de combinaciones aleatorias a probar\n",
    "        cv=10,  # Validación cruzada interna con 10 pliegues\n",
    "        scoring='accuracy',  # Métrica para optimizar\n",
    "        n_jobs=-1,  # Usar todos los núcleos disponibles\n",
    "        random_state=42\n",
    "    )\n",
    "\n",
    "    # Medir el tiempo de entrenamiento\n",
    "    start_time = time.time()  # Inicio del tiempo\n",
    "\n",
    "    # Entrenar el modelo con la búsqueda de hiperparámetros\n",
    "    random_search.fit(X_train, y_train)\n",
    "\n",
    "    # Tiempo de finalización\n",
    "    end_time = time.time()\n",
    "\n",
    "    # Calcular el tiempo de entrenamiento\n",
    "    training_time = end_time - start_time\n",
    "    fold_training_times.append(training_time)\n",
    "\n",
    "    # Obtener el mejor modelo\n",
    "    best_knn = random_search.best_estimator_\n",
    "\n",
    "    # Obtener los mejores parámetros y el mejor score\n",
    "    best_params = random_search.best_params_\n",
    "    best_score = random_search.best_score_    \n",
    "    \n",
    "    # Predecir y evaluar\n",
    "    y_pred = best_knn.predict(X_test)\n",
    "    accuracy_val = accuracy_score(y_test, y_pred)\n",
    "    f1_val = f1_score(y_test, y_pred, average='weighted' )\n",
    "    precision_val = precision_score(y_test, y_pred, average='weighted')\n",
    "    recall_val = recall_score(y_test, y_pred, average='weighted')   \n",
    "\n",
    "    fold_accuracies.append(accuracy_val)\n",
    "    \n",
    "    print(f\"Mejores Parámetros: {best_params}\")\n",
    "    print(f\"Mejor Score: {best_score}\")        \n",
    "    print(f\"Fold {fold} Accuracy: {accuracy_val:.4f}\")\n",
    "    print(f\"Tiempo de entrenamiento (segundos): {training_time:.4f}\")\n",
    "\n",
    "    with mlflow.start_run(run_name=f\"KNN RSCV MFCC{mfcc_n_coeficiente} Fold_{fold}\") as run:\n",
    "        # Registrar los parámetros y métricas en MLflow\n",
    "        mlflow.log_params(best_params)\n",
    "\n",
    "        param_auxilares = {\n",
    "            \"mfcc_coeficiente\": mfcc_n_coeficiente, \n",
    "            \"fold\": fold,\n",
    "            \"cv\": \"RSCV\", \n",
    "            \"model\": \"KNN\"\n",
    "        }\n",
    "\n",
    "        mlflow.log_params(param_auxilares)        \n",
    "        mlflow.set_tags(param_auxilares) \n",
    "\n",
    "        # Registrar la métrica de este fold\n",
    "        mlflow.log_metric(f\"accuracy_score\", accuracy_val)\n",
    "        mlflow.log_metric(f\"f1_weighted_score\", f1_val)\n",
    "        mlflow.log_metric(f\"precision_weighted_score\", precision_val)\n",
    "        mlflow.log_metric(f\"recall_weighted_score\", recall_val)\n",
    "\n",
    "        # Registrar el tiempo de entrenamiento\n",
    "        mlflow.log_metric(f\"training_time_seconds\", training_time)\n",
    "\n",
    "        # Guardar el modelo en MLflow con un ejemplo de entrada\n",
    "        input_example = X_test[:1]  # Ejemplo de entrada, una sola muestra de prueba\n",
    "        mlflow.sklearn.log_model(best_knn, f\"knn_rscv_mfcc{mfcc_n_coeficiente}_fold_{fold}\", input_example=input_example)\n",
    "\n",
    "        # Se finaliza el registro\n",
    "        mlflow.end_run()\n",
    "\n",
    "\n",
    "# Mostrar el promedio y desviación estándar\n",
    "mean_accuracy = np.mean(fold_accuracies)\n",
    "std_accuracy = np.std(fold_accuracies)\n",
    "mean_training_time = np.mean(fold_training_times)\n",
    "\n",
    "print(f\"\\nAccuracy promedio: {mean_accuracy:.4f}\")\n",
    "print(f\"Desviación estándar: {std_accuracy:.4f}\")\n",
    "print(f\"Tiempo de entrenamiento promedio (segundos): {mean_training_time:.4f}\")\n",
    "\n",
    "# Opcional: Visualizar los resultados con un boxplot\n",
    "plt.boxplot(fold_accuracies)\n",
    "plt.title(f'Distribución de Accuracy en KNN RSCV MFCC{mfcc_n_coeficiente}')\n",
    "plt.ylabel('Accuracy')\n",
    "plt.show()\n"
   ]
  },
  {
   "cell_type": "markdown",
   "metadata": {},
   "source": [
    "## Random Forest"
   ]
  },
  {
   "cell_type": "code",
   "execution_count": 29,
   "metadata": {},
   "outputs": [
    {
     "name": "stdout",
     "output_type": "stream",
     "text": [
      "Mejores Parámetros: {'n_estimators': 500, 'min_samples_split': 5, 'min_samples_leaf': 1, 'max_features': 'log2', 'max_depth': 50, 'bootstrap': False}\n",
      "Mejor Score: 0.7211871768690945\n",
      "Fold 1 Accuracy: 0.7068\n",
      "Tiempo de entrenamiento (segundos): 475.3988\n"
     ]
    },
    {
     "name": "stderr",
     "output_type": "stream",
     "text": [
      "c:\\Users\\colbe\\Documents\\VIU\\TFM\\tfm-clasificador-fuentes-sonoras-ciudad\\.env\\lib\\site-packages\\mlflow\\types\\utils.py:406: UserWarning: Hint: Inferred schema contains integer column(s). Integer columns in Python cannot represent missing values. If your input data contains missing values at inference time, it will be encoded as floats and will cause a schema enforcement error. The best way to avoid this problem is to infer the model schema based on a realistic data sample (training dataset) that includes missing values. Alternatively, you can declare integer columns as doubles (float64) whenever these columns may have missing values. See `Handling Integers With Missing Values <https://www.mlflow.org/docs/latest/models.html#handling-integers-with-missing-values>`_ for more details.\n",
      "  warnings.warn(\n"
     ]
    },
    {
     "data": {
      "application/vnd.jupyter.widget-view+json": {
       "model_id": "9fd18fd2ab2f451cb4835586ebf5d70c",
       "version_major": 2,
       "version_minor": 0
      },
      "text/plain": [
       "Downloading artifacts:   0%|          | 0/7 [00:00<?, ?it/s]"
      ]
     },
     "metadata": {},
     "output_type": "display_data"
    },
    {
     "name": "stdout",
     "output_type": "stream",
     "text": [
      "Mejores Parámetros: {'n_estimators': 500, 'min_samples_split': 2, 'min_samples_leaf': 1, 'max_features': 'log2', 'max_depth': 20, 'bootstrap': False}\n",
      "Mejor Score: 0.7281944624983752\n",
      "Fold 2 Accuracy: 0.7230\n",
      "Tiempo de entrenamiento (segundos): 480.4367\n"
     ]
    },
    {
     "name": "stderr",
     "output_type": "stream",
     "text": [
      "c:\\Users\\colbe\\Documents\\VIU\\TFM\\tfm-clasificador-fuentes-sonoras-ciudad\\.env\\lib\\site-packages\\mlflow\\types\\utils.py:406: UserWarning: Hint: Inferred schema contains integer column(s). Integer columns in Python cannot represent missing values. If your input data contains missing values at inference time, it will be encoded as floats and will cause a schema enforcement error. The best way to avoid this problem is to infer the model schema based on a realistic data sample (training dataset) that includes missing values. Alternatively, you can declare integer columns as doubles (float64) whenever these columns may have missing values. See `Handling Integers With Missing Values <https://www.mlflow.org/docs/latest/models.html#handling-integers-with-missing-values>`_ for more details.\n",
      "  warnings.warn(\n"
     ]
    },
    {
     "data": {
      "application/vnd.jupyter.widget-view+json": {
       "model_id": "bee387d2cce34e84a0e3877f97a264f9",
       "version_major": 2,
       "version_minor": 0
      },
      "text/plain": [
       "Downloading artifacts:   0%|          | 0/7 [00:00<?, ?it/s]"
      ]
     },
     "metadata": {},
     "output_type": "display_data"
    },
    {
     "name": "stdout",
     "output_type": "stream",
     "text": [
      "Mejores Parámetros: {'n_estimators': 500, 'min_samples_split': 2, 'min_samples_leaf': 1, 'max_features': 'log2', 'max_depth': 20, 'bootstrap': False}\n",
      "Mejor Score: 0.7250999704520831\n",
      "Fold 3 Accuracy: 0.5719\n",
      "Tiempo de entrenamiento (segundos): 480.2957\n"
     ]
    },
    {
     "name": "stderr",
     "output_type": "stream",
     "text": [
      "c:\\Users\\colbe\\Documents\\VIU\\TFM\\tfm-clasificador-fuentes-sonoras-ciudad\\.env\\lib\\site-packages\\mlflow\\types\\utils.py:406: UserWarning: Hint: Inferred schema contains integer column(s). Integer columns in Python cannot represent missing values. If your input data contains missing values at inference time, it will be encoded as floats and will cause a schema enforcement error. The best way to avoid this problem is to infer the model schema based on a realistic data sample (training dataset) that includes missing values. Alternatively, you can declare integer columns as doubles (float64) whenever these columns may have missing values. See `Handling Integers With Missing Values <https://www.mlflow.org/docs/latest/models.html#handling-integers-with-missing-values>`_ for more details.\n",
      "  warnings.warn(\n"
     ]
    },
    {
     "data": {
      "application/vnd.jupyter.widget-view+json": {
       "model_id": "ee32c750e71e426289a1b0ff606f112c",
       "version_major": 2,
       "version_minor": 0
      },
      "text/plain": [
       "Downloading artifacts:   0%|          | 0/7 [00:00<?, ?it/s]"
      ]
     },
     "metadata": {},
     "output_type": "display_data"
    },
    {
     "name": "stdout",
     "output_type": "stream",
     "text": [
      "Mejores Parámetros: {'n_estimators': 500, 'min_samples_split': 5, 'min_samples_leaf': 1, 'max_features': 'log2', 'max_depth': 50, 'bootstrap': False}\n",
      "Mejor Score: 0.7161030257564391\n",
      "Fold 4 Accuracy: 0.6990\n",
      "Tiempo de entrenamiento (segundos): 477.4345\n"
     ]
    },
    {
     "name": "stderr",
     "output_type": "stream",
     "text": [
      "c:\\Users\\colbe\\Documents\\VIU\\TFM\\tfm-clasificador-fuentes-sonoras-ciudad\\.env\\lib\\site-packages\\mlflow\\types\\utils.py:406: UserWarning: Hint: Inferred schema contains integer column(s). Integer columns in Python cannot represent missing values. If your input data contains missing values at inference time, it will be encoded as floats and will cause a schema enforcement error. The best way to avoid this problem is to infer the model schema based on a realistic data sample (training dataset) that includes missing values. Alternatively, you can declare integer columns as doubles (float64) whenever these columns may have missing values. See `Handling Integers With Missing Values <https://www.mlflow.org/docs/latest/models.html#handling-integers-with-missing-values>`_ for more details.\n",
      "  warnings.warn(\n"
     ]
    },
    {
     "data": {
      "application/vnd.jupyter.widget-view+json": {
       "model_id": "b8eb18c3dafd4d12909536f8459e3d71",
       "version_major": 2,
       "version_minor": 0
      },
      "text/plain": [
       "Downloading artifacts:   0%|          | 0/7 [00:00<?, ?it/s]"
      ]
     },
     "metadata": {},
     "output_type": "display_data"
    },
    {
     "name": "stdout",
     "output_type": "stream",
     "text": [
      "Mejores Parámetros: {'n_estimators': 500, 'min_samples_split': 2, 'min_samples_leaf': 1, 'max_features': 'log2', 'max_depth': 20, 'bootstrap': False}\n",
      "Mejor Score: 0.6940507224910306\n",
      "Fold 5 Accuracy: 0.7607\n",
      "Tiempo de entrenamiento (segundos): 482.7258\n"
     ]
    },
    {
     "name": "stderr",
     "output_type": "stream",
     "text": [
      "c:\\Users\\colbe\\Documents\\VIU\\TFM\\tfm-clasificador-fuentes-sonoras-ciudad\\.env\\lib\\site-packages\\mlflow\\types\\utils.py:406: UserWarning: Hint: Inferred schema contains integer column(s). Integer columns in Python cannot represent missing values. If your input data contains missing values at inference time, it will be encoded as floats and will cause a schema enforcement error. The best way to avoid this problem is to infer the model schema based on a realistic data sample (training dataset) that includes missing values. Alternatively, you can declare integer columns as doubles (float64) whenever these columns may have missing values. See `Handling Integers With Missing Values <https://www.mlflow.org/docs/latest/models.html#handling-integers-with-missing-values>`_ for more details.\n",
      "  warnings.warn(\n"
     ]
    },
    {
     "data": {
      "application/vnd.jupyter.widget-view+json": {
       "model_id": "5e0bb7e2eb0d4ff9bbaf52bac03bc62d",
       "version_major": 2,
       "version_minor": 0
      },
      "text/plain": [
       "Downloading artifacts:   0%|          | 0/7 [00:00<?, ?it/s]"
      ]
     },
     "metadata": {},
     "output_type": "display_data"
    },
    {
     "name": "stdout",
     "output_type": "stream",
     "text": [
      "Mejores Parámetros: {'n_estimators': 500, 'min_samples_split': 5, 'min_samples_leaf': 1, 'max_features': 'log2', 'max_depth': 50, 'bootstrap': False}\n",
      "Mejor Score: 0.7149890380707006\n",
      "Fold 6 Accuracy: 0.6914\n",
      "Tiempo de entrenamiento (segundos): 484.3506\n"
     ]
    },
    {
     "name": "stderr",
     "output_type": "stream",
     "text": [
      "c:\\Users\\colbe\\Documents\\VIU\\TFM\\tfm-clasificador-fuentes-sonoras-ciudad\\.env\\lib\\site-packages\\mlflow\\types\\utils.py:406: UserWarning: Hint: Inferred schema contains integer column(s). Integer columns in Python cannot represent missing values. If your input data contains missing values at inference time, it will be encoded as floats and will cause a schema enforcement error. The best way to avoid this problem is to infer the model schema based on a realistic data sample (training dataset) that includes missing values. Alternatively, you can declare integer columns as doubles (float64) whenever these columns may have missing values. See `Handling Integers With Missing Values <https://www.mlflow.org/docs/latest/models.html#handling-integers-with-missing-values>`_ for more details.\n",
      "  warnings.warn(\n"
     ]
    },
    {
     "data": {
      "application/vnd.jupyter.widget-view+json": {
       "model_id": "39ecc810c5c042649da10b867572796d",
       "version_major": 2,
       "version_minor": 0
      },
      "text/plain": [
       "Downloading artifacts:   0%|          | 0/7 [00:00<?, ?it/s]"
      ]
     },
     "metadata": {},
     "output_type": "display_data"
    },
    {
     "name": "stdout",
     "output_type": "stream",
     "text": [
      "Mejores Parámetros: {'n_estimators': 500, 'min_samples_split': 5, 'min_samples_leaf': 1, 'max_features': 'log2', 'max_depth': 50, 'bootstrap': False}\n",
      "Mejor Score: 0.7138301968522887\n",
      "Fold 7 Accuracy: 0.6838\n",
      "Tiempo de entrenamiento (segundos): 488.9018\n"
     ]
    },
    {
     "name": "stderr",
     "output_type": "stream",
     "text": [
      "c:\\Users\\colbe\\Documents\\VIU\\TFM\\tfm-clasificador-fuentes-sonoras-ciudad\\.env\\lib\\site-packages\\mlflow\\types\\utils.py:406: UserWarning: Hint: Inferred schema contains integer column(s). Integer columns in Python cannot represent missing values. If your input data contains missing values at inference time, it will be encoded as floats and will cause a schema enforcement error. The best way to avoid this problem is to infer the model schema based on a realistic data sample (training dataset) that includes missing values. Alternatively, you can declare integer columns as doubles (float64) whenever these columns may have missing values. See `Handling Integers With Missing Values <https://www.mlflow.org/docs/latest/models.html#handling-integers-with-missing-values>`_ for more details.\n",
      "  warnings.warn(\n"
     ]
    },
    {
     "data": {
      "application/vnd.jupyter.widget-view+json": {
       "model_id": "8e5da916e0744ec2857bb2ddf5a7e533",
       "version_major": 2,
       "version_minor": 0
      },
      "text/plain": [
       "Downloading artifacts:   0%|          | 0/7 [00:00<?, ?it/s]"
      ]
     },
     "metadata": {},
     "output_type": "display_data"
    },
    {
     "name": "stdout",
     "output_type": "stream",
     "text": [
      "Mejores Parámetros: {'n_estimators': 500, 'min_samples_split': 2, 'min_samples_leaf': 1, 'max_features': 'log2', 'max_depth': 20, 'bootstrap': False}\n",
      "Mejor Score: 0.710433623753296\n",
      "Fold 8 Accuracy: 0.7246\n",
      "Tiempo de entrenamiento (segundos): 491.9391\n"
     ]
    },
    {
     "name": "stderr",
     "output_type": "stream",
     "text": [
      "c:\\Users\\colbe\\Documents\\VIU\\TFM\\tfm-clasificador-fuentes-sonoras-ciudad\\.env\\lib\\site-packages\\mlflow\\types\\utils.py:406: UserWarning: Hint: Inferred schema contains integer column(s). Integer columns in Python cannot represent missing values. If your input data contains missing values at inference time, it will be encoded as floats and will cause a schema enforcement error. The best way to avoid this problem is to infer the model schema based on a realistic data sample (training dataset) that includes missing values. Alternatively, you can declare integer columns as doubles (float64) whenever these columns may have missing values. See `Handling Integers With Missing Values <https://www.mlflow.org/docs/latest/models.html#handling-integers-with-missing-values>`_ for more details.\n",
      "  warnings.warn(\n"
     ]
    },
    {
     "data": {
      "application/vnd.jupyter.widget-view+json": {
       "model_id": "f45eecd4443f454e8dc2e50e05e7b1a2",
       "version_major": 2,
       "version_minor": 0
      },
      "text/plain": [
       "Downloading artifacts:   0%|          | 0/7 [00:00<?, ?it/s]"
      ]
     },
     "metadata": {},
     "output_type": "display_data"
    },
    {
     "name": "stdout",
     "output_type": "stream",
     "text": [
      "Mejores Parámetros: {'n_estimators': 500, 'min_samples_split': 2, 'min_samples_leaf': 1, 'max_features': 'log2', 'max_depth': 20, 'bootstrap': False}\n",
      "Mejor Score: 0.7122023011403542\n",
      "Fold 9 Accuracy: 0.7169\n",
      "Tiempo de entrenamiento (segundos): 495.6095\n"
     ]
    },
    {
     "name": "stderr",
     "output_type": "stream",
     "text": [
      "c:\\Users\\colbe\\Documents\\VIU\\TFM\\tfm-clasificador-fuentes-sonoras-ciudad\\.env\\lib\\site-packages\\mlflow\\types\\utils.py:406: UserWarning: Hint: Inferred schema contains integer column(s). Integer columns in Python cannot represent missing values. If your input data contains missing values at inference time, it will be encoded as floats and will cause a schema enforcement error. The best way to avoid this problem is to infer the model schema based on a realistic data sample (training dataset) that includes missing values. Alternatively, you can declare integer columns as doubles (float64) whenever these columns may have missing values. See `Handling Integers With Missing Values <https://www.mlflow.org/docs/latest/models.html#handling-integers-with-missing-values>`_ for more details.\n",
      "  warnings.warn(\n"
     ]
    },
    {
     "data": {
      "application/vnd.jupyter.widget-view+json": {
       "model_id": "0dfd00b5958648c8a6681ae1785ad1d8",
       "version_major": 2,
       "version_minor": 0
      },
      "text/plain": [
       "Downloading artifacts:   0%|          | 0/7 [00:00<?, ?it/s]"
      ]
     },
     "metadata": {},
     "output_type": "display_data"
    },
    {
     "name": "stdout",
     "output_type": "stream",
     "text": [
      "Mejores Parámetros: {'n_estimators': 500, 'min_samples_split': 5, 'min_samples_leaf': 1, 'max_features': 'log2', 'max_depth': 50, 'bootstrap': False}\n",
      "Mejor Score: 0.7208223837255939\n",
      "Fold 10 Accuracy: 0.7646\n",
      "Tiempo de entrenamiento (segundos): 485.5432\n"
     ]
    },
    {
     "name": "stderr",
     "output_type": "stream",
     "text": [
      "c:\\Users\\colbe\\Documents\\VIU\\TFM\\tfm-clasificador-fuentes-sonoras-ciudad\\.env\\lib\\site-packages\\mlflow\\types\\utils.py:406: UserWarning: Hint: Inferred schema contains integer column(s). Integer columns in Python cannot represent missing values. If your input data contains missing values at inference time, it will be encoded as floats and will cause a schema enforcement error. The best way to avoid this problem is to infer the model schema based on a realistic data sample (training dataset) that includes missing values. Alternatively, you can declare integer columns as doubles (float64) whenever these columns may have missing values. See `Handling Integers With Missing Values <https://www.mlflow.org/docs/latest/models.html#handling-integers-with-missing-values>`_ for more details.\n",
      "  warnings.warn(\n"
     ]
    },
    {
     "data": {
      "application/vnd.jupyter.widget-view+json": {
       "model_id": "33600f4a0c4c4000b2e4da9de9b67442",
       "version_major": 2,
       "version_minor": 0
      },
      "text/plain": [
       "Downloading artifacts:   0%|          | 0/7 [00:00<?, ?it/s]"
      ]
     },
     "metadata": {},
     "output_type": "display_data"
    },
    {
     "name": "stdout",
     "output_type": "stream",
     "text": [
      "\n",
      "Accuracy promedio: 0.7043\n",
      "Desviación estándar: 0.0509\n",
      "Tiempo de entrenamiento promedio (segundos): 484.2636\n"
     ]
    },
    {
     "data": {
      "image/png": "[encoded data removed]",
      "text/plain": [
       "<Figure size 640x480 with 1 Axes>"
      ]
     },
     "metadata": {},
     "output_type": "display_data"
    }
   ],
   "source": [
    "# Definir el modelo Random Forest\n",
    "rf = RandomForestClassifier(random_state=42)\n",
    "\n",
    "# Definir la rejilla de parámetros para RandomizedSearchCV\n",
    "param_distributions = {\n",
    "    'n_estimators': [10, 50, 100, 200, 500],  # Número de árboles en el bosque\n",
    "    'max_depth': [None, 10, 20, 30, 40, 50],  # Máxima profundidad de cada árbol\n",
    "    'min_samples_split': [2, 5, 10],  # Mínimo número de muestras requeridas para dividir un nodo\n",
    "    'min_samples_leaf': [1, 2, 4],  # Mínimo número de muestras requeridas en una hoja\n",
    "    'max_features': ['sqrt', 'log2'],  # Número de características a considerar al buscar la mejor división\n",
    "    'bootstrap': [True, False]  # Método para seleccionar muestras para construir cada árbol\n",
    "}\n",
    "\n",
    "# Inicializar lista para almacenar accuracies y tiempos\n",
    "fold_accuracies = []\n",
    "fold_training_times = []  # Lista para almacenar los tiempos de entrenamiento\n",
    "\n",
    "# Realizar la validación cruzada respetando los folds predefinidos\n",
    "for fold in range(1, 11):  # Hay 10 folds en UrbanSound8K\n",
    "    # Dividir el dataset en entrenamiento y prueba\n",
    "    train_index = folds != fold\n",
    "    test_index = folds == fold\n",
    "    \n",
    "    X_train, X_test = X_caracteristicas[train_index], X_caracteristicas[test_index]\n",
    "    y_train, y_test = y[train_index], y[test_index]\n",
    "\n",
    "    # Configurar RandomizedSearchCV\n",
    "    random_search = RandomizedSearchCV(\n",
    "        estimator=rf, \n",
    "        param_distributions=param_distributions, \n",
    "        n_iter=10,  # Número de combinaciones aleatorias a probar\n",
    "        cv=10,  # Validación cruzada interna con 10 pliegues\n",
    "        scoring='accuracy',  # Métrica para optimizar\n",
    "        n_jobs=-1,  # Usar todos los núcleos disponibles\n",
    "        random_state=42\n",
    "    )\n",
    "\n",
    "    # Medir el tiempo de entrenamiento\n",
    "    start_time = time.time()  # Inicio del tiempo\n",
    "\n",
    "    # Entrenar el modelo con la búsqueda de hiperparámetros\n",
    "    random_search.fit(X_train, y_train)\n",
    "\n",
    "    # Tiempo de finalización\n",
    "    end_time = time.time()\n",
    "\n",
    "    # Calcular el tiempo de entrenamiento\n",
    "    training_time = end_time - start_time\n",
    "    fold_training_times.append(training_time)\n",
    "\n",
    "    # Obtener el mejor modelo\n",
    "    best_rf = random_search.best_estimator_\n",
    "\n",
    "    # Obtener los mejores parámetros y el mejor score\n",
    "    best_params = random_search.best_params_\n",
    "    best_score = random_search.best_score_\n",
    "    \n",
    "    # Predecir y evaluar\n",
    "    y_pred = best_rf.predict(X_test)\n",
    "    accuracy_val = accuracy_score(y_test, y_pred)\n",
    "    f1_val = f1_score(y_test, y_pred, average='weighted' )\n",
    "    precision_val = precision_score(y_test, y_pred, average='weighted')\n",
    "    recall_val = recall_score(y_test, y_pred, average='weighted')   \n",
    "    \n",
    "    fold_accuracies.append(accuracy_val)\n",
    "\n",
    "    print(f\"Mejores Parámetros: {best_params}\")\n",
    "    print(f\"Mejor Score: {best_score}\")\n",
    "    print(f\"Fold {fold} Accuracy: {accuracy_val:.4f}\")\n",
    "    print(f\"Tiempo de entrenamiento (segundos): {training_time:.4f}\")\n",
    "\n",
    "    with mlflow.start_run(run_name=f\"RF RSCV MFCC{mfcc_n_coeficiente} Fold_{fold}\") as run:\n",
    "        # Registrar los parámetros y métricas en MLflow\n",
    "        mlflow.log_params(best_params)\n",
    "\n",
    "        param_auxilares = {\n",
    "            \"mfcc_coeficiente\": mfcc_n_coeficiente, \n",
    "            \"fold\": fold,\n",
    "            \"cv\": \"RSCV\", \n",
    "            \"model\": \"RF\"\n",
    "        }\n",
    "\n",
    "        mlflow.log_params(param_auxilares)        \n",
    "        mlflow.set_tags(param_auxilares) \n",
    "\n",
    "        # Registrar la métrica de este fold\n",
    "        mlflow.log_metric(f\"accuracy_score\", accuracy_val)\n",
    "        mlflow.log_metric(f\"f1_weighted_score\", f1_val)\n",
    "        mlflow.log_metric(f\"precision_weighted_score\", precision_val)\n",
    "        mlflow.log_metric(f\"recall_weighted_score\", recall_val)\n",
    "\n",
    "        # Registrar el tiempo de entrenamiento\n",
    "        mlflow.log_metric(f\"training_time_seconds\", training_time)\n",
    "\n",
    "        # Guardar el modelo en MLflow con un ejemplo de entrada\n",
    "        input_example = X_test[:1]  # Ejemplo de entrada, una sola muestra de prueba\n",
    "        mlflow.sklearn.log_model(best_rf, f\"rf_rscv_mfcc{mfcc_n_coeficiente}_fold_{fold}\", input_example=input_example)\n",
    "\n",
    "        # Se finaliza el registro\n",
    "        mlflow.end_run()\n",
    "\n",
    "\n",
    "# Mostrar el promedio y desviación estándar\n",
    "mean_accuracy = np.mean(fold_accuracies)\n",
    "std_accuracy = np.std(fold_accuracies)\n",
    "mean_training_time = np.mean(fold_training_times)\n",
    "\n",
    "print(f\"\\nAccuracy promedio: {mean_accuracy:.4f}\")\n",
    "print(f\"Desviación estándar: {std_accuracy:.4f}\")\n",
    "print(f\"Tiempo de entrenamiento promedio (segundos): {mean_training_time:.4f}\")\n",
    "\n",
    "# Opcional: Visualizar los resultados con un boxplot\n",
    "plt.boxplot(fold_accuracies)\n",
    "plt.title(f'Distribución de Accuracy en RF RSCV MFCC{mfcc_n_coeficiente}')\n",
    "plt.ylabel('Accuracy')\n",
    "plt.show()"
   ]
  },
  {
   "cell_type": "markdown",
   "metadata": {},
   "source": [
    "## SVM"
   ]
  },
  {
   "cell_type": "code",
   "execution_count": 7,
   "metadata": {},
   "outputs": [
    {
     "name": "stdout",
     "output_type": "stream",
     "text": [
      "iniciando\n",
      "Mejores Parámetros: {'C': 0.001, 'coef0': 0.8771054180315003, 'degree': 3, 'gamma': 1.0, 'kernel': 'linear'}\n",
      "Mejor Score: 0.6551579390933695\n",
      "Fold 1 Accuracy: 0.6220\n",
      "Tiempo de entrenamiento (segundos): 441.0890\n"
     ]
    },
    {
     "name": "stderr",
     "output_type": "stream",
     "text": [
      "c:\\Users\\colbe\\Documents\\VIU\\TFM\\tfm-clasificador-fuentes-sonoras-ciudad\\.env\\lib\\site-packages\\mlflow\\types\\utils.py:406: UserWarning: Hint: Inferred schema contains integer column(s). Integer columns in Python cannot represent missing values. If your input data contains missing values at inference time, it will be encoded as floats and will cause a schema enforcement error. The best way to avoid this problem is to infer the model schema based on a realistic data sample (training dataset) that includes missing values. Alternatively, you can declare integer columns as doubles (float64) whenever these columns may have missing values. See `Handling Integers With Missing Values <https://www.mlflow.org/docs/latest/models.html#handling-integers-with-missing-values>`_ for more details.\n",
      "  warnings.warn(\n"
     ]
    },
    {
     "data": {
      "application/vnd.jupyter.widget-view+json": {
       "model_id": "edd1b9d17daf4d8ea5449291b10d06bc",
       "version_major": 2,
       "version_minor": 0
      },
      "text/plain": [
       "Downloading artifacts:   0%|          | 0/7 [00:00<?, ?it/s]"
      ]
     },
     "metadata": {},
     "output_type": "display_data"
    },
    {
     "name": "stdout",
     "output_type": "stream",
     "text": [
      "iniciando\n",
      "Mejores Parámetros: {'C': 0.001, 'coef0': 0.8771054180315003, 'degree': 3, 'gamma': 1.0, 'kernel': 'linear'}\n",
      "Mejor Score: 0.6706850383465488\n",
      "Fold 2 Accuracy: 0.5788\n",
      "Tiempo de entrenamiento (segundos): 418.0185\n"
     ]
    },
    {
     "name": "stderr",
     "output_type": "stream",
     "text": [
      "c:\\Users\\colbe\\Documents\\VIU\\TFM\\tfm-clasificador-fuentes-sonoras-ciudad\\.env\\lib\\site-packages\\mlflow\\types\\utils.py:406: UserWarning: Hint: Inferred schema contains integer column(s). Integer columns in Python cannot represent missing values. If your input data contains missing values at inference time, it will be encoded as floats and will cause a schema enforcement error. The best way to avoid this problem is to infer the model schema based on a realistic data sample (training dataset) that includes missing values. Alternatively, you can declare integer columns as doubles (float64) whenever these columns may have missing values. See `Handling Integers With Missing Values <https://www.mlflow.org/docs/latest/models.html#handling-integers-with-missing-values>`_ for more details.\n",
      "  warnings.warn(\n"
     ]
    },
    {
     "data": {
      "application/vnd.jupyter.widget-view+json": {
       "model_id": "6b64120843594d9291406fdd6644dd09",
       "version_major": 2,
       "version_minor": 0
      },
      "text/plain": [
       "Downloading artifacts:   0%|          | 0/7 [00:00<?, ?it/s]"
      ]
     },
     "metadata": {},
     "output_type": "display_data"
    },
    {
     "name": "stdout",
     "output_type": "stream",
     "text": [
      "iniciando\n",
      "Mejores Parámetros: {'C': 0.001, 'coef0': 0.8771054180315003, 'degree': 3, 'gamma': 1.0, 'kernel': 'linear'}\n",
      "Mejor Score: 0.6669301355921073\n",
      "Fold 3 Accuracy: 0.5351\n",
      "Tiempo de entrenamiento (segundos): 433.3378\n"
     ]
    },
    {
     "name": "stderr",
     "output_type": "stream",
     "text": [
      "c:\\Users\\colbe\\Documents\\VIU\\TFM\\tfm-clasificador-fuentes-sonoras-ciudad\\.env\\lib\\site-packages\\mlflow\\types\\utils.py:406: UserWarning: Hint: Inferred schema contains integer column(s). Integer columns in Python cannot represent missing values. If your input data contains missing values at inference time, it will be encoded as floats and will cause a schema enforcement error. The best way to avoid this problem is to infer the model schema based on a realistic data sample (training dataset) that includes missing values. Alternatively, you can declare integer columns as doubles (float64) whenever these columns may have missing values. See `Handling Integers With Missing Values <https://www.mlflow.org/docs/latest/models.html#handling-integers-with-missing-values>`_ for more details.\n",
      "  warnings.warn(\n"
     ]
    },
    {
     "data": {
      "application/vnd.jupyter.widget-view+json": {
       "model_id": "cc8e0d6bc4934eaab4ed718a012e3d1f",
       "version_major": 2,
       "version_minor": 0
      },
      "text/plain": [
       "Downloading artifacts:   0%|          | 0/7 [00:00<?, ?it/s]"
      ]
     },
     "metadata": {},
     "output_type": "display_data"
    },
    {
     "name": "stdout",
     "output_type": "stream",
     "text": [
      "iniciando\n",
      "Mejores Parámetros: {'C': 0.001, 'coef0': 0.8771054180315003, 'degree': 3, 'gamma': 1.0, 'kernel': 'linear'}\n",
      "Mejor Score: 0.6543344169375678\n",
      "Fold 4 Accuracy: 0.6556\n",
      "Tiempo de entrenamiento (segundos): 395.2883\n"
     ]
    },
    {
     "name": "stderr",
     "output_type": "stream",
     "text": [
      "c:\\Users\\colbe\\Documents\\VIU\\TFM\\tfm-clasificador-fuentes-sonoras-ciudad\\.env\\lib\\site-packages\\mlflow\\types\\utils.py:406: UserWarning: Hint: Inferred schema contains integer column(s). Integer columns in Python cannot represent missing values. If your input data contains missing values at inference time, it will be encoded as floats and will cause a schema enforcement error. The best way to avoid this problem is to infer the model schema based on a realistic data sample (training dataset) that includes missing values. Alternatively, you can declare integer columns as doubles (float64) whenever these columns may have missing values. See `Handling Integers With Missing Values <https://www.mlflow.org/docs/latest/models.html#handling-integers-with-missing-values>`_ for more details.\n",
      "  warnings.warn(\n"
     ]
    },
    {
     "data": {
      "application/vnd.jupyter.widget-view+json": {
       "model_id": "7b01ef860be241be9120a1d8f4047cc1",
       "version_major": 2,
       "version_minor": 0
      },
      "text/plain": [
       "Downloading artifacts:   0%|          | 0/7 [00:00<?, ?it/s]"
      ]
     },
     "metadata": {},
     "output_type": "display_data"
    },
    {
     "name": "stdout",
     "output_type": "stream",
     "text": [
      "iniciando\n",
      "Mejores Parámetros: {'C': 0.001, 'coef0': 0.8771054180315003, 'degree': 3, 'gamma': 1.0, 'kernel': 'linear'}\n",
      "Mejor Score: 0.6377355913235246\n",
      "Fold 5 Accuracy: 0.6571\n",
      "Tiempo de entrenamiento (segundos): 453.5461\n"
     ]
    },
    {
     "name": "stderr",
     "output_type": "stream",
     "text": [
      "c:\\Users\\colbe\\Documents\\VIU\\TFM\\tfm-clasificador-fuentes-sonoras-ciudad\\.env\\lib\\site-packages\\mlflow\\types\\utils.py:406: UserWarning: Hint: Inferred schema contains integer column(s). Integer columns in Python cannot represent missing values. If your input data contains missing values at inference time, it will be encoded as floats and will cause a schema enforcement error. The best way to avoid this problem is to infer the model schema based on a realistic data sample (training dataset) that includes missing values. Alternatively, you can declare integer columns as doubles (float64) whenever these columns may have missing values. See `Handling Integers With Missing Values <https://www.mlflow.org/docs/latest/models.html#handling-integers-with-missing-values>`_ for more details.\n",
      "  warnings.warn(\n"
     ]
    },
    {
     "data": {
      "application/vnd.jupyter.widget-view+json": {
       "model_id": "321e4340a53c4cd4bcbd0fca04d88f9a",
       "version_major": 2,
       "version_minor": 0
      },
      "text/plain": [
       "Downloading artifacts:   0%|          | 0/7 [00:00<?, ?it/s]"
      ]
     },
     "metadata": {},
     "output_type": "display_data"
    },
    {
     "name": "stdout",
     "output_type": "stream",
     "text": [
      "iniciando\n",
      "Mejores Parámetros: {'C': 0.001, 'coef0': 0.8771054180315003, 'degree': 3, 'gamma': 1.0, 'kernel': 'linear'}\n",
      "Mejor Score: 0.651776152602858\n",
      "Fold 6 Accuracy: 0.6525\n",
      "Tiempo de entrenamiento (segundos): 461.5174\n"
     ]
    },
    {
     "name": "stderr",
     "output_type": "stream",
     "text": [
      "c:\\Users\\colbe\\Documents\\VIU\\TFM\\tfm-clasificador-fuentes-sonoras-ciudad\\.env\\lib\\site-packages\\mlflow\\types\\utils.py:406: UserWarning: Hint: Inferred schema contains integer column(s). Integer columns in Python cannot represent missing values. If your input data contains missing values at inference time, it will be encoded as floats and will cause a schema enforcement error. The best way to avoid this problem is to infer the model schema based on a realistic data sample (training dataset) that includes missing values. Alternatively, you can declare integer columns as doubles (float64) whenever these columns may have missing values. See `Handling Integers With Missing Values <https://www.mlflow.org/docs/latest/models.html#handling-integers-with-missing-values>`_ for more details.\n",
      "  warnings.warn(\n"
     ]
    },
    {
     "data": {
      "application/vnd.jupyter.widget-view+json": {
       "model_id": "e067d499312047499128efb9add6c58c",
       "version_major": 2,
       "version_minor": 0
      },
      "text/plain": [
       "Downloading artifacts:   0%|          | 0/7 [00:00<?, ?it/s]"
      ]
     },
     "metadata": {},
     "output_type": "display_data"
    },
    {
     "name": "stdout",
     "output_type": "stream",
     "text": [
      "iniciando\n",
      "Mejores Parámetros: {'C': 0.001, 'coef0': 0.8771054180315003, 'degree': 3, 'gamma': 1.0, 'kernel': 'linear'}\n",
      "Mejor Score: 0.6490726925606841\n",
      "Fold 7 Accuracy: 0.7053\n",
      "Tiempo de entrenamiento (segundos): 419.2353\n"
     ]
    },
    {
     "name": "stderr",
     "output_type": "stream",
     "text": [
      "c:\\Users\\colbe\\Documents\\VIU\\TFM\\tfm-clasificador-fuentes-sonoras-ciudad\\.env\\lib\\site-packages\\mlflow\\types\\utils.py:406: UserWarning: Hint: Inferred schema contains integer column(s). Integer columns in Python cannot represent missing values. If your input data contains missing values at inference time, it will be encoded as floats and will cause a schema enforcement error. The best way to avoid this problem is to infer the model schema based on a realistic data sample (training dataset) that includes missing values. Alternatively, you can declare integer columns as doubles (float64) whenever these columns may have missing values. See `Handling Integers With Missing Values <https://www.mlflow.org/docs/latest/models.html#handling-integers-with-missing-values>`_ for more details.\n",
      "  warnings.warn(\n"
     ]
    },
    {
     "data": {
      "application/vnd.jupyter.widget-view+json": {
       "model_id": "8cb307eb39cd4d93a8689828ca48326b",
       "version_major": 2,
       "version_minor": 0
      },
      "text/plain": [
       "Downloading artifacts:   0%|          | 0/7 [00:00<?, ?it/s]"
      ]
     },
     "metadata": {},
     "output_type": "display_data"
    },
    {
     "name": "stdout",
     "output_type": "stream",
     "text": [
      "iniciando\n",
      "Mejores Parámetros: {'C': 0.001, 'coef0': 0.8771054180315003, 'degree': 3, 'gamma': 1.0, 'kernel': 'linear'}\n",
      "Mejor Score: 0.6494853962067076\n",
      "Fold 8 Accuracy: 0.7047\n",
      "Tiempo de entrenamiento (segundos): 445.5483\n"
     ]
    },
    {
     "name": "stderr",
     "output_type": "stream",
     "text": [
      "c:\\Users\\colbe\\Documents\\VIU\\TFM\\tfm-clasificador-fuentes-sonoras-ciudad\\.env\\lib\\site-packages\\mlflow\\types\\utils.py:406: UserWarning: Hint: Inferred schema contains integer column(s). Integer columns in Python cannot represent missing values. If your input data contains missing values at inference time, it will be encoded as floats and will cause a schema enforcement error. The best way to avoid this problem is to infer the model schema based on a realistic data sample (training dataset) that includes missing values. Alternatively, you can declare integer columns as doubles (float64) whenever these columns may have missing values. See `Handling Integers With Missing Values <https://www.mlflow.org/docs/latest/models.html#handling-integers-with-missing-values>`_ for more details.\n",
      "  warnings.warn(\n"
     ]
    },
    {
     "data": {
      "application/vnd.jupyter.widget-view+json": {
       "model_id": "1bea0fefbde94ee995e5f31be8d3b490",
       "version_major": 2,
       "version_minor": 0
      },
      "text/plain": [
       "Downloading artifacts:   0%|          | 0/7 [00:00<?, ?it/s]"
      ]
     },
     "metadata": {},
     "output_type": "display_data"
    },
    {
     "name": "stdout",
     "output_type": "stream",
     "text": [
      "iniciando\n",
      "Mejores Parámetros: {'C': 0.001, 'coef0': 0.8771054180315003, 'degree': 3, 'gamma': 1.0, 'kernel': 'linear'}\n",
      "Mejor Score: 0.6561153571109324\n",
      "Fold 9 Accuracy: 0.6630\n",
      "Tiempo de entrenamiento (segundos): 404.9115\n"
     ]
    },
    {
     "name": "stderr",
     "output_type": "stream",
     "text": [
      "c:\\Users\\colbe\\Documents\\VIU\\TFM\\tfm-clasificador-fuentes-sonoras-ciudad\\.env\\lib\\site-packages\\mlflow\\types\\utils.py:406: UserWarning: Hint: Inferred schema contains integer column(s). Integer columns in Python cannot represent missing values. If your input data contains missing values at inference time, it will be encoded as floats and will cause a schema enforcement error. The best way to avoid this problem is to infer the model schema based on a realistic data sample (training dataset) that includes missing values. Alternatively, you can declare integer columns as doubles (float64) whenever these columns may have missing values. See `Handling Integers With Missing Values <https://www.mlflow.org/docs/latest/models.html#handling-integers-with-missing-values>`_ for more details.\n",
      "  warnings.warn(\n"
     ]
    },
    {
     "data": {
      "application/vnd.jupyter.widget-view+json": {
       "model_id": "aae9a0c6e65b4c0586fb87fd9937e102",
       "version_major": 2,
       "version_minor": 0
      },
      "text/plain": [
       "Downloading artifacts:   0%|          | 0/7 [00:00<?, ?it/s]"
      ]
     },
     "metadata": {},
     "output_type": "display_data"
    },
    {
     "name": "stdout",
     "output_type": "stream",
     "text": [
      "iniciando\n",
      "Mejores Parámetros: {'C': 0.001, 'coef0': 0.8771054180315003, 'degree': 3, 'gamma': 1.0, 'kernel': 'linear'}\n",
      "Mejor Score: 0.6519014615520367\n",
      "Fold 10 Accuracy: 0.6344\n",
      "Tiempo de entrenamiento (segundos): 450.9172\n"
     ]
    },
    {
     "name": "stderr",
     "output_type": "stream",
     "text": [
      "c:\\Users\\colbe\\Documents\\VIU\\TFM\\tfm-clasificador-fuentes-sonoras-ciudad\\.env\\lib\\site-packages\\mlflow\\types\\utils.py:406: UserWarning: Hint: Inferred schema contains integer column(s). Integer columns in Python cannot represent missing values. If your input data contains missing values at inference time, it will be encoded as floats and will cause a schema enforcement error. The best way to avoid this problem is to infer the model schema based on a realistic data sample (training dataset) that includes missing values. Alternatively, you can declare integer columns as doubles (float64) whenever these columns may have missing values. See `Handling Integers With Missing Values <https://www.mlflow.org/docs/latest/models.html#handling-integers-with-missing-values>`_ for more details.\n",
      "  warnings.warn(\n"
     ]
    },
    {
     "data": {
      "application/vnd.jupyter.widget-view+json": {
       "model_id": "a5074ac9b0b54d0aac91882c3a216266",
       "version_major": 2,
       "version_minor": 0
      },
      "text/plain": [
       "Downloading artifacts:   0%|          | 0/7 [00:00<?, ?it/s]"
      ]
     },
     "metadata": {},
     "output_type": "display_data"
    },
    {
     "name": "stdout",
     "output_type": "stream",
     "text": [
      "\n",
      "Accuracy promedio: 0.6408\n",
      "Desviación estándar: 0.0497\n",
      "Tiempo de entrenamiento promedio (segundos): 432.3409\n"
     ]
    },
    {
     "data": {
      "image/png": "[encoded data removed]",
      "text/plain": [
       "<Figure size 640x480 with 1 Axes>"
      ]
     },
     "metadata": {},
     "output_type": "display_data"
    }
   ],
   "source": [
    "from sklearn.model_selection import RandomizedSearchCV\n",
    "from sklearn.svm import SVC\n",
    "from scipy.stats import expon, reciprocal, randint, uniform\n",
    "import numpy as np\n",
    "\n",
    "# Definir el modelo SVM\n",
    "svm = SVC()\n",
    "\n",
    "# Definir la rejilla de parámetros para RandomizedSearchCV\n",
    "param_distributions = {\n",
    "    'C': [0.0001, 0.001],  \n",
    "    'kernel': ['linear', 'poly', 'rbf', 'sigmoid'],\n",
    "    'degree': randint(2, 5),  # Grados 2, 3, 4 para el kernel 'poly'\n",
    "    'gamma': ['scale', 'auto'] + list(np.logspace(-9, 3, 13)),  # Valores desde 1e-9 hasta 1e3\n",
    "    'coef0': uniform(-1, 2),  # Valores entre -1 y 1 para 'poly' y 'sigmoid'\n",
    "}\n",
    "\n",
    "# Inicializar lista para almacenar accuracies y tiempos\n",
    "fold_accuracies = []\n",
    "fold_training_times = []  # Lista para almacenar los tiempos de entrenamiento\n",
    "\n",
    "# Realizar la validación cruzada respetando los folds predefinidos\n",
    "for fold in range(1, 11):  # Hay 10 folds en UrbanSound8K\n",
    "    # Dividir el dataset en entrenamiento y prueba\n",
    "    train_index = folds != fold\n",
    "    test_index = folds == fold\n",
    "    \n",
    "    X_train, X_test = X_caracteristicas[train_index], X_caracteristicas[test_index]\n",
    "    y_train, y_test = y[train_index], y[test_index]\n",
    "\n",
    "    print(\"iniciando\")\n",
    "\n",
    "    # Configurar RandomizedSearchCV\n",
    "    random_search = RandomizedSearchCV(\n",
    "        estimator=svm, \n",
    "        param_distributions=param_distributions, \n",
    "        n_iter=5,  # Número de combinaciones aleatorias a probar\n",
    "        cv=10,  # Validación cruzada interna \n",
    "        scoring='accuracy',  # Métrica para optimizar\n",
    "        n_jobs=-1,  # Usar todos los núcleos disponibles\n",
    "        random_state=42\n",
    "    )\n",
    "\n",
    "    # Medir el tiempo de entrenamiento\n",
    "    start_time = time.time()  # Inicio del tiempo\n",
    "\n",
    "    # Entrenar el modelo con la búsqueda de hiperparámetros\n",
    "    random_search.fit(X_train, y_train)\n",
    "\n",
    "    # Tiempo de finalización\n",
    "    end_time = time.time()\n",
    "\n",
    "    # Calcular el tiempo de entrenamiento\n",
    "    training_time = end_time - start_time\n",
    "    fold_training_times.append(training_time)\n",
    "\n",
    "    # Obtener el mejor modelo\n",
    "    best_svm = random_search.best_estimator_\n",
    "\n",
    "    # Obtener los mejores parámetros y el mejor score\n",
    "    best_params = random_search.best_params_\n",
    "    best_score = random_search.best_score_\n",
    "    \n",
    "    # Predecir y evaluar\n",
    "    y_pred = best_svm.predict(X_test)\n",
    "    accuracy_val = accuracy_score(y_test, y_pred)\n",
    "    f1_val = f1_score(y_test, y_pred, average='weighted' )\n",
    "    precision_val = precision_score(y_test, y_pred, average='weighted')\n",
    "    recall_val = recall_score(y_test, y_pred, average='weighted') \n",
    "    fold_accuracies.append(accuracy_val)\n",
    "\n",
    "    print(f\"Mejores Parámetros: {best_params}\")\n",
    "    print(f\"Mejor Score: {best_score}\")\n",
    "    print(f\"Fold {fold} Accuracy: {accuracy_val:.4f}\")\n",
    "    print(f\"Tiempo de entrenamiento (segundos): {training_time:.4f}\")\n",
    "\n",
    "    with mlflow.start_run(run_name=f\"SVM RSCV MFCC{mfcc_n_coeficiente} Fold_{fold}\") as run:\n",
    "        # Registrar los parámetros y métricas en MLflow\n",
    "        mlflow.log_params(best_params)\n",
    "\n",
    "        param_auxilares = {\n",
    "            \"mfcc_coeficiente\": mfcc_n_coeficiente, \n",
    "            \"fold\": fold,\n",
    "            \"cv\": \"RSCV\", \n",
    "            \"model\": \"SVM\"\n",
    "        }\n",
    "\n",
    "        mlflow.log_params(param_auxilares)        \n",
    "        mlflow.set_tags(param_auxilares) \n",
    "\n",
    "        # Registrar la métrica de este fold\n",
    "        mlflow.log_metric(f\"accuracy_score\", accuracy_val)\n",
    "        mlflow.log_metric(f\"f1_weighted_score\", f1_val)\n",
    "        mlflow.log_metric(f\"precision_weighted_score\", precision_val)\n",
    "        mlflow.log_metric(f\"recall_weighted_score\", recall_val)\n",
    "\n",
    "        # Registrar el tiempo de entrenamiento\n",
    "        mlflow.log_metric(f\"training_time_seconds\", training_time)\n",
    "\n",
    "        # Guardar el modelo en MLflow con un ejemplo de entrada\n",
    "        input_example = X_test[:1]  # Ejemplo de entrada, una sola muestra de prueba\n",
    "        mlflow.sklearn.log_model(best_svm, f\"svm_rscv_mfcc{mfcc_n_coeficiente}_fold_{fold}\", input_example=input_example)\n",
    "\n",
    "        # Se finaliza el registro\n",
    "        mlflow.end_run()\n",
    "\n",
    "\n",
    "# Mostrar el promedio y desviación estándar\n",
    "mean_accuracy = np.mean(fold_accuracies)\n",
    "std_accuracy = np.std(fold_accuracies)\n",
    "mean_training_time = np.mean(fold_training_times)\n",
    "\n",
    "print(f\"\\nAccuracy promedio: {mean_accuracy:.4f}\")\n",
    "print(f\"Desviación estándar: {std_accuracy:.4f}\")\n",
    "print(f\"Tiempo de entrenamiento promedio (segundos): {mean_training_time:.4f}\")\n",
    "\n",
    "# Opcional: Visualizar los resultados con un boxplot\n",
    "plt.boxplot(fold_accuracies)\n",
    "plt.title(f'Distribución de Accuracy en SVM RSCV MFCC{mfcc_n_coeficiente}')\n",
    "plt.ylabel('Accuracy')\n",
    "plt.show()\n"
   ]
  },
  {
   "cell_type": "markdown",
   "metadata": {},
   "source": [
    "# Grafico de comparacion"
   ]
  },
  {
   "cell_type": "code",
   "execution_count": 3,
   "metadata": {},
   "outputs": [
    {
     "name": "stderr",
     "output_type": "stream",
     "text": [
      "C:\\Users\\colbe\\AppData\\Local\\Temp\\ipykernel_11688\\761744924.py:56: FutureWarning: \n",
      "\n",
      "Passing `palette` without assigning `hue` is deprecated and will be removed in v0.14.0. Assign the `x` variable to `hue` and set `legend=False` for the same effect.\n",
      "\n",
      "  sns.boxplot(x='Modelo', y='Accuracy', data=df[df['MFCC'] == mfcc], palette='Set2')\n"
     ]
    },
    {
     "data": {
      "image/png": "[encoded data removed]",
      "text/plain": [
       "<Figure size 800x600 with 1 Axes>"
      ]
     },
     "metadata": {},
     "output_type": "display_data"
    },
    {
     "name": "stderr",
     "output_type": "stream",
     "text": [
      "C:\\Users\\colbe\\AppData\\Local\\Temp\\ipykernel_11688\\761744924.py:56: FutureWarning: \n",
      "\n",
      "Passing `palette` without assigning `hue` is deprecated and will be removed in v0.14.0. Assign the `x` variable to `hue` and set `legend=False` for the same effect.\n",
      "\n",
      "  sns.boxplot(x='Modelo', y='Accuracy', data=df[df['MFCC'] == mfcc], palette='Set2')\n"
     ]
    },
    {
     "data": {
      "image/png": "[encoded data removed]",
      "text/plain": [
       "<Figure size 800x600 with 1 Axes>"
      ]
     },
     "metadata": {},
     "output_type": "display_data"
    },
    {
     "name": "stderr",
     "output_type": "stream",
     "text": [
      "C:\\Users\\colbe\\AppData\\Local\\Temp\\ipykernel_11688\\761744924.py:56: FutureWarning: \n",
      "\n",
      "Passing `palette` without assigning `hue` is deprecated and will be removed in v0.14.0. Assign the `x` variable to `hue` and set `legend=False` for the same effect.\n",
      "\n",
      "  sns.boxplot(x='Modelo', y='Accuracy', data=df[df['MFCC'] == mfcc], palette='Set2')\n"
     ]
    },
    {
     "data": {
      "image/png": "[encoded data removed]",
      "text/plain": [
       "<Figure size 800x600 with 1 Axes>"
      ]
     },
     "metadata": {},
     "output_type": "display_data"
    },
    {
     "name": "stderr",
     "output_type": "stream",
     "text": [
      "C:\\Users\\colbe\\AppData\\Local\\Temp\\ipykernel_11688\\761744924.py:56: FutureWarning: \n",
      "\n",
      "Passing `palette` without assigning `hue` is deprecated and will be removed in v0.14.0. Assign the `x` variable to `hue` and set `legend=False` for the same effect.\n",
      "\n",
      "  sns.boxplot(x='Modelo', y='Accuracy', data=df[df['MFCC'] == mfcc], palette='Set2')\n"
     ]
    },
    {
     "data": {
      "image/png": "[encoded data removed]",
      "text/plain": [
       "<Figure size 800x600 with 1 Axes>"
      ]
     },
     "metadata": {},
     "output_type": "display_data"
    }
   ],
   "source": [
    "import pandas as pd\n",
    "import seaborn as sns\n",
    "import matplotlib.pyplot as plt\n",
    "\n",
    "# Paso 1: Organizar tus datos en un DataFrame\n",
    "\n",
    "# Crear una lista con los nombres de los folds\n",
    "folds = ['FOLD1', 'FOLD2', 'FOLD3', 'FOLD4', 'FOLD5', 'FOLD6', 'FOLD7', 'FOLD8', 'FOLD9', 'FOLD10']\n",
    "\n",
    "# Datos de exactitud para cada modelo y configuración de MFCC\n",
    "data = {\n",
    "    'FOLD': folds * 12,  # 10 folds para cada combinación de modelo y MFCC (10 folds x 12 combinaciones)\n",
    "    'MFCC': ['MFCC10'] * 30 + ['MFCC13'] * 30 + ['MFCC15'] * 30 + ['MFCC20'] * 30,\n",
    "    'Modelo': (['KNN'] * 10 + ['RF'] * 10 + ['SVM'] * 10) * 4,\n",
    "    'Accuracy': [\n",
    "        # MFCC10 - KNN\n",
    "        0.51, 0.53, 0.49, 0.58, 0.62, 0.52, 0.50, 0.53, 0.62, 0.59,\n",
    "        # MFCC10 - RF\n",
    "        0.67, 0.63, 0.54, 0.72, 0.71, 0.67, 0.68, 0.67, 0.70, 0.74,\n",
    "        # MFCC10 - SVM\n",
    "        0.66, 0.57, 0.52, 0.69, 0.66, 0.63, 0.71, 0.68, 0.67, 0.65,\n",
    "        # MFCC13 - KNN\n",
    "        0.51, 0.54, 0.47, 0.59, 0.64, 0.54, 0.51, 0.54, 0.64, 0.58,\n",
    "        # MFCC13 - RF\n",
    "        0.68, 0.66, 0.56, 0.70, 0.71, 0.69, 0.69, 0.67, 0.71, 0.74,\n",
    "        # MFCC13 - SVM\n",
    "        0.64, 0.62, 0.56, 0.63, 0.66, 0.66, 0.71, 0.71, 0.71, 0.65,\n",
    "        # MFCC15 - KNN\n",
    "        0.51, 0.55, 0.49, 0.60, 0.64, 0.55, 0.52, 0.52, 0.64, 0.60,\n",
    "        # MFCC15 - RF\n",
    "        0.69, 0.68, 0.56, 0.72, 0.74, 0.68, 0.69, 0.72, 0.71, 0.76,\n",
    "        # MFCC15 - SVM\n",
    "        0.66, 0.63, 0.57, 0.66, 0.66, 0.67, 0.70, 0.70, 0.70, 0.64,\n",
    "        # MFCC20 - KNN\n",
    "        0.53, 0.57, 0.52, 0.62, 0.65, 0.59, 0.54, 0.53, 0.65, 0.60,\n",
    "        # MFCC20 - RF\n",
    "        0.71, 0.72, 0.57, 0.70, 0.76, 0.69, 0.68, 0.73, 0.72, 0.77,\n",
    "        # MFCC20 - SVM\n",
    "        0.63, 0.63, 0.58, 0.67, 0.71, 0.68, 0.71, 0.66, 0.73, 0.66\n",
    "    ]\n",
    "}\n",
    "\n",
    "# Crear el DataFrame\n",
    "df = pd.DataFrame(data)\n",
    "\n",
    "# Ajustar la columna 'Modelo' para que se repita correctamente\n",
    "models = ['KNN'] * 10 + ['RF'] * 10 + ['SVM'] * 10\n",
    "df['Modelo'] = models * 4  # Multiplicar por 4 porque hay 4 configuraciones de MFCC\n",
    "\n",
    "# Paso 2: Crear un DataFrame separado para cada MFCC y generar los boxplots\n",
    "\n",
    "mfcc_list = ['MFCC10', 'MFCC13', 'MFCC15', 'MFCC20']\n",
    "\n",
    "for mfcc in mfcc_list:\n",
    "    plt.figure(figsize=(8, 6))\n",
    "    sns.boxplot(x='Modelo', y='Accuracy', data=df[df['MFCC'] == mfcc], palette='Set2')\n",
    "    plt.title(f'Comparación de Accuracy para {mfcc}')\n",
    "    plt.ylabel('Accuracy')\n",
    "    plt.xlabel('Modelo')\n",
    "    plt.grid(axis='y')\n",
    "    plt.show()\n"
   ]
  },
  {
   "cell_type": "code",
   "execution_count": 4,
   "metadata": {},
   "outputs": [
    {
     "data": {
      "image/png": "[encoded data removed]",
      "text/plain": [
       "<Figure size 1200x600 with 1 Axes>"
      ]
     },
     "metadata": {},
     "output_type": "display_data"
    }
   ],
   "source": [
    "plt.figure(figsize=(12, 6))\n",
    "sns.boxplot(x='Modelo', y='Accuracy', hue='MFCC', data=df, palette='Set3')\n",
    "plt.title('Comparación de Accuracy entre Modelos y Configuraciones MFCC')\n",
    "plt.ylabel('Accuracy')\n",
    "plt.xlabel('Modelo')\n",
    "plt.legend(title='MFCC')\n",
    "plt.grid(axis='y')\n",
    "plt.show()\n"
   ]
  },
  {
   "cell_type": "code",
   "execution_count": 33,
   "metadata": {},
   "outputs": [
    {
     "name": "stdout",
     "output_type": "stream",
     "text": [
      "<scipy.stats._distn_infrastructure.rv_continuous_frozen object at 0x00000221A5A3A9E0>\n"
     ]
    }
   ],
   "source": [
    "from sklearn.model_selection import RandomizedSearchCV\n",
    "from sklearn.svm import SVC\n",
    "from scipy.stats import expon, reciprocal, randint, uniform\n",
    "import numpy as np\n",
    "print(uniform(0.1, 1000))"
   ]
  }
 ],
 "metadata": {
  "kernelspec": {
   "display_name": "huemul",
   "language": "python",
   "name": "python3"
  },
  "language_info": {
   "codemirror_mode": {
    "name": "ipython",
    "version": 3
   },
   "file_extension": ".py",
   "mimetype": "text/x-python",
   "name": "python",
   "nbconvert_exporter": "python",
   "pygments_lexer": "ipython3",
   "version": "3.10.5"
  }
 },
 "nbformat": 4,
 "nbformat_minor": 2
}
