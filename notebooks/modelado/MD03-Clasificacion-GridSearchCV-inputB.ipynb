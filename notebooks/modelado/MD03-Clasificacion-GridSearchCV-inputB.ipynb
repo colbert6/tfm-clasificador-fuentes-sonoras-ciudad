{
 "cells": [
  {
   "cell_type": "markdown",
   "metadata": {},
   "source": [
    "# Importación de librerías"
   ]
  },
  {
   "cell_type": "code",
   "execution_count": 1,
   "metadata": {},
   "outputs": [],
   "source": [
    "import pandas as pd\n",
    "import numpy as np\n",
    "\n",
    "import os\n",
    "import librosa\n",
    "import librosa.display\n",
    "\n",
    "import matplotlib.pyplot as plt\n",
    "import seaborn as sns\n",
    "\n",
    "import mlflow\n"
   ]
  },
  {
   "cell_type": "code",
   "execution_count": 2,
   "metadata": {},
   "outputs": [],
   "source": [
    "from sklearn.model_selection import train_test_split\n",
    "from sklearn.metrics import classification_report, accuracy_score\n",
    "\n",
    "from sklearn.neighbors import KNeighborsClassifier\n",
    "from sklearn.ensemble import RandomForestClassifier\n",
    "from sklearn.svm import SVC\n",
    "\n",
    "from sklearn.model_selection import GridSearchCV, RandomizedSearchCV\n",
    "from sklearn.model_selection import KFold\n",
    "\n",
    "from sklearn.preprocessing import MinMaxScaler, StandardScaler\n",
    "\n",
    "from sklearn.metrics import accuracy_score \n",
    "from sklearn.metrics import confusion_matrix, ConfusionMatrixDisplay"
   ]
  },
  {
   "cell_type": "markdown",
   "metadata": {},
   "source": [
    "# Lectura del dataset"
   ]
  },
  {
   "cell_type": "code",
   "execution_count": 3,
   "metadata": {},
   "outputs": [],
   "source": [
    "urbansound8k_path = \"../../data/raw/UrbanSound8K/\"\n",
    "\n",
    "# Primer dataset - Carpeta con los audios\n",
    "urbansound8k_audio_path = \"audio/\"\n",
    "\n",
    "# Segundo dataset - Archivo CSV con metadatos sobre los audios\n",
    "urbansound8k_metadata_path_file = \"metadata/UrbanSound8K.csv\" \n",
    "\n",
    "# Dataset input\n",
    "dataset_urbansound8k_vfinal_path_file = \"../../data/processed/pd01_transformaciones_v2.csv\"\n"
   ]
  },
  {
   "cell_type": "code",
   "execution_count": 4,
   "metadata": {},
   "outputs": [
    {
     "data": {
      "text/html": [
       "<div>\n",
       "<style scoped>\n",
       "    .dataframe tbody tr th:only-of-type {\n",
       "        vertical-align: middle;\n",
       "    }\n",
       "\n",
       "    .dataframe tbody tr th {\n",
       "        vertical-align: top;\n",
       "    }\n",
       "\n",
       "    .dataframe thead th {\n",
       "        text-align: right;\n",
       "    }\n",
       "</style>\n",
       "<table border=\"1\" class=\"dataframe\">\n",
       "  <thead>\n",
       "    <tr style=\"text-align: right;\">\n",
       "      <th></th>\n",
       "      <th>slice_file_name</th>\n",
       "      <th>fold</th>\n",
       "      <th>classID</th>\n",
       "      <th>mfcc_mean_1</th>\n",
       "      <th>mfcc_mean_2</th>\n",
       "      <th>mfcc_mean_3</th>\n",
       "      <th>mfcc_mean_4</th>\n",
       "      <th>mfcc_mean_5</th>\n",
       "      <th>mfcc_mean_6</th>\n",
       "      <th>mfcc_mean_7</th>\n",
       "      <th>...</th>\n",
       "      <th>mfcc_std_4</th>\n",
       "      <th>mfcc_std_5</th>\n",
       "      <th>mfcc_std_6</th>\n",
       "      <th>mfcc_std_7</th>\n",
       "      <th>mfcc_std_8</th>\n",
       "      <th>mfcc_std_9</th>\n",
       "      <th>mfcc_std_10</th>\n",
       "      <th>mfcc_std_11</th>\n",
       "      <th>mfcc_std_12</th>\n",
       "      <th>mfcc_std_13</th>\n",
       "    </tr>\n",
       "  </thead>\n",
       "  <tbody>\n",
       "    <tr>\n",
       "      <th>0</th>\n",
       "      <td>100032-3-0-0.wav</td>\n",
       "      <td>5</td>\n",
       "      <td>3</td>\n",
       "      <td>-275.91843</td>\n",
       "      <td>119.49280</td>\n",
       "      <td>-98.21178</td>\n",
       "      <td>-66.515140</td>\n",
       "      <td>-42.606050</td>\n",
       "      <td>0.505066</td>\n",
       "      <td>-28.330938</td>\n",
       "      <td>...</td>\n",
       "      <td>7.711867</td>\n",
       "      <td>20.805027</td>\n",
       "      <td>9.134558</td>\n",
       "      <td>18.894438</td>\n",
       "      <td>6.147139</td>\n",
       "      <td>6.089511</td>\n",
       "      <td>5.562755</td>\n",
       "      <td>8.565537</td>\n",
       "      <td>6.207259</td>\n",
       "      <td>6.475474</td>\n",
       "    </tr>\n",
       "    <tr>\n",
       "      <th>1</th>\n",
       "      <td>100263-2-0-117.wav</td>\n",
       "      <td>5</td>\n",
       "      <td>2</td>\n",
       "      <td>-500.90840</td>\n",
       "      <td>185.10641</td>\n",
       "      <td>-86.53282</td>\n",
       "      <td>49.858850</td>\n",
       "      <td>9.230822</td>\n",
       "      <td>22.548956</td>\n",
       "      <td>-3.567175</td>\n",
       "      <td>...</td>\n",
       "      <td>7.905810</td>\n",
       "      <td>10.492388</td>\n",
       "      <td>8.088639</td>\n",
       "      <td>10.003834</td>\n",
       "      <td>8.190908</td>\n",
       "      <td>7.428165</td>\n",
       "      <td>8.623438</td>\n",
       "      <td>8.925406</td>\n",
       "      <td>6.448639</td>\n",
       "      <td>8.688373</td>\n",
       "    </tr>\n",
       "    <tr>\n",
       "      <th>2</th>\n",
       "      <td>100263-2-0-121.wav</td>\n",
       "      <td>5</td>\n",
       "      <td>2</td>\n",
       "      <td>-531.19530</td>\n",
       "      <td>186.93994</td>\n",
       "      <td>-70.34916</td>\n",
       "      <td>40.429245</td>\n",
       "      <td>9.121047</td>\n",
       "      <td>18.398588</td>\n",
       "      <td>6.283282</td>\n",
       "      <td>...</td>\n",
       "      <td>8.959305</td>\n",
       "      <td>12.224772</td>\n",
       "      <td>6.729685</td>\n",
       "      <td>6.964815</td>\n",
       "      <td>7.970478</td>\n",
       "      <td>8.061611</td>\n",
       "      <td>6.219080</td>\n",
       "      <td>6.053109</td>\n",
       "      <td>5.661677</td>\n",
       "      <td>6.233405</td>\n",
       "    </tr>\n",
       "  </tbody>\n",
       "</table>\n",
       "<p>3 rows × 42 columns</p>\n",
       "</div>"
      ],
      "text/plain": [
       "      slice_file_name  fold  classID  mfcc_mean_1  mfcc_mean_2  mfcc_mean_3  \\\n",
       "0    100032-3-0-0.wav     5        3   -275.91843    119.49280    -98.21178   \n",
       "1  100263-2-0-117.wav     5        2   -500.90840    185.10641    -86.53282   \n",
       "2  100263-2-0-121.wav     5        2   -531.19530    186.93994    -70.34916   \n",
       "\n",
       "   mfcc_mean_4  mfcc_mean_5  mfcc_mean_6  mfcc_mean_7  ...  mfcc_std_4  \\\n",
       "0   -66.515140   -42.606050     0.505066   -28.330938  ...    7.711867   \n",
       "1    49.858850     9.230822    22.548956    -3.567175  ...    7.905810   \n",
       "2    40.429245     9.121047    18.398588     6.283282  ...    8.959305   \n",
       "\n",
       "   mfcc_std_5  mfcc_std_6  mfcc_std_7  mfcc_std_8  mfcc_std_9  mfcc_std_10  \\\n",
       "0   20.805027    9.134558   18.894438    6.147139    6.089511     5.562755   \n",
       "1   10.492388    8.088639   10.003834    8.190908    7.428165     8.623438   \n",
       "2   12.224772    6.729685    6.964815    7.970478    8.061611     6.219080   \n",
       "\n",
       "   mfcc_std_11  mfcc_std_12  mfcc_std_13  \n",
       "0     8.565537     6.207259     6.475474  \n",
       "1     8.925406     6.448639     8.688373  \n",
       "2     6.053109     5.661677     6.233405  \n",
       "\n",
       "[3 rows x 42 columns]"
      ]
     },
     "execution_count": 4,
     "metadata": {},
     "output_type": "execute_result"
    }
   ],
   "source": [
    "# Lectura\n",
    "dataset_urbansound8k_df = pd.read_csv(dataset_urbansound8k_vfinal_path_file, sep=\";\")\n",
    "\n",
    "dataset_urbansound8k_df.head(3)"
   ]
  },
  {
   "cell_type": "code",
   "execution_count": 5,
   "metadata": {},
   "outputs": [
    {
     "name": "stdout",
     "output_type": "stream",
     "text": [
      "Columnas del dataset:\n",
      "Index(['slice_file_name', 'fold', 'classID', 'mfcc_mean_1', 'mfcc_mean_2',\n",
      "       'mfcc_mean_3', 'mfcc_mean_4', 'mfcc_mean_5', 'mfcc_mean_6',\n",
      "       'mfcc_mean_7', 'mfcc_mean_8', 'mfcc_mean_9', 'mfcc_mean_10',\n",
      "       'mfcc_mean_11', 'mfcc_mean_12', 'mfcc_mean_13', 'mfcc_median_1',\n",
      "       'mfcc_median_2', 'mfcc_median_3', 'mfcc_median_4', 'mfcc_median_5',\n",
      "       'mfcc_median_6', 'mfcc_median_7', 'mfcc_median_8', 'mfcc_median_9',\n",
      "       'mfcc_median_10', 'mfcc_median_11', 'mfcc_median_12', 'mfcc_median_13',\n",
      "       'mfcc_std_1', 'mfcc_std_2', 'mfcc_std_3', 'mfcc_std_4', 'mfcc_std_5',\n",
      "       'mfcc_std_6', 'mfcc_std_7', 'mfcc_std_8', 'mfcc_std_9', 'mfcc_std_10',\n",
      "       'mfcc_std_11', 'mfcc_std_12', 'mfcc_std_13'],\n",
      "      dtype='object')\n",
      "---\n",
      "Cantidad de columnas: 42\n",
      "Cantidad de filas: 5702\n"
     ]
    }
   ],
   "source": [
    "print(\"Columnas del dataset:\")\n",
    "print(dataset_urbansound8k_df.columns)\n",
    "print(\"---\")\n",
    "\n",
    "print(f\"Cantidad de columnas: {dataset_urbansound8k_df.shape[1]}\")\n",
    "print(f\"Cantidad de filas: {dataset_urbansound8k_df.shape[0]}\")"
   ]
  },
  {
   "cell_type": "markdown",
   "metadata": {},
   "source": [
    "# Generación datos de entrenamiento y prueba"
   ]
  },
  {
   "cell_type": "code",
   "execution_count": 6,
   "metadata": {},
   "outputs": [],
   "source": [
    "# Separar las características y la variable objetivo\n",
    "# ['tasa_cruce_cero', 'entropia_espectograma', 'avg_centroide_espectral'\n",
    "columnas_caracteristicas = ['mfcc_mean_1', 'mfcc_mean_2',\n",
    "       'mfcc_mean_3', 'mfcc_mean_4', 'mfcc_mean_5', 'mfcc_mean_6',\n",
    "       'mfcc_mean_7', 'mfcc_mean_8', 'mfcc_mean_9', 'mfcc_mean_10',\n",
    "       'mfcc_mean_11', 'mfcc_mean_12', 'mfcc_mean_13', 'mfcc_median_1',\n",
    "       'mfcc_median_2', 'mfcc_median_3', 'mfcc_median_4', 'mfcc_median_5',\n",
    "       'mfcc_median_6', 'mfcc_median_7', 'mfcc_median_8', 'mfcc_median_9',\n",
    "       'mfcc_median_10', 'mfcc_median_11', 'mfcc_median_12', 'mfcc_median_13',\n",
    "       'mfcc_std_1', 'mfcc_std_2', 'mfcc_std_3', 'mfcc_std_4', 'mfcc_std_5',\n",
    "       'mfcc_std_6', 'mfcc_std_7', 'mfcc_std_8', 'mfcc_std_9', 'mfcc_std_10',\n",
    "       'mfcc_std_11', 'mfcc_std_12', 'mfcc_std_13']\n",
    "\n",
    "columna_predecir = 'classID'\n",
    "columna_fold = 'fold'\n",
    "\n",
    "# Separar las características y etiquetas\n",
    "X = dataset_urbansound8k_df[columnas_caracteristicas]  # Suponiendo que 'classID' es la etiqueta y 'fold' el número de fold\n",
    "y = dataset_urbansound8k_df[columna_predecir]\n",
    "folds = dataset_urbansound8k_df['fold']"
   ]
  },
  {
   "cell_type": "markdown",
   "metadata": {},
   "source": [
    "# Modelos de Clasificacion"
   ]
  },
  {
   "cell_type": "code",
   "execution_count": 7,
   "metadata": {},
   "outputs": [
    {
     "name": "stderr",
     "output_type": "stream",
     "text": [
      "2024/09/13 17:33:47 INFO mlflow.tracking.fluent: Experiment with name 'Clasificación sonidos urbanos GridSearchCV 2' does not exist. Creating a new experiment.\n"
     ]
    },
    {
     "data": {
      "text/plain": [
       "<Experiment: artifact_location='file:///c:/Users/colbe/Documents/VIU/TFM/tfm-clasificador-fuentes-sonoras-ciudad/notebooks/modelado/mlruns/314528442053815625', creation_time=1726266827465, experiment_id='314528442053815625', last_update_time=1726266827465, lifecycle_stage='active', name='Clasificación sonidos urbanos GridSearchCV 2', tags={}>"
      ]
     },
     "execution_count": 7,
     "metadata": {},
     "output_type": "execute_result"
    }
   ],
   "source": [
    "# Iniciar el experimento en MLflow\n",
    "mlflow.set_experiment(\"Clasificación sonidos urbanos GridSearchCV 2\")"
   ]
  },
  {
   "cell_type": "markdown",
   "metadata": {},
   "source": [
    "## KNeighborsClassifier"
   ]
  },
  {
   "cell_type": "code",
   "execution_count": 8,
   "metadata": {},
   "outputs": [
    {
     "name": "stdout",
     "output_type": "stream",
     "text": [
      "Mejores Parámetros: {'metric': 'euclidean', 'n_neighbors': 7, 'weights': 'distance'}\n",
      "Mejor Score: 0.6990157480314961\n",
      "Fold 1 Accuracy: 0.6383\n"
     ]
    },
    {
     "data": {
      "application/vnd.jupyter.widget-view+json": {
       "model_id": "bd863a8e62294e3987d9d5ea711122e9",
       "version_major": 2,
       "version_minor": 0
      },
      "text/plain": [
       "Downloading artifacts:   0%|          | 0/7 [00:00<?, ?it/s]"
      ]
     },
     "metadata": {},
     "output_type": "display_data"
    },
    {
     "name": "stdout",
     "output_type": "stream",
     "text": [
      "Mejores Parámetros: {'metric': 'euclidean', 'n_neighbors': 16, 'weights': 'distance'}\n",
      "Mejor Score: 0.6747372596426278\n",
      "Fold 2 Accuracy: 0.6953\n"
     ]
    },
    {
     "data": {
      "application/vnd.jupyter.widget-view+json": {
       "model_id": "f8c41f66cb1745ffbb032f46f0e802a6",
       "version_major": 2,
       "version_minor": 0
      },
      "text/plain": [
       "Downloading artifacts:   0%|          | 0/7 [00:00<?, ?it/s]"
      ]
     },
     "metadata": {},
     "output_type": "display_data"
    },
    {
     "name": "stdout",
     "output_type": "stream",
     "text": [
      "Mejores Parámetros: {'metric': 'euclidean', 'n_neighbors': 18, 'weights': 'distance'}\n",
      "Mejor Score: 0.6875882919520547\n",
      "Fold 3 Accuracy: 0.5271\n"
     ]
    },
    {
     "data": {
      "application/vnd.jupyter.widget-view+json": {
       "model_id": "fea0906ffe844a0e8d3df7607aad1259",
       "version_major": 2,
       "version_minor": 0
      },
      "text/plain": [
       "Downloading artifacts:   0%|          | 0/7 [00:00<?, ?it/s]"
      ]
     },
     "metadata": {},
     "output_type": "display_data"
    },
    {
     "name": "stdout",
     "output_type": "stream",
     "text": [
      "Mejores Parámetros: {'metric': 'euclidean', 'n_neighbors': 17, 'weights': 'distance'}\n",
      "Mejor Score: 0.6893577877677458\n",
      "Fold 4 Accuracy: 0.5842\n"
     ]
    },
    {
     "data": {
      "application/vnd.jupyter.widget-view+json": {
       "model_id": "ccf0337368ab497db8e2559f3ae8ea8b",
       "version_major": 2,
       "version_minor": 0
      },
      "text/plain": [
       "Downloading artifacts:   0%|          | 0/7 [00:00<?, ?it/s]"
      ]
     },
     "metadata": {},
     "output_type": "display_data"
    },
    {
     "name": "stdout",
     "output_type": "stream",
     "text": [
      "Mejores Parámetros: {'metric': 'euclidean', 'n_neighbors': 17, 'weights': 'distance'}\n",
      "Mejor Score: 0.6955658903720534\n",
      "Fold 5 Accuracy: 0.6425\n"
     ]
    },
    {
     "data": {
      "application/vnd.jupyter.widget-view+json": {
       "model_id": "54432d857dbb4f2f968e183c929eb1f2",
       "version_major": 2,
       "version_minor": 0
      },
      "text/plain": [
       "Downloading artifacts:   0%|          | 0/7 [00:00<?, ?it/s]"
      ]
     },
     "metadata": {},
     "output_type": "display_data"
    },
    {
     "name": "stdout",
     "output_type": "stream",
     "text": [
      "Mejores Parámetros: {'metric': 'euclidean', 'n_neighbors': 8, 'weights': 'distance'}\n",
      "Mejor Score: 0.6726177457391329\n",
      "Fold 6 Accuracy: 0.6291\n"
     ]
    },
    {
     "data": {
      "application/vnd.jupyter.widget-view+json": {
       "model_id": "120ae9dd7ba04735bc56a00d07d202f5",
       "version_major": 2,
       "version_minor": 0
      },
      "text/plain": [
       "Downloading artifacts:   0%|          | 0/7 [00:00<?, ?it/s]"
      ]
     },
     "metadata": {},
     "output_type": "display_data"
    },
    {
     "name": "stdout",
     "output_type": "stream",
     "text": [
      "Mejores Parámetros: {'metric': 'euclidean', 'n_neighbors': 16, 'weights': 'distance'}\n",
      "Mejor Score: 0.6980071394965012\n",
      "Fold 7 Accuracy: 0.6768\n"
     ]
    },
    {
     "data": {
      "application/vnd.jupyter.widget-view+json": {
       "model_id": "9f198578ccdc4e45ad9ea11cef60d432",
       "version_major": 2,
       "version_minor": 0
      },
      "text/plain": [
       "Downloading artifacts:   0%|          | 0/7 [00:00<?, ?it/s]"
      ]
     },
     "metadata": {},
     "output_type": "display_data"
    },
    {
     "name": "stdout",
     "output_type": "stream",
     "text": [
      "Mejores Parámetros: {'metric': 'euclidean', 'n_neighbors': 18, 'weights': 'distance'}\n",
      "Mejor Score: 0.6770873786407767\n",
      "Fold 8 Accuracy: 0.6522\n"
     ]
    },
    {
     "data": {
      "application/vnd.jupyter.widget-view+json": {
       "model_id": "a5764642b65e4cdca9bc1d150e9bba25",
       "version_major": 2,
       "version_minor": 0
      },
      "text/plain": [
       "Downloading artifacts:   0%|          | 0/7 [00:00<?, ?it/s]"
      ]
     },
     "metadata": {},
     "output_type": "display_data"
    },
    {
     "name": "stdout",
     "output_type": "stream",
     "text": [
      "Mejores Parámetros: {'metric': 'euclidean', 'n_neighbors': 18, 'weights': 'distance'}\n",
      "Mejor Score: 0.667298110935501\n",
      "Fold 9 Accuracy: 0.7509\n"
     ]
    },
    {
     "data": {
      "application/vnd.jupyter.widget-view+json": {
       "model_id": "7c16b6c684ca4a35996c914f5b2a6626",
       "version_major": 2,
       "version_minor": 0
      },
      "text/plain": [
       "Downloading artifacts:   0%|          | 0/7 [00:00<?, ?it/s]"
      ]
     },
     "metadata": {},
     "output_type": "display_data"
    },
    {
     "name": "stdout",
     "output_type": "stream",
     "text": [
      "Mejores Parámetros: {'metric': 'euclidean', 'n_neighbors': 18, 'weights': 'distance'}\n",
      "Mejor Score: 0.69376597568283\n",
      "Fold 10 Accuracy: 0.6056\n"
     ]
    },
    {
     "data": {
      "application/vnd.jupyter.widget-view+json": {
       "model_id": "003785ed40e84c32903956b20d3cf8e2",
       "version_major": 2,
       "version_minor": 0
      },
      "text/plain": [
       "Downloading artifacts:   0%|          | 0/7 [00:00<?, ?it/s]"
      ]
     },
     "metadata": {},
     "output_type": "display_data"
    },
    {
     "name": "stdout",
     "output_type": "stream",
     "text": [
      "\n",
      "Accuracy promedio: 0.6402\n",
      "Desviación estándar: 0.0583\n"
     ]
    },
    {
     "data": {
      "image/png": "[encoded data removed]",
      "text/plain": [
       "<Figure size 640x480 with 1 Axes>"
      ]
     },
     "metadata": {},
     "output_type": "display_data"
    }
   ],
   "source": [
    "# Escalar los datos (opcional)\n",
    "scaler = StandardScaler()\n",
    "X_scaled = scaler.fit_transform(X)\n",
    "\n",
    "# Definir el modelo KNN\n",
    "knn = KNeighborsClassifier()\n",
    "\n",
    "# Definir la rejilla de parámetros para GridSearchCV\n",
    "param_grid = {\n",
    "    'n_neighbors': [7,8,9,16,17,18],  # Número de vecinos a considerar\n",
    "    'weights': ['distance'],  # Función de peso a usar\n",
    "    'metric': ['euclidean', 'minkowski']  # Métrica de distancia\n",
    "}\n",
    "\n",
    "# Inicializar lista para almacenar accuracies\n",
    "fold_accuracies = []\n",
    "\n",
    "# Realizar la validación cruzada respetando los folds predefinidos\n",
    "for fold in range(1, 11):  # Hay 10 folds en UrbanSound8K\n",
    "    # Dividir el dataset en entrenamiento y prueba\n",
    "    train_index = folds != fold\n",
    "    test_index = folds == fold\n",
    "    \n",
    "    X_train, X_test = X_scaled[train_index], X_scaled[test_index]\n",
    "    y_train, y_test = y[train_index], y[test_index]    \n",
    "\n",
    "    with mlflow.start_run(run_name=f\"KNN GSCV Fold_{fold}\") as run:\n",
    "\n",
    "        # Configurar GridSearchCV\n",
    "        grid_search = GridSearchCV(\n",
    "            estimator=knn, \n",
    "            param_grid=param_grid, \n",
    "            cv=10,  # Validación cruzada interna con 10 pliegues\n",
    "            scoring='accuracy',  # Métrica para optimizar\n",
    "            n_jobs=-1  # Usar todos los núcleos disponibles\n",
    "        )\n",
    "\n",
    "        # Entrenar el modelo con la búsqueda de hiperparámetros\n",
    "        grid_search.fit(X_train, y_train)\n",
    "\n",
    "        # Obtener el mejor modelo\n",
    "        best_knn = grid_search.best_estimator_\n",
    "\n",
    "        # Obtener los mejores parámetros y el mejor score\n",
    "        best_params = grid_search.best_params_\n",
    "        best_score = grid_search.best_score_    \n",
    "        \n",
    "        # Predecir y evaluar\n",
    "        y_pred = best_knn.predict(X_test)\n",
    "        accuracy = accuracy_score(y_test, y_pred)\n",
    "        fold_accuracies.append(accuracy)\n",
    "        \n",
    "        print(f\"Mejores Parámetros: {best_params}\")\n",
    "        print(f\"Mejor Score: {best_score}\")        \n",
    "        print(f\"Fold {fold} Accuracy: {accuracy:.4f}\")\n",
    "    \n",
    "        # Registrar los parámetros y métricas en MLflow\n",
    "        mlflow.log_params(best_params)\n",
    "\n",
    "        #mlflow.log_metric(f\"best_cv_score_fold_{fold}\", best_score)\n",
    "        # Registrar la métrica de accuracy de este fold\n",
    "        mlflow.log_metric(f\"accuracy_score\", accuracy)\n",
    "\n",
    "        # Guardar el modelo en MLflow con un ejemplo de entrada\n",
    "        input_example = X_test[:1]  # Ejemplo de entrada, una sola muestra de prueba\n",
    "        mlflow.sklearn.log_model(best_knn, f\"knn_model_fold_{fold}\", input_example=input_example)\n",
    "\n",
    "        # Se finaliza el registro\n",
    "        mlflow.end_run()\n",
    "\n",
    "\n",
    "# Mostrar el promedio y desviación estándar\n",
    "mean_accuracy = np.mean(fold_accuracies)\n",
    "std_accuracy = np.std(fold_accuracies)\n",
    "\n",
    "print(f\"\\nAccuracy promedio: {mean_accuracy:.4f}\")\n",
    "print(f\"Desviación estándar: {std_accuracy:.4f}\")\n",
    "\n",
    "\n",
    "\n",
    "# Opcional: Visualizar los resultados con un boxplot\n",
    "plt.boxplot(fold_accuracies)\n",
    "plt.title('Distribución de Accuracy en 10-Fold Cross Validation con KNN y GridSearchCV')\n",
    "plt.ylabel('Accuracy')\n",
    "plt.show()\n"
   ]
  },
  {
   "cell_type": "code",
   "execution_count": 9,
   "metadata": {},
   "outputs": [],
   "source": [
    "mlflow.end_run()"
   ]
  },
  {
   "cell_type": "markdown",
   "metadata": {},
   "source": [
    "## Random Forest"
   ]
  },
  {
   "cell_type": "code",
   "execution_count": 10,
   "metadata": {},
   "outputs": [
    {
     "name": "stdout",
     "output_type": "stream",
     "text": [
      "Mejores Parámetros: {'bootstrap': False, 'max_depth': 20, 'max_features': 'log2', 'min_samples_leaf': 1, 'min_samples_split': 2, 'n_estimators': 450}\n",
      "Mejor Score: 0.7454724409448819\n",
      "Fold 1 Accuracy: 0.7267\n"
     ]
    },
    {
     "data": {
      "application/vnd.jupyter.widget-view+json": {
       "model_id": "f79849c611994ee39d88afeedbc5b8d7",
       "version_major": 2,
       "version_minor": 0
      },
      "text/plain": [
       "Downloading artifacts:   0%|          | 0/7 [00:00<?, ?it/s]"
      ]
     },
     "metadata": {},
     "output_type": "display_data"
    },
    {
     "name": "stdout",
     "output_type": "stream",
     "text": [
      "Mejores Parámetros: {'bootstrap': False, 'max_depth': 25, 'max_features': 'log2', 'min_samples_leaf': 1, 'min_samples_split': 3, 'n_estimators': 450}\n",
      "Mejor Score: 0.7297699369120925\n",
      "Fold 2 Accuracy: 0.7258\n"
     ]
    },
    {
     "data": {
      "application/vnd.jupyter.widget-view+json": {
       "model_id": "96070a37297c4299b1aa4dac4a39bb5e",
       "version_major": 2,
       "version_minor": 0
      },
      "text/plain": [
       "Downloading artifacts:   0%|          | 0/7 [00:00<?, ?it/s]"
      ]
     },
     "metadata": {},
     "output_type": "display_data"
    },
    {
     "name": "stdout",
     "output_type": "stream",
     "text": [
      "Mejores Parámetros: {'bootstrap': False, 'max_depth': 25, 'max_features': 'log2', 'min_samples_leaf': 1, 'min_samples_split': 2, 'n_estimators': 500}\n",
      "Mejor Score: 0.7251345401174168\n",
      "Fold 3 Accuracy: 0.5542\n"
     ]
    },
    {
     "data": {
      "application/vnd.jupyter.widget-view+json": {
       "model_id": "62e9628a22b94c14ba31ecced8049569",
       "version_major": 2,
       "version_minor": 0
      },
      "text/plain": [
       "Downloading artifacts:   0%|          | 0/7 [00:00<?, ?it/s]"
      ]
     },
     "metadata": {},
     "output_type": "display_data"
    },
    {
     "name": "stdout",
     "output_type": "stream",
     "text": [
      "Mejores Parámetros: {'bootstrap': False, 'max_depth': 25, 'max_features': 'log2', 'min_samples_leaf': 1, 'min_samples_split': 2, 'n_estimators': 450}\n",
      "Mejor Score: 0.7274553284726683\n",
      "Fold 4 Accuracy: 0.5412\n"
     ]
    },
    {
     "data": {
      "application/vnd.jupyter.widget-view+json": {
       "model_id": "95ddf0235af143de8675c3622c37e0e6",
       "version_major": 2,
       "version_minor": 0
      },
      "text/plain": [
       "Downloading artifacts:   0%|          | 0/7 [00:00<?, ?it/s]"
      ]
     },
     "metadata": {},
     "output_type": "display_data"
    },
    {
     "name": "stdout",
     "output_type": "stream",
     "text": [
      "Mejores Parámetros: {'bootstrap': False, 'max_depth': 25, 'max_features': 'log2', 'min_samples_leaf': 1, 'min_samples_split': 2, 'n_estimators': 500}\n",
      "Mejor Score: 0.7356598504212819\n",
      "Fold 5 Accuracy: 0.6833\n"
     ]
    },
    {
     "data": {
      "application/vnd.jupyter.widget-view+json": {
       "model_id": "83a9cf71a73c45939532de27919d80e3",
       "version_major": 2,
       "version_minor": 0
      },
      "text/plain": [
       "Downloading artifacts:   0%|          | 0/7 [00:00<?, ?it/s]"
      ]
     },
     "metadata": {},
     "output_type": "display_data"
    },
    {
     "name": "stdout",
     "output_type": "stream",
     "text": [
      "Mejores Parámetros: {'bootstrap': False, 'max_depth': 30, 'max_features': 'log2', 'min_samples_leaf': 1, 'min_samples_split': 2, 'n_estimators': 500}\n",
      "Mejor Score: 0.7156240468379197\n",
      "Fold 6 Accuracy: 0.6913\n"
     ]
    },
    {
     "data": {
      "application/vnd.jupyter.widget-view+json": {
       "model_id": "f068730c684f47469c93fe1c96bc5c14",
       "version_major": 2,
       "version_minor": 0
      },
      "text/plain": [
       "Downloading artifacts:   0%|          | 0/7 [00:00<?, ?it/s]"
      ]
     },
     "metadata": {},
     "output_type": "display_data"
    },
    {
     "name": "stdout",
     "output_type": "stream",
     "text": [
      "Mejores Parámetros: {'bootstrap': False, 'max_depth': 25, 'max_features': 'log2', 'min_samples_leaf': 1, 'min_samples_split': 2, 'n_estimators': 450}\n",
      "Mejor Score: 0.737833356982293\n",
      "Fold 7 Accuracy: 0.6939\n"
     ]
    },
    {
     "data": {
      "application/vnd.jupyter.widget-view+json": {
       "model_id": "e9da571af60e48f9a70fd2406d09e04f",
       "version_major": 2,
       "version_minor": 0
      },
      "text/plain": [
       "Downloading artifacts:   0%|          | 0/7 [00:00<?, ?it/s]"
      ]
     },
     "metadata": {},
     "output_type": "display_data"
    },
    {
     "name": "stdout",
     "output_type": "stream",
     "text": [
      "Mejores Parámetros: {'bootstrap': False, 'max_depth': 20, 'max_features': 'log2', 'min_samples_leaf': 1, 'min_samples_split': 3, 'n_estimators': 500}\n",
      "Mejor Score: 0.7165048543689321\n",
      "Fold 8 Accuracy: 0.6304\n"
     ]
    },
    {
     "data": {
      "application/vnd.jupyter.widget-view+json": {
       "model_id": "69a20fe1f1c34d648bf45f2f5a889fba",
       "version_major": 2,
       "version_minor": 0
      },
      "text/plain": [
       "Downloading artifacts:   0%|          | 0/7 [00:00<?, ?it/s]"
      ]
     },
     "metadata": {},
     "output_type": "display_data"
    },
    {
     "name": "stdout",
     "output_type": "stream",
     "text": [
      "Mejores Parámetros: {'bootstrap': False, 'max_depth': 20, 'max_features': 'log2', 'min_samples_leaf': 2, 'min_samples_split': 2, 'n_estimators': 550}\n",
      "Mejor Score: 0.7041751335892226\n",
      "Fold 9 Accuracy: 0.8055\n"
     ]
    },
    {
     "data": {
      "application/vnd.jupyter.widget-view+json": {
       "model_id": "ac52b5298c544d3492297c13fcd1e1f2",
       "version_major": 2,
       "version_minor": 0
      },
      "text/plain": [
       "Downloading artifacts:   0%|          | 0/7 [00:00<?, ?it/s]"
      ]
     },
     "metadata": {},
     "output_type": "display_data"
    },
    {
     "name": "stdout",
     "output_type": "stream",
     "text": [
      "Mejores Parámetros: {'bootstrap': False, 'max_depth': 25, 'max_features': 'log2', 'min_samples_leaf': 1, 'min_samples_split': 3, 'n_estimators': 450}\n",
      "Mejor Score: 0.7426900584795322\n",
      "Fold 10 Accuracy: 0.7201\n"
     ]
    },
    {
     "data": {
      "application/vnd.jupyter.widget-view+json": {
       "model_id": "544e0c3bb9264b8cbf9fdfe3520b10d0",
       "version_major": 2,
       "version_minor": 0
      },
      "text/plain": [
       "Downloading artifacts:   0%|          | 0/7 [00:00<?, ?it/s]"
      ]
     },
     "metadata": {},
     "output_type": "display_data"
    },
    {
     "name": "stdout",
     "output_type": "stream",
     "text": [
      "\n",
      "Accuracy promedio: 0.6772\n",
      "Desviación estándar: 0.0771\n"
     ]
    },
    {
     "data": {
      "image/png": "[encoded data removed]",
      "text/plain": [
       "<Figure size 640x480 with 1 Axes>"
      ]
     },
     "metadata": {},
     "output_type": "display_data"
    }
   ],
   "source": [
    "# Escalar los datos (opcional)\n",
    "scaler = StandardScaler()\n",
    "X_scaled = scaler.fit_transform(X)\n",
    "\n",
    "# Definir el modelo Random Forest\n",
    "rf = RandomForestClassifier(random_state=42)\n",
    "\n",
    "# Definir la rejilla de parámetros para GridSearchCV\n",
    "param_grid = {\n",
    "    'n_estimators': [450, 500, 550],  # Número de árboles en el bosque\n",
    "    'max_depth': [20, 25, 30],  # Máxima profundidad de cada árbol\n",
    "    'min_samples_split': [2, 3],  # Mínimo número de muestras requeridas para dividir un nodo\n",
    "    'min_samples_leaf': [1, 2],  # Mínimo número de muestras requeridas en una hoja\n",
    "    'max_features': ['log2'],  # Número de características a considerar al buscar la mejor división\n",
    "    'bootstrap': [True, False]  # Método para seleccionar muestras para construir cada árbol\n",
    "}\n",
    "\n",
    "# Inicializar lista para almacenar accuracies\n",
    "fold_accuracies = []\n",
    "\n",
    "# Realizar la validación cruzada respetando los folds predefinidos\n",
    "for fold in range(1, 11):  # Hay 10 folds en UrbanSound8K\n",
    "    # Dividir el dataset en entrenamiento y prueba\n",
    "    train_index = folds != fold\n",
    "    test_index = folds == fold\n",
    "    \n",
    "    X_train, X_test = X_scaled[train_index], X_scaled[test_index]\n",
    "    y_train, y_test = y[train_index], y[test_index]\n",
    "\n",
    "    with mlflow.start_run(run_name=f\"RandomForest GSCV Fold_{fold}\") as run:\n",
    "\n",
    "        # Configurar GridSearchCV\n",
    "        grid_search = GridSearchCV(\n",
    "            estimator=rf, \n",
    "            param_grid=param_grid, \n",
    "            cv=10,  # Validación cruzada interna con 10 pliegues\n",
    "            scoring='accuracy',  # Métrica para optimizar\n",
    "            n_jobs=-1  # Usar todos los núcleos disponibles\n",
    "        )\n",
    "\n",
    "        # Entrenar el modelo con la búsqueda de hiperparámetros\n",
    "        grid_search.fit(X_train, y_train)\n",
    "\n",
    "        # Obtener el mejor modelo\n",
    "        best_rf = grid_search.best_estimator_\n",
    "\n",
    "        # Obtener los mejores parámetros y el mejor score\n",
    "        best_params = grid_search.best_params_\n",
    "        best_score = grid_search.best_score_\n",
    "        \n",
    "        # Predecir y evaluar\n",
    "        y_pred = best_rf.predict(X_test)\n",
    "        accuracy = accuracy_score(y_test, y_pred)\n",
    "        fold_accuracies.append(accuracy)\n",
    "\n",
    "        print(f\"Mejores Parámetros: {best_params}\")\n",
    "        print(f\"Mejor Score: {best_score}\")\n",
    "        \n",
    "        print(f\"Fold {fold} Accuracy: {accuracy:.4f}\")\n",
    "    \n",
    "        # Registrar los parámetros y métricas en MLflow\n",
    "        mlflow.log_params(best_params)\n",
    "\n",
    "        #mlflow.log_metric(f\"best_cv_score_fold_{fold}\", best_score)\n",
    "        # Registrar la métrica de accuracy de este fold\n",
    "        mlflow.log_metric(f\"accuracy_score\", accuracy)\n",
    "\n",
    "        # Guardar el modelo en MLflow con un ejemplo de entrada\n",
    "        input_example = X_test[:1]  # Ejemplo de entrada, una sola muestra de prueba\n",
    "        mlflow.sklearn.log_model(best_rf, f\"rf_model_fold_{fold}\", input_example=input_example)\n",
    "\n",
    "        # Se finaliza el registro\n",
    "        mlflow.end_run()\n",
    "\n",
    "\n",
    "# Mostrar el promedio y desviación estándar\n",
    "mean_accuracy = np.mean(fold_accuracies)\n",
    "std_accuracy = np.std(fold_accuracies)\n",
    "\n",
    "print(f\"\\nAccuracy promedio: {mean_accuracy:.4f}\")\n",
    "print(f\"Desviación estándar: {std_accuracy:.4f}\")\n",
    "\n",
    "# Opcional: Visualizar los resultados con un boxplot\n",
    "plt.boxplot(fold_accuracies)\n",
    "plt.title('Distribución de Accuracy en 10-Fold Cross Validation con Random Forest y GridSearchCV ')\n",
    "plt.ylabel('Accuracy')\n",
    "plt.show()\n"
   ]
  },
  {
   "cell_type": "markdown",
   "metadata": {},
   "source": [
    "## SVM"
   ]
  },
  {
   "cell_type": "code",
   "execution_count": 14,
   "metadata": {},
   "outputs": [
    {
     "name": "stdout",
     "output_type": "stream",
     "text": [
      "Mejores Parámetros: {'C': 1, 'coef0': 0.5555555555555556, 'degree': 2, 'gamma': 'scale', 'kernel': 'rbf'}\n",
      "Mejor Score: 0.7777559055118111\n",
      "Fold 1 Accuracy: 0.7315\n"
     ]
    },
    {
     "data": {
      "application/vnd.jupyter.widget-view+json": {
       "model_id": "d95984c104994fe499a63f3d092c3f33",
       "version_major": 2,
       "version_minor": 0
      },
      "text/plain": [
       "Downloading artifacts:   0%|          | 0/7 [00:00<?, ?it/s]"
      ]
     },
     "metadata": {},
     "output_type": "display_data"
    },
    {
     "name": "stdout",
     "output_type": "stream",
     "text": [
      "Mejores Parámetros: {'C': 1, 'coef0': 0.5555555555555556, 'degree': 2, 'gamma': 'scale', 'kernel': 'rbf'}\n",
      "Mejor Score: 0.759878357447773\n",
      "Fold 2 Accuracy: 0.7724\n"
     ]
    },
    {
     "data": {
      "application/vnd.jupyter.widget-view+json": {
       "model_id": "55f09ff844364e789254269fd71e970a",
       "version_major": 2,
       "version_minor": 0
      },
      "text/plain": [
       "Downloading artifacts:   0%|          | 0/7 [00:00<?, ?it/s]"
      ]
     },
     "metadata": {},
     "output_type": "display_data"
    },
    {
     "name": "stdout",
     "output_type": "stream",
     "text": [
      "Mejores Parámetros: {'C': 1, 'coef0': 0.5555555555555556, 'degree': 2, 'gamma': 'scale', 'kernel': 'rbf'}\n",
      "Mejor Score: 0.7537105552837573\n",
      "Fold 3 Accuracy: 0.6559\n"
     ]
    },
    {
     "data": {
      "application/vnd.jupyter.widget-view+json": {
       "model_id": "bf764c3bc607417c99fabe1013837e6f",
       "version_major": 2,
       "version_minor": 0
      },
      "text/plain": [
       "Downloading artifacts:   0%|          | 0/7 [00:00<?, ?it/s]"
      ]
     },
     "metadata": {},
     "output_type": "display_data"
    },
    {
     "name": "stdout",
     "output_type": "stream",
     "text": [
      "Mejores Parámetros: {'C': 1, 'coef0': 0.5555555555555556, 'degree': 2, 'gamma': 'scale', 'kernel': 'rbf'}\n",
      "Mejor Score: 0.7414487552415852\n",
      "Fold 4 Accuracy: 0.6237\n"
     ]
    },
    {
     "data": {
      "application/vnd.jupyter.widget-view+json": {
       "model_id": "5a8cfa0b996e42a7b1758fc34dadfaf2",
       "version_major": 2,
       "version_minor": 0
      },
      "text/plain": [
       "Downloading artifacts:   0%|          | 0/7 [00:00<?, ?it/s]"
      ]
     },
     "metadata": {},
     "output_type": "display_data"
    },
    {
     "name": "stdout",
     "output_type": "stream",
     "text": [
      "Mejores Parámetros: {'C': 1, 'coef0': 0.5555555555555556, 'degree': 2, 'gamma': 'scale', 'kernel': 'rbf'}\n",
      "Mejor Score: 0.7670118179810028\n",
      "Fold 5 Accuracy: 0.7149\n"
     ]
    },
    {
     "data": {
      "application/vnd.jupyter.widget-view+json": {
       "model_id": "7f1323234109481dbf2dfd4b107c07c4",
       "version_major": 2,
       "version_minor": 0
      },
      "text/plain": [
       "Downloading artifacts:   0%|          | 0/7 [00:00<?, ?it/s]"
      ]
     },
     "metadata": {},
     "output_type": "display_data"
    },
    {
     "name": "stdout",
     "output_type": "stream",
     "text": [
      "Mejores Parámetros: {'C': 1, 'coef0': 0.5555555555555556, 'degree': 2, 'gamma': 'scale', 'kernel': 'rbf'}\n",
      "Mejor Score: 0.7418405606266878\n",
      "Fold 6 Accuracy: 0.7515\n"
     ]
    },
    {
     "data": {
      "application/vnd.jupyter.widget-view+json": {
       "model_id": "5d718780a0b2492fbcc00f029508bf08",
       "version_major": 2,
       "version_minor": 0
      },
      "text/plain": [
       "Downloading artifacts:   0%|          | 0/7 [00:00<?, ?it/s]"
      ]
     },
     "metadata": {},
     "output_type": "display_data"
    },
    {
     "name": "stdout",
     "output_type": "stream",
     "text": [
      "Mejores Parámetros: {'C': 1, 'coef0': 0.5555555555555556, 'degree': 2, 'gamma': 'scale', 'kernel': 'rbf'}\n",
      "Mejor Score: 0.7583030253243018\n",
      "Fold 7 Accuracy: 0.8004\n"
     ]
    },
    {
     "data": {
      "application/vnd.jupyter.widget-view+json": {
       "model_id": "af69cab55fa2488c99752994083a1cd9",
       "version_major": 2,
       "version_minor": 0
      },
      "text/plain": [
       "Downloading artifacts:   0%|          | 0/7 [00:00<?, ?it/s]"
      ]
     },
     "metadata": {},
     "output_type": "display_data"
    },
    {
     "name": "stdout",
     "output_type": "stream",
     "text": [
      "Mejores Parámetros: {'C': 1, 'coef0': 0.5555555555555556, 'degree': 2, 'gamma': 'scale', 'kernel': 'rbf'}\n",
      "Mejor Score: 0.7549514563106797\n",
      "Fold 8 Accuracy: 0.6594\n"
     ]
    },
    {
     "data": {
      "application/vnd.jupyter.widget-view+json": {
       "model_id": "92c68fae477847af94950d31545cfd21",
       "version_major": 2,
       "version_minor": 0
      },
      "text/plain": [
       "Downloading artifacts:   0%|          | 0/7 [00:00<?, ?it/s]"
      ]
     },
     "metadata": {},
     "output_type": "display_data"
    },
    {
     "name": "stdout",
     "output_type": "stream",
     "text": [
      "Mejores Parámetros: {'C': 1, 'coef0': 0.5555555555555556, 'degree': 2, 'gamma': 'scale', 'kernel': 'rbf'}\n",
      "Mejor Score: 0.7369981937231881\n",
      "Fold 9 Accuracy: 0.8073\n"
     ]
    },
    {
     "data": {
      "application/vnd.jupyter.widget-view+json": {
       "model_id": "b888dac06c1a4269a2afa1eaeb83db12",
       "version_major": 2,
       "version_minor": 0
      },
      "text/plain": [
       "Downloading artifacts:   0%|          | 0/7 [00:00<?, ?it/s]"
      ]
     },
     "metadata": {},
     "output_type": "display_data"
    },
    {
     "name": "stdout",
     "output_type": "stream",
     "text": [
      "Mejores Parámetros: {'C': 1, 'coef0': 0.5555555555555556, 'degree': 2, 'gamma': 'scale', 'kernel': 'rbf'}\n",
      "Mejor Score: 0.7537750017066012\n",
      "Fold 10 Accuracy: 0.7975\n"
     ]
    },
    {
     "data": {
      "application/vnd.jupyter.widget-view+json": {
       "model_id": "6883c1f4b4f54e76a554067a3d495db1",
       "version_major": 2,
       "version_minor": 0
      },
      "text/plain": [
       "Downloading artifacts:   0%|          | 0/7 [00:00<?, ?it/s]"
      ]
     },
     "metadata": {},
     "output_type": "display_data"
    },
    {
     "name": "stdout",
     "output_type": "stream",
     "text": [
      "\n",
      "Accuracy promedio: 0.7314\n",
      "Desviación estándar: 0.0630\n"
     ]
    },
    {
     "data": {
      "image/png": "[encoded data removed]",
      "text/plain": [
       "<Figure size 640x480 with 1 Axes>"
      ]
     },
     "metadata": {},
     "output_type": "display_data"
    }
   ],
   "source": [
    "# Escalar los datos (opcional)\n",
    "scaler = StandardScaler()\n",
    "X_scaled = scaler.fit_transform(X)\n",
    "\n",
    "# Definir el modelo SVM\n",
    "svm = SVC()\n",
    "\n",
    "# Definir la rejilla de parámetros para RandomizedSearchCV\n",
    "param_grid  = {\n",
    "    'C': [1],  # Parámetro de regularización\n",
    "    'kernel': ['rbf'],  # Tipo de kernel\n",
    "    'gamma': ['scale'],  # Coeficiente del kernel 'rbf', 'poly' o 'sigmoid'\n",
    "    'degree': [2,3,4],  # Grado del polinomio si se usa kernel 'poly'\n",
    "    'coef0': [0.5555555555555556]  # Término independiente en el kernel 'poly' y 'sigmoid'\n",
    "}\n",
    "\n",
    "# Inicializar lista para almacenar accuracies\n",
    "fold_accuracies = []\n",
    "\n",
    "# Realizar la validación cruzada respetando los folds predefinidos\n",
    "for fold in range(1, 11):  # Hay 10 folds en UrbanSound8K\n",
    "    # Dividir el dataset en entrenamiento y prueba\n",
    "    train_index = folds != fold\n",
    "    test_index = folds == fold\n",
    "    \n",
    "    X_train, X_test = X_scaled[train_index], X_scaled[test_index]\n",
    "    y_train, y_test = y[train_index], y[test_index]\n",
    "\n",
    "    with mlflow.start_run(run_name=f\"SVM GSCV Fold_{fold}\") as run:\n",
    "\n",
    "        # Configurar GridSearchCV\n",
    "        grid_search = GridSearchCV(\n",
    "            estimator=svm, \n",
    "            param_grid=param_grid, \n",
    "            cv=10,  # Validación cruzada interna con 10 pliegues\n",
    "            scoring='accuracy',  # Métrica para optimizar\n",
    "            n_jobs=-1  # Usar todos los núcleos disponibles\n",
    "        )\n",
    "\n",
    "        # Entrenar el modelo con la búsqueda de hiperparámetros\n",
    "        grid_search.fit(X_train, y_train)\n",
    "\n",
    "        # Obtener el mejor modelo\n",
    "        best_svm = grid_search.best_estimator_\n",
    "\n",
    "        # Obtener los mejores parámetros y el mejor score\n",
    "        best_params = grid_search.best_params_\n",
    "        best_score = grid_search.best_score_\n",
    "        \n",
    "        # Predecir y evaluar\n",
    "        y_pred = best_svm.predict(X_test)\n",
    "        accuracy = accuracy_score(y_test, y_pred)\n",
    "        fold_accuracies.append(accuracy)\n",
    "\n",
    "        print(f\"Mejores Parámetros: {best_params}\")\n",
    "        print(f\"Mejor Score: {best_score}\")\n",
    "        \n",
    "        print(f\"Fold {fold} Accuracy: {accuracy:.4f}\")\n",
    "        \n",
    "        # Registrar los parámetros y métricas en MLflow\n",
    "        mlflow.log_params(best_params)\n",
    "\n",
    "        #mlflow.log_metric(f\"best_cv_score_fold_{fold}\", best_score)\n",
    "        # Registrar la métrica de accuracy de este fold\n",
    "        mlflow.log_metric(f\"accuracy_score\", accuracy)\n",
    "\n",
    "        # Guardar el modelo en MLflow con un ejemplo de entrada\n",
    "        input_example = X_test[:1]  # Ejemplo de entrada, una sola muestra de prueba\n",
    "        mlflow.sklearn.log_model(best_svm, f\"svm_model_fold_{fold}\", input_example=input_example)\n",
    "\n",
    "        # Se finaliza el registro\n",
    "        mlflow.end_run()\n",
    "\n",
    "\n",
    "# Mostrar el promedio y desviación estándar\n",
    "mean_accuracy = np.mean(fold_accuracies)\n",
    "std_accuracy = np.std(fold_accuracies)\n",
    "\n",
    "print(f\"\\nAccuracy promedio: {mean_accuracy:.4f}\")\n",
    "print(f\"Desviación estándar: {std_accuracy:.4f}\")\n",
    "\n",
    "# Opcional: Visualizar los resultados con un boxplot\n",
    "plt.boxplot(fold_accuracies)\n",
    "plt.title('Distribución de Accuracy en 10-Fold Cross Validation con SVM y GridSearchCV')\n",
    "plt.ylabel('Accuracy')\n",
    "plt.show()\n"
   ]
  }
 ],
 "metadata": {
  "kernelspec": {
   "display_name": "huemul",
   "language": "python",
   "name": "python3"
  },
  "language_info": {
   "codemirror_mode": {
    "name": "ipython",
    "version": 3
   },
   "file_extension": ".py",
   "mimetype": "text/x-python",
   "name": "python",
   "nbconvert_exporter": "python",
   "pygments_lexer": "ipython3",
   "version": "3.10.5"
  }
 },
 "nbformat": 4,
 "nbformat_minor": 2
}
