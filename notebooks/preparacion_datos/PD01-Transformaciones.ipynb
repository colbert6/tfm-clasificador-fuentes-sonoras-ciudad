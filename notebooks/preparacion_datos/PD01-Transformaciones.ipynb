{
 "cells": [
  {
   "cell_type": "markdown",
   "metadata": {},
   "source": [
    "### Importación de librerías"
   ]
  },
  {
   "cell_type": "code",
   "execution_count": 47,
   "metadata": {},
   "outputs": [],
   "source": [
    "#Se importan las librerias a utilizar\n",
    "\n",
    "import numpy as np\n",
    "import pandas as pd\n",
    "import os\n",
    "\n",
    "import librosa\n",
    "import librosa.display"
   ]
  },
  {
   "cell_type": "markdown",
   "metadata": {},
   "source": [
    "----\n",
    "\n",
    "### Lectura de los datasets"
   ]
  },
  {
   "cell_type": "code",
   "execution_count": 48,
   "metadata": {},
   "outputs": [],
   "source": [
    "urbansound8k_path = \"../../data/raw/UrbanSound8K/\"\n",
    "\n",
    "# Primer dataset - Carpeta con los audios\n",
    "urbansound8k_audio_path = \"audio/\"\n",
    "\n",
    "# Segundo dataset - Archivo CSV con metadatos sobre los audios \n",
    "urbansound8k_metadata_path_file = \"metadata/UrbanSound8K.csv\"\n",
    "\n",
    "# Dataset CSV con metadatos generados a partir de los audios \n",
    "dataset_urbansound8k_path_file = \"../../data/processed/cd02_nuevos_metadatos_v2.csv\""
   ]
  },
  {
   "cell_type": "code",
   "execution_count": 49,
   "metadata": {},
   "outputs": [
    {
     "data": {
      "text/html": [
       "<div>\n",
       "<style scoped>\n",
       "    .dataframe tbody tr th:only-of-type {\n",
       "        vertical-align: middle;\n",
       "    }\n",
       "\n",
       "    .dataframe tbody tr th {\n",
       "        vertical-align: top;\n",
       "    }\n",
       "\n",
       "    .dataframe thead th {\n",
       "        text-align: right;\n",
       "    }\n",
       "</style>\n",
       "<table border=\"1\" class=\"dataframe\">\n",
       "  <thead>\n",
       "    <tr style=\"text-align: right;\">\n",
       "      <th></th>\n",
       "      <th>slice_file_name</th>\n",
       "      <th>fsID</th>\n",
       "      <th>start</th>\n",
       "      <th>end</th>\n",
       "      <th>salience</th>\n",
       "      <th>fold</th>\n",
       "      <th>classID</th>\n",
       "      <th>class</th>\n",
       "    </tr>\n",
       "  </thead>\n",
       "  <tbody>\n",
       "    <tr>\n",
       "      <th>0</th>\n",
       "      <td>100032-3-0-0.wav</td>\n",
       "      <td>100032</td>\n",
       "      <td>0.0</td>\n",
       "      <td>0.317551</td>\n",
       "      <td>1</td>\n",
       "      <td>5</td>\n",
       "      <td>3</td>\n",
       "      <td>dog_bark</td>\n",
       "    </tr>\n",
       "    <tr>\n",
       "      <th>1</th>\n",
       "      <td>100263-2-0-117.wav</td>\n",
       "      <td>100263</td>\n",
       "      <td>58.5</td>\n",
       "      <td>62.500000</td>\n",
       "      <td>1</td>\n",
       "      <td>5</td>\n",
       "      <td>2</td>\n",
       "      <td>children_playing</td>\n",
       "    </tr>\n",
       "  </tbody>\n",
       "</table>\n",
       "</div>"
      ],
      "text/plain": [
       "      slice_file_name    fsID  start        end  salience  fold  classID  \\\n",
       "0    100032-3-0-0.wav  100032    0.0   0.317551         1     5        3   \n",
       "1  100263-2-0-117.wav  100263   58.5  62.500000         1     5        2   \n",
       "\n",
       "              class  \n",
       "0          dog_bark  \n",
       "1  children_playing  "
      ]
     },
     "execution_count": 49,
     "metadata": {},
     "output_type": "execute_result"
    }
   ],
   "source": [
    "dataset_urbansound8k_df = pd.read_csv(urbansound8k_path + urbansound8k_metadata_path_file, sep=\",\")\n",
    "dataset_urbansound8k_df.head(2)"
   ]
  },
  {
   "cell_type": "markdown",
   "metadata": {},
   "source": [
    "---\n",
    "### Aplicación de transformaciones\n",
    "\n",
    "**Operaciones a realizar**\n",
    "\n",
    "1. Selección de columnas\n",
    "2. Filtrado de filas\n",
    "3. Construcción de atributos \n",
    "4. Formateo definitivo\n"
   ]
  },
  {
   "cell_type": "markdown",
   "metadata": {},
   "source": [
    "----\n",
    "\n",
    "#### Eliminación de columnas "
   ]
  },
  {
   "cell_type": "code",
   "execution_count": 50,
   "metadata": {},
   "outputs": [],
   "source": [
    "# Se establece qué columnas se eliminan\n",
    "columnas_eliminar_lista = ['fsID', 'start', 'end', 'class']\n",
    "\n",
    "# Se ejecuta la operación\n",
    "dataset_urbansound8k_df.drop(columnas_eliminar_lista, inplace=True, axis=1) "
   ]
  },
  {
   "cell_type": "code",
   "execution_count": 51,
   "metadata": {},
   "outputs": [
    {
     "name": "stdout",
     "output_type": "stream",
     "text": [
      "Vista del dataset de datos:\n"
     ]
    },
    {
     "data": {
      "text/html": [
       "<div>\n",
       "<style scoped>\n",
       "    .dataframe tbody tr th:only-of-type {\n",
       "        vertical-align: middle;\n",
       "    }\n",
       "\n",
       "    .dataframe tbody tr th {\n",
       "        vertical-align: top;\n",
       "    }\n",
       "\n",
       "    .dataframe thead th {\n",
       "        text-align: right;\n",
       "    }\n",
       "</style>\n",
       "<table border=\"1\" class=\"dataframe\">\n",
       "  <thead>\n",
       "    <tr style=\"text-align: right;\">\n",
       "      <th></th>\n",
       "      <th>slice_file_name</th>\n",
       "      <th>salience</th>\n",
       "      <th>fold</th>\n",
       "      <th>classID</th>\n",
       "    </tr>\n",
       "  </thead>\n",
       "  <tbody>\n",
       "    <tr>\n",
       "      <th>0</th>\n",
       "      <td>100032-3-0-0.wav</td>\n",
       "      <td>1</td>\n",
       "      <td>5</td>\n",
       "      <td>3</td>\n",
       "    </tr>\n",
       "  </tbody>\n",
       "</table>\n",
       "</div>"
      ],
      "text/plain": [
       "    slice_file_name  salience  fold  classID\n",
       "0  100032-3-0-0.wav         1     5        3"
      ]
     },
     "metadata": {},
     "output_type": "display_data"
    }
   ],
   "source": [
    "print(\"Vista del dataset de datos:\")\n",
    "display(dataset_urbansound8k_df.head(1))"
   ]
  },
  {
   "cell_type": "code",
   "execution_count": 52,
   "metadata": {},
   "outputs": [
    {
     "name": "stdout",
     "output_type": "stream",
     "text": [
      "Columnas del dataset:\n",
      "Index(['slice_file_name', 'salience', 'fold', 'classID'], dtype='object')\n",
      "---\n",
      "Cantidad de columnas: 4\n",
      "Cantidad de filas: 8732\n"
     ]
    }
   ],
   "source": [
    "print(\"Columnas del dataset:\")\n",
    "print(dataset_urbansound8k_df.columns)\n",
    "print(\"---\")\n",
    "\n",
    "print(f\"Cantidad de columnas: {dataset_urbansound8k_df.shape[1]}\")\n",
    "print(f\"Cantidad de filas: {dataset_urbansound8k_df.shape[0]}\")"
   ]
  },
  {
   "cell_type": "markdown",
   "metadata": {},
   "source": [
    "#### Construcción de atributos MFCC13"
   ]
  },
  {
   "cell_type": "code",
   "execution_count": 53,
   "metadata": {},
   "outputs": [],
   "source": [
    "def extract_mfcc(file_path, n_mfcc=13):\n",
    "    signal, sr = librosa.load(file_path, sr=44100, mono=True)  # Cargar el archivo de audio\n",
    "    mfccs = librosa.feature.mfcc(y=signal, sr=sr, n_mfcc=n_mfcc)  # Extraer MFCC\n",
    "\n",
    "    # Calcular estadísticas de los MFCC\n",
    "    mfcc_mean = np.mean(mfccs, axis=1)  # Promedio de MFCCs\n",
    "    mfcc_median = np.median(mfccs, axis=1)  # Mediana de MFCCs\n",
    "    mfcc_std = np.std(mfccs, axis=1)  # Desviación estándar de MFCCs\n",
    "\n",
    "    # Combinar todas las características en un solo vector\n",
    "    features = np.hstack([mfcc_mean, mfcc_median, mfcc_std])\n",
    "\n",
    "    return features"
   ]
  },
  {
   "cell_type": "code",
   "execution_count": 54,
   "metadata": {},
   "outputs": [],
   "source": [
    "\n",
    "# Crear columnas para cada una de las características\n",
    "mfcc_columns = [f'mfcc_mean_{i+1}' for i in range(13)] + \\\n",
    "               [f'mfcc_median_{i+1}' for i in range(13)] + \\\n",
    "               [f'mfcc_std_{i+1}' for i in range(13)] \n",
    "\n",
    "mfcc_features = []\n",
    "# Extraer MFCCs para todos los archivos\n",
    "for index, row in dataset_urbansound8k_df.iterrows():\n",
    "    path_total_file = f\"{urbansound8k_path}/audio/fold{row['fold']}/{row['slice_file_name']}\"\n",
    "    mfcc = extract_mfcc(path_total_file)\n",
    "    mfcc_features.append(mfcc)\n",
    "\n",
    "# Convertir la lista de MFCCs en un DataFrame y unirlo al DataFrame original\n",
    "mfcc_df = pd.DataFrame(mfcc_features, columns=mfcc_columns)\n",
    "dataset_urbansound8k_mfcc13_df = pd.concat([dataset_urbansound8k_df, mfcc_df], axis=1)"
   ]
  },
  {
   "cell_type": "code",
   "execution_count": 55,
   "metadata": {},
   "outputs": [
    {
     "data": {
      "text/html": [
       "<div>\n",
       "<style scoped>\n",
       "    .dataframe tbody tr th:only-of-type {\n",
       "        vertical-align: middle;\n",
       "    }\n",
       "\n",
       "    .dataframe tbody tr th {\n",
       "        vertical-align: top;\n",
       "    }\n",
       "\n",
       "    .dataframe thead th {\n",
       "        text-align: right;\n",
       "    }\n",
       "</style>\n",
       "<table border=\"1\" class=\"dataframe\">\n",
       "  <thead>\n",
       "    <tr style=\"text-align: right;\">\n",
       "      <th></th>\n",
       "      <th>slice_file_name</th>\n",
       "      <th>salience</th>\n",
       "      <th>fold</th>\n",
       "      <th>classID</th>\n",
       "      <th>mfcc_mean_1</th>\n",
       "      <th>mfcc_mean_2</th>\n",
       "      <th>mfcc_mean_3</th>\n",
       "      <th>mfcc_mean_4</th>\n",
       "      <th>mfcc_mean_5</th>\n",
       "      <th>mfcc_mean_6</th>\n",
       "      <th>...</th>\n",
       "      <th>mfcc_std_4</th>\n",
       "      <th>mfcc_std_5</th>\n",
       "      <th>mfcc_std_6</th>\n",
       "      <th>mfcc_std_7</th>\n",
       "      <th>mfcc_std_8</th>\n",
       "      <th>mfcc_std_9</th>\n",
       "      <th>mfcc_std_10</th>\n",
       "      <th>mfcc_std_11</th>\n",
       "      <th>mfcc_std_12</th>\n",
       "      <th>mfcc_std_13</th>\n",
       "    </tr>\n",
       "  </thead>\n",
       "  <tbody>\n",
       "    <tr>\n",
       "      <th>8729</th>\n",
       "      <td>99812-1-4-0.wav</td>\n",
       "      <td>2</td>\n",
       "      <td>7</td>\n",
       "      <td>1</td>\n",
       "      <td>-362.703217</td>\n",
       "      <td>165.081787</td>\n",
       "      <td>-60.780693</td>\n",
       "      <td>30.996469</td>\n",
       "      <td>-9.655406</td>\n",
       "      <td>23.180807</td>\n",
       "      <td>...</td>\n",
       "      <td>17.499111</td>\n",
       "      <td>8.910819</td>\n",
       "      <td>8.859054</td>\n",
       "      <td>10.998036</td>\n",
       "      <td>8.000258</td>\n",
       "      <td>6.817478</td>\n",
       "      <td>4.655785</td>\n",
       "      <td>8.149473</td>\n",
       "      <td>5.556407</td>\n",
       "      <td>5.076985</td>\n",
       "    </tr>\n",
       "    <tr>\n",
       "      <th>8730</th>\n",
       "      <td>99812-1-5-0.wav</td>\n",
       "      <td>2</td>\n",
       "      <td>7</td>\n",
       "      <td>1</td>\n",
       "      <td>-404.628113</td>\n",
       "      <td>178.504730</td>\n",
       "      <td>-63.615627</td>\n",
       "      <td>25.944529</td>\n",
       "      <td>-10.428956</td>\n",
       "      <td>12.489921</td>\n",
       "      <td>...</td>\n",
       "      <td>7.955052</td>\n",
       "      <td>6.491368</td>\n",
       "      <td>6.783853</td>\n",
       "      <td>12.653798</td>\n",
       "      <td>10.504695</td>\n",
       "      <td>6.291048</td>\n",
       "      <td>7.251829</td>\n",
       "      <td>8.310383</td>\n",
       "      <td>8.857031</td>\n",
       "      <td>7.287582</td>\n",
       "    </tr>\n",
       "    <tr>\n",
       "      <th>8731</th>\n",
       "      <td>99812-1-6-0.wav</td>\n",
       "      <td>2</td>\n",
       "      <td>7</td>\n",
       "      <td>1</td>\n",
       "      <td>-369.637054</td>\n",
       "      <td>147.904556</td>\n",
       "      <td>-63.150425</td>\n",
       "      <td>47.780521</td>\n",
       "      <td>-9.488717</td>\n",
       "      <td>33.391727</td>\n",
       "      <td>...</td>\n",
       "      <td>7.289741</td>\n",
       "      <td>7.708520</td>\n",
       "      <td>6.297567</td>\n",
       "      <td>5.661671</td>\n",
       "      <td>5.337361</td>\n",
       "      <td>5.342536</td>\n",
       "      <td>6.784176</td>\n",
       "      <td>5.789685</td>\n",
       "      <td>4.279145</td>\n",
       "      <td>5.745348</td>\n",
       "    </tr>\n",
       "  </tbody>\n",
       "</table>\n",
       "<p>3 rows × 43 columns</p>\n",
       "</div>"
      ],
      "text/plain": [
       "      slice_file_name  salience  fold  classID  mfcc_mean_1  mfcc_mean_2  \\\n",
       "8729  99812-1-4-0.wav         2     7        1  -362.703217   165.081787   \n",
       "8730  99812-1-5-0.wav         2     7        1  -404.628113   178.504730   \n",
       "8731  99812-1-6-0.wav         2     7        1  -369.637054   147.904556   \n",
       "\n",
       "      mfcc_mean_3  mfcc_mean_4  mfcc_mean_5  mfcc_mean_6  ...  mfcc_std_4  \\\n",
       "8729   -60.780693    30.996469    -9.655406    23.180807  ...   17.499111   \n",
       "8730   -63.615627    25.944529   -10.428956    12.489921  ...    7.955052   \n",
       "8731   -63.150425    47.780521    -9.488717    33.391727  ...    7.289741   \n",
       "\n",
       "      mfcc_std_5  mfcc_std_6  mfcc_std_7  mfcc_std_8  mfcc_std_9  mfcc_std_10  \\\n",
       "8729    8.910819    8.859054   10.998036    8.000258    6.817478     4.655785   \n",
       "8730    6.491368    6.783853   12.653798   10.504695    6.291048     7.251829   \n",
       "8731    7.708520    6.297567    5.661671    5.337361    5.342536     6.784176   \n",
       "\n",
       "      mfcc_std_11  mfcc_std_12  mfcc_std_13  \n",
       "8729     8.149473     5.556407     5.076985  \n",
       "8730     8.310383     8.857031     7.287582  \n",
       "8731     5.789685     4.279145     5.745348  \n",
       "\n",
       "[3 rows x 43 columns]"
      ]
     },
     "execution_count": 55,
     "metadata": {},
     "output_type": "execute_result"
    }
   ],
   "source": [
    "dataset_urbansound8k_mfcc13_df.tail(3)"
   ]
  },
  {
   "cell_type": "code",
   "execution_count": 56,
   "metadata": {},
   "outputs": [
    {
     "name": "stdout",
     "output_type": "stream",
     "text": [
      "Columnas del dataset:\n",
      "Index(['slice_file_name', 'salience', 'fold', 'classID', 'mfcc_mean_1',\n",
      "       'mfcc_mean_2', 'mfcc_mean_3', 'mfcc_mean_4', 'mfcc_mean_5',\n",
      "       'mfcc_mean_6', 'mfcc_mean_7', 'mfcc_mean_8', 'mfcc_mean_9',\n",
      "       'mfcc_mean_10', 'mfcc_mean_11', 'mfcc_mean_12', 'mfcc_mean_13',\n",
      "       'mfcc_median_1', 'mfcc_median_2', 'mfcc_median_3', 'mfcc_median_4',\n",
      "       'mfcc_median_5', 'mfcc_median_6', 'mfcc_median_7', 'mfcc_median_8',\n",
      "       'mfcc_median_9', 'mfcc_median_10', 'mfcc_median_11', 'mfcc_median_12',\n",
      "       'mfcc_median_13', 'mfcc_std_1', 'mfcc_std_2', 'mfcc_std_3',\n",
      "       'mfcc_std_4', 'mfcc_std_5', 'mfcc_std_6', 'mfcc_std_7', 'mfcc_std_8',\n",
      "       'mfcc_std_9', 'mfcc_std_10', 'mfcc_std_11', 'mfcc_std_12',\n",
      "       'mfcc_std_13'],\n",
      "      dtype='object')\n",
      "---\n",
      "Cantidad de columnas: 43\n",
      "Cantidad de filas: 8732\n"
     ]
    }
   ],
   "source": [
    "print(\"Columnas del dataset:\")\n",
    "print(dataset_urbansound8k_mfcc13_df.columns)\n",
    "print(\"---\")\n",
    "\n",
    "print(f\"Cantidad de columnas: {dataset_urbansound8k_mfcc13_df.shape[1]}\")\n",
    "print(f\"Cantidad de filas: {dataset_urbansound8k_mfcc13_df.shape[0]}\")"
   ]
  },
  {
   "cell_type": "markdown",
   "metadata": {},
   "source": [
    "#### Filtrado de filas"
   ]
  },
  {
   "cell_type": "code",
   "execution_count": 57,
   "metadata": {},
   "outputs": [
    {
     "name": "stdout",
     "output_type": "stream",
     "text": [
      "Campo salience : Una calificación (subjetiva) de la prominencia del sonido. \n",
      "Valores: 1 = primer plano, 2 = fondo. \n",
      "Se filtra los audios con calificación de primer plano. \n",
      "\n",
      "Cantidad filas afectadas por filtro: 3030\n"
     ]
    }
   ],
   "source": [
    "filtered_salience_top_1_df = dataset_urbansound8k_mfcc13_df.loc[dataset_urbansound8k_mfcc13_df['salience'] == 1]\n",
    "\n",
    "\n",
    "print(\"Campo salience : Una calificación (subjetiva) de la prominencia del sonido. \")\n",
    "print(\"Valores: 1 = primer plano, 2 = fondo. \")\n",
    "print(f\"Se filtra los audios con calificación de primer plano. \\n\")\n",
    "\n",
    "cantidad_filas_filtradas = dataset_urbansound8k_mfcc13_df.shape[0] - filtered_salience_top_1_df.shape[0]\n",
    "print(f\"Cantidad filas afectadas por filtro: {cantidad_filas_filtradas}\")"
   ]
  },
  {
   "cell_type": "markdown",
   "metadata": {},
   "source": [
    "### Generación de inputs modelo"
   ]
  },
  {
   "cell_type": "markdown",
   "metadata": {},
   "source": [
    "#### Dataset input v1 \n",
    "\n",
    "Todos los audios\n",
    "Promedio, mediana y desviacion estandar de mfcc13"
   ]
  },
  {
   "cell_type": "code",
   "execution_count": null,
   "metadata": {},
   "outputs": [
    {
     "name": "stdout",
     "output_type": "stream",
     "text": [
      "Cantidad de columnas del dataset final: 42\n",
      "Cantidad de filas del dataset final: 8732\n"
     ]
    }
   ],
   "source": [
    "# Agregar en este listado otros atributos que pudieran discretizarse o transformarse\n",
    "columnas_seleccionadas_final = [\n",
    "       'slice_file_name', 'fold', 'classID', 'mfcc_mean_1',\n",
    "       'mfcc_mean_2', 'mfcc_mean_3', 'mfcc_mean_4', 'mfcc_mean_5',\n",
    "       'mfcc_mean_6', 'mfcc_mean_7', 'mfcc_mean_8', 'mfcc_mean_9',\n",
    "       'mfcc_mean_10', 'mfcc_mean_11', 'mfcc_mean_12', 'mfcc_mean_13',\n",
    "       'mfcc_median_1', 'mfcc_median_2', 'mfcc_median_3', 'mfcc_median_4',\n",
    "       'mfcc_median_5', 'mfcc_median_6', 'mfcc_median_7', 'mfcc_median_8',\n",
    "       'mfcc_median_9', 'mfcc_median_10', 'mfcc_median_11', 'mfcc_median_12',\n",
    "       'mfcc_median_13', 'mfcc_std_1', 'mfcc_std_2', 'mfcc_std_3',\n",
    "       'mfcc_std_4', 'mfcc_std_5', 'mfcc_std_6', 'mfcc_std_7', 'mfcc_std_8',\n",
    "       'mfcc_std_9', 'mfcc_std_10', 'mfcc_std_11', 'mfcc_std_12',\n",
    "       'mfcc_std_13'\n",
    "]\n",
    "\n",
    "# Crear un nuevo DataFrame con solo las columnas seleccionadas\n",
    "pd01_transformaciones_v1_df = dataset_urbansound8k_mfcc13_df[columnas_seleccionadas_final]\n",
    "\n",
    "print(f\"Cantidad de columnas del dataset final: {pd01_transformaciones_v1_df.shape[1]}\")\n",
    "print(f\"Cantidad de filas del dataset final: {pd01_transformaciones_v1_df.shape[0]}\")\n",
    "\n",
    "pd01_transformaciones_v1_df.to_csv(\"../../data/processed/pd01_transformaciones_v1.csv\", sep=';', index=False)"
   ]
  },
  {
   "cell_type": "markdown",
   "metadata": {},
   "source": [
    "#### Dataset input v2\n",
    "\n",
    "audios con salience 1 (calidad más alta)\n",
    "Promedio, mediana y desviacion estandar de mfcc13"
   ]
  },
  {
   "cell_type": "code",
   "execution_count": null,
   "metadata": {},
   "outputs": [
    {
     "name": "stdout",
     "output_type": "stream",
     "text": [
      "Cantidad de columnas del dataset final: 42\n",
      "Cantidad de filas del dataset final: 5702\n"
     ]
    }
   ],
   "source": [
    "# Agregar en este listado otros atributos que pudieran discretizarse o transformarse\n",
    "columnas_seleccionadas_final = [\n",
    "       'slice_file_name', 'fold', 'classID', 'mfcc_mean_1',\n",
    "       'mfcc_mean_2', 'mfcc_mean_3', 'mfcc_mean_4', 'mfcc_mean_5',\n",
    "       'mfcc_mean_6', 'mfcc_mean_7', 'mfcc_mean_8', 'mfcc_mean_9',\n",
    "       'mfcc_mean_10', 'mfcc_mean_11', 'mfcc_mean_12', 'mfcc_mean_13',\n",
    "       'mfcc_median_1', 'mfcc_median_2', 'mfcc_median_3', 'mfcc_median_4',\n",
    "       'mfcc_median_5', 'mfcc_median_6', 'mfcc_median_7', 'mfcc_median_8',\n",
    "       'mfcc_median_9', 'mfcc_median_10', 'mfcc_median_11', 'mfcc_median_12',\n",
    "       'mfcc_median_13', 'mfcc_std_1', 'mfcc_std_2', 'mfcc_std_3',\n",
    "       'mfcc_std_4', 'mfcc_std_5', 'mfcc_std_6', 'mfcc_std_7', 'mfcc_std_8',\n",
    "       'mfcc_std_9', 'mfcc_std_10', 'mfcc_std_11', 'mfcc_std_12',\n",
    "       'mfcc_std_13'\n",
    "]\n",
    "\n",
    "# Crear un nuevo DataFrame con solo las columnas seleccionadas\n",
    "pd01_transformaciones_v2_df = filtered_salience_top_1_df[columnas_seleccionadas_final]\n",
    "\n",
    "print(f\"Cantidad de columnas del dataset final: {pd01_transformaciones_v2_df.shape[1]}\")\n",
    "print(f\"Cantidad de filas del dataset final: {pd01_transformaciones_v2_df.shape[0]}\")\n",
    "\n",
    "pd01_transformaciones_v2_df.to_csv(\"../../data/processed/pd01_transformaciones_v2.csv\", sep=';', index=False)"
   ]
  }
 ],
 "metadata": {
  "kernelspec": {
   "display_name": "data",
   "language": "python",
   "name": "python3"
  },
  "language_info": {
   "codemirror_mode": {
    "name": "ipython",
    "version": 3
   },
   "file_extension": ".py",
   "mimetype": "text/x-python",
   "name": "python",
   "nbconvert_exporter": "python",
   "pygments_lexer": "ipython3",
   "version": "3.10.5"
  }
 },
 "nbformat": 4,
 "nbformat_minor": 2
}
