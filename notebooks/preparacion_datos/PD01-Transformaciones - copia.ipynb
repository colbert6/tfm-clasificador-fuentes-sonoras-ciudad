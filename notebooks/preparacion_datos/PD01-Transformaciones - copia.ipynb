{
 "cells": [
  {
   "cell_type": "markdown",
   "metadata": {},
   "source": [
    "##### Importación de librerías"
   ]
  },
  {
   "cell_type": "code",
   "execution_count": 3,
   "metadata": {},
   "outputs": [],
   "source": [
    "#Se importan las librerias a utilizar\n",
    "\n",
    "import numpy as np\n",
    "import pandas as pd\n",
    "import os"
   ]
  },
  {
   "cell_type": "markdown",
   "metadata": {},
   "source": [
    "----\n",
    "\n",
    "##### Lectura de los datasets"
   ]
  },
  {
   "cell_type": "code",
   "execution_count": 4,
   "metadata": {},
   "outputs": [],
   "source": [
    "urbansound8k_path = \"../../data/raw/UrbanSound8K/\"\n",
    "\n",
    "# Primer dataset - Carpeta con los audios\n",
    "urbansound8k_audio_path = \"audio/\"\n",
    "\n",
    "# Segundo dataset - Archivo CSV con metadatos sobre los audios\n",
    "urbansound8k_metadata_path_file = \"metadata/UrbanSound8K.csv\"\n",
    "\n",
    "# Dataset CSV con metadatos generados a partir de los audios \n",
    "dataset_urbansound8k_path_file = \"../../data/processed/cd02_nuevos_metadatos_v2.csv\""
   ]
  },
  {
   "cell_type": "code",
   "execution_count": 5,
   "metadata": {},
   "outputs": [
    {
     "data": {
      "text/html": [
       "<div>\n",
       "<style scoped>\n",
       "    .dataframe tbody tr th:only-of-type {\n",
       "        vertical-align: middle;\n",
       "    }\n",
       "\n",
       "    .dataframe tbody tr th {\n",
       "        vertical-align: top;\n",
       "    }\n",
       "\n",
       "    .dataframe thead th {\n",
       "        text-align: right;\n",
       "    }\n",
       "</style>\n",
       "<table border=\"1\" class=\"dataframe\">\n",
       "  <thead>\n",
       "    <tr style=\"text-align: right;\">\n",
       "      <th></th>\n",
       "      <th>slice_file_name</th>\n",
       "      <th>fsID</th>\n",
       "      <th>start</th>\n",
       "      <th>end</th>\n",
       "      <th>salience</th>\n",
       "      <th>fold</th>\n",
       "      <th>classID</th>\n",
       "      <th>class</th>\n",
       "    </tr>\n",
       "  </thead>\n",
       "  <tbody>\n",
       "    <tr>\n",
       "      <th>0</th>\n",
       "      <td>100032-3-0-0.wav</td>\n",
       "      <td>100032</td>\n",
       "      <td>0.0</td>\n",
       "      <td>0.317551</td>\n",
       "      <td>1</td>\n",
       "      <td>5</td>\n",
       "      <td>3</td>\n",
       "      <td>dog_bark</td>\n",
       "    </tr>\n",
       "    <tr>\n",
       "      <th>1</th>\n",
       "      <td>100263-2-0-117.wav</td>\n",
       "      <td>100263</td>\n",
       "      <td>58.5</td>\n",
       "      <td>62.500000</td>\n",
       "      <td>1</td>\n",
       "      <td>5</td>\n",
       "      <td>2</td>\n",
       "      <td>children_playing</td>\n",
       "    </tr>\n",
       "  </tbody>\n",
       "</table>\n",
       "</div>"
      ],
      "text/plain": [
       "      slice_file_name    fsID  start        end  salience  fold  classID  \\\n",
       "0    100032-3-0-0.wav  100032    0.0   0.317551         1     5        3   \n",
       "1  100263-2-0-117.wav  100263   58.5  62.500000         1     5        2   \n",
       "\n",
       "              class  \n",
       "0          dog_bark  \n",
       "1  children_playing  "
      ]
     },
     "execution_count": 5,
     "metadata": {},
     "output_type": "execute_result"
    }
   ],
   "source": [
    "dataset_urbansound8k_df = pd.read_csv(urbansound8k_path + urbansound8k_metadata_path_file, sep=\",\")\n",
    "dataset_urbansound8k_df.head(2)"
   ]
  },
  {
   "cell_type": "markdown",
   "metadata": {},
   "source": [
    "---\n",
    "#### Aplicación de transformaciones\n",
    "\n",
    "**Operaciones a realizar**\n",
    "\n",
    "1. Selección de columnas\n",
    "2. Filtrado de filas\n",
    "3. Construcción de atributos \n",
    "4. Formateo definitivo\n"
   ]
  },
  {
   "cell_type": "markdown",
   "metadata": {},
   "source": [
    "----\n",
    "\n",
    "##### Selección de columnas"
   ]
  },
  {
   "cell_type": "code",
   "execution_count": 6,
   "metadata": {},
   "outputs": [],
   "source": [
    "# Se establece qué columnas se eliminan\n",
    "columnas_eliminar_lista = ['fsID', 'start', 'end', 'class']\n",
    "\n",
    "# Se ejecuta la operación\n",
    "dataset_urbansound8k_df.drop(columnas_eliminar_lista, inplace=True, axis=1) "
   ]
  },
  {
   "cell_type": "code",
   "execution_count": 7,
   "metadata": {},
   "outputs": [
    {
     "name": "stdout",
     "output_type": "stream",
     "text": [
      "Vista del dataset de datos:\n"
     ]
    },
    {
     "data": {
      "text/html": [
       "<div>\n",
       "<style scoped>\n",
       "    .dataframe tbody tr th:only-of-type {\n",
       "        vertical-align: middle;\n",
       "    }\n",
       "\n",
       "    .dataframe tbody tr th {\n",
       "        vertical-align: top;\n",
       "    }\n",
       "\n",
       "    .dataframe thead th {\n",
       "        text-align: right;\n",
       "    }\n",
       "</style>\n",
       "<table border=\"1\" class=\"dataframe\">\n",
       "  <thead>\n",
       "    <tr style=\"text-align: right;\">\n",
       "      <th></th>\n",
       "      <th>slice_file_name</th>\n",
       "      <th>salience</th>\n",
       "      <th>fold</th>\n",
       "      <th>classID</th>\n",
       "    </tr>\n",
       "  </thead>\n",
       "  <tbody>\n",
       "    <tr>\n",
       "      <th>0</th>\n",
       "      <td>100032-3-0-0.wav</td>\n",
       "      <td>1</td>\n",
       "      <td>5</td>\n",
       "      <td>3</td>\n",
       "    </tr>\n",
       "  </tbody>\n",
       "</table>\n",
       "</div>"
      ],
      "text/plain": [
       "    slice_file_name  salience  fold  classID\n",
       "0  100032-3-0-0.wav         1     5        3"
      ]
     },
     "metadata": {},
     "output_type": "display_data"
    }
   ],
   "source": [
    "print(\"Vista del dataset de datos:\")\n",
    "display(dataset_urbansound8k_df.head(1))"
   ]
  },
  {
   "cell_type": "code",
   "execution_count": 8,
   "metadata": {},
   "outputs": [
    {
     "name": "stdout",
     "output_type": "stream",
     "text": [
      "Columnas del dataset:\n",
      "Index(['slice_file_name', 'salience', 'fold', 'classID'], dtype='object')\n",
      "Cantidad de filas: 8732\n"
     ]
    }
   ],
   "source": [
    "print(\"Columnas del dataset:\")\n",
    "print(dataset_urbansound8k_df.columns)\n",
    "    \n",
    "print(f\"Cantidad de filas: {dataset_urbansound8k_df.shape[0]}\")"
   ]
  },
  {
   "cell_type": "markdown",
   "metadata": {},
   "source": [
    "##### Filtrado de filas"
   ]
  },
  {
   "cell_type": "code",
   "execution_count": 9,
   "metadata": {},
   "outputs": [
    {
     "name": "stdout",
     "output_type": "stream",
     "text": [
      "Campo 'salience' \n",
      "cantidad filas afectadas por filtro: 3030\n"
     ]
    }
   ],
   "source": [
    "# salience\n",
    "temp_filtro_salience = dataset_urbansound8k_df[dataset_urbansound8k_df['salience'] != 1]\n",
    "\n",
    "print(f\"Campo 'salience' \")\n",
    "print(f\"cantidad filas afectadas por filtro: {temp_filtro_salience.shape[0]}\")"
   ]
  },
  {
   "cell_type": "code",
   "execution_count": 7,
   "metadata": {},
   "outputs": [
    {
     "name": "stdout",
     "output_type": "stream",
     "text": [
      "Q1 duracion  4.0  y Q3 duracion  4.0\n",
      "Limite inferior de duracion  4.0\n",
      "Limite superior de duracion  4.0\n",
      "\n",
      "Campo 'duracion' \n",
      "cantidad filas afectadas por filtro: 1407\n"
     ]
    }
   ],
   "source": [
    "#duracion\n",
    "Q1 = dataset_urbansound8k_df['duracion'].quantile(0.25)\n",
    "Q3 = dataset_urbansound8k_df['duracion'].quantile(0.75)\n",
    "\n",
    "RIQ = Q3 - Q1\n",
    "\n",
    "# Definir los límites para identificar outliers\n",
    "lower_bound = Q1 - 1.5 * RIQ\n",
    "upper_bound = Q3 + 1.5 * RIQ\n",
    "\n",
    "print(\"Q1 duracion \", Q1,\" y Q3 duracion \", Q3)\n",
    "\n",
    "print(\"Limite inferior de duracion \", lower_bound)\n",
    "print(\"Limite superior de duracion \", upper_bound)\n",
    "\n",
    "# Filtrar los outliers\n",
    "temp_filtro_duracion = dataset_urbansound8k_df[(dataset_urbansound8k_df['duracion'] < lower_bound) | (dataset_urbansound8k_df['duracion'] > upper_bound)]\n",
    "\n",
    "# Ver los audios identificados como outliers\n",
    "print(f\"\\nCampo 'duracion' \")\n",
    "print(f\"cantidad filas afectadas por filtro: {temp_filtro_duracion.shape[0]}\")"
   ]
  },
  {
   "cell_type": "code",
   "execution_count": 8,
   "metadata": {},
   "outputs": [
    {
     "name": "stdout",
     "output_type": "stream",
     "text": [
      "Q1 tasa_muestreo  44100.0  y Q3 tasa_muestreo  48000.0\n",
      "Limite inferior de tasa_muestreo  38250.0\n",
      "Limite superior de tasa_muestreo  53850.0\n",
      "\n",
      "Campo 'tasa_muestreo' \n",
      "cantidad filas afectadas por filtro: 860\n"
     ]
    }
   ],
   "source": [
    "# tasa_muestreo \n",
    "Q1 = dataset_urbansound8k_df['tasa_muestreo'].quantile(0.25)\n",
    "Q3 = dataset_urbansound8k_df['tasa_muestreo'].quantile(0.75)\n",
    "RIQ = Q3 - Q1\n",
    "\n",
    "# Definir los límites para identificar outliers\n",
    "lower_bound = Q1 - 1.5 * RIQ\n",
    "upper_bound = Q3 + 1.5 * RIQ\n",
    "\n",
    "print(\"Q1 tasa_muestreo \", Q1,\" y Q3 tasa_muestreo \", Q3)\n",
    "print(\"Limite inferior de tasa_muestreo \", lower_bound)\n",
    "print(\"Limite superior de tasa_muestreo \", upper_bound)\n",
    "\n",
    "# Filtrar los outliers\n",
    "temp_filtro_tasa_muestreo = dataset_urbansound8k_df[(dataset_urbansound8k_df['tasa_muestreo'] < lower_bound) | (dataset_urbansound8k_df['tasa_muestreo'] > upper_bound)]\n",
    "\n",
    "# Ver los audios identificados como outliers\n",
    "print(f\"\\nCampo 'tasa_muestreo' \")\n",
    "print(f\"cantidad filas afectadas por filtro: {temp_filtro_tasa_muestreo.shape[0]}\")"
   ]
  },
  {
   "cell_type": "code",
   "execution_count": 9,
   "metadata": {},
   "outputs": [
    {
     "name": "stdout",
     "output_type": "stream",
     "text": [
      "Campo 'desplazamiento_dc' \n",
      "cantidad filas afectadas por filtro: 0\n"
     ]
    }
   ],
   "source": [
    "# desplazamiento_dc\n",
    "# Realizar una comprobación aproximada de desplazamiento de corriente continua (DC offset)\n",
    "temp_filtro_desplazamiento_dc = dataset_urbansound8k_df[~(dataset_urbansound8k_df['desplazamiento_dc'] < 0.2)]\n",
    "\n",
    "print(f\"Campo 'desplazamiento_dc' \")\n",
    "print(f\"cantidad filas afectadas por filtro: {temp_filtro_desplazamiento_dc.shape[0]}\")"
   ]
  },
  {
   "cell_type": "markdown",
   "metadata": {},
   "source": [
    "salience', 'classID', 'path', 'duracion', 'tasa_muestreo',\n",
    "       'desplazamiento_dc', 'cantidad_canales', 'rango_dinamico', 'energia',\n",
    "       'tasa_cruce_cero', 'entropia_espectograma', 'avg_centroide_espectral'],\n",
    "      dtype='object'"
   ]
  },
  {
   "cell_type": "code",
   "execution_count": 10,
   "metadata": {},
   "outputs": [
    {
     "name": "stdout",
     "output_type": "stream",
     "text": [
      "Campo 'cantidad_canales' \n",
      "cantidad filas afectadas por filtro: 7993\n"
     ]
    }
   ],
   "source": [
    "# cantidad_canales \n",
    "temp_filtro_cantidad_canales = dataset_urbansound8k_df[~(dataset_urbansound8k_df['cantidad_canales'] == 1)]\n",
    "\n",
    "print(f\"Campo 'cantidad_canales' \")\n",
    "print(f\"cantidad filas afectadas por filtro: {temp_filtro_cantidad_canales.shape[0]}\")"
   ]
  },
  {
   "cell_type": "markdown",
   "metadata": {},
   "source": [
    "##### Construcción de atributos"
   ]
  },
  {
   "cell_type": "markdown",
   "metadata": {},
   "source": [
    "Extraccion caracteristicas mfcc"
   ]
  },
  {
   "cell_type": "code",
   "execution_count": 11,
   "metadata": {},
   "outputs": [],
   "source": [
    "import librosa\n",
    "import librosa.display\n",
    "\n",
    "def extract_mfcc(file_path, n_mfcc=13):\n",
    "    signal, sr = librosa.load(file_path, sr=None, mono=True)  # Cargar el archivo de audio\n",
    "    mfccs = librosa.feature.mfcc(y=signal, sr=sr, n_mfcc=n_mfcc)  # Extraer MFCC\n",
    "    mfccs = np.mean(mfccs.T, axis=0)  # Tomar el promedio de los coeficientes MFCC en el tiempo\n",
    "    return mfccs"
   ]
  },
  {
   "cell_type": "code",
   "execution_count": 12,
   "metadata": {},
   "outputs": [
    {
     "name": "stderr",
     "output_type": "stream",
     "text": [
      "c:\\Users\\colbe\\Documents\\VIU\\TFM\\tfm-clasificador-fuentes-sonoras-ciudad\\.env\\lib\\site-packages\\librosa\\feature\\spectral.py:2143: UserWarning: Empty filters detected in mel frequency basis. Some channels will produce empty responses. Try increasing your sampling rate (and fmax) or reducing n_mels.\n",
      "  mel_basis = filters.mel(sr=sr, n_fft=n_fft, **kwargs)\n"
     ]
    }
   ],
   "source": [
    "# Crear columnas para cada uno de los 13 coeficientes MFCC\n",
    "mfcc_columns = [f'mfcc_{i+1}' for i in range(13)]\n",
    "mfcc_features = []\n",
    "\n",
    "# Extraer MFCCs para todos los archivos\n",
    "for index, row in dataset_urbansound8k_df.iterrows():\n",
    "    mfcc = extract_mfcc(row['path'])\n",
    "    mfcc_features.append(mfcc)\n",
    "\n",
    "# Convertir la lista de MFCCs en un DataFrame y unirlo al DataFrame original\n",
    "mfcc_df = pd.DataFrame(mfcc_features, columns=mfcc_columns)\n",
    "dataset_urbansound8k_add_atributos_df = pd.concat([dataset_urbansound8k_df, mfcc_df], axis=1)"
   ]
  },
  {
   "cell_type": "code",
   "execution_count": 13,
   "metadata": {},
   "outputs": [
    {
     "data": {
      "text/html": [
       "<div>\n",
       "<style scoped>\n",
       "    .dataframe tbody tr th:only-of-type {\n",
       "        vertical-align: middle;\n",
       "    }\n",
       "\n",
       "    .dataframe tbody tr th {\n",
       "        vertical-align: top;\n",
       "    }\n",
       "\n",
       "    .dataframe thead th {\n",
       "        text-align: right;\n",
       "    }\n",
       "</style>\n",
       "<table border=\"1\" class=\"dataframe\">\n",
       "  <thead>\n",
       "    <tr style=\"text-align: right;\">\n",
       "      <th></th>\n",
       "      <th>salience</th>\n",
       "      <th>fold</th>\n",
       "      <th>classID</th>\n",
       "      <th>path</th>\n",
       "      <th>duracion</th>\n",
       "      <th>tasa_muestreo</th>\n",
       "      <th>desplazamiento_dc</th>\n",
       "      <th>cantidad_canales</th>\n",
       "      <th>rango_dinamico</th>\n",
       "      <th>energia</th>\n",
       "      <th>tasa_cruce_cero</th>\n",
       "      <th>entropia_espectograma</th>\n",
       "      <th>avg_centroide_espectral</th>\n",
       "    </tr>\n",
       "  </thead>\n",
       "  <tbody>\n",
       "    <tr>\n",
       "      <th>8729</th>\n",
       "      <td>2</td>\n",
       "      <td>7</td>\n",
       "      <td>1</td>\n",
       "      <td>../../data/raw/UrbanSound8K//audio/fold7/99812...</td>\n",
       "      <td>3.505986</td>\n",
       "      <td>44100</td>\n",
       "      <td>0.000023</td>\n",
       "      <td>2</td>\n",
       "      <td>0.601532</td>\n",
       "      <td>152.930480</td>\n",
       "      <td>20199</td>\n",
       "      <td>9.236240</td>\n",
       "      <td>2588.530015</td>\n",
       "    </tr>\n",
       "    <tr>\n",
       "      <th>8730</th>\n",
       "      <td>2</td>\n",
       "      <td>7</td>\n",
       "      <td>1</td>\n",
       "      <td>../../data/raw/UrbanSound8K//audio/fold7/99812...</td>\n",
       "      <td>2.530000</td>\n",
       "      <td>44100</td>\n",
       "      <td>0.000023</td>\n",
       "      <td>2</td>\n",
       "      <td>0.155273</td>\n",
       "      <td>35.239840</td>\n",
       "      <td>19047</td>\n",
       "      <td>9.352435</td>\n",
       "      <td>2391.283507</td>\n",
       "    </tr>\n",
       "    <tr>\n",
       "      <th>8731</th>\n",
       "      <td>2</td>\n",
       "      <td>7</td>\n",
       "      <td>1</td>\n",
       "      <td>../../data/raw/UrbanSound8K//audio/fold7/99812...</td>\n",
       "      <td>2.530000</td>\n",
       "      <td>44100</td>\n",
       "      <td>0.000027</td>\n",
       "      <td>2</td>\n",
       "      <td>0.159119</td>\n",
       "      <td>47.776505</td>\n",
       "      <td>21736</td>\n",
       "      <td>9.474744</td>\n",
       "      <td>3079.384978</td>\n",
       "    </tr>\n",
       "  </tbody>\n",
       "</table>\n",
       "</div>"
      ],
      "text/plain": [
       "      salience  fold  classID  \\\n",
       "8729         2     7        1   \n",
       "8730         2     7        1   \n",
       "8731         2     7        1   \n",
       "\n",
       "                                                   path  duracion  \\\n",
       "8729  ../../data/raw/UrbanSound8K//audio/fold7/99812...  3.505986   \n",
       "8730  ../../data/raw/UrbanSound8K//audio/fold7/99812...  2.530000   \n",
       "8731  ../../data/raw/UrbanSound8K//audio/fold7/99812...  2.530000   \n",
       "\n",
       "      tasa_muestreo  desplazamiento_dc  cantidad_canales  rango_dinamico  \\\n",
       "8729          44100           0.000023                 2        0.601532   \n",
       "8730          44100           0.000023                 2        0.155273   \n",
       "8731          44100           0.000027                 2        0.159119   \n",
       "\n",
       "         energia  tasa_cruce_cero  entropia_espectograma  \\\n",
       "8729  152.930480            20199               9.236240   \n",
       "8730   35.239840            19047               9.352435   \n",
       "8731   47.776505            21736               9.474744   \n",
       "\n",
       "      avg_centroide_espectral  \n",
       "8729              2588.530015  \n",
       "8730              2391.283507  \n",
       "8731              3079.384978  "
      ]
     },
     "execution_count": 13,
     "metadata": {},
     "output_type": "execute_result"
    }
   ],
   "source": [
    "dataset_urbansound8k_df.tail(3)"
   ]
  },
  {
   "cell_type": "markdown",
   "metadata": {},
   "source": [
    "##### Formateo Definitivo"
   ]
  },
  {
   "cell_type": "code",
   "execution_count": 14,
   "metadata": {},
   "outputs": [],
   "source": [
    "# Agregar en este listado otros atributos que pudieran discretizarse o transformarse\n",
    "columnas_seleccionadas_final = [\n",
    "              'classID',\n",
    "              'tasa_cruce_cero',\n",
    "              'entropia_espectograma',\n",
    "              'avg_centroide_espectral',\n",
    "              'fold',\n",
    "              'mfcc_1', 'mfcc_2', 'mfcc_3',  'mfcc_4', 'mfcc_5',\n",
    "              'mfcc_6', 'mfcc_7', 'mfcc_8',  'mfcc_9', 'mfcc_10',\n",
    "              'mfcc_11', 'mfcc_12', 'mfcc_13']\n",
    "\n",
    "# Crear un nuevo DataFrame con solo las columnas seleccionadas\n",
    "dataset_urbansound8k_formato_final_df = dataset_urbansound8k_add_atributos_df[columnas_seleccionadas_final]"
   ]
  },
  {
   "cell_type": "code",
   "execution_count": 15,
   "metadata": {},
   "outputs": [
    {
     "name": "stdout",
     "output_type": "stream",
     "text": [
      "Cantidad de columnas del dataset final: 18\n",
      "Cantidad de filas del dataset final: 8732\n"
     ]
    }
   ],
   "source": [
    "print(f\"Cantidad de columnas del dataset final: {dataset_urbansound8k_formato_final_df.shape[1]}\")\n",
    "print(f\"Cantidad de filas del dataset final: {dataset_urbansound8k_formato_final_df.shape[0]}\")"
   ]
  },
  {
   "cell_type": "markdown",
   "metadata": {},
   "source": [
    "Exportación del dataset"
   ]
  },
  {
   "cell_type": "code",
   "execution_count": 16,
   "metadata": {},
   "outputs": [],
   "source": [
    "dataset_urbansound8k_formato_final_df.to_csv(\"../../data/final/dataset_urbansound8k_vfinal.csv\", sep=';', index=False)"
   ]
  }
 ],
 "metadata": {
  "kernelspec": {
   "display_name": "data",
   "language": "python",
   "name": "python3"
  },
  "language_info": {
   "codemirror_mode": {
    "name": "ipython",
    "version": 3
   },
   "file_extension": ".py",
   "mimetype": "text/x-python",
   "name": "python",
   "nbconvert_exporter": "python",
   "pygments_lexer": "ipython3",
   "version": "3.10.5"
  }
 },
 "nbformat": 4,
 "nbformat_minor": 2
}
