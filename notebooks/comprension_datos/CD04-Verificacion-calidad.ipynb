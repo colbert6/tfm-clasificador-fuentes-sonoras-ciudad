{
 "cells": [
  {
   "cell_type": "markdown",
   "metadata": {},
   "source": [
    "##### Importación de librerías"
   ]
  },
  {
   "cell_type": "code",
   "execution_count": 12,
   "metadata": {},
   "outputs": [],
   "source": [
    "#Se importan las librerias a utilizar\n",
    "\n",
    "import pandas as pd\n",
    "import os"
   ]
  },
  {
   "cell_type": "markdown",
   "metadata": {},
   "source": [
    "----\n",
    "\n",
    "##### Lectura de los datasets"
   ]
  },
  {
   "cell_type": "code",
   "execution_count": 13,
   "metadata": {},
   "outputs": [],
   "source": [
    "urbansound8k_path = \"../../data/raw/UrbanSound8K/\"\n",
    "\n",
    "# Primer dataset - Carpeta con los audios\n",
    "urbansound8k_audio_path = \"audio/\"\n",
    "\n",
    "# Segundo dataset - Archivo CSV con metadatos sobre los audios\n",
    "urbansound8k_metadata_path_file = \"metadata/UrbanSound8K.csv\"\n"
   ]
  },
  {
   "cell_type": "code",
   "execution_count": 14,
   "metadata": {},
   "outputs": [
    {
     "data": {
      "text/html": [
       "<div>\n",
       "<style scoped>\n",
       "    .dataframe tbody tr th:only-of-type {\n",
       "        vertical-align: middle;\n",
       "    }\n",
       "\n",
       "    .dataframe tbody tr th {\n",
       "        vertical-align: top;\n",
       "    }\n",
       "\n",
       "    .dataframe thead th {\n",
       "        text-align: right;\n",
       "    }\n",
       "</style>\n",
       "<table border=\"1\" class=\"dataframe\">\n",
       "  <thead>\n",
       "    <tr style=\"text-align: right;\">\n",
       "      <th></th>\n",
       "      <th>slice_file_name</th>\n",
       "      <th>fsID</th>\n",
       "      <th>start</th>\n",
       "      <th>end</th>\n",
       "      <th>salience</th>\n",
       "      <th>fold</th>\n",
       "      <th>classID</th>\n",
       "      <th>class</th>\n",
       "    </tr>\n",
       "  </thead>\n",
       "  <tbody>\n",
       "    <tr>\n",
       "      <th>0</th>\n",
       "      <td>100032-3-0-0.wav</td>\n",
       "      <td>100032</td>\n",
       "      <td>0.0</td>\n",
       "      <td>0.317551</td>\n",
       "      <td>1</td>\n",
       "      <td>5</td>\n",
       "      <td>3</td>\n",
       "      <td>dog_bark</td>\n",
       "    </tr>\n",
       "    <tr>\n",
       "      <th>1</th>\n",
       "      <td>100263-2-0-117.wav</td>\n",
       "      <td>100263</td>\n",
       "      <td>58.5</td>\n",
       "      <td>62.500000</td>\n",
       "      <td>1</td>\n",
       "      <td>5</td>\n",
       "      <td>2</td>\n",
       "      <td>children_playing</td>\n",
       "    </tr>\n",
       "  </tbody>\n",
       "</table>\n",
       "</div>"
      ],
      "text/plain": [
       "      slice_file_name    fsID  start        end  salience  fold  classID  \\\n",
       "0    100032-3-0-0.wav  100032    0.0   0.317551         1     5        3   \n",
       "1  100263-2-0-117.wav  100263   58.5  62.500000         1     5        2   \n",
       "\n",
       "              class  \n",
       "0          dog_bark  \n",
       "1  children_playing  "
      ]
     },
     "execution_count": 14,
     "metadata": {},
     "output_type": "execute_result"
    }
   ],
   "source": [
    "dataset_urbansound8k_df = pd.read_csv(urbansound8k_path + urbansound8k_metadata_path_file, sep=\",\")\n",
    "dataset_urbansound8k_df.head(2)"
   ]
  },
  {
   "cell_type": "markdown",
   "metadata": {},
   "source": [
    "---\n",
    "#### Verificación de calidad de datos\n",
    "\n",
    "**Análisis a realizar**\n",
    "\n",
    "1. Evaluación de valores nulos (filas y columnas)\n",
    "2. Evaluación de formato válido\n",
    "3. Valores ajustados en rangos (ver anexos)\n",
    "4. Claves únicas\n",
    "5. Integridad referencial\n",
    "6. Cumplimiento de reglas en valores"
   ]
  },
  {
   "cell_type": "code",
   "execution_count": 15,
   "metadata": {},
   "outputs": [],
   "source": [
    "# Valores globales\n",
    "cantidad_filas_urbansound8k = dataset_urbansound8k_df.shape[0]"
   ]
  },
  {
   "cell_type": "markdown",
   "metadata": {},
   "source": [
    "## Dimensión: completitud\n",
    "\n",
    "### (1a) Filas"
   ]
  },
  {
   "cell_type": "code",
   "execution_count": 16,
   "metadata": {},
   "outputs": [
    {
     "name": "stdout",
     "output_type": "stream",
     "text": [
      "Cantidad de filas que tienen valores nulos por atributo:\n",
      "slice_file_name    0\n",
      "fsID               0\n",
      "start              0\n",
      "end                0\n",
      "salience           0\n",
      "fold               0\n",
      "classID            0\n",
      "class              0\n",
      "dtype: int64\n",
      "\n"
     ]
    }
   ],
   "source": [
    "nulos_x_columna_c = dataset_urbansound8k_df.isna().sum()\n",
    "print(f\"Cantidad de filas que tienen valores nulos por atributo:\\n{nulos_x_columna_c}\\n\")"
   ]
  },
  {
   "cell_type": "markdown",
   "metadata": {},
   "source": [
    "### (1b) Dataset"
   ]
  },
  {
   "cell_type": "code",
   "execution_count": 17,
   "metadata": {},
   "outputs": [
    {
     "name": "stdout",
     "output_type": "stream",
     "text": [
      "Filas que presentan nulos en el dataset [completitud_d] - urbansound8k - :\n",
      "0 (0.0)%\n",
      "\n"
     ]
    }
   ],
   "source": [
    "cantidad_nulos = dataset_urbansound8k_df.isnull().any(axis=1).sum()\n",
    "\n",
    "print(f\"Filas que presentan nulos en el dataset [completitud_d] - urbansound8k - :\")\n",
    "print(f\"{cantidad_nulos} ({round((cantidad_nulos  / cantidad_filas_urbansound8k) * 100, 2)})%\\n\")\n"
   ]
  },
  {
   "cell_type": "markdown",
   "metadata": {},
   "source": [
    "----\n",
    "\n",
    "## Dimensión: exactitud\n",
    "\n",
    "### (2) Formato válido"
   ]
  },
  {
   "cell_type": "markdown",
   "metadata": {},
   "source": [
    "Atributo: **slice_file_name**\n",
    "Los archivos tienen como extensión \".wav\""
   ]
  },
  {
   "cell_type": "code",
   "execution_count": 18,
   "metadata": {},
   "outputs": [
    {
     "name": "stdout",
     "output_type": "stream",
     "text": [
      "Filas que tienen formato invalido en el campo 'slice_file_name' \n",
      "0 (0.0)%\n",
      "\n"
     ]
    }
   ],
   "source": [
    "formato_invalidos_slice_file_name_df = dataset_urbansound8k_df[~dataset_urbansound8k_df['slice_file_name'].str.endswith('.wav')]\n",
    "cantidad_invalidos = formato_invalidos_slice_file_name_df.shape[0]\n",
    "\n",
    "print(f\"Filas que tienen formato invalido en el campo 'slice_file_name' \")\n",
    "print(f\"{cantidad_invalidos} ({round((cantidad_invalidos  / cantidad_filas_urbansound8k) * 100, 2)})%\\n\")\n"
   ]
  },
  {
   "cell_type": "markdown",
   "metadata": {},
   "source": [
    "### (3) Valores ajustados"
   ]
  },
  {
   "cell_type": "code",
   "execution_count": 19,
   "metadata": {},
   "outputs": [],
   "source": [
    "def validar_cantidad_nulos_por_campo(df, nombre_campo):\n",
    "    cantidad_nulos =  len(df[nombre_campo]) - df[nombre_campo].count()\n",
    "    if cantidad_nulos > 0:\n",
    "        print(f\"Cantidad de nulos en el atributo '{nombre_campo}': {cantidad_nulos}\") # Impresión de la cantidad de nulos\n",
    "    else:\n",
    "        print(f\"No existen filas con valores nulos para el atributo '{nombre_campo}'.\")"
   ]
  },
  {
   "cell_type": "markdown",
   "metadata": {},
   "source": [
    "Atributo: **salience**"
   ]
  },
  {
   "cell_type": "code",
   "execution_count": 20,
   "metadata": {},
   "outputs": [
    {
     "name": "stdout",
     "output_type": "stream",
     "text": [
      "************************************************************\n",
      "Distribución inicial del atributo: \n",
      "salience\n",
      "1    5702\n",
      "2    3030\n",
      "Name: count, dtype: int64\n",
      "\n",
      "************************************************************\n",
      "No existen filas con valores nulos para el atributo 'salience'.\n",
      "************************************************************\n",
      "\n",
      "Se visualizan las filas con errores de rango (salience < 1 o salience > 2): \n"
     ]
    },
    {
     "data": {
      "text/html": [
       "<div>\n",
       "<style scoped>\n",
       "    .dataframe tbody tr th:only-of-type {\n",
       "        vertical-align: middle;\n",
       "    }\n",
       "\n",
       "    .dataframe tbody tr th {\n",
       "        vertical-align: top;\n",
       "    }\n",
       "\n",
       "    .dataframe thead th {\n",
       "        text-align: right;\n",
       "    }\n",
       "</style>\n",
       "<table border=\"1\" class=\"dataframe\">\n",
       "  <thead>\n",
       "    <tr style=\"text-align: right;\">\n",
       "      <th></th>\n",
       "      <th>slice_file_name</th>\n",
       "      <th>fsID</th>\n",
       "      <th>start</th>\n",
       "      <th>end</th>\n",
       "      <th>salience</th>\n",
       "      <th>fold</th>\n",
       "      <th>classID</th>\n",
       "      <th>class</th>\n",
       "    </tr>\n",
       "  </thead>\n",
       "  <tbody>\n",
       "  </tbody>\n",
       "</table>\n",
       "</div>"
      ],
      "text/plain": [
       "Empty DataFrame\n",
       "Columns: [slice_file_name, fsID, start, end, salience, fold, classID, class]\n",
       "Index: []"
      ]
     },
     "metadata": {},
     "output_type": "display_data"
    },
    {
     "name": "stdout",
     "output_type": "stream",
     "text": [
      "Cantidad detectada: 0\n"
     ]
    }
   ],
   "source": [
    "#Verificar que los valores de cada atributo se encuentren dentro de los listados anexos\n",
    "print(\"***\" * 20)\n",
    "valores = dataset_urbansound8k_df['salience'].value_counts() #Conteo de ocurrencias por valor (not-null)\n",
    "print(f\"Distribución inicial del atributo: \\n{valores}\\n\")\n",
    "print(\"***\" * 20)\n",
    "\n",
    "validar_cantidad_nulos_por_campo(dataset_urbansound8k_df, 'salience')\n",
    "print(\"***\" * 20)\n",
    "\n",
    "# Se identifica y cuenta a los valores que no cumplen la condición definida\n",
    "fuera_rango_df = dataset_urbansound8k_df[(dataset_urbansound8k_df['salience'] < 1) | (dataset_urbansound8k_df['salience'] > 2)]\n",
    "print(\"\\nSe visualizan las filas con errores de rango (salience < 1 o salience > 2): \")\n",
    "display(fuera_rango_df.head(3)) # Para visualizar las tuplas con valores nulos o erróneos\n",
    "print(f\"Cantidad detectada: {fuera_rango_df.shape[0]}\")"
   ]
  },
  {
   "cell_type": "markdown",
   "metadata": {},
   "source": [
    "Atributo: **classID**"
   ]
  },
  {
   "cell_type": "code",
   "execution_count": 21,
   "metadata": {},
   "outputs": [
    {
     "name": "stdout",
     "output_type": "stream",
     "text": [
      "************************************************************\n",
      "Distribución inicial del atributo: \n",
      "classID\n",
      "3    1000\n",
      "2    1000\n",
      "0    1000\n",
      "9    1000\n",
      "5    1000\n",
      "7    1000\n",
      "4    1000\n",
      "8     929\n",
      "1     429\n",
      "6     374\n",
      "Name: count, dtype: int64\n",
      "\n",
      "************************************************************\n",
      "No existen filas con valores nulos para el atributo 'classID'.\n",
      "************************************************************\n",
      "\n",
      "Se visualizan las filas con errores de rango (classID < 0 o classID > 9): \n"
     ]
    },
    {
     "data": {
      "text/html": [
       "<div>\n",
       "<style scoped>\n",
       "    .dataframe tbody tr th:only-of-type {\n",
       "        vertical-align: middle;\n",
       "    }\n",
       "\n",
       "    .dataframe tbody tr th {\n",
       "        vertical-align: top;\n",
       "    }\n",
       "\n",
       "    .dataframe thead th {\n",
       "        text-align: right;\n",
       "    }\n",
       "</style>\n",
       "<table border=\"1\" class=\"dataframe\">\n",
       "  <thead>\n",
       "    <tr style=\"text-align: right;\">\n",
       "      <th></th>\n",
       "      <th>slice_file_name</th>\n",
       "      <th>fsID</th>\n",
       "      <th>start</th>\n",
       "      <th>end</th>\n",
       "      <th>salience</th>\n",
       "      <th>fold</th>\n",
       "      <th>classID</th>\n",
       "      <th>class</th>\n",
       "    </tr>\n",
       "  </thead>\n",
       "  <tbody>\n",
       "  </tbody>\n",
       "</table>\n",
       "</div>"
      ],
      "text/plain": [
       "Empty DataFrame\n",
       "Columns: [slice_file_name, fsID, start, end, salience, fold, classID, class]\n",
       "Index: []"
      ]
     },
     "metadata": {},
     "output_type": "display_data"
    },
    {
     "name": "stdout",
     "output_type": "stream",
     "text": [
      "Cantidad detectada: 0\n"
     ]
    }
   ],
   "source": [
    "#Verificar que los valores de cada atributo se encuentren dentro de los listados anexos\n",
    "print(\"***\" * 20)\n",
    "valores = dataset_urbansound8k_df['classID'].value_counts() #Conteo de ocurrencias por valor (not-null)\n",
    "print(f\"Distribución inicial del atributo: \\n{valores}\\n\")\n",
    "print(\"***\" * 20)\n",
    "\n",
    "validar_cantidad_nulos_por_campo(dataset_urbansound8k_df, 'classID')\n",
    "print(\"***\" * 20)\n",
    "\n",
    "# Se identifica y cuenta a los valores que no cumplen la condición definida\n",
    "fuera_rango_df = dataset_urbansound8k_df[(dataset_urbansound8k_df['classID'] < 0) | (dataset_urbansound8k_df['classID'] > 9)]\n",
    "print(\"\\nSe visualizan las filas con errores de rango (classID < 0 o classID > 9): \")\n",
    "display(fuera_rango_df) # Para visualizar las tuplas con valores nulos o erróneos\n",
    "print(f\"Cantidad detectada: {fuera_rango_df.shape[0]}\")"
   ]
  },
  {
   "cell_type": "markdown",
   "metadata": {},
   "source": [
    "Atributo: **fold**"
   ]
  },
  {
   "cell_type": "code",
   "execution_count": 22,
   "metadata": {},
   "outputs": [
    {
     "name": "stdout",
     "output_type": "stream",
     "text": [
      "************************************************************\n",
      "Distribución inicial del atributo: \n",
      "fold\n",
      "4     990\n",
      "5     936\n",
      "3     925\n",
      "2     888\n",
      "1     873\n",
      "7     838\n",
      "10    837\n",
      "6     823\n",
      "9     816\n",
      "8     806\n",
      "Name: count, dtype: int64\n",
      "\n",
      "************************************************************\n",
      "No existen filas con valores nulos para el atributo 'fold'.\n",
      "************************************************************\n",
      "\n",
      "Se visualizan las filas con errores de rango (fold < 1 o fold > 10): \n"
     ]
    },
    {
     "data": {
      "text/html": [
       "<div>\n",
       "<style scoped>\n",
       "    .dataframe tbody tr th:only-of-type {\n",
       "        vertical-align: middle;\n",
       "    }\n",
       "\n",
       "    .dataframe tbody tr th {\n",
       "        vertical-align: top;\n",
       "    }\n",
       "\n",
       "    .dataframe thead th {\n",
       "        text-align: right;\n",
       "    }\n",
       "</style>\n",
       "<table border=\"1\" class=\"dataframe\">\n",
       "  <thead>\n",
       "    <tr style=\"text-align: right;\">\n",
       "      <th></th>\n",
       "      <th>slice_file_name</th>\n",
       "      <th>fsID</th>\n",
       "      <th>start</th>\n",
       "      <th>end</th>\n",
       "      <th>salience</th>\n",
       "      <th>fold</th>\n",
       "      <th>classID</th>\n",
       "      <th>class</th>\n",
       "    </tr>\n",
       "  </thead>\n",
       "  <tbody>\n",
       "  </tbody>\n",
       "</table>\n",
       "</div>"
      ],
      "text/plain": [
       "Empty DataFrame\n",
       "Columns: [slice_file_name, fsID, start, end, salience, fold, classID, class]\n",
       "Index: []"
      ]
     },
     "metadata": {},
     "output_type": "display_data"
    },
    {
     "name": "stdout",
     "output_type": "stream",
     "text": [
      "Cantidad detectada: 0\n"
     ]
    }
   ],
   "source": [
    "#Verificar que los valores de cada atributo se encuentren dentro de los listados anexos\n",
    "print(\"***\" * 20)\n",
    "valores = dataset_urbansound8k_df['fold'].value_counts() #Conteo de ocurrencias por valor (not-null)\n",
    "print(f\"Distribución inicial del atributo: \\n{valores}\\n\")\n",
    "print(\"***\" * 20)\n",
    "\n",
    "validar_cantidad_nulos_por_campo(dataset_urbansound8k_df, 'fold')\n",
    "print(\"***\" * 20)\n",
    "\n",
    "# Se identifica y cuenta a los valores que no cumplen la condición definida\n",
    "fuera_rango_df = dataset_urbansound8k_df[(dataset_urbansound8k_df['fold'] < 1) | (dataset_urbansound8k_df['fold'] > 10)]\n",
    "print(\"\\nSe visualizan las filas con errores de rango (fold < 1 o fold > 10): \")\n",
    "display(fuera_rango_df) # Para visualizar las tuplas con valores nulos o erróneos\n",
    "print(f\"Cantidad detectada: {fuera_rango_df.shape[0]}\")\n"
   ]
  },
  {
   "cell_type": "markdown",
   "metadata": {},
   "source": [
    "---\n",
    "\n",
    "## Dimensión: consistencia\n",
    "\n",
    "### (4) Claves únicas"
   ]
  },
  {
   "cell_type": "code",
   "execution_count": 23,
   "metadata": {},
   "outputs": [
    {
     "name": "stdout",
     "output_type": "stream",
     "text": [
      "Dataset: dataset_urbansound8k_df\n",
      "Antes del análisis de duplicados: 8732 - Despues del filtrado de duplicados: 8732\n",
      "No se detectaron claves duplicadas\n"
     ]
    }
   ],
   "source": [
    "#Se obtiene el valor de la cantidad de filas actual\n",
    "cant_antes = dataset_urbansound8k_df.shape[0] \n",
    "\n",
    "# Se ordena el dataset según el atributo que se desee evaluar (requerido para el paso siguiente)\n",
    "dataset_urbansound8k_df.sort_values(\"slice_file_name\", inplace=True)\n",
    "\n",
    "# Se detectan y eliminan los duplicados en un atributo dejando la última ocurrencia\n",
    "dataset_urbansound8k_df.drop_duplicates(subset =\"slice_file_name\", keep = 'last', inplace = True)\n",
    "\n",
    "# Se obtiene el valor posterior a la operación\n",
    "cant_despues = dataset_urbansound8k_df.shape[0]\n",
    "\n",
    "# Se imprimen ambos valores\n",
    "print('Dataset: dataset_urbansound8k_df')\n",
    "print(f\"Antes del análisis de duplicados: {cant_antes} - Despues del filtrado de duplicados: {cant_despues}\")\n",
    "if cant_antes > cant_despues:\n",
    "    diferencia = cant_antes - cant_despues\n",
    "    pct_diferencia = ((cant_antes - cant_despues) / cant_antes) * 100\n",
    "    print(f\"Se detectaron claves duplicadas en {diferencia} fila(s) un {round(pct_diferencia, 2)}%.\")\n",
    "else:\n",
    "    print(\"No se detectaron claves duplicadas\")"
   ]
  },
  {
   "cell_type": "markdown",
   "metadata": {},
   "source": [
    "### (5) Integridad referencial"
   ]
  },
  {
   "cell_type": "code",
   "execution_count": 24,
   "metadata": {},
   "outputs": [
    {
     "name": "stdout",
     "output_type": "stream",
     "text": [
      "Validación de archivos existente\n",
      "Cantidad de archivos encontrados : 8732\n",
      "Cantidad de archivos perdidos : 0\n"
     ]
    }
   ],
   "source": [
    "audio_path_list = []\n",
    "muestras_encontradas_contador = 0\n",
    "for index, row in dataset_urbansound8k_df.iterrows():\n",
    "    path_total_file = f\"{urbansound8k_path}/audio/fold{row['fold']}/{row['slice_file_name']}\"\n",
    "    audio_path_list.append(path_total_file)\n",
    "    if os.path.isfile(path_total_file):\n",
    "        muestras_encontradas_contador += 1\n",
    "\n",
    "print(\"Validación de archivos existente\")  \n",
    "print(f\"Cantidad de archivos encontrados : {muestras_encontradas_contador}\")\n",
    "print(f\"Cantidad de archivos perdidos : {cantidad_filas_urbansound8k - muestras_encontradas_contador}\")"
   ]
  },
  {
   "cell_type": "code",
   "execution_count": 26,
   "metadata": {},
   "outputs": [
    {
     "name": "stdout",
     "output_type": "stream",
     "text": [
      "Casos de problemas de integridad referencial: 0\n",
      "Porcentaje de filas con problemas de integridad referencial: 0.0 %\n"
     ]
    }
   ],
   "source": [
    "def calcular_integridad_referencial():\n",
    "    cant_problemas = cantidad_filas_urbansound8k - dataset_urbansound8k_df.shape[0] # Se calcula sobre el inicio (foco)\n",
    "    print(f\"Casos de problemas de integridad referencial: {cant_problemas}\")\n",
    "\n",
    "    indicador = (cant_problemas / cantidad_filas_urbansound8k)\n",
    "    print(f\"Porcentaje de filas con problemas de integridad referencial: {round(indicador * 100, 2)} %\")\n",
    "        \n",
    "calcular_integridad_referencial()"
   ]
  }
 ],
 "metadata": {
  "kernelspec": {
   "display_name": "data",
   "language": "python",
   "name": "python3"
  },
  "language_info": {
   "codemirror_mode": {
    "name": "ipython",
    "version": 3
   },
   "file_extension": ".py",
   "mimetype": "text/x-python",
   "name": "python",
   "nbconvert_exporter": "python",
   "pygments_lexer": "ipython3",
   "version": "3.10.5"
  }
 },
 "nbformat": 4,
 "nbformat_minor": 2
}
